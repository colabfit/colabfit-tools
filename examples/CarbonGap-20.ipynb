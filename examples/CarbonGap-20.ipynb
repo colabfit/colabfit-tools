{
 "cells": [
  {
   "cell_type": "markdown",
   "id": "e93ab817",
   "metadata": {},
   "source": [
    "# Carbon GAP-20 Example"
   ]
  },
  {
   "cell_type": "code",
   "execution_count": 1,
   "id": "9e11c62a",
   "metadata": {},
   "outputs": [],
   "source": [
    "from ase.io import read\n",
    "from colabfit.tools.database import MongoDatabase, load_data\n",
    "from colabfit.tools.property_definitions import (\n",
    "    atomic_forces_pd,\n",
    "    potential_energy_pd,\n",
    "    cauchy_stress_pd\n",
    ")"
   ]
  },
  {
   "cell_type": "markdown",
   "id": "dc53d87c",
   "metadata": {},
   "source": [
    "### Connect to Mongo Client"
   ]
  },
  {
   "cell_type": "code",
   "execution_count": 2,
   "id": "063e9c57",
   "metadata": {},
   "outputs": [],
   "source": [
    "DATABASE_NAME = \"test_db\"\n",
    "IP = \"localhost\" # Specify IP of machine on which the mongod \n",
    "                 # process is running-can be localhost\n",
    "client = MongoDatabase(DATABASE_NAME,\n",
    "                       uri=f\"mongodb://{IP}:27017\",\n",
    "                       drop_database=True)# Start from fresh database"
   ]
  },
  {
   "cell_type": "markdown",
   "id": "4f5f650d",
   "metadata": {},
   "source": [
    "### Load Data"
   ]
  },
  {
   "cell_type": "code",
   "execution_count": 3,
   "id": "f6b2b3ec",
   "metadata": {},
   "outputs": [
    {
     "name": "stderr",
     "output_type": "stream",
     "text": [
      "Loading data: 100%|████████████████████████████████████████████████████████████████████████████████████████████████████████████████████████████████████████████████| 17525/17525 [00:03<00:00, 5593.77it/s]\n"
     ]
    }
   ],
   "source": [
    "DATASET_FP = \"/home/eric/Downloads/Carbon_GAP_20/Carbon_Data_Set_Total.xyz\" # Data location\n",
    "\n",
    "configurations = load_data(\n",
    "    file_path=DATASET_FP,\n",
    "    file_format=\"xyz\", \n",
    "    name_field=\"config_type\", # ase.Atoms.info key to use as a name\n",
    "    elements=[\"C\"], # Element types in data\n",
    "    #reader=, # Can define custom reader function if necessary\n",
    "    generator=False,\n",
    "    verbose=True,\n",
    ")"
   ]
  },
  {
   "cell_type": "markdown",
   "id": "e95da217",
   "metadata": {},
   "source": [
    "### Setup Property Information"
   ]
  },
  {
   "cell_type": "code",
   "execution_count": 4,
   "id": "5902c8ef",
   "metadata": {},
   "outputs": [
    {
     "data": {
      "text/plain": [
       "{'property-id': 'tag:staff@noreply.colabfit.org,2022-05-30:property/atomic-forces',\n",
       " 'property-name': 'atomic-forces',\n",
       " 'property-title': 'Atomic forces from a static calculation',\n",
       " 'property-description': 'Atomic forces from a calculation of a static configuration.',\n",
       " 'forces': {'type': 'float',\n",
       "  'has-unit': True,\n",
       "  'extent': [':', 3],\n",
       "  'required': True,\n",
       "  'description': 'The [x,y,z] components of the force on each particle.'}}"
      ]
     },
     "execution_count": 4,
     "metadata": {},
     "output_type": "execute_result"
    }
   ],
   "source": [
    "# Insert predefined property definitions into database\n",
    "client.insert_property_definition(atomic_forces_pd)\n",
    "client.insert_property_definition(potential_energy_pd)\n",
    "client.insert_property_definition(cauchy_stress_pd)\n",
    "atomic_forces_pd #"
   ]
  },
  {
   "cell_type": "code",
   "execution_count": 5,
   "id": "d73b329d",
   "metadata": {},
   "outputs": [],
   "source": [
    "# Setup property mappings---these inform colabfit-tools where\n",
    "# to find necssary values and provides additional information\n",
    "prop_metadata = {\n",
    "    \"software\": {\"value\": \"VASP\"}, # \"value\" indicates static quantity\n",
    "    \"method\": {\"value\": \"DFT optB88-vdW\"},\n",
    "     \"kpoints_density\": {\"field\": \"kpoints_density\"}, # \"field\" indicates key where colabfit can find dynamic value\n",
    "     \"cutoff\": {\"field\": \"cutoff\"},\n",
    "     \"nneightol\": {\"field\": \"nneightol\"},\n",
    "     \"kpoints\": {\"field\": \"kpoints\"},\n",
    "    }\n",
    "\n",
    "property_map = {\n",
    "    \"cauchy-stress\": [\n",
    "        {\n",
    "            \"stress\": {\"field\": \"virial\", \"units\": \"eV\"},\n",
    "            \"volume-normalized\": {\"value\": True, \"units\": None},\n",
    "            \"_metadata\": prop_metadata,\n",
    "        }\n",
    "    ],\n",
    "    \"potential-energy\": [\n",
    "        {\n",
    "            \"energy\": {\"field\": \"energy\", \"units\": \"eV\"},\n",
    "            \"per-atom\": {\"value\": False, \"units\": None},\n",
    "            \"_metadata\": prop_metadata,\n",
    "        }\n",
    "    ],\n",
    "    \"atomic-forces\": [\n",
    "        {\n",
    "            \"forces\": {\"field\": \"forces\", \"units\": \"eV/A\"},\n",
    "            \"_metadata\": prop_metadata,\n",
    "        }\n",
    "    ],\n",
    "}"
   ]
  },
  {
   "cell_type": "markdown",
   "id": "f5ac3ae4",
   "metadata": {},
   "source": [
    "### Insert Configurations, Property Instances, Data Objects, and Metadata"
   ]
  },
  {
   "cell_type": "code",
   "execution_count": 6,
   "id": "f60eb9eb",
   "metadata": {},
   "outputs": [
    {
     "name": "stderr",
     "output_type": "stream",
     "text": [
      "Preparing to add configurations to Database: 100%|██████████████████████████████████████████████████████████████████████████████████████████████████████████████████| 17525/17525 [00:30<00:00, 570.98it/s]\n",
      "/home/eric/venv/cf_debug/lib/python3.9/site-packages/colabfit/tools/database.py:818: UserWarning: 618 duplicate configurations detected\n",
      "  warnings.warn(\n",
      "/home/eric/venv/cf_debug/lib/python3.9/site-packages/colabfit/tools/database.py:825: UserWarning: 895 duplicate properties detected\n",
      "  warnings.warn(\n",
      "/home/eric/venv/cf_debug/lib/python3.9/site-packages/colabfit/tools/database.py:832: UserWarning: 298 duplicate data objects detected\n",
      "  warnings.warn(\n",
      "/home/eric/venv/cf_debug/lib/python3.9/site-packages/colabfit/tools/database.py:849: UserWarning: 42172 duplicate metadata objects detected\n",
      "  warnings.warn(\n"
     ]
    }
   ],
   "source": [
    "ids = client.insert_data(\n",
    "    configurations,\n",
    "    property_map=property_map,\n",
    "    verbose=True,\n",
    "    #co_md_map={}, # Can also specify mapping for CO metadata if necessary \n",
    "    ) # returns hashes (identifiers) for all inserted COs and DOs \n",
    "\n",
    "all_cos, all_dos = list(zip(*ids))"
   ]
  },
  {
   "cell_type": "markdown",
   "id": "647b4fa6",
   "metadata": {},
   "source": [
    "### Insert Configuration Sets if Desired"
   ]
  },
  {
   "cell_type": "code",
   "execution_count": 7,
   "id": "50bc555d",
   "metadata": {},
   "outputs": [
    {
     "name": "stdout",
     "output_type": "stream",
     "text": [
      "Inserting configuration set            (Graphene):   16907\n"
     ]
    },
    {
     "name": "stderr",
     "output_type": "stream",
     "text": [
      "Aggregating configuration info: 100%|██████████████████████████████████████████████████████████████████████████████████████████████████████████████████████████████| 16907/16907 [00:02<00:00, 5940.45it/s]\n"
     ]
    }
   ],
   "source": [
    "# Configuration Sets are organized groupings over Configurations\n",
    "# As an example we will construct a CS from all graphene structures in the dataset\n",
    "cs_info = {\n",
    "    \"name\":\"Graphene\",\n",
    "    \"description\": \"All graphene configurations from the total Carbon Gap-20 dataset\"\n",
    "}\n",
    "\n",
    "cs_id = client.query_and_insert_configuration_set(\n",
    "    co_hashes=all_cos,\n",
    "    query={'names':cs_info['name']}, # find all COs with name==\"Graphene\"\n",
    "    name=cs_info['name'],\n",
    "    description=cs_info['description']\n",
    ")"
   ]
  },
  {
   "cell_type": "markdown",
   "id": "d4c61031",
   "metadata": {},
   "source": [
    "### Insert Dataset"
   ]
  },
  {
   "cell_type": "code",
   "execution_count": 8,
   "id": "c1ebe21a",
   "metadata": {},
   "outputs": [
    {
     "name": "stderr",
     "output_type": "stream",
     "text": [
      "Aggregating data_object info: 100%|██████████████████████████████████████████████████████████████████████████████████████████████████████████████████████████████| 17227/17227 [00:00<00:00, 113945.56it/s]\n",
      "Aggregating configuration info: 100%|██████████████████████████████████████████████████████████████████████████████████████████████████████████████████████████████| 16907/16907 [00:02<00:00, 6221.27it/s]\n",
      "Updating DO->DS relationships: 100%|██████████████████████████████████████████████████████████████████████████████████████████████████████████████████████████████| 17227/17227 [00:00<00:00, 88673.97it/s]\n"
     ]
    },
    {
     "data": {
      "text/plain": [
       "'DS_fc9hn9jaz8o5_0'"
      ]
     },
     "execution_count": 8,
     "metadata": {},
     "output_type": "execute_result"
    }
   ],
   "source": [
    "client.insert_dataset(\n",
    "    do_hashes=all_dos, # List of DOs to attach to Dataset\n",
    "    cs_ids=cs_id, # Any CSs to attach to dataset\n",
    "    name=\"Carbon-Gap20\",\n",
    "    authors=[\n",
    "        \"Patrick Rowe\",  \n",
    "        \"Volker L. Deringer\",\n",
    "        \"Piero Gasparotto\",  \n",
    "        \"Gábor Csányi\",\n",
    "        \"Angelos Michaelides\"\n",
    "    ],\n",
    "    links=[\n",
    "        \"https://doi.org/10.17863/CAM.54529\",\n",
    "        \"https://doi.org/10.1063/5.0005084\",\n",
    "    ],\n",
    "    description=\"Approximately 17,000 configurations of carbon, each containing 1 to 240 atoms/cell.\\\n",
    "    A variety of structure types are represented, including graphite, graphene,\\\n",
    "    cubic and hexagonal diamond, fullerenes, and nanotubes, as well as some\\\n",
    "    defect structures.\",\n",
    "    verbose=True,\n",
    "    )"
   ]
  }
 ],
 "metadata": {
  "kernelspec": {
   "display_name": "Python 3 (ipykernel)",
   "language": "python",
   "name": "python3"
  },
  "language_info": {
   "codemirror_mode": {
    "name": "ipython",
    "version": 3
   },
   "file_extension": ".py",
   "mimetype": "text/x-python",
   "name": "python",
   "nbconvert_exporter": "python",
   "pygments_lexer": "ipython3",
   "version": "3.9.5"
  }
 },
 "nbformat": 4,
 "nbformat_minor": 5
}
