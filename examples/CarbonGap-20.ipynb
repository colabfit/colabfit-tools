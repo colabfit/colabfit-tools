{
 "cells": [
  {
   "cell_type": "markdown",
   "id": "e93ab817",
   "metadata": {},
   "source": [
    "# Carbon GAP-20 Example"
   ]
  },
  {
   "cell_type": "code",
   "execution_count": 1,
   "id": "9e11c62a",
   "metadata": {},
   "outputs": [],
   "source": [
    "from ase.io import read\n",
    "from colabfit.tools.database import MongoDatabase, load_data\n",
    "from colabfit.tools.property_definitions import (\n",
    "    atomic_forces_pd,\n",
    "    potential_energy_pd,\n",
    "    cauchy_stress_pd\n",
    ")"
   ]
  },
  {
   "cell_type": "markdown",
   "id": "dc53d87c",
   "metadata": {},
   "source": [
    "### Connect to Mongo Client"
   ]
  },
  {
   "cell_type": "code",
   "execution_count": 2,
   "id": "063e9c57",
   "metadata": {},
   "outputs": [],
   "source": [
    "DATABASE_NAME = \"test_db\"\n",
    "IP = \"localhost\" # Specify IP of machine on which the mongod \n",
    "                 # process is running-can be localhost\n",
    "client = MongoDatabase(DATABASE_NAME,\n",
    "                       uri=f\"mongodb://{IP}:27017\",\n",
    "                       drop_database=True)# Start from fresh database"
   ]
  },
  {
   "cell_type": "markdown",
   "id": "4f5f650d",
   "metadata": {},
   "source": [
    "### Load Data"
   ]
  },
  {
   "cell_type": "code",
   "execution_count": 3,
   "id": "f6b2b3ec",
   "metadata": {},
   "outputs": [
    {
     "name": "stderr",
     "output_type": "stream",
     "text": [
      "Loading data: 100%|████████████████████████████████████████████████████████████████████████████████████████████| 17525/17525 [00:01<00:00, 16046.12it/s]\n"
     ]
    }
   ],
   "source": [
    "DATASET_FP = \"/Users/efuemmel/Downloads/Carbon_GAP_20/Carbon_Data_Set_Total.xyz\" # Data location\n",
    "\n",
    "configurations = load_data(\n",
    "    file_path=DATASET_FP,\n",
    "    file_format=\"xyz\", \n",
    "    name_field=\"config_type\", # ase.Atoms.info key to use as a name\n",
    "    elements=[\"C\"], # Element types in data\n",
    "    #reader=, # Can define custom reader function if necessary\n",
    "    generator=False,\n",
    "    verbose=True,\n",
    ")"
   ]
  },
  {
   "cell_type": "markdown",
   "id": "e95da217",
   "metadata": {},
   "source": [
    "### Setup Property Information"
   ]
  },
  {
   "cell_type": "code",
   "execution_count": 4,
   "id": "5902c8ef",
   "metadata": {},
   "outputs": [
    {
     "data": {
      "text/plain": [
       "{'property-id': 'tag:staff@noreply.colabfit.org,2022-05-30:property/atomic-forces',\n",
       " 'property-name': 'atomic-forces',\n",
       " 'property-title': 'Atomic forces from a static calculation',\n",
       " 'property-description': 'Atomic forces from a calculation of a static configuration.',\n",
       " 'forces': {'type': 'float',\n",
       "  'has-unit': True,\n",
       "  'extent': [':', 3],\n",
       "  'required': True,\n",
       "  'description': 'The [x,y,z] components of the force on each particle.'}}"
      ]
     },
     "execution_count": 4,
     "metadata": {},
     "output_type": "execute_result"
    }
   ],
   "source": [
    "# Insert predefined property definitions into database\n",
    "client.insert_property_definition(atomic_forces_pd)\n",
    "client.insert_property_definition(potential_energy_pd)\n",
    "client.insert_property_definition(cauchy_stress_pd)\n",
    "atomic_forces_pd #"
   ]
  },
  {
   "cell_type": "code",
   "execution_count": 5,
   "id": "d73b329d",
   "metadata": {},
   "outputs": [],
   "source": [
    "# Setup property mappings---these inform colabfit-tools where\n",
    "# to find necssary values and provides additional information\n",
    "prop_metadata = {\n",
    "    \"software\": {\"value\": \"VASP\"}, # \"value\" indicates static quantity\n",
    "    \"method\": {\"value\": \"DFT optB88-vdW\"},\n",
    "     \"kpoints_density\": {\"field\": \"kpoints_density\"}, # \"field\" indicates key where colabfit can find dynamic value\n",
    "     \"cutoff\": {\"field\": \"cutoff\"},\n",
    "     \"nneightol\": {\"field\": \"nneightol\"},\n",
    "     \"kpoints\": {\"field\": \"kpoints\"},\n",
    "    }\n",
    "\n",
    "property_map = {\n",
    "    \"cauchy-stress\": [\n",
    "        {\n",
    "            \"stress\": {\"field\": \"virial\", \"units\": \"eV\"},\n",
    "            \"volume-normalized\": {\"value\": True, \"units\": None},\n",
    "            \"_metadata\": prop_metadata,\n",
    "        }\n",
    "    ],\n",
    "    \"potential-energy\": [\n",
    "        {\n",
    "            \"energy\": {\"field\": \"energy\", \"units\": \"eV\"},\n",
    "            \"per-atom\": {\"value\": False, \"units\": None},\n",
    "            \"_metadata\": prop_metadata,\n",
    "        }\n",
    "    ],\n",
    "    \"atomic-forces\": [\n",
    "        {\n",
    "            \"forces\": {\"field\": \"forces\", \"units\": \"eV/A\"},\n",
    "            \"_metadata\": prop_metadata,\n",
    "        }\n",
    "    ],\n",
    "}"
   ]
  },
  {
   "cell_type": "markdown",
   "id": "f5ac3ae4",
   "metadata": {},
   "source": [
    "### Insert Configurations, Property Instances, Data Objects, and Metadata"
   ]
  },
  {
   "cell_type": "code",
   "execution_count": 6,
   "id": "f60eb9eb",
   "metadata": {},
   "outputs": [
    {
     "name": "stderr",
     "output_type": "stream",
     "text": [
      "Preparing to add configurations to Database: 100%|██████████| 17525/17525 [00:08<00:00, 2140.61it/s]\n",
      "/Users/efuemmel/venv/cf/lib/python3.9/site-packages/colabfit/tools/database.py:834: UserWarning: 618 duplicate configurations detected\n",
      "  warnings.warn(\"{} duplicate configurations detected\".format(nmatch))\n",
      "/Users/efuemmel/venv/cf/lib/python3.9/site-packages/colabfit/tools/database.py:839: UserWarning: 596 duplicate properties detected\n",
      "  warnings.warn(\"{} duplicate properties detected\".format(nmatch))\n",
      "/Users/efuemmel/venv/cf/lib/python3.9/site-packages/colabfit/tools/database.py:844: UserWarning: 298 duplicate data objects detected\n",
      "  warnings.warn(\"{} duplicate data objects detected\".format(nmatch))\n",
      "/Users/efuemmel/venv/cf/lib/python3.9/site-packages/colabfit/tools/database.py:850: UserWarning: 24647 duplicate metadata objects detected\n",
      "  warnings.warn(\"{} duplicate metadata objects detected\".format(nmatch))\n"
     ]
    }
   ],
   "source": [
    "ids = client.insert_data(\n",
    "    configurations,\n",
    "    property_map=property_map,\n",
    "    verbose=True,\n",
    "    #co_md_map={}, # Can also specify mapping for CO metadata if necessary \n",
    "    ) # returns hashes (identifiers) for all inserted COs and DOs \n",
    "\n",
    "all_cos, all_dos = list(zip(*ids))"
   ]
  },
  {
   "cell_type": "markdown",
   "id": "647b4fa6",
   "metadata": {},
   "source": [
    "### Insert Configuration Sets if Desired"
   ]
  },
  {
   "cell_type": "code",
   "execution_count": 8,
   "id": "50bc555d",
   "metadata": {},
   "outputs": [
    {
     "name": "stdout",
     "output_type": "stream",
     "text": [
      "Inserting configuration set            (Graphene):     404\n",
      "DS DS_2v5ocbe4eiuz_0\n",
      "Configuration aggregation time: 0.71539306640625\n"
     ]
    }
   ],
   "source": [
    "# Configuration Sets are organized groupings over Configurations\n",
    "# As an example we will construct a CS from all graphene structures in the dataset\n",
    "cs_info = {\n",
    "    \"name\":\"Graphene\",\n",
    "    \"description\": \"All graphene configurations from the total Carbon Gap-20 dataset\"\n",
    "}\n",
    "\n",
    "cs_id = client.query_and_insert_configuration_set(\n",
    "    co_hashes=all_cos,\n",
    "    query={'names':cs_info['name']}, # find all COs with name==\"Graphene\"\n",
    "    name=cs_info['name'],\n",
    "    description=cs_info['description']\n",
    ")"
   ]
  },
  {
   "cell_type": "markdown",
   "id": "d4c61031",
   "metadata": {},
   "source": [
    "### Insert Dataset"
   ]
  },
  {
   "cell_type": "code",
   "execution_count": 8,
   "id": "c1ebe21a",
   "metadata": {},
   "outputs": [
    {
     "name": "stderr",
     "output_type": "stream",
     "text": [
      "Aggregating data_object info: 100%|████████████████████████████████████████████████████████████████████████████| 17226/17226 [00:00<00:00, 62867.21it/s]\n"
     ]
    },
    {
     "name": "stdout",
     "output_type": "stream",
     "text": [
      "Configuration aggregation time: 1.5448009967803955\n"
     ]
    },
    {
     "name": "stderr",
     "output_type": "stream",
     "text": [
      "Updating DO relatiinships: 0it [00:00, ?it/s]"
     ]
    },
    {
     "name": "stdout",
     "output_type": "stream",
     "text": [
      "{'configuration': 'CO_1608283199495749027', 'property_instance': ['PI_1397386043175340825'], 'metadata': ['MD_1555344119359928316'], 'dataset': 'DS_ufzljxxz8j2j_0'}\n",
      "{'configuration': 'CO_1608283199495749027', 'property_instance': ['PI_1397386043175340825'], 'metadata': ['MD_1555344119359928316'], 'dataset': 'DS_qitw2sf8t76d_0'}\n",
      "{'configuration': 'CO_1099922988591334019', 'property_instance': ['PI_2070219445565475022', 'PI_1889378651587657107'], 'metadata': ['MD_72563808371239367'], 'dataset': 'DS_ufzljxxz8j2j_0'}\n",
      "{'configuration': 'CO_1099922988591334019', 'property_instance': ['PI_2070219445565475022', 'PI_1889378651587657107'], 'metadata': ['MD_72563808371239367'], 'dataset': 'DS_qitw2sf8t76d_0'}\n",
      "{'configuration': 'CO_547952318894288763', 'property_instance': ['PI_1163319264747406570', 'PI_1341017784476479927'], 'metadata': ['MD_2073467687953297221'], 'dataset': 'DS_ufzljxxz8j2j_0'}\n",
      "{'configuration': 'CO_547952318894288763', 'property_instance': ['PI_1163319264747406570', 'PI_1341017784476479927'], 'metadata': ['MD_2073467687953297221'], 'dataset': 'DS_qitw2sf8t76d_0'}\n",
      "{'configuration': 'CO_484675745921624380', 'property_instance': ['PI_347773997453243820', 'PI_2279504628640095412'], 'metadata': ['MD_1944832631264556564'], 'dataset': 'DS_ufzljxxz8j2j_0'}\n",
      "{'configuration': 'CO_484675745921624380', 'property_instance': ['PI_347773997453243820', 'PI_2279504628640095412'], 'metadata': ['MD_1944832631264556564'], 'dataset': 'DS_qitw2sf8t76d_0'}\n",
      "{'configuration': 'CO_2053957059595526299', 'property_instance': ['PI_147604109913320549', 'PI_1207537713604389485'], 'metadata': ['MD_2154056746543997703'], 'dataset': 'DS_ufzljxxz8j2j_0'}\n",
      "{'configuration': 'CO_2053957059595526299', 'property_instance': ['PI_147604109913320549', 'PI_1207537713604389485'], 'metadata': ['MD_2154056746543997703'], 'dataset': 'DS_qitw2sf8t76d_0'}\n",
      "{'configuration': 'CO_1194369632790460285', 'property_instance': ['PI_584709652907870445', 'PI_2172805479344617734'], 'metadata': ['MD_1459916072834428952'], 'dataset': 'DS_ufzljxxz8j2j_0'}\n",
      "{'configuration': 'CO_1194369632790460285', 'property_instance': ['PI_584709652907870445', 'PI_2172805479344617734'], 'metadata': ['MD_1459916072834428952'], 'dataset': 'DS_qitw2sf8t76d_0'}\n",
      "{'configuration': 'CO_596588358894458699', 'property_instance': ['PI_718075211388480302'], 'metadata': ['MD_634711176977062275'], 'dataset': 'DS_ufzljxxz8j2j_0'}\n",
      "{'configuration': 'CO_596588358894458699', 'property_instance': ['PI_718075211388480302'], 'metadata': ['MD_634711176977062275'], 'dataset': 'DS_qitw2sf8t76d_0'}\n",
      "{'configuration': 'CO_1621554717119715251', 'property_instance': ['PI_1554343025269923325'], 'metadata': ['MD_1431406911526123125'], 'dataset': 'DS_ufzljxxz8j2j_0'}\n",
      "{'configuration': 'CO_1621554717119715251', 'property_instance': ['PI_1554343025269923325'], 'metadata': ['MD_1431406911526123125'], 'dataset': 'DS_qitw2sf8t76d_0'}\n",
      "{'configuration': 'CO_159873961231511022', 'property_instance': ['PI_1855865189023155754', 'PI_1487853077067817048'], 'metadata': ['MD_1850638878431265393'], 'dataset': 'DS_ufzljxxz8j2j_0'}\n",
      "{'configuration': 'CO_159873961231511022', 'property_instance': ['PI_1855865189023155754', 'PI_1487853077067817048'], 'metadata': ['MD_1850638878431265393'], 'dataset': 'DS_qitw2sf8t76d_0'}\n",
      "{'configuration': 'CO_1861325871158325175', 'property_instance': ['PI_257422310183516273'], 'metadata': ['MD_1679865390275347984'], 'dataset': 'DS_ufzljxxz8j2j_0'}\n",
      "{'configuration': 'CO_1861325871158325175', 'property_instance': ['PI_257422310183516273'], 'metadata': ['MD_1679865390275347984'], 'dataset': 'DS_qitw2sf8t76d_0'}\n",
      "{'configuration': 'CO_980015616939901226', 'property_instance': ['PI_1104791745319408176'], 'metadata': ['MD_1469334250088058968'], 'dataset': 'DS_ufzljxxz8j2j_0'}\n",
      "{'configuration': 'CO_980015616939901226', 'property_instance': ['PI_1104791745319408176'], 'metadata': ['MD_1469334250088058968'], 'dataset': 'DS_qitw2sf8t76d_0'}\n",
      "{'configuration': 'CO_650491935971033158', 'property_instance': ['PI_845369899410300448', 'PI_648807931892046215'], 'metadata': ['MD_230398764654988496'], 'dataset': 'DS_ufzljxxz8j2j_0'}\n",
      "{'configuration': 'CO_650491935971033158', 'property_instance': ['PI_845369899410300448', 'PI_648807931892046215'], 'metadata': ['MD_230398764654988496'], 'dataset': 'DS_qitw2sf8t76d_0'}\n",
      "{'configuration': 'CO_254719669483697438', 'property_instance': ['PI_1600814267506827311'], 'metadata': ['MD_1631765830635394730'], 'dataset': 'DS_ufzljxxz8j2j_0'}\n",
      "{'configuration': 'CO_254719669483697438', 'property_instance': ['PI_1600814267506827311'], 'metadata': ['MD_1631765830635394730'], 'dataset': 'DS_qitw2sf8t76d_0'}\n",
      "{'configuration': 'CO_1662605936557079627', 'property_instance': ['PI_1212407397304063355', 'PI_847935840014743261'], 'metadata': ['MD_1890004612972282156'], 'dataset': 'DS_ufzljxxz8j2j_0'}\n",
      "{'configuration': 'CO_1662605936557079627', 'property_instance': ['PI_1212407397304063355', 'PI_847935840014743261'], 'metadata': ['MD_1890004612972282156'], 'dataset': 'DS_qitw2sf8t76d_0'}\n",
      "{'configuration': 'CO_1697396846294531697', 'property_instance': ['PI_2095705582484564311', 'PI_2233957599631838298'], 'metadata': ['MD_297131889217050087'], 'dataset': 'DS_ufzljxxz8j2j_0'}\n",
      "{'configuration': 'CO_1697396846294531697', 'property_instance': ['PI_2095705582484564311', 'PI_2233957599631838298'], 'metadata': ['MD_297131889217050087'], 'dataset': 'DS_qitw2sf8t76d_0'}\n",
      "{'configuration': 'CO_2219943517946900241', 'property_instance': ['PI_282236564671732420', 'PI_947537962038878187'], 'metadata': ['MD_1166083441234290301'], 'dataset': 'DS_ufzljxxz8j2j_0'}\n",
      "{'configuration': 'CO_2219943517946900241', 'property_instance': ['PI_282236564671732420', 'PI_947537962038878187'], 'metadata': ['MD_1166083441234290301'], 'dataset': 'DS_qitw2sf8t76d_0'}\n",
      "{'configuration': 'CO_876124134560818808', 'property_instance': ['PI_462800603770728909', 'PI_1137324305195525885'], 'metadata': ['MD_2221840536473933979'], 'dataset': 'DS_ufzljxxz8j2j_0'}\n",
      "{'configuration': 'CO_876124134560818808', 'property_instance': ['PI_462800603770728909', 'PI_1137324305195525885'], 'metadata': ['MD_2221840536473933979'], 'dataset': 'DS_qitw2sf8t76d_0'}\n",
      "{'configuration': 'CO_2237010543063917780', 'property_instance': ['PI_1654200729737987133', 'PI_1823097462192079721'], 'metadata': ['MD_1075583074944406397'], 'dataset': 'DS_ufzljxxz8j2j_0'}\n",
      "{'configuration': 'CO_2237010543063917780', 'property_instance': ['PI_1654200729737987133', 'PI_1823097462192079721'], 'metadata': ['MD_1075583074944406397'], 'dataset': 'DS_qitw2sf8t76d_0'}\n",
      "{'configuration': 'CO_1789572603918740263', 'property_instance': ['PI_1141803623754408893', 'PI_95795892230682748'], 'metadata': ['MD_888571942355872149'], 'dataset': 'DS_ufzljxxz8j2j_0'}\n",
      "{'configuration': 'CO_1789572603918740263', 'property_instance': ['PI_1141803623754408893', 'PI_95795892230682748'], 'metadata': ['MD_888571942355872149'], 'dataset': 'DS_qitw2sf8t76d_0'}\n",
      "{'configuration': 'CO_1086123774313771859', 'property_instance': ['PI_301538830310927109', 'PI_454839666759349700'], 'metadata': ['MD_786953763891890558'], 'dataset': 'DS_ufzljxxz8j2j_0'}\n",
      "{'configuration': 'CO_1086123774313771859', 'property_instance': ['PI_301538830310927109', 'PI_454839666759349700'], 'metadata': ['MD_786953763891890558'], 'dataset': 'DS_qitw2sf8t76d_0'}\n",
      "{'configuration': 'CO_1717718786998132841', 'property_instance': ['PI_246565322520312862', 'PI_573367384918770891'], 'metadata': ['MD_398776192463423527'], 'dataset': 'DS_ufzljxxz8j2j_0'}\n",
      "{'configuration': 'CO_1717718786998132841', 'property_instance': ['PI_246565322520312862', 'PI_573367384918770891'], 'metadata': ['MD_398776192463423527'], 'dataset': 'DS_qitw2sf8t76d_0'}\n",
      "{'configuration': 'CO_1872062433745468995', 'property_instance': ['PI_742938977329319250'], 'metadata': ['MD_1869090800411680527'], 'dataset': 'DS_ufzljxxz8j2j_0'}\n",
      "{'configuration': 'CO_1872062433745468995', 'property_instance': ['PI_742938977329319250'], 'metadata': ['MD_1869090800411680527'], 'dataset': 'DS_qitw2sf8t76d_0'}\n",
      "{'configuration': 'CO_2134722521682883569', 'property_instance': ['PI_1521296246374338839', 'PI_1786420715889247891'], 'metadata': ['MD_891593281441679058'], 'dataset': 'DS_ufzljxxz8j2j_0'}\n",
      "{'configuration': 'CO_2134722521682883569', 'property_instance': ['PI_1521296246374338839', 'PI_1786420715889247891'], 'metadata': ['MD_891593281441679058'], 'dataset': 'DS_qitw2sf8t76d_0'}\n",
      "{'configuration': 'CO_889932833438393433', 'property_instance': ['PI_1442259308681044433'], 'metadata': ['MD_269057203571359004'], 'dataset': 'DS_ufzljxxz8j2j_0'}\n",
      "{'configuration': 'CO_889932833438393433', 'property_instance': ['PI_1442259308681044433'], 'metadata': ['MD_269057203571359004'], 'dataset': 'DS_qitw2sf8t76d_0'}\n",
      "{'configuration': 'CO_1726577783333032719', 'property_instance': ['PI_532608342860503834', 'PI_1546077382517421416'], 'metadata': ['MD_1203578859850920740'], 'dataset': 'DS_ufzljxxz8j2j_0'}\n",
      "{'configuration': 'CO_1726577783333032719', 'property_instance': ['PI_532608342860503834', 'PI_1546077382517421416'], 'metadata': ['MD_1203578859850920740'], 'dataset': 'DS_qitw2sf8t76d_0'}\n",
      "{'configuration': 'CO_358114334298604354', 'property_instance': ['PI_1481154204647708074', 'PI_1594216445517047544'], 'metadata': ['MD_1001142611056379466'], 'dataset': 'DS_ufzljxxz8j2j_0'}\n",
      "{'configuration': 'CO_358114334298604354', 'property_instance': ['PI_1481154204647708074', 'PI_1594216445517047544'], 'metadata': ['MD_1001142611056379466'], 'dataset': 'DS_qitw2sf8t76d_0'}\n",
      "{'configuration': 'CO_1168539358222834339', 'property_instance': ['PI_1319179024370801459'], 'metadata': ['MD_564175892917797175'], 'dataset': 'DS_ufzljxxz8j2j_0'}\n",
      "{'configuration': 'CO_1168539358222834339', 'property_instance': ['PI_1319179024370801459'], 'metadata': ['MD_564175892917797175'], 'dataset': 'DS_qitw2sf8t76d_0'}\n",
      "{'configuration': 'CO_647229139151536050', 'property_instance': ['PI_2174557500649117626'], 'metadata': ['MD_326785654856186491'], 'dataset': 'DS_ufzljxxz8j2j_0'}\n",
      "{'configuration': 'CO_647229139151536050', 'property_instance': ['PI_2174557500649117626'], 'metadata': ['MD_326785654856186491'], 'dataset': 'DS_qitw2sf8t76d_0'}\n",
      "{'configuration': 'CO_57211488537770256', 'property_instance': ['PI_2000458300183348553'], 'metadata': ['MD_718304153491360110'], 'dataset': 'DS_ufzljxxz8j2j_0'}\n",
      "{'configuration': 'CO_57211488537770256', 'property_instance': ['PI_2000458300183348553'], 'metadata': ['MD_718304153491360110'], 'dataset': 'DS_qitw2sf8t76d_0'}\n",
      "{'configuration': 'CO_1053010770427464841', 'property_instance': ['PI_422935786680599446'], 'metadata': ['MD_1439475604458121659'], 'dataset': 'DS_ufzljxxz8j2j_0'}\n",
      "{'configuration': 'CO_1053010770427464841', 'property_instance': ['PI_422935786680599446'], 'metadata': ['MD_1439475604458121659'], 'dataset': 'DS_qitw2sf8t76d_0'}\n",
      "{'configuration': 'CO_1998162263023924285', 'property_instance': ['PI_1141562058453028323', 'PI_102994008095542297'], 'metadata': ['MD_1944832631264556564'], 'dataset': 'DS_ufzljxxz8j2j_0'}\n",
      "{'configuration': 'CO_1998162263023924285', 'property_instance': ['PI_1141562058453028323', 'PI_102994008095542297'], 'metadata': ['MD_1944832631264556564'], 'dataset': 'DS_qitw2sf8t76d_0'}\n",
      "{'configuration': 'CO_220012486744978572', 'property_instance': ['PI_120273953124705766'], 'metadata': ['MD_474899905686283359'], 'dataset': 'DS_ufzljxxz8j2j_0'}\n",
      "{'configuration': 'CO_220012486744978572', 'property_instance': ['PI_120273953124705766'], 'metadata': ['MD_474899905686283359'], 'dataset': 'DS_qitw2sf8t76d_0'}\n",
      "{'configuration': 'CO_1991853442749772920', 'property_instance': ['PI_1575970055890978372', 'PI_823958021439233976'], 'metadata': ['MD_2190634645954261828'], 'dataset': 'DS_ufzljxxz8j2j_0'}\n",
      "{'configuration': 'CO_1991853442749772920', 'property_instance': ['PI_1575970055890978372', 'PI_823958021439233976'], 'metadata': ['MD_2190634645954261828'], 'dataset': 'DS_qitw2sf8t76d_0'}\n",
      "{'configuration': 'CO_1458801925330934593', 'property_instance': ['PI_1849039316444716518'], 'metadata': ['MD_1229740918113953634'], 'dataset': 'DS_ufzljxxz8j2j_0'}\n",
      "{'configuration': 'CO_1458801925330934593', 'property_instance': ['PI_1849039316444716518'], 'metadata': ['MD_1229740918113953634'], 'dataset': 'DS_qitw2sf8t76d_0'}\n",
      "{'configuration': 'CO_1102087943774254941', 'property_instance': ['PI_524538607448720203', 'PI_1381205105502881562'], 'metadata': ['MD_2230470199754999957'], 'dataset': 'DS_ufzljxxz8j2j_0'}\n",
      "{'configuration': 'CO_1102087943774254941', 'property_instance': ['PI_524538607448720203', 'PI_1381205105502881562'], 'metadata': ['MD_2230470199754999957'], 'dataset': 'DS_qitw2sf8t76d_0'}\n",
      "{'configuration': 'CO_2224568192159778979', 'property_instance': ['PI_129560980261609044', 'PI_1404268005770118802'], 'metadata': ['MD_493786281676988029'], 'dataset': 'DS_ufzljxxz8j2j_0'}\n",
      "{'configuration': 'CO_2224568192159778979', 'property_instance': ['PI_129560980261609044', 'PI_1404268005770118802'], 'metadata': ['MD_493786281676988029'], 'dataset': 'DS_qitw2sf8t76d_0'}\n",
      "{'configuration': 'CO_2026058506804180516', 'property_instance': ['PI_406787493507027144'], 'metadata': ['MD_1868102616105829968'], 'dataset': 'DS_ufzljxxz8j2j_0'}\n",
      "{'configuration': 'CO_2026058506804180516', 'property_instance': ['PI_406787493507027144'], 'metadata': ['MD_1868102616105829968'], 'dataset': 'DS_qitw2sf8t76d_0'}\n",
      "{'configuration': 'CO_1196121796081418202', 'property_instance': ['PI_1177107535873602390'], 'metadata': ['MD_398299575815404559'], 'dataset': 'DS_ufzljxxz8j2j_0'}\n",
      "{'configuration': 'CO_1196121796081418202', 'property_instance': ['PI_1177107535873602390'], 'metadata': ['MD_398299575815404559'], 'dataset': 'DS_qitw2sf8t76d_0'}\n",
      "{'configuration': 'CO_172442053180760483', 'property_instance': ['PI_560200133492289069'], 'metadata': ['MD_599531207752460773'], 'dataset': 'DS_ufzljxxz8j2j_0'}\n",
      "{'configuration': 'CO_172442053180760483', 'property_instance': ['PI_560200133492289069'], 'metadata': ['MD_599531207752460773'], 'dataset': 'DS_qitw2sf8t76d_0'}\n",
      "{'configuration': 'CO_1991117154023354013', 'property_instance': ['PI_60714796306777235', 'PI_1691665697713514652'], 'metadata': ['MD_1495116637485092909'], 'dataset': 'DS_ufzljxxz8j2j_0'}\n",
      "{'configuration': 'CO_1991117154023354013', 'property_instance': ['PI_60714796306777235', 'PI_1691665697713514652'], 'metadata': ['MD_1495116637485092909'], 'dataset': 'DS_qitw2sf8t76d_0'}\n",
      "{'configuration': 'CO_247877710229338534', 'property_instance': ['PI_1045300192404633280', 'PI_476115816303279392'], 'metadata': ['MD_672921099610685038'], 'dataset': 'DS_ufzljxxz8j2j_0'}\n",
      "{'configuration': 'CO_247877710229338534', 'property_instance': ['PI_1045300192404633280', 'PI_476115816303279392'], 'metadata': ['MD_672921099610685038'], 'dataset': 'DS_qitw2sf8t76d_0'}\n",
      "{'configuration': 'CO_52720988666071982', 'property_instance': ['PI_2228750731426803493', 'PI_1650267426491769315'], 'metadata': ['MD_672921099610685038'], 'dataset': 'DS_ufzljxxz8j2j_0'}\n",
      "{'configuration': 'CO_52720988666071982', 'property_instance': ['PI_2228750731426803493', 'PI_1650267426491769315'], 'metadata': ['MD_672921099610685038'], 'dataset': 'DS_qitw2sf8t76d_0'}\n",
      "{'configuration': 'CO_1794093640742420888', 'property_instance': ['PI_2058000772505323115', 'PI_52245318610164794'], 'metadata': ['MD_511726840333776116'], 'dataset': 'DS_ufzljxxz8j2j_0'}\n",
      "{'configuration': 'CO_1794093640742420888', 'property_instance': ['PI_2058000772505323115', 'PI_52245318610164794'], 'metadata': ['MD_511726840333776116'], 'dataset': 'DS_qitw2sf8t76d_0'}\n",
      "{'configuration': 'CO_1740811748547597763', 'property_instance': ['PI_506836926016775632', 'PI_1756815367630153692'], 'metadata': ['MD_2014062411111979857'], 'dataset': 'DS_ufzljxxz8j2j_0'}\n",
      "{'configuration': 'CO_1740811748547597763', 'property_instance': ['PI_506836926016775632', 'PI_1756815367630153692'], 'metadata': ['MD_2014062411111979857'], 'dataset': 'DS_qitw2sf8t76d_0'}\n",
      "{'configuration': 'CO_1836804476705190680', 'property_instance': ['PI_24156669319745606'], 'metadata': ['MD_1648534014456337585'], 'dataset': 'DS_ufzljxxz8j2j_0'}\n",
      "{'configuration': 'CO_1836804476705190680', 'property_instance': ['PI_24156669319745606'], 'metadata': ['MD_1648534014456337585'], 'dataset': 'DS_qitw2sf8t76d_0'}\n",
      "{'configuration': 'CO_2063629381947420692', 'property_instance': ['PI_1529516036712509833', 'PI_1476685695974162592'], 'metadata': ['MD_398776192463423527'], 'dataset': 'DS_ufzljxxz8j2j_0'}\n",
      "{'configuration': 'CO_2063629381947420692', 'property_instance': ['PI_1529516036712509833', 'PI_1476685695974162592'], 'metadata': ['MD_398776192463423527'], 'dataset': 'DS_qitw2sf8t76d_0'}\n",
      "{'configuration': 'CO_1657697959931545330', 'property_instance': ['PI_65320365785519021'], 'metadata': ['MD_1922769811218550530'], 'dataset': 'DS_ufzljxxz8j2j_0'}\n",
      "{'configuration': 'CO_1657697959931545330', 'property_instance': ['PI_65320365785519021'], 'metadata': ['MD_1922769811218550530'], 'dataset': 'DS_qitw2sf8t76d_0'}\n",
      "{'configuration': 'CO_2171543431325828614', 'property_instance': ['PI_2008556072486180391'], 'metadata': ['MD_656845649992675071'], 'dataset': 'DS_ufzljxxz8j2j_0'}\n",
      "{'configuration': 'CO_2171543431325828614', 'property_instance': ['PI_2008556072486180391'], 'metadata': ['MD_656845649992675071'], 'dataset': 'DS_qitw2sf8t76d_0'}\n",
      "{'configuration': 'CO_1849858420409371984', 'property_instance': ['PI_604333851148088901', 'PI_351035390928787468'], 'metadata': ['MD_2239765099536326223'], 'dataset': 'DS_ufzljxxz8j2j_0'}\n",
      "{'configuration': 'CO_1849858420409371984', 'property_instance': ['PI_604333851148088901', 'PI_351035390928787468'], 'metadata': ['MD_2239765099536326223'], 'dataset': 'DS_qitw2sf8t76d_0'}\n",
      "{'configuration': 'CO_992133043511173040', 'property_instance': ['PI_60461516313856292', 'PI_950453610389379753'], 'metadata': ['MD_1257587498476426471'], 'dataset': 'DS_ufzljxxz8j2j_0'}\n",
      "{'configuration': 'CO_992133043511173040', 'property_instance': ['PI_60461516313856292', 'PI_950453610389379753'], 'metadata': ['MD_1257587498476426471'], 'dataset': 'DS_qitw2sf8t76d_0'}\n",
      "{'configuration': 'CO_2139684335917040268', 'property_instance': ['PI_1129973784798939404', 'PI_868230516161502628'], 'metadata': ['MD_1610285716724679317'], 'dataset': 'DS_ufzljxxz8j2j_0'}\n",
      "{'configuration': 'CO_2139684335917040268', 'property_instance': ['PI_1129973784798939404', 'PI_868230516161502628'], 'metadata': ['MD_1610285716724679317'], 'dataset': 'DS_qitw2sf8t76d_0'}\n",
      "{'configuration': 'CO_323229593236584795', 'property_instance': ['PI_812769597764312748'], 'metadata': ['MD_1425414283674991008'], 'dataset': 'DS_ufzljxxz8j2j_0'}\n",
      "{'configuration': 'CO_323229593236584795', 'property_instance': ['PI_812769597764312748'], 'metadata': ['MD_1425414283674991008'], 'dataset': 'DS_qitw2sf8t76d_0'}\n",
      "{'configuration': 'CO_593058389920384263', 'property_instance': ['PI_744748368125168996'], 'metadata': ['MD_1791343329266510050'], 'dataset': 'DS_ufzljxxz8j2j_0'}\n",
      "{'configuration': 'CO_593058389920384263', 'property_instance': ['PI_744748368125168996'], 'metadata': ['MD_1791343329266510050'], 'dataset': 'DS_qitw2sf8t76d_0'}\n",
      "{'configuration': 'CO_2281348569970845070', 'property_instance': ['PI_77917467082747437', 'PI_1405882050528593451'], 'metadata': ['MD_1459916072834428952'], 'dataset': 'DS_ufzljxxz8j2j_0'}\n",
      "{'configuration': 'CO_2281348569970845070', 'property_instance': ['PI_77917467082747437', 'PI_1405882050528593451'], 'metadata': ['MD_1459916072834428952'], 'dataset': 'DS_qitw2sf8t76d_0'}\n",
      "{'configuration': 'CO_2265268077899582312', 'property_instance': ['PI_1177278502060714240'], 'metadata': ['MD_2250507081850461151'], 'dataset': 'DS_ufzljxxz8j2j_0'}\n",
      "{'configuration': 'CO_2265268077899582312', 'property_instance': ['PI_1177278502060714240'], 'metadata': ['MD_2250507081850461151'], 'dataset': 'DS_qitw2sf8t76d_0'}\n",
      "{'configuration': 'CO_1324143176711173523', 'property_instance': ['PI_772533618747220990'], 'metadata': ['MD_1004881095247007803'], 'dataset': 'DS_ufzljxxz8j2j_0'}\n",
      "{'configuration': 'CO_1324143176711173523', 'property_instance': ['PI_772533618747220990'], 'metadata': ['MD_1004881095247007803'], 'dataset': 'DS_qitw2sf8t76d_0'}\n",
      "{'configuration': 'CO_2289972965776555305', 'property_instance': ['PI_1544149194126364442', 'PI_2181031992552358581'], 'metadata': ['MD_924632456158129759'], 'dataset': 'DS_ufzljxxz8j2j_0'}\n",
      "{'configuration': 'CO_2289972965776555305', 'property_instance': ['PI_1544149194126364442', 'PI_2181031992552358581'], 'metadata': ['MD_924632456158129759'], 'dataset': 'DS_qitw2sf8t76d_0'}\n",
      "{'configuration': 'CO_2096686873072090494', 'property_instance': ['PI_588585630875283678'], 'metadata': ['MD_1127041858448867556'], 'dataset': 'DS_ufzljxxz8j2j_0'}\n",
      "{'configuration': 'CO_2096686873072090494', 'property_instance': ['PI_588585630875283678'], 'metadata': ['MD_1127041858448867556'], 'dataset': 'DS_qitw2sf8t76d_0'}\n",
      "{'configuration': 'CO_1942710830602525985', 'property_instance': ['PI_1873215204106752048', 'PI_629859461925902506'], 'metadata': ['MD_1604654483613394495'], 'dataset': 'DS_ufzljxxz8j2j_0'}\n",
      "{'configuration': 'CO_1942710830602525985', 'property_instance': ['PI_1873215204106752048', 'PI_629859461925902506'], 'metadata': ['MD_1604654483613394495'], 'dataset': 'DS_qitw2sf8t76d_0'}\n",
      "{'configuration': 'CO_925124219234324092', 'property_instance': ['PI_2267449709163573280'], 'metadata': ['MD_1834722326102656180'], 'dataset': 'DS_ufzljxxz8j2j_0'}\n",
      "{'configuration': 'CO_925124219234324092', 'property_instance': ['PI_2267449709163573280'], 'metadata': ['MD_1834722326102656180'], 'dataset': 'DS_qitw2sf8t76d_0'}\n",
      "{'configuration': 'CO_819217524095804595', 'property_instance': ['PI_1016745695067328256', 'PI_1208606770635444686'], 'metadata': ['MD_1000396349291203716'], 'dataset': 'DS_ufzljxxz8j2j_0'}\n",
      "{'configuration': 'CO_819217524095804595', 'property_instance': ['PI_1016745695067328256', 'PI_1208606770635444686'], 'metadata': ['MD_1000396349291203716'], 'dataset': 'DS_qitw2sf8t76d_0'}\n",
      "{'configuration': 'CO_338327945625548070', 'property_instance': ['PI_1831326302211728354', 'PI_1588093410604851521'], 'metadata': ['MD_2154056746543997703'], 'dataset': 'DS_ufzljxxz8j2j_0'}\n",
      "{'configuration': 'CO_338327945625548070', 'property_instance': ['PI_1831326302211728354', 'PI_1588093410604851521'], 'metadata': ['MD_2154056746543997703'], 'dataset': 'DS_qitw2sf8t76d_0'}\n",
      "{'configuration': 'CO_1169799950109431776', 'property_instance': ['PI_224677892509013121'], 'metadata': ['MD_1448245919612751134'], 'dataset': 'DS_ufzljxxz8j2j_0'}\n",
      "{'configuration': 'CO_1169799950109431776', 'property_instance': ['PI_224677892509013121'], 'metadata': ['MD_1448245919612751134'], 'dataset': 'DS_qitw2sf8t76d_0'}\n",
      "{'configuration': 'CO_1212341585201325475', 'property_instance': ['PI_2217019115254494875'], 'metadata': ['MD_2013398429601810374'], 'dataset': 'DS_ufzljxxz8j2j_0'}\n",
      "{'configuration': 'CO_1212341585201325475', 'property_instance': ['PI_2217019115254494875'], 'metadata': ['MD_2013398429601810374'], 'dataset': 'DS_qitw2sf8t76d_0'}\n",
      "{'configuration': 'CO_1022637509031368514', 'property_instance': ['PI_1551148858148766284'], 'metadata': ['MD_2120408452609189516'], 'dataset': 'DS_ufzljxxz8j2j_0'}\n",
      "{'configuration': 'CO_1022637509031368514', 'property_instance': ['PI_1551148858148766284'], 'metadata': ['MD_2120408452609189516'], 'dataset': 'DS_qitw2sf8t76d_0'}\n",
      "{'configuration': 'CO_840090332527447260', 'property_instance': ['PI_2159545286755422269', 'PI_2026520670905378230'], 'metadata': ['MD_503043460561970135'], 'dataset': 'DS_ufzljxxz8j2j_0'}\n",
      "{'configuration': 'CO_840090332527447260', 'property_instance': ['PI_2159545286755422269', 'PI_2026520670905378230'], 'metadata': ['MD_503043460561970135'], 'dataset': 'DS_qitw2sf8t76d_0'}\n",
      "{'configuration': 'CO_2047638234456185582', 'property_instance': ['PI_1114020698222000940'], 'metadata': ['MD_423568391158352667'], 'dataset': 'DS_ufzljxxz8j2j_0'}\n",
      "{'configuration': 'CO_2047638234456185582', 'property_instance': ['PI_1114020698222000940'], 'metadata': ['MD_423568391158352667'], 'dataset': 'DS_qitw2sf8t76d_0'}\n",
      "{'configuration': 'CO_871171586993430254', 'property_instance': ['PI_1193629842226262066', 'PI_1928943481183279832'], 'metadata': ['MD_1364025934385585530'], 'dataset': 'DS_ufzljxxz8j2j_0'}\n",
      "{'configuration': 'CO_871171586993430254', 'property_instance': ['PI_1193629842226262066', 'PI_1928943481183279832'], 'metadata': ['MD_1364025934385585530'], 'dataset': 'DS_qitw2sf8t76d_0'}\n",
      "{'configuration': 'CO_1630752105174857213', 'property_instance': ['PI_237316985893953125', 'PI_2154892988121176483'], 'metadata': ['MD_1000396349291203716'], 'dataset': 'DS_ufzljxxz8j2j_0'}\n",
      "{'configuration': 'CO_1630752105174857213', 'property_instance': ['PI_237316985893953125', 'PI_2154892988121176483'], 'metadata': ['MD_1000396349291203716'], 'dataset': 'DS_qitw2sf8t76d_0'}\n",
      "{'configuration': 'CO_1080960634533596536', 'property_instance': ['PI_923934371628285301', 'PI_168264665164690985'], 'metadata': ['MD_1791016340448254126'], 'dataset': 'DS_ufzljxxz8j2j_0'}\n",
      "{'configuration': 'CO_1080960634533596536', 'property_instance': ['PI_923934371628285301', 'PI_168264665164690985'], 'metadata': ['MD_1791016340448254126'], 'dataset': 'DS_qitw2sf8t76d_0'}\n",
      "{'configuration': 'CO_220721346735415997', 'property_instance': ['PI_1850986468285266839'], 'metadata': ['MD_2039835579790642318'], 'dataset': 'DS_ufzljxxz8j2j_0'}\n",
      "{'configuration': 'CO_220721346735415997', 'property_instance': ['PI_1850986468285266839'], 'metadata': ['MD_2039835579790642318'], 'dataset': 'DS_qitw2sf8t76d_0'}\n",
      "{'configuration': 'CO_520951055822145990', 'property_instance': ['PI_1559691662820393601', 'PI_2181594280887877081'], 'metadata': ['MD_553372716096265773'], 'dataset': 'DS_ufzljxxz8j2j_0'}\n",
      "{'configuration': 'CO_520951055822145990', 'property_instance': ['PI_1559691662820393601', 'PI_2181594280887877081'], 'metadata': ['MD_553372716096265773'], 'dataset': 'DS_qitw2sf8t76d_0'}\n",
      "{'configuration': 'CO_1875966121933569585', 'property_instance': ['PI_1649640539839627919', 'PI_899080757431464608'], 'metadata': ['MD_1383427203681379022'], 'dataset': 'DS_ufzljxxz8j2j_0'}\n",
      "{'configuration': 'CO_1875966121933569585', 'property_instance': ['PI_1649640539839627919', 'PI_899080757431464608'], 'metadata': ['MD_1383427203681379022'], 'dataset': 'DS_qitw2sf8t76d_0'}\n",
      "{'configuration': 'CO_1805680788792719792', 'property_instance': ['PI_688764542343080420', 'PI_936923949908885919'], 'metadata': ['MD_783439170219243504'], 'dataset': 'DS_ufzljxxz8j2j_0'}\n",
      "{'configuration': 'CO_1805680788792719792', 'property_instance': ['PI_688764542343080420', 'PI_936923949908885919'], 'metadata': ['MD_783439170219243504'], 'dataset': 'DS_qitw2sf8t76d_0'}\n",
      "{'configuration': 'CO_923615991641883590', 'property_instance': ['PI_223723322337476766', 'PI_148288527706110750'], 'metadata': ['MD_398776192463423527'], 'dataset': 'DS_ufzljxxz8j2j_0'}\n",
      "{'configuration': 'CO_923615991641883590', 'property_instance': ['PI_223723322337476766', 'PI_148288527706110750'], 'metadata': ['MD_398776192463423527'], 'dataset': 'DS_qitw2sf8t76d_0'}\n",
      "{'configuration': 'CO_660327786021248553', 'property_instance': ['PI_2072249638636647083'], 'metadata': ['MD_1644387223533084196'], 'dataset': 'DS_ufzljxxz8j2j_0'}\n",
      "{'configuration': 'CO_660327786021248553', 'property_instance': ['PI_2072249638636647083'], 'metadata': ['MD_1644387223533084196'], 'dataset': 'DS_qitw2sf8t76d_0'}\n",
      "{'configuration': 'CO_2124997281375139617', 'property_instance': ['PI_1691120464612018718', 'PI_2021011477646655857'], 'metadata': ['MD_74911782193872709'], 'dataset': 'DS_ufzljxxz8j2j_0'}\n",
      "{'configuration': 'CO_2124997281375139617', 'property_instance': ['PI_1691120464612018718', 'PI_2021011477646655857'], 'metadata': ['MD_74911782193872709'], 'dataset': 'DS_qitw2sf8t76d_0'}\n",
      "{'configuration': 'CO_1058995042075605376', 'property_instance': ['PI_716423170904410935', 'PI_236034069853392430'], 'metadata': ['MD_716849686225844560'], 'dataset': 'DS_ufzljxxz8j2j_0'}\n",
      "{'configuration': 'CO_1058995042075605376', 'property_instance': ['PI_716423170904410935', 'PI_236034069853392430'], 'metadata': ['MD_716849686225844560'], 'dataset': 'DS_qitw2sf8t76d_0'}\n",
      "{'configuration': 'CO_1195846948427881000', 'property_instance': ['PI_234449186189496424'], 'metadata': ['MD_338547537701569426'], 'dataset': 'DS_ufzljxxz8j2j_0'}\n",
      "{'configuration': 'CO_1195846948427881000', 'property_instance': ['PI_234449186189496424'], 'metadata': ['MD_338547537701569426'], 'dataset': 'DS_qitw2sf8t76d_0'}\n",
      "{'configuration': 'CO_82139400527690262', 'property_instance': ['PI_905594262028757846', 'PI_987645904066487759'], 'metadata': ['MD_672921099610685038'], 'dataset': 'DS_ufzljxxz8j2j_0'}\n",
      "{'configuration': 'CO_82139400527690262', 'property_instance': ['PI_905594262028757846', 'PI_987645904066487759'], 'metadata': ['MD_672921099610685038'], 'dataset': 'DS_qitw2sf8t76d_0'}\n",
      "{'configuration': 'CO_138912961026750569', 'property_instance': ['PI_71763874959777209', 'PI_648047265068359734'], 'metadata': ['MD_398776192463423527'], 'dataset': 'DS_ufzljxxz8j2j_0'}\n",
      "{'configuration': 'CO_138912961026750569', 'property_instance': ['PI_71763874959777209', 'PI_648047265068359734'], 'metadata': ['MD_398776192463423527'], 'dataset': 'DS_qitw2sf8t76d_0'}\n",
      "{'configuration': 'CO_944258197992727032', 'property_instance': ['PI_2184714240476175458', 'PI_484510517449397372'], 'metadata': ['MD_1673852147786336160'], 'dataset': 'DS_ufzljxxz8j2j_0'}\n",
      "{'configuration': 'CO_944258197992727032', 'property_instance': ['PI_2184714240476175458', 'PI_484510517449397372'], 'metadata': ['MD_1673852147786336160'], 'dataset': 'DS_qitw2sf8t76d_0'}\n",
      "{'configuration': 'CO_833809254806423936', 'property_instance': ['PI_1410232496553121564', 'PI_2051295627481927519'], 'metadata': ['MD_656201303778411719'], 'dataset': 'DS_ufzljxxz8j2j_0'}\n",
      "{'configuration': 'CO_833809254806423936', 'property_instance': ['PI_1410232496553121564', 'PI_2051295627481927519'], 'metadata': ['MD_656201303778411719'], 'dataset': 'DS_qitw2sf8t76d_0'}\n",
      "{'configuration': 'CO_1309561637384477205', 'property_instance': ['PI_1844253336016410565'], 'metadata': ['MD_1809166048595724310'], 'dataset': 'DS_ufzljxxz8j2j_0'}\n",
      "{'configuration': 'CO_1309561637384477205', 'property_instance': ['PI_1844253336016410565'], 'metadata': ['MD_1809166048595724310'], 'dataset': 'DS_qitw2sf8t76d_0'}\n",
      "{'configuration': 'CO_253361526057897476', 'property_instance': ['PI_1546814704739386569', 'PI_238832804744655739'], 'metadata': ['MD_2129874735997124938'], 'dataset': 'DS_ufzljxxz8j2j_0'}\n",
      "{'configuration': 'CO_253361526057897476', 'property_instance': ['PI_1546814704739386569', 'PI_238832804744655739'], 'metadata': ['MD_2129874735997124938'], 'dataset': 'DS_qitw2sf8t76d_0'}\n",
      "{'configuration': 'CO_222553300859661707', 'property_instance': ['PI_1527280273565564506', 'PI_1906363541648968538'], 'metadata': ['MD_1380547703160572238'], 'dataset': 'DS_ufzljxxz8j2j_0'}\n",
      "{'configuration': 'CO_222553300859661707', 'property_instance': ['PI_1527280273565564506', 'PI_1906363541648968538'], 'metadata': ['MD_1380547703160572238'], 'dataset': 'DS_qitw2sf8t76d_0'}\n",
      "{'configuration': 'CO_2185133777670053665', 'property_instance': ['PI_147753973710283010', 'PI_1991832030968574974'], 'metadata': ['MD_478100046121238462'], 'dataset': 'DS_ufzljxxz8j2j_0'}\n",
      "{'configuration': 'CO_2185133777670053665', 'property_instance': ['PI_147753973710283010', 'PI_1991832030968574974'], 'metadata': ['MD_478100046121238462'], 'dataset': 'DS_qitw2sf8t76d_0'}\n",
      "{'configuration': 'CO_328853386388932700', 'property_instance': ['PI_1648854616933373084', 'PI_2270026232598875171'], 'metadata': ['MD_354182917847755784'], 'dataset': 'DS_ufzljxxz8j2j_0'}\n",
      "{'configuration': 'CO_328853386388932700', 'property_instance': ['PI_1648854616933373084', 'PI_2270026232598875171'], 'metadata': ['MD_354182917847755784'], 'dataset': 'DS_qitw2sf8t76d_0'}\n",
      "{'configuration': 'CO_382331734254396006', 'property_instance': ['PI_859180823608906051', 'PI_2226211476074407011'], 'metadata': ['MD_1415844459083431471'], 'dataset': 'DS_ufzljxxz8j2j_0'}\n",
      "{'configuration': 'CO_382331734254396006', 'property_instance': ['PI_859180823608906051', 'PI_2226211476074407011'], 'metadata': ['MD_1415844459083431471'], 'dataset': 'DS_qitw2sf8t76d_0'}\n",
      "{'configuration': 'CO_554304858184671921', 'property_instance': ['PI_2097223591926402639'], 'metadata': ['MD_2088693216366150074'], 'dataset': 'DS_ufzljxxz8j2j_0'}\n",
      "{'configuration': 'CO_554304858184671921', 'property_instance': ['PI_2097223591926402639'], 'metadata': ['MD_2088693216366150074'], 'dataset': 'DS_qitw2sf8t76d_0'}\n",
      "{'configuration': 'CO_140185150776649644', 'property_instance': ['PI_1309478450767651657', 'PI_1342069915734668403'], 'metadata': ['MD_1412075757514397303'], 'dataset': 'DS_ufzljxxz8j2j_0'}\n",
      "{'configuration': 'CO_140185150776649644', 'property_instance': ['PI_1309478450767651657', 'PI_1342069915734668403'], 'metadata': ['MD_1412075757514397303'], 'dataset': 'DS_qitw2sf8t76d_0'}\n",
      "{'configuration': 'CO_917764527607791828', 'property_instance': ['PI_212404416360374091', 'PI_504508794281205239'], 'metadata': ['MD_650368005181489547'], 'dataset': 'DS_ufzljxxz8j2j_0'}\n",
      "{'configuration': 'CO_917764527607791828', 'property_instance': ['PI_212404416360374091', 'PI_504508794281205239'], 'metadata': ['MD_650368005181489547'], 'dataset': 'DS_qitw2sf8t76d_0'}\n",
      "{'configuration': 'CO_539574018796251480', 'property_instance': ['PI_1412921057781004254'], 'metadata': ['MD_1073436108719979151'], 'dataset': 'DS_ufzljxxz8j2j_0'}\n",
      "{'configuration': 'CO_539574018796251480', 'property_instance': ['PI_1412921057781004254'], 'metadata': ['MD_1073436108719979151'], 'dataset': 'DS_qitw2sf8t76d_0'}\n",
      "{'configuration': 'CO_900077319983158863', 'property_instance': ['PI_491002758330473440', 'PI_1215708228301484762'], 'metadata': ['MD_1542633135110065833'], 'dataset': 'DS_ufzljxxz8j2j_0'}\n",
      "{'configuration': 'CO_900077319983158863', 'property_instance': ['PI_491002758330473440', 'PI_1215708228301484762'], 'metadata': ['MD_1542633135110065833'], 'dataset': 'DS_qitw2sf8t76d_0'}\n",
      "{'configuration': 'CO_891449060931480639', 'property_instance': ['PI_529784068474017584', 'PI_963303152683859090'], 'metadata': ['MD_792759793552105825'], 'dataset': 'DS_ufzljxxz8j2j_0'}\n",
      "{'configuration': 'CO_891449060931480639', 'property_instance': ['PI_529784068474017584', 'PI_963303152683859090'], 'metadata': ['MD_792759793552105825'], 'dataset': 'DS_qitw2sf8t76d_0'}\n",
      "{'configuration': 'CO_21259653420805497', 'property_instance': ['PI_350816958672903659', 'PI_492332924618618060'], 'metadata': ['MD_2105251877476155443'], 'dataset': 'DS_ufzljxxz8j2j_0'}\n",
      "{'configuration': 'CO_21259653420805497', 'property_instance': ['PI_350816958672903659', 'PI_492332924618618060'], 'metadata': ['MD_2105251877476155443'], 'dataset': 'DS_qitw2sf8t76d_0'}\n",
      "{'configuration': 'CO_242954627028785325', 'property_instance': ['PI_596142015808876457', 'PI_918308430025023633'], 'metadata': ['MD_2166670250587750681'], 'dataset': 'DS_ufzljxxz8j2j_0'}\n",
      "{'configuration': 'CO_242954627028785325', 'property_instance': ['PI_596142015808876457', 'PI_918308430025023633'], 'metadata': ['MD_2166670250587750681'], 'dataset': 'DS_qitw2sf8t76d_0'}\n",
      "{'configuration': 'CO_1070515498616304337', 'property_instance': ['PI_1566322334107300132'], 'metadata': ['MD_871448017015377997'], 'dataset': 'DS_ufzljxxz8j2j_0'}\n",
      "{'configuration': 'CO_1070515498616304337', 'property_instance': ['PI_1566322334107300132'], 'metadata': ['MD_871448017015377997'], 'dataset': 'DS_qitw2sf8t76d_0'}\n",
      "{'configuration': 'CO_268897810424065431', 'property_instance': ['PI_677951560279740779', 'PI_2191516744772387792'], 'metadata': ['MD_1278432703073273979'], 'dataset': 'DS_ufzljxxz8j2j_0'}\n",
      "{'configuration': 'CO_268897810424065431', 'property_instance': ['PI_677951560279740779', 'PI_2191516744772387792'], 'metadata': ['MD_1278432703073273979'], 'dataset': 'DS_qitw2sf8t76d_0'}\n",
      "{'configuration': 'CO_342343430808113805', 'property_instance': ['PI_1167097867710905979'], 'metadata': ['MD_1508175349377305472'], 'dataset': 'DS_ufzljxxz8j2j_0'}\n",
      "{'configuration': 'CO_342343430808113805', 'property_instance': ['PI_1167097867710905979'], 'metadata': ['MD_1508175349377305472'], 'dataset': 'DS_qitw2sf8t76d_0'}\n",
      "{'configuration': 'CO_1161620611319947163', 'property_instance': ['PI_1935935084268076540', 'PI_1871653338376771450'], 'metadata': ['MD_970080913502682703'], 'dataset': 'DS_ufzljxxz8j2j_0'}\n",
      "{'configuration': 'CO_1161620611319947163', 'property_instance': ['PI_1935935084268076540', 'PI_1871653338376771450'], 'metadata': ['MD_970080913502682703'], 'dataset': 'DS_qitw2sf8t76d_0'}\n"
     ]
    },
    {
     "name": "stderr",
     "output_type": "stream",
     "text": [
      "Updating DO relatiinships: 102it [00:00, 444.21it/s]"
     ]
    },
    {
     "name": "stdout",
     "output_type": "stream",
     "text": [
      "{'configuration': 'CO_1341363527102529545', 'property_instance': ['PI_2091403633692803936', 'PI_837126729511163650'], 'metadata': ['MD_44039445502463279'], 'dataset': 'DS_ufzljxxz8j2j_0'}\n",
      "{'configuration': 'CO_1341363527102529545', 'property_instance': ['PI_2091403633692803936', 'PI_837126729511163650'], 'metadata': ['MD_44039445502463279'], 'dataset': 'DS_qitw2sf8t76d_0'}\n"
     ]
    },
    {
     "name": "stderr",
     "output_type": "stream",
     "text": [
      "Updating DO relatiinships: 17226it [00:00, 46004.21it/s]IOPub data rate exceeded.\n",
      "The Jupyter server will temporarily stop sending output\n",
      "to the client in order to avoid crashing it.\n",
      "To change this limit, set the config variable\n",
      "`--ServerApp.iopub_data_rate_limit`.\n",
      "\n",
      "Current values:\n",
      "ServerApp.iopub_data_rate_limit=1000000.0 (bytes/sec)\n",
      "ServerApp.rate_limit_window=3.0 (secs)\n",
      "\n",
      "\n"
     ]
    },
    {
     "data": {
      "text/plain": [
       "'DS_qitw2sf8t76d_0'"
      ]
     },
     "execution_count": 8,
     "metadata": {},
     "output_type": "execute_result"
    }
   ],
   "source": [
    "client.insert_dataset(\n",
    "    do_hashes=all_dos[1:], # List of DOs to attach to Dataset\n",
    "    #cs_ids=cs_id, # Any CSs to attach to dataset\n",
    "    name=\"Carbon-Gap20\",\n",
    "    authors=[\n",
    "        \"Patrick Rowe\",  \n",
    "        \"Volker L. Deringer\",\n",
    "        \"Piero Gasparotto\",  \n",
    "        \"Gábor Csányi\",\n",
    "        \"Angelos Michaelides\"\n",
    "    ],\n",
    "    links=[\n",
    "        \"https://doi.org/10.17863/CAM.54529\",\n",
    "        \"https://doi.org/10.1063/5.0005084\",\n",
    "    ],\n",
    "    description=\"Approximately 17,000 configurations of carbon, each containing 1 to 240 atoms/cell.\\\n",
    "    A variety of structure types are represented, including graphite, graphene,\\\n",
    "    cubic and hexagonal diamond, fullerenes, and nanotubes, as well as some\\\n",
    "    defect structures.\",\n",
    "    verbose=True,\n",
    "    )"
   ]
  },
  {
   "cell_type": "code",
   "execution_count": null,
   "id": "d862ea66-f766-434d-a3b5-9baedbe6e183",
   "metadata": {},
   "outputs": [],
   "source": []
  }
 ],
 "metadata": {
  "kernelspec": {
   "display_name": "Python 3 (ipykernel)",
   "language": "python",
   "name": "python3"
  },
  "language_info": {
   "codemirror_mode": {
    "name": "ipython",
    "version": 3
   },
   "file_extension": ".py",
   "mimetype": "text/x-python",
   "name": "python",
   "nbconvert_exporter": "python",
   "pygments_lexer": "ipython3",
   "version": "3.9.6"
  }
 },
 "nbformat": 4,
 "nbformat_minor": 5
}
