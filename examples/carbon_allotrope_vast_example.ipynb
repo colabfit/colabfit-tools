{
 "cells": [
  {
   "cell_type": "markdown",
   "id": "e93ab817",
   "metadata": {},
   "source": [
    "# Carbon allotrope dataset example for Vast DB"
   ]
  },
  {
   "cell_type": "markdown",
   "id": "a9b9b210",
   "metadata": {},
   "source": [
    "### Imports"
   ]
  },
  {
   "cell_type": "code",
   "execution_count": 1,
   "id": "9e11c62a",
   "metadata": {},
   "outputs": [],
   "source": [
    "import os\n",
    "from pathlib import Path\n",
    "from pickle import load\n",
    "from time import time\n",
    "\n",
    "from ase.io import iread\n",
    "from dotenv import load_dotenv\n",
    "from pyspark.sql import SparkSession\n",
    "\n",
    "from colabfit.tools.configuration import AtomicConfiguration\n",
    "from colabfit.tools.database import DataManager, VastDataLoader, generate_ds_id\n",
    "from colabfit.tools.configuration_set import configuration_set_info\n",
    "from colabfit.tools.property import PropertyMap, property_info\n",
    "from colabfit.tools.property_definitions import (\n",
    "    atomic_forces_pd,\n",
    "    energy_pd,\n",
    ")"
   ]
  },
  {
   "cell_type": "markdown",
   "id": "18cce5c4",
   "metadata": {},
   "source": [
    "### Import environment variables and set up connections to Vast DB"
   ]
  },
  {
   "cell_type": "code",
   "execution_count": null,
   "id": "0ea51f74",
   "metadata": {},
   "outputs": [],
   "source": [
    "# The variables VAST_DB_KEY, VAST_DB_SECRET, and VAST_DB_ENDPOINT must be set in a .env file\n",
    "load_dotenv()\n",
    "\n",
    "spark_session = SparkSession.builder.appName(\"colabfit\").getOrCreate()\n",
    "loader = VastDataLoader()\n",
    "loader.set_spark_session(spark_session)\n",
    "\n",
    "access_key = os.getenv(\"VAST_DB_KEY\")\n",
    "access_secret = os.getenv(\"VAST_DB_SECRET\")\n",
    "endpoint = os.getenv(\"VAST_DB_ENDPOINT\")\n",
    "loader.set_vastdb_session(\n",
    "    endpoint=endpoint,\n",
    "    access_key=access_key,\n",
    "    access_secret=access_secret,\n",
    ")"
   ]
  },
  {
   "cell_type": "code",
   "execution_count": null,
   "id": "d7e5acea",
   "metadata": {},
   "outputs": [],
   "source": [
    "# Path to directory where metadata files will be saved\n",
    "loader.metadata_dir = \"test_md/MDtest\"\n",
    "\n",
    "# If not using default tables, set table names\n",
    "table_prefix = \"ndb.colabfit.dev\"\n",
    "loader.config_table = f\"{table_prefix}.co_test1\"\n",
    "loader.prop_object_table = f\"{table_prefix}.po_test1\"\n",
    "loader.config_set_table = f\"{table_prefix}.cs_test1\"\n",
    "loader.dataset_table = f\"{table_prefix}.ds_test1\"\n",
    "loader.co_cs_map_table = f\"{table_prefix}.cs_co_map_test1\"\n",
    "print(\n",
    "    loader.config_table,\n",
    "    loader.config_set_table,\n",
    "    loader.dataset_table,\n",
    "    loader.prop_object_table,\n",
    "    loader.co_cs_map_table,\n",
    "    sep=\"\\n\",\n",
    ")"
   ]
  },
  {
   "cell_type": "markdown",
   "id": "dc53d87c",
   "metadata": {},
   "source": [
    "### Set dataset information"
   ]
  },
  {
   "cell_type": "code",
   "execution_count": null,
   "id": "063e9c57",
   "metadata": {},
   "outputs": [],
   "source": [
    "DATASET_NAME = \"Carbon_allotrope_multilayer_graphene_graphite_PRB2019\"\n",
    "AUTHORS = [\"Mingjian Wen\", \"Ellad B. Tadmor\"]\n",
    "DESCRIPTION = \"A description of the dataset\"\n",
    "DATASET_ID = generate_ds_id()\n",
    "LICENSE = \"CC-BY-4.0\"\n",
    "PUBLICATION_LINK = (\n",
    "    \"https://doi.org/10.1103/PhysRevB.100.195419\"  # URL to the publication\n",
    ")\n",
    "DATA_LINK = \"https://journals.aps.org/prb/supplemental/10.1103/PhysRevB.100.195419/dataset.tar\"  # URL to original downloadable data files\n",
    "OTHER_LINKS = [\n",
    "    \"https://www.example.com\",  # URL to other relevant information, if applicable\n",
    "]\n",
    "PUBLICATION_YEAR = \"2024\""
   ]
  },
  {
   "cell_type": "markdown",
   "id": "43b01cb5",
   "metadata": {},
   "source": [
    "### Define metadata to be included"
   ]
  },
  {
   "cell_type": "code",
   "execution_count": 7,
   "id": "3b48a036",
   "metadata": {},
   "outputs": [],
   "source": [
    "# The Property Map object is a convenience class to generate metadata and property details\n",
    "# in the correct format for Property Object and Configuration Object creation.\n",
    "\n",
    "property_map = PropertyMap([atomic_forces_pd, energy_pd])\n",
    "property_map.set_metadata_field(\"software\", \"VASP 5.x.x\")  # required field\n",
    "property_map.set_metadata_field(\"method\", \"DFT-PBE\")  # required field\n",
    "input_ = \"Details from the publication, README or data files about the process for generating the data files\"  # noqa\n",
    "property_map.set_metadata_field(\"input\", input_)\n",
    "\n",
    "# Use the \"dynamic\" flag to indicate that the field is not a fixed value, but should be taken from a\n",
    "# given field in each configuration's `config.info` dictionary.\n",
    "# For example, if the basis set varies between configurations, the following would indicate that the\n",
    "# basis set value should be taken from `config.info[\"basis_set\"]`\n",
    "# property_map.set_metadata_field(\"basis_set\", \"basis_set\", dynamic=True)"
   ]
  },
  {
   "cell_type": "markdown",
   "id": "4484aa52",
   "metadata": {},
   "source": [
    "### Define details for each property type to be included in the dataset."
   ]
  },
  {
   "cell_type": "code",
   "execution_count": null,
   "id": "7842a9d5",
   "metadata": {},
   "outputs": [],
   "source": [
    "# The PropertyMap object will check that required fields are populated for each property type.\n",
    "\n",
    "energy_info = property_info(\n",
    "    property_name=\"energy\",  # corresponds to the property-name field in a property definition\n",
    "    field=\"Energy\",  # corresponds to the field in the configuration's info dict that contains the property data\n",
    "    units=\"eV\",\n",
    "    original_file_key=\"Energy\",  # corresponds to the key in the original file that contains the property data. May differ from \"field\". See example reader function below.\n",
    "    additional=[(\"per-atom\", {\"value\": False, \"units\": None})],\n",
    ")\n",
    "force_info = property_info(\n",
    "    property_name=\"atomic-forces\",\n",
    "    field=\"force\",  # this may be either in the config.info or in config.arrays (latter is default for ASE Atoms objects)\n",
    "    units=\"eV/angstrom\",\n",
    "    original_file_key=\"force\",\n",
    "    additional=None,\n",
    ")\n",
    "property_map.set_properties([energy_info, force_info])\n",
    "\n",
    "PROPERTY_MAP = property_map.get_property_map()\n",
    "print(PROPERTY_MAP)"
   ]
  },
  {
   "cell_type": "markdown",
   "id": "4f5f650d",
   "metadata": {},
   "source": [
    "### Define reader function"
   ]
  },
  {
   "cell_type": "code",
   "execution_count": 9,
   "id": "f6b2b3ec",
   "metadata": {},
   "outputs": [],
   "source": [
    "# Files may be downloaded from the DATA_LINK URL above and extracted to the DATASET_FP directory\n",
    "DATASET_FP = Path(\"/path/to/data/files\")\n",
    "\n",
    "\n",
    "# Reader function should output a colabfit AtomicConfiguration object\n",
    "def reader(fp: Path):\n",
    "    # names and/or labels may be used later to define configuration sets\n",
    "    name = str(fp).replace(str(DATASET_FP), \"\").split(\"/\")\n",
    "    name = \"__\".join([x for x in name if x != \"\"])\n",
    "    # In this dataset, there is only one configuration per file, but the following would handle files with multiple configurations\n",
    "    iter_configs = iread(fp, format=\"extxyz\", index=\":\")\n",
    "    for i, config in enumerate(iter_configs):\n",
    "        config.info[\"_name\"] = name\n",
    "        yield AtomicConfiguration.from_ase(config)\n",
    "\n",
    "\n",
    "# Wrapper to apply reader function to directory\n",
    "def read_directory(dir_path: str):\n",
    "    dir_path = Path(dir_path)\n",
    "    if not dir_path.exists():\n",
    "        return\n",
    "    data_paths = sorted(list(dir_path.rglob(\"*.xyz\")))\n",
    "    for data_path in data_paths:\n",
    "        yield from reader(data_path)"
   ]
  },
  {
   "cell_type": "markdown",
   "id": "ff960c0f",
   "metadata": {},
   "source": [
    "### Insert Property Objects and Configurations"
   ]
  },
  {
   "cell_type": "code",
   "execution_count": null,
   "id": "0cb311ba",
   "metadata": {},
   "outputs": [],
   "source": [
    "config_generator = read_directory(DATASET_FP)\n",
    "dm = DataManager(\n",
    "    configs=config_generator,\n",
    "    prop_defs=[energy_pd, atomic_forces_pd],\n",
    "    prop_map=PROPERTY_MAP,\n",
    "    dataset_id=DATASET_ID,\n",
    ")\n",
    "dm.load_co_po_to_vastdb(loader)"
   ]
  },
  {
   "cell_type": "markdown",
   "id": "647b4fa6",
   "metadata": {},
   "source": [
    "### Insert Configuration Sets if Desired"
   ]
  },
  {
   "cell_type": "code",
   "execution_count": null,
   "id": "50bc555d",
   "metadata": {},
   "outputs": [],
   "source": [
    "# Configuration Sets are organized groupings over Configurations\n",
    "# Make one tuple of information for each Configuration Set to be created\n",
    "# Each tuple of CS info includes, in this order:\n",
    "# 1: substring to match on configuration names (if applicable)\n",
    "# 2: substring to match on labels (if applicable)\n",
    "# 3: name of the configuration set\n",
    "# 4: description of the configuration set\n",
    "# configuration_set_info is a convenience object to help deliver values in proper order\n",
    "CONFIGURATION_SETS = [\n",
    "    configuration_set_info(\n",
    "        co_name_match=\"bilayer__\",  # substring to match on configuration names\n",
    "        co_label_match=None,  # substring to match on labels\n",
    "        cs_name=f\"{DATASET_NAME}__bilayer_graphene\",  # name of the configuration set\n",
    "        cs_description=f\"Configurations from {DATASET_NAME} of bilayer graphene\",  # description of the configuration set\n",
    "    ),\n",
    "    configuration_set_info(\n",
    "        \"graphite__\",\n",
    "        None,\n",
    "        f\"{DATASET_NAME}__graphite\",\n",
    "        f\"Configurations from {DATASET_NAME} of graphite\",\n",
    "    ),\n",
    "    configuration_set_info(\n",
    "        \"monolayer__\",\n",
    "        None,\n",
    "        f\"{DATASET_NAME}__monolayer_graphene\",\n",
    "        f\"Configurations from {DATASET_NAME} of monolayer graphene\",\n",
    "    ),\n",
    "]\n",
    "\n",
    "dm.create_configuration_sets(\n",
    "    loader,\n",
    "    CONFIGURATION_SETS,\n",
    ")"
   ]
  },
  {
   "cell_type": "markdown",
   "id": "d4c61031",
   "metadata": {},
   "source": [
    "### Insert Dataset"
   ]
  },
  {
   "cell_type": "code",
   "execution_count": null,
   "id": "c1ebe21a",
   "metadata": {},
   "outputs": [],
   "source": [
    "# Create the Dataset Object using values defined above\n",
    "dm.create_dataset(\n",
    "    loader,\n",
    "    name=DATASET_NAME,\n",
    "    authors=AUTHORS,\n",
    "    publication_link=PUBLICATION_LINK,\n",
    "    data_link=DATA_LINK,\n",
    "    other_links=OTHER_LINKS,\n",
    "    data_license=LICENSE,\n",
    "    description=DESCRIPTION,\n",
    "    publication_year=PUBLICATION_YEAR,\n",
    "    # doi= \"New DOI of the dataset, if applicable\",\n",
    ")"
   ]
  },
  {
   "cell_type": "code",
   "execution_count": null,
   "id": "4e863cfe",
   "metadata": {},
   "outputs": [],
   "source": [
    "# Stop the Spark instance\n",
    "loader.stop_spark()"
   ]
  }
 ],
 "metadata": {
  "kernelspec": {
   "display_name": "cf-dev-env",
   "language": "python",
   "name": "python3"
  },
  "language_info": {
   "codemirror_mode": {
    "name": "ipython",
    "version": 3
   },
   "file_extension": ".py",
   "mimetype": "text/x-python",
   "name": "python",
   "nbconvert_exporter": "python",
   "pygments_lexer": "ipython3",
   "version": "3.11.4"
  }
 },
 "nbformat": 4,
 "nbformat_minor": 5
}
