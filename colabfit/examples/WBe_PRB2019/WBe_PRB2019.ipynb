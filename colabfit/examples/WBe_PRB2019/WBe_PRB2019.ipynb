{
 "cells": [
  {
   "cell_type": "code",
   "execution_count": null,
   "id": "684e98a0",
   "metadata": {},
   "outputs": [],
   "source": [
    "from colabfit.tools.database import MongoDatabase, load_data\n",
    "from colabfit.tools.property_settings import PropertySettings\n",
    "\n",
    "client = MongoDatabase('colabfit_rebuild', nprocs=6)"
   ]
  },
  {
   "cell_type": "code",
   "execution_count": null,
   "id": "5e81915f",
   "metadata": {},
   "outputs": [],
   "source": [
    "import os\n",
    "import json\n",
    "import numpy as np\n",
    "from ase import Atoms\n",
    "\n",
    "def reader(file_path, **kwargs):\n",
    "    with open(file_path) as f:\n",
    "        data = json.loads('\\n'.join(f.readlines()[kwargs['header_lines']:]))\n",
    "\n",
    "    symbols     = data['Dataset']['Data'][0]['AtomTypes']\n",
    "    positions   = np.array(data['Dataset']['Data'][0]['Positions'])\n",
    "    box         = np.array(data['Dataset']['Data'][0]['Lattice'])\n",
    "\n",
    "    at_name = os.path.splitext(str(file_path).split('JSON')[1][1:])[0]\n",
    "\n",
    "    try:\n",
    "        atoms = Atoms(symbols, positions=positions, cell=box, pbc=[1, 1, 1])\n",
    "    except Exception as e:\n",
    "        # print(\"Error on :\", at_name, e, set(symbols))\n",
    "        symbols = symbols[1:]\n",
    "        atoms = Atoms(symbols, positions=positions, cell=box, pbc=[1, 1, 1])\n",
    "\n",
    "    atoms.info['name']      = at_name\n",
    "    atoms.info['energy']    = data['Dataset']['Data'][0]['Energy']\n",
    "    atoms.arrays['forces']  = np.array(\n",
    "        data['Dataset']['Data'][0]['Forces']\n",
    "    )\n",
    "\n",
    "    atoms.info['stress'] = np.array(data['Dataset']['Data'][0]['Stress'])\n",
    "\n",
    "    atoms.info['per-atom'] = False\n",
    "    \n",
    "    yield atoms"
   ]
  },
  {
   "cell_type": "code",
   "execution_count": null,
   "id": "46662706",
   "metadata": {},
   "outputs": [],
   "source": [
    "name = 'WBe_PRB2019'\n",
    "\n",
    "configurations = list(load_data(\n",
    "    file_path='/colabfit/data/FitSNAP/examples/WBe_PRB2019/JSON',\n",
    "    file_format='folder',\n",
    "    name_field='name',\n",
    "    elements=['W', 'Be'],\n",
    "    default_name=name,\n",
    "    reader=reader,\n",
    "    glob_string='*.json',\n",
    "    verbose=True,\n",
    "    header_lines=1,\n",
    "))"
   ]
  },
  {
   "cell_type": "code",
   "execution_count": null,
   "id": "95355da9",
   "metadata": {},
   "outputs": [],
   "source": [
    "property_map = {\n",
    "    'energy-forces-stress': [{\n",
    "        # ColabFit name: {'field': ASE field name, 'units': str}\n",
    "        'energy': {'field': 'energy', 'units': 'eV'},\n",
    "        'forces': {'field': 'forces', 'units': 'eV/Ang'},\n",
    "        'stress': {'field': 'stress', 'units': 'GPa'},\n",
    "        'per-atom': {'field': 'per-atom', 'units': None},\n",
    "        \n",
    "        '_settings': {\n",
    "            '_method': 'VASP',\n",
    "            '_description': 'energy/forces/stresses',\n",
    "            '_files': None,\n",
    "            '_labels': ['PBE', 'GGA']\n",
    "        }\n",
    "    }]\n",
    "}"
   ]
  },
  {
   "cell_type": "code",
   "execution_count": null,
   "id": "0376a16f",
   "metadata": {},
   "outputs": [],
   "source": [
    "ids = list(client.insert_data(\n",
    "    configurations,\n",
    "    property_map=property_map,\n",
    "    generator=False,\n",
    "    verbose=True\n",
    "))\n",
    "\n",
    "all_co_ids, all_pr_ids = list(zip(*ids))"
   ]
  },
  {
   "cell_type": "code",
   "execution_count": null,
   "id": "4e23bcd9",
   "metadata": {},
   "outputs": [],
   "source": [
    "len(set(all_co_ids))"
   ]
  },
  {
   "cell_type": "code",
   "execution_count": null,
   "id": "77d5c75b",
   "metadata": {},
   "outputs": [],
   "source": [
    "len(set(all_pr_ids))"
   ]
  },
  {
   "cell_type": "markdown",
   "id": "f1f28d6b",
   "metadata": {},
   "source": [
    "Note: this dataset has multiple properties that point to the same configurations, but have different property values"
   ]
  },
  {
   "cell_type": "code",
   "execution_count": null,
   "id": "6159e5b4",
   "metadata": {},
   "outputs": [],
   "source": [
    "client.configurations.count_documents({'_id': {'$in': all_co_ids}, 'relationships.properties.1': {'$exists': True}})"
   ]
  },
  {
   "cell_type": "code",
   "execution_count": null,
   "id": "2e4226fc",
   "metadata": {},
   "outputs": [],
   "source": [
    "duplicate_pr_ids = client.configurations.find_one(\n",
    "    {'_id': {'$in': all_co_ids}, 'relationships.properties.1': {'$exists': True}},\n",
    "    {'relationships.properties'}\n",
    ")['relationships']['properties']\n",
    "duplicate_pr_ids"
   ]
  },
  {
   "cell_type": "code",
   "execution_count": null,
   "id": "c6a72396",
   "metadata": {},
   "outputs": [],
   "source": [
    "pr0 = client.properties.find_one({'_id': duplicate_pr_ids[0]})\n",
    "pr1 = client.properties.find_one({'_id': duplicate_pr_ids[1]})"
   ]
  },
  {
   "cell_type": "code",
   "execution_count": null,
   "id": "290d905e",
   "metadata": {},
   "outputs": [],
   "source": [
    "pr0['energy-forces-stress']['energy']['source-value']"
   ]
  },
  {
   "cell_type": "code",
   "execution_count": null,
   "id": "40be6c6b",
   "metadata": {},
   "outputs": [],
   "source": [
    "pr1['energy-forces-stress']['energy']['source-value']"
   ]
  },
  {
   "cell_type": "code",
   "execution_count": null,
   "id": "a46ef09c",
   "metadata": {},
   "outputs": [],
   "source": [
    "configuration_set_regexes = {\n",
    "    '.*':\n",
    "        'W-Be configurations for studying plasma material interactions in fusion reactors',\n",
    "    '(001|010|100)FreeSurf':\n",
    "        'Be [001], [010], and [100] surfaces',\n",
    "    'DFTMD_1000K':\n",
    "        'AIMD sampling of Be at 1000K',\n",
    "    'DFTMD_300K':\n",
    "        'AIMD sampling of Be at 300K',\n",
    "    'DFT_MD_1000K':\n",
    "        'AIMD sampling of W-Be at 1000K',\n",
    "    'DFT_MD_300K':\n",
    "        'AIMD sampling of W-Be at 300K',\n",
    "    'Divacancy':\n",
    "        'divacancy defects in pure W',\n",
    "    '^EOS':\n",
    "        'Energy vs. volume EOS configurations for W-Be',\n",
    "    'EOS_(BCC|FCC|HCP)':\n",
    "        'Energy vs. volume EOS configurations for Be in various crystal structures',\n",
    "    'EOS_Data':\n",
    "        'Energy vs. volume configurations for W',\n",
    "    'Elast_(BCC|FCC|HCP)_(Shear|Vol)':\n",
    "        'BCC, FCC, and HCP Be with shear or volumetric strains',\n",
    "    'ElasticDeform_(Shear|Vol)':\n",
    "        'W-Be in various crystal structures with shear and volumetric strains',\n",
    "    'Liquids':\n",
    "        'Liquid Be',\n",
    "    'StackFaults':\n",
    "        'Be stacking faults',\n",
    "    'WSurface_BeAdhesion':\n",
    "        'Be adhesion onto W surfaces',\n",
    "    'dislocation_quadrupole':\n",
    "        'W dislocation quadrupole configurations',\n",
    "    '^gamma_surface/':\n",
    "        'W gamma surface configurations',\n",
    "    'gamma_surface_vacancy':\n",
    "        'W gamma surface configurations',\n",
    "    'md_bulk':\n",
    "        'AIMD sampling of bulk W',\n",
    "    '^surface':\n",
    "        'pure W surfaces',\n",
    "    '^vacancy':\n",
    "        'bulk W with vacancy defects',\n",
    "}\n",
    "\n",
    "cs_ids = []\n",
    "\n",
    "for i, (regex, desc) in enumerate(configuration_set_regexes.items()):\n",
    "    co_ids = client.get_data(\n",
    "        'configurations',\n",
    "        fields='_id',\n",
    "        query={'_id': {'$in': all_co_ids}, 'names': {'$regex': regex}},\n",
    "        ravel=True\n",
    "    ).tolist()\n",
    "\n",
    "    print(f'Configuration set {i}', f'({regex}):'.rjust(35), f'{len(co_ids)}'.rjust(7))\n",
    "\n",
    "    cs_id = client.insert_configuration_set(co_ids, description=desc)\n",
    "\n",
    "    cs_ids.append(cs_id)"
   ]
  },
  {
   "cell_type": "code",
   "execution_count": null,
   "id": "2245fc3c",
   "metadata": {},
   "outputs": [],
   "source": [
    "ds_id = client.insert_dataset(\n",
    "    cs_ids=cs_ids,\n",
    "    pr_ids=all_pr_ids,\n",
    "    name='WBe_PRB2019',\n",
    "    authors=[\n",
    "        'M. A. Wood', 'M. A. Cusentino', 'B. D. Wirth', 'A. P. Thompson'\n",
    "    ],\n",
    "    links=[\n",
    "        'https://journals.aps.org/prb/abstract/10.1103/PhysRevB.99.184305',\n",
    "        'https://github.com/FitSNAP/FitSNAP/tree/master/examples/WBe_PRB2019'\n",
    "    ],\n",
    "    description='This data set was originally used to generate a '\\\n",
    "    'multi-component linear SNAP potential for tungsten and beryllium as '\\\n",
    "    'published in Wood, M. A., et. al. Phys. Rev. B 99 (2019) 184305. This '\\\n",
    "    'data set was developed for the purpose of studying plasma material '\\\n",
    "    'interactions in fusion reactors.',\n",
    "    resync=True,\n",
    "    verbose=True,\n",
    ")\n",
    "ds_id"
   ]
  },
  {
   "cell_type": "code",
   "execution_count": null,
   "id": "10628ff7",
   "metadata": {},
   "outputs": [],
   "source": [
    "configuration_label_regexes = {\n",
    "    'FreeSurf':\n",
    "        'surface',\n",
    "    'surface':\n",
    "        'surface',\n",
    "    'BCC':\n",
    "        'bcc',\n",
    "    'DFT(_)?MD':\n",
    "        'aimd',\n",
    "    'Divacancy':\n",
    "        'divacancy',\n",
    "    'EOS':\n",
    "        'eos',\n",
    "    'Elast':\n",
    "        'elastic',\n",
    "    'Liquids':\n",
    "        'liquid',\n",
    "    'StackFaults':\n",
    "        'stacking_fault',\n",
    "    'dislocation':\n",
    "        'dislocation',\n",
    "    'gamma_surface':\n",
    "        'gamma_surface',\n",
    "    'md_bulk':\n",
    "        'aimd',\n",
    "}\n",
    "\n",
    "for regex, labels in configuration_label_regexes.items():\n",
    "    client.apply_labels(\n",
    "        dataset_id=ds_id,\n",
    "        collection_name='configurations',\n",
    "        query={'_id': {'$in': all_co_ids}, 'names': {'$regex': regex}},\n",
    "        labels=labels,\n",
    "        verbose=True\n",
    "    )"
   ]
  },
  {
   "cell_type": "code",
   "execution_count": null,
   "id": "3e1bd8ea",
   "metadata": {},
   "outputs": [],
   "source": [
    "dataset = client.get_dataset(ds_id, resync=True, verbose=True)['dataset']\n",
    "\n",
    "for k,v in dataset.aggregated_info.items():\n",
    "    print(k,v)"
   ]
  },
  {
   "cell_type": "code",
   "execution_count": null,
   "id": "c72faac1",
   "metadata": {},
   "outputs": [],
   "source": [
    "dataset.aggregated_info['property_fields']"
   ]
  },
  {
   "cell_type": "code",
   "execution_count": null,
   "id": "daa9e726",
   "metadata": {},
   "outputs": [],
   "source": [
    "fig = client.plot_histograms(dataset.aggregated_info['property_fields'], ids=dataset.property_ids, yscale='log')"
   ]
  },
  {
   "cell_type": "raw",
   "id": "ca963804",
   "metadata": {},
   "source": [
    "client.dataset_to_markdown(\n",
    "    ds_id=ds_id,\n",
    "    base_folder='/colabfit/markdown/'+dataset.name,\n",
    "    html_file_name='README.md',\n",
    "    data_format='mongo',\n",
    "    data_file_name=None,\n",
    "    yscale='log'\n",
    ")"
   ]
  },
  {
   "cell_type": "code",
   "execution_count": null,
   "id": "d5c4f111",
   "metadata": {},
   "outputs": [],
   "source": []
  }
 ],
 "metadata": {
  "kernelspec": {
   "display_name": "Python 3 (ipykernel)",
   "language": "python",
   "name": "python3"
  },
  "language_info": {
   "codemirror_mode": {
    "name": "ipython",
    "version": 3
   },
   "file_extension": ".py",
   "mimetype": "text/x-python",
   "name": "python",
   "nbconvert_exporter": "python",
   "pygments_lexer": "ipython3",
   "version": "3.8.10"
  }
 },
 "nbformat": 4,
 "nbformat_minor": 5
}
