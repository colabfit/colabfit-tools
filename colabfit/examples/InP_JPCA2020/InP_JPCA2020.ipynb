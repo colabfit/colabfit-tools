{
 "cells": [
  {
   "cell_type": "code",
   "execution_count": null,
   "id": "684e98a0",
   "metadata": {},
   "outputs": [],
   "source": [
    "from colabfit.tools.database import MongoDatabase, load_data\n",
    "from colabfit.tools.property_settings import PropertySettings\n",
    "\n",
    "client = MongoDatabase('colabfit_rebuild', nprocs=6)"
   ]
  },
  {
   "cell_type": "code",
   "execution_count": null,
   "id": "ad0b039e",
   "metadata": {},
   "outputs": [],
   "source": [
    "import os\n",
    "import json\n",
    "import numpy as np\n",
    "from ase import Atoms\n",
    "\n",
    "def reader(file_path, **kwargs):\n",
    "    with open(file_path) as f:\n",
    "        data = json.loads('\\n'.join(f.readlines()[kwargs['header_lines']:]))\n",
    "\n",
    "    symbols     = data['Dataset']['Data'][0]['AtomTypes']\n",
    "    positions   = np.array(data['Dataset']['Data'][0]['Positions'])\n",
    "    box         = np.array(data['Dataset']['Data'][0]['Lattice'])\n",
    "\n",
    "    at_name = os.path.splitext(str(file_path).split('JSON')[1][1:])[0]\n",
    "\n",
    "    try:\n",
    "        atoms = Atoms(symbols, positions=positions, cell=box, pbc=[1, 1, 1])\n",
    "    except Exception as e:\n",
    "        print(\"Error on :\", at_name, e, set(symbols))\n",
    "        symbols = symbols[1:]\n",
    "        atoms = Atoms(symbols, positions=positions, cell=box, pbc=[1, 1, 1])\n",
    "\n",
    "    atoms.info['name']      = at_name\n",
    "    atoms.info['energy']    = data['Dataset']['Data'][0]['Energy']\n",
    "    atoms.arrays['forces']  = np.array(\n",
    "        data['Dataset']['Data'][0]['Forces']\n",
    "    )\n",
    "\n",
    "    atoms.info['stress'] = np.array(data['Dataset']['Data'][0]['Stress'])\n",
    "    \n",
    "    atoms.info['per-atom'] = False\n",
    "    # atoms.info['reference-energy'] = 3.48\n",
    "\n",
    "    return [atoms]"
   ]
  },
  {
   "cell_type": "code",
   "execution_count": null,
   "id": "46662706",
   "metadata": {},
   "outputs": [],
   "source": [
    "name = 'InP_JPCA2020'\n",
    "\n",
    "configurations = list(load_data(\n",
    "    file_path='/colabfit/data/FitSNAP/examples/InP_JPCA2020/JSON',\n",
    "    file_format='folder',\n",
    "    name_field='name',\n",
    "    elements=['In', 'P'],\n",
    "    default_name=name,\n",
    "    reader=reader,\n",
    "    glob_string='*.json',\n",
    "    # verbose=True,\n",
    "    header_lines=2,\n",
    "))"
   ]
  },
  {
   "cell_type": "code",
   "execution_count": null,
   "id": "95355da9",
   "metadata": {},
   "outputs": [],
   "source": [
    "property_map = {\n",
    "    'energy-forces-stress': [{\n",
    "        # ColabFit name: {'field': ASE field name, 'units': str}\n",
    "        'energy': {'field': 'energy', 'units': 'eV'},\n",
    "        'forces': {'field': 'forces', 'units': 'eV/Ang'},\n",
    "        'stress': {'field': 'virial', 'units': 'kilobar'},\n",
    "        'per-atom': {'field': 'per-atom', 'units': None},\n",
    "        'reference-energy': {'field': 'reference-energy', 'units': 'eV'},\n",
    "        \n",
    "        '_settings': {\n",
    "            '_method': 'VASP',\n",
    "            '_description': 'energies/forces/stresses',\n",
    "            '_files': None,\n",
    "            '_labels': ['PBE', 'LDA']\n",
    "        }\n",
    "    }]\n",
    "}"
   ]
  },
  {
   "cell_type": "code",
   "execution_count": null,
   "id": "0376a16f",
   "metadata": {},
   "outputs": [],
   "source": [
    "ids = list(client.insert_data(\n",
    "    configurations,\n",
    "    property_map=property_map,\n",
    "    generator=False,\n",
    "    verbose=True\n",
    "))\n",
    "\n",
    "all_co_ids, all_pr_ids = list(zip(*ids))"
   ]
  },
  {
   "cell_type": "code",
   "execution_count": null,
   "id": "4e23bcd9",
   "metadata": {},
   "outputs": [],
   "source": [
    "len(set(all_co_ids))"
   ]
  },
  {
   "cell_type": "code",
   "execution_count": null,
   "id": "77d5c75b",
   "metadata": {},
   "outputs": [],
   "source": [
    "len(set(all_pr_ids))"
   ]
  },
  {
   "cell_type": "code",
   "execution_count": null,
   "id": "a46ef09c",
   "metadata": {},
   "outputs": [],
   "source": [
    "configuration_set_regexes = {\n",
    "    '.*':\n",
    "        'Curated configurations for producing an interatomic potential for '\\\n",
    "        'indium phosphide capable of capturing high-energy defects that '\\\n",
    "        'result from radiation damage cascades',\n",
    "    '^Bulk':\n",
    "        'Ground state configuration for bulk zinc blende',\n",
    "    '^EOS':\n",
    "        'Bulk zinc blende with uniform expansion and compression',\n",
    "    '^Shear':\n",
    "        'Bulk zincblende with random cell shape modifications',\n",
    "    '^Strain':\n",
    "        'Uniaxially strained bulk zinc blende',\n",
    "    '^a(In|P)':\n",
    "        'Antisite defects in InP',\n",
    "    '^aa':\n",
    "        'Diantisite defects',\n",
    "    '^i(In|P)':\n",
    "        'Interstitial defects in InP',\n",
    "    '^vP':\n",
    "        'Vacancy defects in InP',\n",
    "    '^vv':\n",
    "        'Divacancy defects in InP',\n",
    "    '^s_a(In|P|a)':\n",
    "        'No description',\n",
    "    '^s_i(In|P)':\n",
    "        'No description',\n",
    "    '^s_v(In|P)':\n",
    "        'No description',\n",
    "    '^s_vv':\n",
    "        'No description',\n",
    "}\n",
    "\n",
    "cs_ids = []\n",
    "\n",
    "for i, (regex, desc) in enumerate(configuration_set_regexes.items()):\n",
    "    co_ids = client.get_data(\n",
    "        'configurations',\n",
    "        fields='_id',\n",
    "        query={'_id': {'$in': all_co_ids}, 'names': {'$regex': regex}},\n",
    "        ravel=True\n",
    "    ).tolist()\n",
    "\n",
    "    print(f'Configuration set {i}', f'({regex}):'.rjust(22), f'{len(co_ids)}'.rjust(7))\n",
    "\n",
    "    cs_id = client.insert_configuration_set(co_ids, description=desc, verbose=True)\n",
    "\n",
    "    cs_ids.append(cs_id)"
   ]
  },
  {
   "cell_type": "code",
   "execution_count": null,
   "id": "2245fc3c",
   "metadata": {},
   "outputs": [],
   "source": [
    "ds_id = client.insert_dataset(\n",
    "    cs_ids=cs_ids,\n",
    "    pr_ids=all_pr_ids,\n",
    "    name='InP_JPCA2020',\n",
    "    authors=[\n",
    "        'M. A. Cusentino', 'M. A. Wood', 'A. P. Thompson'\n",
    "    ],\n",
    "    links=[\n",
    "        'https://pubs.acs.org/doi/10.1021/acs.jpca.0c02450',\n",
    "        'https://github.com/FitSNAP/FitSNAP/tree/master/examples/InP_JPCA2020',\n",
    "    ],\n",
    "    description='This data set was used to generate a multi-element '\\\n",
    "    'linear SNAP potential for InP as published in Cusentino, M.A. et. al, '\\\n",
    "    'J. Chem. Phys. (2020). Intended to produce an interatomic potential for '\\\n",
    "    'indium phosphide capable of capturing high-energy defects that result '\\\n",
    "    'from radiation damage cascades.',\n",
    "    resync=True,\n",
    "    verbose=True,\n",
    ")\n",
    "ds_id"
   ]
  },
  {
   "cell_type": "code",
   "execution_count": null,
   "id": "10628ff7",
   "metadata": {},
   "outputs": [],
   "source": [
    "configuration_label_regexes = {\n",
    "    'Bulk|EOS|Shear|Strain':\n",
    "        'zincblende',\n",
    "    'EOS':\n",
    "        'eos',\n",
    "    'Shear|Strain':\n",
    "        'strain',\n",
    "    '^a(In|P)':\n",
    "        'antisite',\n",
    "    '^aa':\n",
    "        'diantisite',\n",
    "    '^i(In|P)':\n",
    "        'interstitial',\n",
    "    '^v(In|P|v)':\n",
    "        'vacancy',\n",
    "}\n",
    "\n",
    "for regex, labels in configuration_label_regexes.items():\n",
    "    client.apply_labels(\n",
    "        dataset_id=ds_id,\n",
    "        collection_name='configurations',\n",
    "        query={'_id': {'$in': all_co_ids}, 'names': {'$regex': regex}},\n",
    "        labels=labels,\n",
    "        verbose=True\n",
    "    )"
   ]
  },
  {
   "cell_type": "code",
   "execution_count": null,
   "id": "3e1bd8ea",
   "metadata": {},
   "outputs": [],
   "source": [
    "dataset = client.get_dataset(ds_id, resync=True, verbose=True)['dataset']\n",
    "\n",
    "for k,v in dataset.aggregated_info.items():\n",
    "    print(k,v)"
   ]
  },
  {
   "cell_type": "code",
   "execution_count": null,
   "id": "c72faac1",
   "metadata": {},
   "outputs": [],
   "source": [
    "dataset.aggregated_info['property_fields']"
   ]
  },
  {
   "cell_type": "code",
   "execution_count": null,
   "id": "daa9e726",
   "metadata": {},
   "outputs": [],
   "source": [
    "fig = client.plot_histograms(dataset.aggregated_info['property_fields'], ids=dataset.property_ids, yscale='log', method='matplotlib')"
   ]
  },
  {
   "cell_type": "raw",
   "id": "06aef9ef",
   "metadata": {},
   "source": [
    "client.dataset_to_markdown(\n",
    "    ds_id=ds_id,\n",
    "    base_folder='/colabfit/markdown/'+dataset.name,\n",
    "    html_file_name='README.md',\n",
    "    data_format='mongo',\n",
    "    data_file_name=None,\n",
    "    yscale='log'\n",
    ")"
   ]
  },
  {
   "cell_type": "code",
   "execution_count": null,
   "id": "4896a705",
   "metadata": {},
   "outputs": [],
   "source": []
  }
 ],
 "metadata": {
  "kernelspec": {
   "display_name": "Python 3 (ipykernel)",
   "language": "python",
   "name": "python3"
  },
  "language_info": {
   "codemirror_mode": {
    "name": "ipython",
    "version": 3
   },
   "file_extension": ".py",
   "mimetype": "text/x-python",
   "name": "python",
   "nbconvert_exporter": "python",
   "pygments_lexer": "ipython3",
   "version": "3.8.10"
  }
 },
 "nbformat": 4,
 "nbformat_minor": 5
}
