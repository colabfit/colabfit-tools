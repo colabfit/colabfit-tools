{
 "cells": [
  {
   "cell_type": "markdown",
   "id": "d22e64c1-bc7e-4478-94c9-a88c8bca181c",
   "metadata": {},
   "source": [
    "# Setup"
   ]
  },
  {
   "cell_type": "code",
   "execution_count": null,
   "id": "b6d36df8-558b-4883-ad73-83547edb84d0",
   "metadata": {},
   "outputs": [],
   "source": [
    "import json\n",
    "import numpy as np\n",
    "\n",
    "from pymatgen import Structure\n",
    "from pymatgen.io.ase import AseAtomsAdaptor"
   ]
  },
  {
   "cell_type": "code",
   "execution_count": null,
   "id": "befada95-d4c0-471f-9707-462be87c33ac",
   "metadata": {},
   "outputs": [],
   "source": [
    "from colabfit.tools.configuration import Configuration\n",
    "from colabfit.tools.database import MongoDatabase, load_data\n",
    "from colabfit.tools.property_settings import PropertySettings\n",
    "\n",
    "client = MongoDatabase('colabfit_rebuild', nprocs=1)#, drop_database=True)"
   ]
  },
  {
   "cell_type": "markdown",
   "id": "a2be5942-d695-4603-9d91-bcc8d87fdf24",
   "metadata": {},
   "source": [
    "# Data loading"
   ]
  },
  {
   "cell_type": "code",
   "execution_count": null,
   "id": "32e77c18-df01-4516-8414-8a5e15459b3c",
   "metadata": {},
   "outputs": [],
   "source": [
    "def reader(path):\n",
    "    adaptor = AseAtomsAdaptor()\n",
    "    \n",
    "    with open(path, 'r') as f:\n",
    "        data = json.load(f)\n",
    "\n",
    "        group_counts = {}\n",
    "\n",
    "        for entry in data:\n",
    "            struct = Structure.from_dict(entry['structure'])\n",
    "            atoms  = adaptor.get_atoms(struct)\n",
    "\n",
    "            # Adding labels\n",
    "            i = group_counts.get(entry['group'], 0)\n",
    "            group_counts[entry['group']] = i + 1\n",
    "            \n",
    "            atoms.info['_labels'] = entry['group'].lower()\n",
    "            \n",
    "            # Generating names\n",
    "            clean_name = '_'.join(entry['description'].split(' '))\n",
    "            clean_name = clean_name.replace('/', '_')\n",
    "            clean_name = clean_name.replace('(', '_')\n",
    "            clean_name = clean_name.replace(')', '_')\n",
    "            clean_name = clean_name.replace(',', '')\n",
    "            \n",
    "            clean_name = f'{entry[\"tag\"]}_{clean_name}'\n",
    "            \n",
    "            # Loading DFT-computed values\n",
    "            atoms.info['_name'] = [clean_name]\n",
    "            \n",
    "            atoms.info['per-atom'] = True\n",
    "            atoms.info['energy'] = entry['outputs']['energy'] / entry['num_atoms']\n",
    "            \n",
    "            atoms.arrays['forces'] = np.array(entry['outputs']['forces'])\n",
    "            \n",
    "            stress = np.zeros((3,3))\n",
    "            stress[0,0] = entry['outputs']['virial_stress'][0]\n",
    "            stress[1,1] = entry['outputs']['virial_stress'][1]\n",
    "            stress[2,2] = entry['outputs']['virial_stress'][2]\n",
    "            stress[1,2] = entry['outputs']['virial_stress'][3]\n",
    "            stress[0,2] = entry['outputs']['virial_stress'][4]\n",
    "            stress[0,1] = entry['outputs']['virial_stress'][5]\n",
    "            \n",
    "            atoms.info['stress'] = stress\n",
    "            \n",
    "            # Add DFT settings\n",
    "            atoms.info['ke_cutoff'] = 520 # eV\n",
    "            \n",
    "            if 'Li' in atoms.get_chemical_symbols():\n",
    "                atoms.info['k-point-mesh'] = '3x3x3'\n",
    "            else:\n",
    "                atoms.info['k-point-mesh'] = '4x4x4'\n",
    "                \n",
    "            atoms.info['energy-convergence'] = 1e-5 # eV\n",
    "            atoms.info['forces-convergence'] = 0.02 # eV/Ang\n",
    "                \n",
    "            yield Configuration.from_ase(atoms)"
   ]
  },
  {
   "cell_type": "code",
   "execution_count": null,
   "id": "d453781d-f823-480d-b4a0-38c188d2ca41",
   "metadata": {},
   "outputs": [],
   "source": [
    "from colabfit.tools.database import load_data\n",
    "\n",
    "images = list(load_data(\n",
    "    file_path='/colabfit/data/mlearn',\n",
    "    file_format='folder',\n",
    "    name_field='_name',  # key in Configuration.info to use as the Configuration name\n",
    "    elements=['Cu', 'Ge', 'Li', 'Mo', 'Ni', 'Si'],    # order matters for CFG files, but not others\n",
    "    default_name='mlearn',  # default name with `name_field` not found\n",
    "    reader=reader,\n",
    "    glob_string='*test.json',\n",
    "#     glob_string='*training.json',\n",
    "    verbose=True\n",
    "))\n",
    "len(images)"
   ]
  },
  {
   "cell_type": "code",
   "execution_count": null,
   "id": "3831e9c4-ea82-4870-af8e-7332b8b143c3",
   "metadata": {},
   "outputs": [],
   "source": [
    "import itertools\n",
    "set(itertools.chain.from_iterable([a.info['_labels'] for a in images]))"
   ]
  },
  {
   "cell_type": "markdown",
   "id": "251980b5-4f15-48ad-8688-17e9d097cd12",
   "metadata": {},
   "source": [
    "# Properties"
   ]
  },
  {
   "cell_type": "code",
   "execution_count": null,
   "id": "5d2db70c-ddd2-4e91-8e90-bdcec0e6353e",
   "metadata": {},
   "outputs": [],
   "source": [
    "base_definition = {\n",
    "    'property-id': 'energy-forces-stress',\n",
    "    'property-title': 'Basic outputs from a static calculation',\n",
    "    'property-description':\n",
    "        'Energy, forces, and stresses from a calculation of a '\\\n",
    "        'static configuration. Energies must be specified to be '\\\n",
    "        'per-atom or supercell. If a reference energy has been '\\\n",
    "        'used, this must be specified as well.',\n",
    "\n",
    "    'energy': {\n",
    "        'type': 'float',\n",
    "        'has-unit': True,\n",
    "        'extent': [],\n",
    "        'required': True,\n",
    "        'description':\n",
    "            'The potential energy of the system.'\n",
    "    },\n",
    "    'forces': {\n",
    "        'type': 'float',\n",
    "        'has-unit': True,\n",
    "        'extent': [\":\", 3],\n",
    "        'required': False,\n",
    "        'description':\n",
    "            'The [x,y,z] components of the force on each particle.'\n",
    "    },\n",
    "    'stress': {\n",
    "        'type': 'float',\n",
    "        'has-unit': True,\n",
    "        'extent': [3, 3],\n",
    "        'required': False,\n",
    "        'description':\n",
    "            'The full Cauchy stress tensor of the simulation cell'\n",
    "    },\n",
    "\n",
    "    'per-atom': {\n",
    "        'type': 'bool',\n",
    "        'has-unit': False,\n",
    "        'extent': [],\n",
    "        'required': True,\n",
    "        'description':\n",
    "            'If True, \"energy\" is the total energy of the system, '\\\n",
    "            'and has NOT been divided by the number of atoms in the '\\\n",
    "            'configuration.'\n",
    "    },\n",
    "    'reference-energy': {\n",
    "        'type': 'float',\n",
    "        'has-unit': True,\n",
    "        'extent': [],\n",
    "        'required': False,\n",
    "        'description':\n",
    "            'If provided, then \"energy\" is the energy (either of '\\\n",
    "            'the whole system, or per-atom) LESS the energy of '\\\n",
    "            'a reference configuration (E = E_0 - E_reference). '\\\n",
    "            'Note that \"reference-energy\" is just provided for '\\\n",
    "            'documentation, and that \"energy\" should already have '\\\n",
    "            'this value subtracted off. The reference energy must '\\\n",
    "            'have the same units as \"energy\".'\n",
    "    },\n",
    "}"
   ]
  },
  {
   "cell_type": "code",
   "execution_count": null,
   "id": "1e8d1f48-bc7b-4105-9b2c-c7711ac76c02",
   "metadata": {},
   "outputs": [],
   "source": [
    "client.insert_property_definition(base_definition)"
   ]
  },
  {
   "cell_type": "code",
   "execution_count": null,
   "id": "d5093be8-cbc8-4db6-adbd-5edd54ba0146",
   "metadata": {},
   "outputs": [],
   "source": [
    "property_map = {\n",
    "    'energy-forces-stress': [\n",
    "        {\n",
    "            'energy': {'field': 'energy', 'units': 'eV'},\n",
    "            'forces': {'field': 'forces', 'units': 'eV/Ang'},\n",
    "            'stress': {'field': 'stress', 'units': 'kilobar'},\n",
    "            'per-atom': {'field': 'per-atom', 'units': None},\n",
    "            \n",
    "            '_settings': {\n",
    "                '_method': 'VASP',\n",
    "                '_description': 'VASP 5.4.1 calculations using the projector augmented wave approach',\n",
    "                '_files': None,\n",
    "                '_labels': ['PBE', 'GGA'],\n",
    "                \n",
    "                'kinetic-energy-cutoff': {'field': 'ke_cutoff',    'units': 'eV'} ,\n",
    "                'k-point-mesh':          {'field': 'k-point-mesh', 'units': None},\n",
    "                'energy-convergence':    {'field': 'energy-convergence', 'units': 'eV'},\n",
    "                'forces-convergence':    {'field': 'forces-convergence', 'units': 'eV/Ang'},\n",
    "            }\n",
    "        }\n",
    "    ]\n",
    "}"
   ]
  },
  {
   "cell_type": "markdown",
   "id": "32059768-ad4d-49f9-a5e4-9d3ae118dc9a",
   "metadata": {},
   "source": [
    "# Inserting data"
   ]
  },
  {
   "cell_type": "code",
   "execution_count": null,
   "id": "b1940bd6-4047-42f9-8ac7-f58f36021940",
   "metadata": {},
   "outputs": [],
   "source": [
    "ids = client.insert_data(\n",
    "    images,\n",
    "    property_map=property_map,\n",
    "    verbose=True\n",
    ")"
   ]
  },
  {
   "cell_type": "code",
   "execution_count": null,
   "id": "67a9e7f3-f46f-4ce4-8913-d16b79446580",
   "metadata": {},
   "outputs": [],
   "source": [
    "all_co_ids, all_pr_ids = list(zip(*ids))"
   ]
  },
  {
   "cell_type": "code",
   "execution_count": null,
   "id": "859070b4-684e-4a2a-b1a3-e783846b5228",
   "metadata": {},
   "outputs": [],
   "source": [
    "len(all_co_ids), len(all_pr_ids)"
   ]
  },
  {
   "cell_type": "markdown",
   "id": "6be4b0bf-fafb-490c-9f70-d28d9d507b14",
   "metadata": {},
   "source": [
    "# Building Configuration Sets"
   ]
  },
  {
   "cell_type": "code",
   "execution_count": null,
   "id": "6a3392cf-f5a3-4247-8021-c81ea4a4d44b",
   "metadata": {},
   "outputs": [],
   "source": [
    "# Used for building groups of configurations for easier analysis/exploration\n",
    "configuration_set_regexes = {\n",
    "    'Ground|relaxed':\n",
    "        'Ground state structure',\n",
    "    'Vacancy':\n",
    "        'NVT AIMD simulations of the bulk supercells (similar to those in point 2) '\\\n",
    "        'with a single vacancy performed at 300 K and 2.0× of the melting point of '\\\n",
    "        'each element. The bulk supercells were heated from 0 K to the target temperatures '\\\n",
    "        'and equilibrated for 20 000 time steps. A total of 40 snapshots were obtained '\\\n",
    "        'from the subsequent production run of each AIMD simulation at an interval of 0.1 ps.',\n",
    "    'AIMD_NVT':\n",
    "        'NVT ab initio molecular dynamics (AIMD) simulations of the bulk supercells '\\\n",
    "        '(similar to those in point 2) performed at 300 K and 0.5×, 0.9×, 1.5×, and '\\\n",
    "        '2.0× of the melting point of each element with a time step of 2 fs. The bulk '\\\n",
    "        'supercells were heated from 0 K to the target temperatures and equilibrated for '\\\n",
    "        '20 000 time steps. A total of 20 snapshots were obtained from the subsequent '\\\n",
    "        'production run in each AIMD simulation at an interval of 0.1 ps.',\n",
    "    'surface':\n",
    "        'Slab structures up to a maximum Miller index of three, including (100), (110), '\\\n",
    "        '(111), (210), (211), (310), (311), (320), (321), (322), (331), and (332), as '\\\n",
    "        'obtained from the Crystalium database.',\n",
    "    'strain':\n",
    "        'Strained structures constructed by applying strains of −10% to 10% at 2% '\\\n",
    "        'intervals to the bulk supercell in six different modes, as described in the '\\\n",
    "        'work by de Jong et al.63 The supercells used are the 3 × 3 × 3, 3 × 3 × 3, and '\\\n",
    "        '2 × 2 × 2 of the conventional bcc, fcc, and diamond unit cells, respectively',\n",
    "}"
   ]
  },
  {
   "cell_type": "code",
   "execution_count": null,
   "id": "bbb736f5",
   "metadata": {},
   "outputs": [],
   "source": [
    "images[1]"
   ]
  },
  {
   "cell_type": "code",
   "execution_count": null,
   "id": "b9cd6a12",
   "metadata": {},
   "outputs": [],
   "source": [
    "images[1].info"
   ]
  },
  {
   "cell_type": "code",
   "execution_count": null,
   "id": "a7a87733-8a03-4135-b9fb-115f232326d8",
   "metadata": {},
   "outputs": [],
   "source": [
    "cs_ids = {k: [] for k in ['Cu', 'Ge', 'Li', 'Mo', 'Ni', 'Si']}\n",
    "\n",
    "co_ids_recheck = []\n",
    "for elem in cs_ids.keys():\n",
    "    print(elem)\n",
    "    count = 0\n",
    "    for i, (regex, desc) in enumerate(configuration_set_regexes.items()):\n",
    "        co_ids = client.get_data(\n",
    "            'configurations',\n",
    "            fields='_id',\n",
    "            query={\n",
    "                'names': {'$regex': 'test.*' + regex},\n",
    "                'elements': elem,\n",
    "            },\n",
    "            ravel=True\n",
    "        ).tolist()\n",
    "        \n",
    "        if co_ids:\n",
    "            co_ids_recheck += co_ids\n",
    "\n",
    "            print(f'\\tConfiguration set {i}', f'({regex}):'.rjust(22), f'{len(co_ids)}'.rjust(7))\n",
    "\n",
    "            cs_id = client.insert_configuration_set(co_ids, description=desc)\n",
    "\n",
    "            cs_ids[elem].append(cs_id)\n",
    "\n",
    "            count += len(co_ids)\n",
    "        \n",
    "    print('\\tTotal:', count)"
   ]
  },
  {
   "cell_type": "code",
   "execution_count": null,
   "id": "03ae85e0-3653-4db6-93f0-da63edad0ca8",
   "metadata": {},
   "outputs": [],
   "source": [
    "ds_ids = []\n",
    "for elem, e_cs_ids in cs_ids.items():\n",
    "    ds_id = client.insert_dataset(\n",
    "        cs_ids=e_cs_ids,\n",
    "        pr_ids=all_pr_ids,\n",
    "        name='mlearn_'+elem+'_test',\n",
    "        authors=[\n",
    "            'Yunxing Zuo', 'Chi Chen', 'Xiangguo Li',\n",
    "            'Zhi Deng', 'Yiming Chen', 'Jörg Behler',\n",
    "            'Gábor Csányi', 'Alexander V. Shapeev',\n",
    "            'Aidan P. Thompson', 'Mitchell A. Wood',\n",
    "            'Shyue Ping Ong'\n",
    "        ],\n",
    "        links=[\n",
    "            'https://pubs.acs.org/doi/10.1021/acs.jpca.9b08723',\n",
    "            'https://arxiv.org/abs/1906.08888',\n",
    "            'https://github.com/materialsvirtuallab/mlearn'\n",
    "        ],\n",
    "        description=\\\n",
    "            'A comprehensive DFT data set was generated for six '\\\n",
    "            'elements - Li, Mo, Ni, Cu, Si, and Ge. These elements '\\\n",
    "            'were chosen to span a variety of chemistries (main group '\\\n",
    "            'metal, transition metal, and semiconductor), crystal '\\\n",
    "            'structures (bcc, fcc, and diamond) and bonding types '\\\n",
    "            '(metallic and covalent). This dataset comprises only the {}'\\\n",
    "            'configurations'.format(elem),\n",
    "        verbose=True,\n",
    "    )\n",
    "    \n",
    "    ds_ids.append(ds_id)"
   ]
  },
  {
   "cell_type": "code",
   "execution_count": null,
   "id": "ef788520-14b3-4316-9c07-ffa257b9c820",
   "metadata": {},
   "outputs": [],
   "source": [
    "for did in ds_ids:\n",
    "    dataset = client.get_dataset(did, resync=True)['dataset']\n",
    "    \n",
    "    agg = dataset.aggregated_info\n",
    "    \n",
    "    print(agg['elements'], agg['nconfigurations'], agg['nsites'], agg['property_types_counts'])"
   ]
  },
  {
   "cell_type": "markdown",
   "id": "9d72aa24-742c-400a-b3af-c662090e8b74",
   "metadata": {},
   "source": [
    "# Exploration"
   ]
  },
  {
   "cell_type": "code",
   "execution_count": null,
   "id": "1cede6be-a4b2-4e85-8198-6041c40c7c6a",
   "metadata": {},
   "outputs": [],
   "source": [
    "for did in ds_ids:\n",
    "    dataset = client.get_dataset(did, resync=True)['dataset']\n",
    "    \n",
    "    fields = dataset.aggregated_info['property_fields']\n",
    "    fields.remove('energy-forces-stress.per-atom')\n",
    "    \n",
    "    print(dataset.aggregated_info['elements'][0])\n",
    "    \n",
    "    client.plot_histograms(\n",
    "        fields,\n",
    "        ids=dataset.property_ids,\n",
    "        yscale='log',\n",
    "    )"
   ]
  },
  {
   "cell_type": "code",
   "execution_count": null,
   "id": "488c9fdf-101e-470c-b8a0-644cb99feb7e",
   "metadata": {},
   "outputs": [],
   "source": []
  }
 ],
 "metadata": {
  "kernelspec": {
   "display_name": "Python 3 (ipykernel)",
   "language": "python",
   "name": "python3"
  },
  "language_info": {
   "codemirror_mode": {
    "name": "ipython",
    "version": 3
   },
   "file_extension": ".py",
   "mimetype": "text/x-python",
   "name": "python",
   "nbconvert_exporter": "python",
   "pygments_lexer": "ipython3",
   "version": "3.8.11"
  }
 },
 "nbformat": 4,
 "nbformat_minor": 5
}
