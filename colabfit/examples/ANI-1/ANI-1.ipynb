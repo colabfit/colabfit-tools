{
 "cells": [
  {
   "cell_type": "markdown",
   "id": "27826272",
   "metadata": {},
   "source": [
    "This notebook serves as an example of how to load and manipulate the [ANI-1 dataset](https://github.com/isayev/ANI1_dataset) using a `Dataset` object."
   ]
  },
  {
   "cell_type": "code",
   "execution_count": 1,
   "id": "1953e930",
   "metadata": {},
   "outputs": [],
   "source": [
    "import random\n",
    "import numpy as np\n",
    "\n",
    "from colabfit import SHORT_ID_STRING_NAME\n",
    "\n",
    "from colabfit.tools.database import MongoDatabase, load_data\n",
    "from colabfit.tools.property_settings import PropertySettings\n",
    "from colabfit.tools.configuration import AtomicConfiguration"
   ]
  },
  {
   "cell_type": "code",
   "execution_count": 2,
   "id": "4072825e",
   "metadata": {},
   "outputs": [],
   "source": [
    "client = MongoDatabase('ani1_rebuild', configuration_type=AtomicConfiguration, nprocs=4, drop_database=True)"
   ]
  },
  {
   "cell_type": "code",
   "execution_count": 3,
   "id": "626c5843",
   "metadata": {},
   "outputs": [],
   "source": [
    "import os\n",
    "import sys\n",
    "\n",
    "my_path_to_pyanitools = '/home/jvita/scripts/colabfit/data/ANI-1_release/'\n",
    "sys.path.append(my_path_to_pyanitools)"
   ]
  },
  {
   "cell_type": "code",
   "execution_count": 4,
   "id": "bf530739",
   "metadata": {},
   "outputs": [],
   "source": [
    "import pyanitools as pya"
   ]
  },
  {
   "cell_type": "markdown",
   "id": "e5ee122d",
   "metadata": {},
   "source": [
    "# To do:\n",
    "\n",
    "* Merge all of the HDF5 files into a single file, that way you can parallelize over that"
   ]
  },
  {
   "cell_type": "code",
   "execution_count": 5,
   "id": "bdda8c5e",
   "metadata": {},
   "outputs": [
    {
     "name": "stderr",
     "output_type": "stream",
     "text": [
      "100%|██████████████████████████████████████████████████████████████████████████████████| 3/3 [00:00<00:00, 20.50it/s]\n",
      "100%|█████████████████████████████████████████████████████████████████████████| 47932/47932 [01:53<00:00, 420.76it/s]\n",
      "100%|███████████████████████████████████████████████████████████████████████████████| 20/20 [00:00<00:00, 765.38it/s]\n",
      "100%|█████████████████████████████████████████████████████████████████████████████| 267/267 [00:00<00:00, 328.24it/s]\n",
      "100%|███████████████████████████████████████████████████████████████████████████████| 13/13 [00:00<00:00, 284.94it/s]\n",
      "100%|███████████████████████████████████████████████████████████████████████████████| 61/61 [00:00<00:00, 249.51it/s]\n",
      "100%|███████████████████████████████████████████████████████████████████████████| 1406/1406 [00:04<00:00, 321.81it/s]\n",
      "100%|███████████████████████████████████████████████████████████████████████████| 7760/7760 [00:24<00:00, 317.73it/s]\n"
     ]
    }
   ],
   "source": [
    "import os\n",
    "import glob\n",
    "import h5py\n",
    "from tqdm import tqdm\n",
    "\n",
    "master_file_name = '/home/jvita/scripts/colabfit/data/ANI-1_release/merged.h5'\n",
    "\n",
    "counter = 0\n",
    "\n",
    "with h5py.File(master_file_name, 'w') as merged:\n",
    "    for file_path in glob.glob('/home/jvita/scripts/colabfit/data/ANI-1_release/ani_*.h5'):\n",
    "        with h5py.File(file_path, 'r') as hdf5:\n",
    "            for group_name in hdf5:\n",
    "                for sub in tqdm(hdf5[group_name]):\n",
    "                    merged[sub] = h5py.ExternalLink(file_path, os.path.join(group_name, sub))\n",
    "                    \n",
    "                    counter += hdf5[group_name][sub]['coordinates'].shape[0]\n",
    "\n",
    "                    if 'coordinatesHE' in hdf5[group_name][sub]:\n",
    "                        counter += hdf5[group_name][sub]['coordinatesHE'].shape[0]\n",
    "        "
   ]
  },
  {
   "cell_type": "code",
   "execution_count": 6,
   "id": "dd7ff702",
   "metadata": {},
   "outputs": [
    {
     "data": {
      "text/plain": [
       "57462"
      ]
     },
     "execution_count": 6,
     "metadata": {},
     "output_type": "execute_result"
    }
   ],
   "source": [
    "with h5py.File(master_file_name, 'a') as merged:\n",
    "    group_keys = list(merged.keys())\n",
    "    \n",
    "len(group_keys)"
   ]
  },
  {
   "cell_type": "code",
   "execution_count": 7,
   "id": "6eec16e4",
   "metadata": {},
   "outputs": [],
   "source": [
    "random.shuffle(group_keys)\n",
    "split_keys = [_.tolist() for _ in np.split(np.array(group_keys), 6)]"
   ]
  },
  {
   "cell_type": "code",
   "execution_count": 8,
   "id": "7da2a0fb",
   "metadata": {},
   "outputs": [
    {
     "name": "stderr",
     "output_type": "stream",
     "text": [
      "100%|█████████████████████████████████████████████████████████████████████████| 9577/9577 [00:00<00:00, 21296.84it/s]\n",
      "100%|█████████████████████████████████████████████████████████████████████████| 9577/9577 [00:00<00:00, 26150.91it/s]\n",
      "100%|█████████████████████████████████████████████████████████████████████████| 9577/9577 [00:00<00:00, 26061.30it/s]\n",
      "100%|█████████████████████████████████████████████████████████████████████████| 9577/9577 [00:00<00:00, 25939.50it/s]\n",
      "100%|█████████████████████████████████████████████████████████████████████████| 9577/9577 [00:00<00:00, 25981.56it/s]\n",
      "100%|█████████████████████████████████████████████████████████████████████████| 9577/9577 [00:00<00:00, 26087.58it/s]\n"
     ]
    }
   ],
   "source": [
    "for i, keys in enumerate(split_keys):\n",
    "    split_file_name = f'/home/jvita/scripts/colabfit/data/ANI-1_release/split_{i}.h5'\n",
    "    \n",
    "    with h5py.File(split_file_name, 'w') as hdf5:\n",
    "        for k in tqdm(keys):\n",
    "            hdf5[k] = h5py.ExternalLink(master_file_name, k)"
   ]
  },
  {
   "cell_type": "code",
   "execution_count": 9,
   "id": "4c1607ca",
   "metadata": {},
   "outputs": [
    {
     "data": {
      "text/plain": [
       "24687809"
      ]
     },
     "execution_count": 9,
     "metadata": {},
     "output_type": "execute_result"
    }
   ],
   "source": [
    "counter"
   ]
  },
  {
   "cell_type": "code",
   "execution_count": 10,
   "id": "d9262187",
   "metadata": {},
   "outputs": [],
   "source": [
    "def reader(hdf5_path):\n",
    "    \n",
    "    with h5py.File(hdf5_path, 'r') as hdf5:\n",
    "        for key in tqdm(hdf5):\n",
    "            data = hdf5[key]\n",
    "\n",
    "            n_images = data['coordinates'].shape[0]\n",
    "\n",
    "            for ni in range(n_images):\n",
    "                atoms = AtomicConfiguration(\n",
    "                    symbols=''.join(data['species']),\n",
    "                    positions=data['coordinates'][ni]\n",
    "                )\n",
    "\n",
    "                atoms.info['_name'] = file_name+data['path']\n",
    "\n",
    "                atoms.info['energy'] = data['energies'][ni]\n",
    "                atoms.info['smiles'] = ''.join(data['smiles'])\n",
    "\n",
    "                yield atoms\n",
    "\n",
    "            # High-energy structures were separated out\n",
    "            n_images = data['coordinatesHE'].shape[0]\n",
    "\n",
    "            for ni in tqdm(range(n_images)):\n",
    "                atoms = AtomicConfiguration(\n",
    "                    symbols=''.join(data['species']),\n",
    "                    positions=data['coordinatesHE'][ni]\n",
    "                )\n",
    "\n",
    "                atoms.info['_name'] = file_name+data['path']\n",
    "                atoms.info['_labels'] = ['high_energy']\n",
    "\n",
    "                atoms.info['energy'] = data['energiesHE'][ni]\n",
    "                atoms.info['smiles'] = ''.join(data['smiles'])\n",
    "\n",
    "                yield atoms"
   ]
  },
  {
   "cell_type": "code",
   "execution_count": null,
   "id": "cfe3b588",
   "metadata": {},
   "outputs": [],
   "source": [
    "ids = list(database.insert_data(\n",
    "    configurations,\n",
    "    property_map=property_map,\n",
    "    generator=False,\n",
    "    transform=tform,\n",
    "    verbose=True\n",
    "))\n",
    "\n",
    "all_co_ids, all_pr_ids = list(zip(*ids))"
   ]
  },
  {
   "cell_type": "code",
   "execution_count": null,
   "id": "72e9a1d5",
   "metadata": {},
   "outputs": [],
   "source": []
  },
  {
   "cell_type": "code",
   "execution_count": null,
   "id": "cfce0e98",
   "metadata": {},
   "outputs": [],
   "source": [
    "import os\n",
    "import numpy as np\n",
    "\n",
    "from ase import Atoms"
   ]
  },
  {
   "cell_type": "markdown",
   "id": "ebfd61d9",
   "metadata": {},
   "source": [
    "# Initialize the database"
   ]
  },
  {
   "cell_type": "code",
   "execution_count": null,
   "id": "c7e0dbd0",
   "metadata": {},
   "outputs": [],
   "source": [
    "from colabfit.tools.database import MongoDatabase, load_data\n",
    "\n",
    "client = MongoDatabase('test', nprocs=1, drop_database=True)"
   ]
  },
  {
   "cell_type": "markdown",
   "id": "7610eec7",
   "metadata": {},
   "source": [
    "# Setup"
   ]
  },
  {
   "cell_type": "markdown",
   "id": "8c52063e",
   "metadata": {},
   "source": [
    "This dataset uses the [ANI-1 format](https://github.com/isayev/ANI1_dataset) for loading. Before running this example, you should make sure that [pyanitools.py](https://github.com/isayev/ANI1_dataset/blob/master/readers/lib/pyanitools.py) is in `PYTHONPATH` so that you can use it for loading from the ANI-formatted HDF5 files."
   ]
  },
  {
   "cell_type": "code",
   "execution_count": null,
   "id": "d1bd50c4",
   "metadata": {},
   "outputs": [],
   "source": [
    "import sys\n",
    "\n",
    "my_path_to_pyanitools = '/colabfit/data/AL_Al'\n",
    "sys.path.append(my_path_to_pyanitools)"
   ]
  },
  {
   "cell_type": "markdown",
   "id": "68613ff1",
   "metadata": {},
   "source": [
    "# Custom reader\n",
    "\n",
    "Since ANI-1 is not stored in one of the core file formats, a user-specified `reader` function must be provided to `load_data` in order to read the data."
   ]
  },
  {
   "cell_type": "code",
   "execution_count": null,
   "id": "aacf2936-fa9f-48e3-94d1-c7d9e7d2fb15",
   "metadata": {},
   "outputs": [],
   "source": [
    "import pyanitools as pya\n",
    "import glob"
   ]
  },
  {
   "cell_type": "raw",
   "id": "f40084ad-2aa1-428e-880c-f91ea6050cb5",
   "metadata": {},
   "source": [
    "\n",
    "\n",
    "base_path = '/colabfit/data/ANI-1_release/'\n",
    "\n",
    "files = sorted(glob.glob(base_path + '*.h5'))\n",
    "\n",
    "counter = 0\n",
    "all_paths = []\n",
    "for fpath in files:\n",
    "    print(fpath)\n",
    "    adl = pya.anidataloader(fpath)\n",
    "\n",
    "    for data in adl:\n",
    "        for i in range(data['coordinates'].shape[0]):\n",
    "            all_paths.append((data['path'], i))\n",
    "        \n",
    "        counter += data['coordinates'].shape[0]\n",
    "        print(data['path'], counter)"
   ]
  },
  {
   "cell_type": "code",
   "execution_count": null,
   "id": "a66d787e",
   "metadata": {},
   "outputs": [],
   "source": [
    "len(all_paths)"
   ]
  },
  {
   "cell_type": "code",
   "execution_count": null,
   "id": "d5ddd961",
   "metadata": {},
   "outputs": [],
   "source": [
    "chunked_paths = [all_paths[i*10000:(i+1)*10000] for i in range(int(np.ceil(len(all_paths)/10000)))]\n",
    "print(len(chunked_paths[0]))\n",
    "sum(len(c) for c in chunked_paths)"
   ]
  },
  {
   "cell_type": "markdown",
   "id": "59366168",
   "metadata": {},
   "source": [
    "# Data loading"
   ]
  },
  {
   "cell_type": "raw",
   "id": "d81c6c21-b697-48b4-9787-994ea1454523",
   "metadata": {},
   "source": [
    "from colabfit import ATOMS_NAME_FIELD, ATOMS_LABELS_FIELD\n",
    "from tqdm import tqdm\n",
    "from colabfit.tools.configuration import Configuration\n",
    "import h5py\n",
    "\n",
    "def reader(\n",
    "    list_of_hdf5_paths,\n",
    "    **kwargs,\n",
    "    ):\n",
    "    \n",
    "    # Get the s0* number for the first file\n",
    "    fi = list_of_hdf5_paths[0][0][9]\n",
    "    path_template = '/home/jvita/scripts/colabfit/data/ANI-1_release/ani_gdb_s0{}.h5'\n",
    "    current_file = path_template.format(fi)\n",
    "    short_name = os.path.split(current_file)[-1]\n",
    "    h5pyFile = h5py.File(current_file, 'r')\n",
    "    \n",
    "    for atoms_path, ai in tqdm(\n",
    "        list_of_hdf5_paths,\n",
    "        desc='Loading configurations',\n",
    "        disable=False\n",
    "        ):\n",
    "        # Check if configuration is is new file\n",
    "        if atoms_path[9] != fi:\n",
    "            # Close the current file\n",
    "            h5pyFile.close()\n",
    "            \n",
    "            # And open a new file\n",
    "            fi = atoms_path[9]\n",
    "            current_file = path_template.format(fi)\n",
    "            short_name = os.path.split(current_file)[-1]\n",
    "            h5pyFile = h5py.File(current_file, 'r')\n",
    "            \n",
    "        # Extract configuration\n",
    "        data = h5pyFile[atoms_path]\n",
    "        \n",
    "        atoms = Configuration(symbols=data['species'].asstr(), positions=data['coordinates'][ai])\n",
    "\n",
    "        atoms.info['_name'] = '{}{}_configuration_{}'.format(short_name, atoms_path, ai)\n",
    "        atoms.info['energy'] = data['energies'][ai]\n",
    "        atoms.info['smiles'] = ''.join(data['smiles'].asstr())\n",
    "        atoms.info['_labels'] = set()\n",
    "\n",
    "        yield atoms\n",
    "        \n",
    "    # Close the last file\n",
    "    h5pyFile.close()"
   ]
  },
  {
   "cell_type": "code",
   "execution_count": null,
   "id": "e2899efc-d34a-41e4-ac8f-9c27ebc7f0f1",
   "metadata": {},
   "outputs": [],
   "source": [
    "adl = pya.anidataloader('/colabfit/data/ANI-1_release/ani_gdb_s01.h5')"
   ]
  },
  {
   "cell_type": "code",
   "execution_count": null,
   "id": "db4c3a4d-48b4-4d1a-8d35-f5715b1c9ee9",
   "metadata": {},
   "outputs": [],
   "source": [
    "for data in adl:\n",
    "    print()\n",
    "    for k,v in data.items():\n",
    "        try:\n",
    "            print(k, v.shape)\n",
    "        except:\n",
    "            print(k, v)"
   ]
  },
  {
   "cell_type": "code",
   "execution_count": null,
   "id": "915307f8-1fdc-4488-9eb7-bb05ec714bce",
   "metadata": {},
   "outputs": [],
   "source": [
    "adl = pya.anidataloader('/colabfit/data/ANI-1_release/ani_gdb_s01.h5')\n",
    "\n",
    "for data in adl:\n",
    "    for ai in tqdm(range(data['coordinates'].shape[0]), 'Loading configurations'):\n",
    "        atoms = Configuration(symbols=data['species'], positions=data['coordinates'][ai])\n",
    "\n",
    "        atoms.info['_name'] = [\n",
    "            '{}{}_configuration_{}'.format(short_name, atoms_path, ai),\n",
    "            ''.join(data['smiles'].asstr())\n",
    "        ]\n",
    "        atoms.info['energy'] = data['energies'][ai]\n",
    "        # atoms.info['smiles'] = ''.join(data['smiles'].asstr())\n",
    "\n",
    "        break\n",
    "    break"
   ]
  },
  {
   "cell_type": "code",
   "execution_count": null,
   "id": "e583b77e-518a-434a-8703-531f5f5d2f49",
   "metadata": {},
   "outputs": [],
   "source": [
    "data['smiles']"
   ]
  },
  {
   "cell_type": "code",
   "execution_count": null,
   "id": "d0fb6d43-fbc4-476b-bd86-1730c17ecc19",
   "metadata": {},
   "outputs": [],
   "source": [
    "from colabfit import ATOMS_NAME_FIELD, ATOMS_LABELS_FIELD\n",
    "from tqdm import tqdm\n",
    "from colabfit.tools.configuration import Configuration\n",
    "import h5py\n",
    "\n",
    "def reader(path):\n",
    "        \n",
    "    adl = pya.anidataloader(path)\n",
    "\n",
    "    for data in adl:\n",
    "        for ai in tqdm(range(data['coordinates'].shape[0]), 'Loading configurations'):\n",
    "            atoms = Configuration(symbols=data['species'], positions=data['coordinates'][ai])\n",
    "\n",
    "            atoms.info['_name'] = [\n",
    "                '{}{}_configuration_{}'.format(path, data['path'], ai),\n",
    "                ''.join(data['smiles'])\n",
    "            ]\n",
    "            atoms.info['energy'] = data['energies'][ai]\n",
    "            atoms.info['smiles'] = ''.join(data['smiles'])\n",
    "\n",
    "            yield atoms"
   ]
  },
  {
   "cell_type": "code",
   "execution_count": null,
   "id": "1fea1e98",
   "metadata": {},
   "outputs": [],
   "source": [
    "base_definition = {\n",
    "    'property-id': 'energy-forces-stress',\n",
    "    'property-title': 'A default property for storing energies, forces, and stress',\n",
    "    'property-description': 'Energies and forces computed using DFT',\n",
    "\n",
    "    'energy': {'type': 'float', 'has-unit': True, 'extent': [],      'required': False, 'description': 'Cohesive energy'},\n",
    "    'forces': {'type': 'float', 'has-unit': True, 'extent': [':',3], 'required': False, 'description': 'Atomic forces'},\n",
    "    'stress': {'type': 'float', 'has-unit': True, 'extent': [':',3], 'required': False, 'description': 'Stress'},\n",
    "}\n",
    "\n",
    "smiles_definition = {\n",
    "    'property-id': 'smiles',\n",
    "    'property-title': 'SMILES',\n",
    "    'property-description': 'A SMILES string of a molecule',\n",
    "\n",
    "    'smiles': {'type': 'string', 'has-unit': False, 'extent': [], 'required': True, 'description': 'SMILES string'},\n",
    "}"
   ]
  },
  {
   "cell_type": "code",
   "execution_count": null,
   "id": "ae004451",
   "metadata": {},
   "outputs": [],
   "source": [
    "client.insert_property_definition(base_definition)\n",
    "client.insert_property_definition(smiles_definition)"
   ]
  },
  {
   "cell_type": "code",
   "execution_count": null,
   "id": "c103c7be",
   "metadata": {},
   "outputs": [],
   "source": [
    "property_map = {\n",
    "    'energy-forces-stress': {\n",
    "        # Property Definition field: {'field': ASE field, 'units': ASE-readable units}\n",
    "        'energy': {'field': 'energy', 'units': 'Hartree'},\n",
    "    },\n",
    "    'smiles': {\n",
    "        'smiles': {'field': 'smiles', 'units': None}\n",
    "    }\n",
    "}"
   ]
  },
  {
   "cell_type": "code",
   "execution_count": null,
   "id": "ecf702da",
   "metadata": {},
   "outputs": [],
   "source": [
    "from colabfit.tools.property_settings import PropertySettings\n",
    "\n",
    "pso = PropertySettings(\n",
    "    method='Gaussian09',\n",
    "    description='ANI-1 property settings calculation',\n",
    "    files=[],\n",
    "    labels=['DFT', 'wb97x', '6-31G(d)'],\n",
    ")"
   ]
  },
  {
   "cell_type": "code",
   "execution_count": null,
   "id": "de08277d-e7d7-41b0-998a-ffc803674551",
   "metadata": {},
   "outputs": [],
   "source": [
    "images = load_data(\n",
    "    file_path='/colabfit/data/ANI-1_release',\n",
    "    file_format='folder',\n",
    "    name_field='_name',  # key in Configuration.info to use as the Configuration name\n",
    "    elements=['C', 'H', 'N', 'O'],    # order matters for CFG files, but not others\n",
    "    default_name='ani-1',  # default name with `name_field` not found\n",
    "    reader=reader,\n",
    "    glob_string='*.h5',\n",
    "#     verbose=True\n",
    ")"
   ]
  },
  {
   "cell_type": "code",
   "execution_count": null,
   "id": "be161f81",
   "metadata": {},
   "outputs": [],
   "source": [
    "ids = list(client.insert_data(\n",
    "    images,\n",
    "    property_map=property_map,\n",
    "    property_settings={'energy-forces-stress': pso, 'smiles': pso},\n",
    "    generator=True,\n",
    "    verbose=True\n",
    "))"
   ]
  },
  {
   "cell_type": "code",
   "execution_count": null,
   "id": "462226d8-95fc-44a8-b69f-9c8ce954f713",
   "metadata": {},
   "outputs": [],
   "source": [
    "next(images)"
   ]
  },
  {
   "cell_type": "code",
   "execution_count": null,
   "id": "6ed450fd-79f1-447c-941e-ca00527fc6f7",
   "metadata": {},
   "outputs": [],
   "source": []
  },
  {
   "cell_type": "code",
   "execution_count": null,
   "id": "7598d918-5559-4173-af26-55ae86580a81",
   "metadata": {},
   "outputs": [],
   "source": []
  },
  {
   "cell_type": "code",
   "execution_count": null,
   "id": "9947c02a-d32e-446f-8039-3dbf7b33049c",
   "metadata": {},
   "outputs": [],
   "source": []
  },
  {
   "cell_type": "code",
   "execution_count": null,
   "id": "e5803b46",
   "metadata": {},
   "outputs": [],
   "source": [
    "images = load_data(\n",
    "    file_path='/home/jvita/scripts/colabfit/data/ANI-1_release',\n",
    "    file_format='folder',\n",
    "    name_field='name',  # key in Configuration.info to use as the Configuration name\n",
    "    elements=['C', 'H', 'N', 'O'],    # order matters for CFG files, but not others\n",
    "    default_name='ani-1',  # default name with `name_field` not found\n",
    "    reader=reader,\n",
    "    glob_string='ani_gdb_s02.h5',\n",
    "#     verbose=True\n",
    ")\n",
    "\n",
    "ids = client.insert_data(\n",
    "    images,\n",
    "    property_map=property_map,\n",
    "    property_settings={'energy-forces-stress': pso, 'smiles': pso},\n",
    "    generator=True,\n",
    "    verbose=True\n",
    ")"
   ]
  },
  {
   "cell_type": "code",
   "execution_count": null,
   "id": "edad2d6a",
   "metadata": {},
   "outputs": [],
   "source": [
    "images = load_data(\n",
    "    file_path='/home/jvita/scripts/colabfit/data/ANI-1_release',\n",
    "    file_format='folder',\n",
    "    name_field='name',  # key in Configuration.info to use as the Configuration name\n",
    "    elements=['C', 'H', 'N', 'O'],    # order matters for CFG files, but not others\n",
    "    default_name='ani-1',  # default name with `name_field` not found\n",
    "    reader=reader,\n",
    "    glob_string='ani_gdb_s01.h5',\n",
    "#     verbose=True\n",
    ")\n",
    "\n",
    "ids = client.insert_data(\n",
    "    images,\n",
    "    property_map=property_map,\n",
    "    property_settings={'energy-forces-stress': pso, 'smiles': pso},\n",
    "    generator=True,\n",
    "    verbose=True\n",
    ")"
   ]
  },
  {
   "cell_type": "code",
   "execution_count": null,
   "id": "2116a201",
   "metadata": {},
   "outputs": [],
   "source": [
    "configuration_set_regexes = {\n",
    "    'ani_md_bench':\n",
    "        'Forces from the ANI-1x potential are applied to run '\\\n",
    "        '1 ns of vacuum molecular dynamics with a 0.25 fs time '\\\n",
    "        'step at 300 K using the Langevin thermostat on 14 well-'\\\n",
    "        'known drug molecules and two small proteins. System '\\\n",
    "        'sizes range from 20 to 312 atoms. A random subsample '\\\n",
    "        'of 128 frames from each 1 ns trajectory is selected, and '\\\n",
    "        'reference DFT single point calculations are performed '\\\n",
    "        'to obtain QM energies and forces.',\n",
    "    'drugbank_testset':\n",
    "        'This benchmark is developed '\\\n",
    "        'through a subsampling of the DrugBank database '\\\n",
    "        'of real drug molecules. 837 SMILES strings con'\\\n",
    "        'taining C, N, and O are randomly selected. Like the '\\\n",
    "        'GDB7to9 benchmark, the molecules are embedded in '\\\n",
    "        '3D space, structurally optimized, and normal modes are '\\\n",
    "        'computed. DNMS is utilized to generate random '\\\n",
    "        'non-equilibrium conformations.',\n",
    "    'gdb11_0[7-9]':\n",
    "        'The GDB-11 subsets contain'\\\n",
    "        'ing 7 to 9 heavy atoms (C, N, and O) are subsampled '\\\n",
    "        'and randomly embedded in 3D space using RDKit '\\\n",
    "        '[www.rdkit.org]. A total of 1500 molecule SMILES '\\\n",
    "        '[opensmiles.org] strings are selected: 500 per 7, 8, '\\\n",
    "        'and 9 heavy-atom sets. The resulting structures are '\\\n",
    "        'optimized with tight convergence criteria, and nor'\\\n",
    "        'mal modes/force constants are computed using the '\\\n",
    "        'reference DFT model. Finally, diverse normal mode '\\\n",
    "        'sampling (DNMS) is carried out to generate non-'\\\n",
    "        'equilibrium conformations.',\n",
    "    'gdb1[1,3]_1[0-3]':\n",
    "        'GDB10to13 benchmark. Subsamples of 500 SMILES '\\\n",
    "        'strings each from the 10 and 11 heavy-atom subsets '\\\n",
    "        'of GDB-11 and 1000 SMILES strings from the 12 '\\\n",
    "        'and 13 heavy-atom subsets of the GDB-13 database '\\\n",
    "        'are randomly selected. DNMS is utilized to generate '\\\n",
    "        'random non-equilibrium conformations.',\n",
    "    'tripeptide_full':\n",
    "        'Tripeptide benchmark. 248 random tripeptides contain'\\\n",
    "        'ing H, C, N, and O are generated using FASTA strings '\\\n",
    "        'and randomly embedded in 3D space using RDKit. As '\\\n",
    "        'with GDB7to9, the molecules are optimized, and nor'\\\n",
    "        'mal modes are computed. DNMS is utilized to generate '\\\n",
    "        'random non-equilibrium conformations.',\n",
    "    's66x8_wb97x6-31gd':\n",
    "        'S66x8 benchmark. This dataset is built from the '\\\n",
    "        'original S66x850 benchmark for comparing accuracy '\\\n",
    "        'between different methods in describing noncovalent '\\\n",
    "        'interactions common in biological molecules. S66x8 is '\\\n",
    "        'developed from 66 dimeric systems involving hydro'\\\n",
    "        'gen bonding, pi-pi stacking, London interactions, and '\\\n",
    "        'mixed influence interactions. While the keen reader '\\\n",
    "        'might question the use of this benchmark without dis'\\\n",
    "        'persion corrections, since dispersion corrections such '\\\n",
    "        'as the D362 correction by Grimme et al. are a posteriori '\\\n",
    "        'additions to the produced energy, then a comparison '\\\n",
    "        'without the correction is equivalent to a comparison '\\\n",
    "        'with the same dispersion corrections applied to both '\\\n",
    "        'models.'\n",
    "}"
   ]
  },
  {
   "cell_type": "code",
   "execution_count": null,
   "id": "a8a4becb",
   "metadata": {},
   "outputs": [],
   "source": [
    "cs_ids = []\n",
    "\n",
    "for i, (regex, desc) in enumerate(configuration_set_regexes.items()):\n",
    "    co_ids = client.get_data(\n",
    "        'configurations',\n",
    "        fields='_id',\n",
    "        query={'names': {'$regex': regex}},\n",
    "        ravel=True\n",
    "    ).tolist()\n",
    "    \n",
    "    print(f'Configuration set {i}', f'({regex}):'.rjust(20), f'{len(co_ids)}'.rjust(7))\n",
    "\n",
    "    cs_id = client.insert_configuration_set(co_ids, description=desc, verbose=True)\n",
    "    \n",
    "    cs_ids.append(cs_id)"
   ]
  },
  {
   "cell_type": "code",
   "execution_count": null,
   "id": "6f02cf50",
   "metadata": {},
   "outputs": [],
   "source": [
    "all_co_ids, all_pr_ids = list(zip(*ids))\n",
    "len(all_pr_ids)"
   ]
  },
  {
   "cell_type": "code",
   "execution_count": null,
   "id": "7497f640",
   "metadata": {},
   "outputs": [],
   "source": [
    "ds_id = client.insert_dataset(\n",
    "    cs_ids=cs_ids,\n",
    "    pr_ids=all_pr_ids,\n",
    "    name='COMP6',\n",
    "    authors=[\n",
    "        'Justin S. Smith',\n",
    "        'Ben Nebgen',\n",
    "        'Nicholas Lubbers',\n",
    "        'Olexandr Isayev',\n",
    "        'Adrian E. Roitberg'\n",
    "    ],\n",
    "    links=[\n",
    "        'https://aip.scitation.org/doi/full/10.1063/1.5023802',\n",
    "        'https://github.com/isayev/COMP6',\n",
    "    ],\n",
    "    description='This repository contains the COMP6 benchmark '\\\n",
    "        'for evaluating the extensibility of machine-learning '\\\n",
    "        'based molecular potentials.',\n",
    "    resync=True,\n",
    "    verbose=True,\n",
    ")\n",
    "ds_id"
   ]
  },
  {
   "cell_type": "code",
   "execution_count": null,
   "id": "201793f2",
   "metadata": {},
   "outputs": [],
   "source": [
    "ds = client.get_dataset(ds_id, verbose=True)['dataset']"
   ]
  },
  {
   "cell_type": "code",
   "execution_count": null,
   "id": "d4a3d554",
   "metadata": {},
   "outputs": [],
   "source": [
    "for k,v in ds.aggregated_info.items():\n",
    "    print(k, v)"
   ]
  },
  {
   "cell_type": "markdown",
   "id": "87e19a8d",
   "metadata": {},
   "source": [
    "# Exploration"
   ]
  },
  {
   "cell_type": "code",
   "execution_count": null,
   "id": "df14e384",
   "metadata": {},
   "outputs": [],
   "source": [
    "ds.aggregated_info['property_fields']"
   ]
  },
  {
   "cell_type": "code",
   "execution_count": null,
   "id": "8ce3bdcb",
   "metadata": {},
   "outputs": [],
   "source": [
    "from IPython.display import Image"
   ]
  },
  {
   "cell_type": "code",
   "execution_count": null,
   "id": "fbfb4b97",
   "metadata": {},
   "outputs": [],
   "source": [
    "fig = client.plot_histograms(ds.aggregated_info['property_fields'], ids=ds.property_ids, verbose=True)"
   ]
  },
  {
   "cell_type": "code",
   "execution_count": null,
   "id": "97f4ad9f",
   "metadata": {},
   "outputs": [],
   "source": [
    "Image(fig.to_image(format=\"png\", width=800, height=500, scale=1))"
   ]
  },
  {
   "cell_type": "markdown",
   "id": "4bb7d03d",
   "metadata": {},
   "source": [
    "# Filtering"
   ]
  },
  {
   "cell_type": "code",
   "execution_count": null,
   "id": "a3d94901",
   "metadata": {},
   "outputs": [],
   "source": [
    "clean_config_sets, clean_property_ids = client.filter_on_properties(\n",
    "    ds_id=ds_id,\n",
    "    filter_fxn=lambda p: p['comp6-data']['energy']['source-value'] > -4000,\n",
    "    fields=['comp6-data.energy'],\n",
    "    verbose=True\n",
    ")"
   ]
  },
  {
   "cell_type": "code",
   "execution_count": null,
   "id": "9918c158",
   "metadata": {},
   "outputs": [],
   "source": [
    "clean_cs_ids = []\n",
    "\n",
    "for cs in clean_config_sets:\n",
    "    cs_id = client.insert_configuration_set(cs.configuration_ids, description=cs.description, verbose=True)\n",
    "    \n",
    "    clean_cs_ids.append(cs_id)"
   ]
  },
  {
   "cell_type": "code",
   "execution_count": null,
   "id": "8e05ea44",
   "metadata": {},
   "outputs": [],
   "source": [
    "clean_ds_id = client.insert_dataset(\n",
    "    cs_ids=clean_cs_ids,\n",
    "    pr_ids=clean_property_ids,\n",
    "    name='COMP6_filtered',\n",
    "    authors=ds.authors,\n",
    "    links=ds.links,\n",
    "    description=\"A filtered version of the COMP6 dataset \"\\\n",
    "    \"that removed all configurations with energies < -4000\",\n",
    "    resync=True,\n",
    "    verbose=True\n",
    ")\n",
    "clean_ds_id"
   ]
  },
  {
   "cell_type": "code",
   "execution_count": null,
   "id": "30170207",
   "metadata": {},
   "outputs": [],
   "source": [
    "clean_ds = client.get_dataset(clean_ds_id, verbose=True)['dataset']"
   ]
  },
  {
   "cell_type": "code",
   "execution_count": null,
   "id": "0196e328",
   "metadata": {},
   "outputs": [],
   "source": [
    "fig = client.plot_histograms(clean_ds.aggregated_info['property_fields'], ids=clean_ds.property_ids, verbose=True)"
   ]
  },
  {
   "cell_type": "code",
   "execution_count": null,
   "id": "e485da3a",
   "metadata": {},
   "outputs": [],
   "source": [
    "Image(fig.to_image(format=\"png\", width=800, height=500, scale=1))"
   ]
  },
  {
   "cell_type": "markdown",
   "id": "d8d8ec7f",
   "metadata": {},
   "source": [
    "## Extracting data from a single configuration set"
   ]
  },
  {
   "cell_type": "code",
   "execution_count": null,
   "id": "34c037a5",
   "metadata": {},
   "outputs": [],
   "source": [
    "cs = client.get_configuration_set(clean_ds.configuration_set_ids[0])['configuration_set']\n",
    "\n",
    "pr_ids = client.get_data(\n",
    "    'configurations',\n",
    "    fields='relationships.properties',\n",
    "    ids=cs.configuration_ids,\n",
    "    ravel=True\n",
    ").tolist()\n",
    "\n",
    "len(pr_ids)"
   ]
  },
  {
   "cell_type": "code",
   "execution_count": null,
   "id": "3dbe5d81",
   "metadata": {},
   "outputs": [],
   "source": [
    "fig = client.plot_histograms(\n",
    "    clean_ds.aggregated_info['property_fields'],\n",
    "    ids=pr_ids,\n",
    "    verbose=True\n",
    ")\n",
    "\n",
    "Image(fig.to_image(format=\"png\", width=800, height=500, scale=1))"
   ]
  },
  {
   "cell_type": "code",
   "execution_count": null,
   "id": "986389eb",
   "metadata": {},
   "outputs": [],
   "source": []
  }
 ],
 "metadata": {
  "kernelspec": {
   "display_name": "Python 3 (ipykernel)",
   "language": "python",
   "name": "python3"
  },
  "language_info": {
   "codemirror_mode": {
    "name": "ipython",
    "version": 3
   },
   "file_extension": ".py",
   "mimetype": "text/x-python",
   "name": "python",
   "nbconvert_exporter": "python",
   "pygments_lexer": "ipython3",
   "version": "3.8.11"
  }
 },
 "nbformat": 4,
 "nbformat_minor": 5
}
