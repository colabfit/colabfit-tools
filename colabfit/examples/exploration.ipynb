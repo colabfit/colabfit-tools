{
 "cells": [
  {
   "cell_type": "code",
   "execution_count": 1,
   "id": "8e6cab58",
   "metadata": {},
   "outputs": [],
   "source": [
    "from colabfit.tools.database import MongoDatabase, load_data\n",
    "from colabfit.tools.property_settings import PropertySettings\n",
    "\n",
    "client = MongoDatabase('colabfit_database', nprocs=1)"
   ]
  },
  {
   "cell_type": "code",
   "execution_count": 9,
   "id": "2b83ae33-9b57-45a8-823a-bc1adb32dfcd",
   "metadata": {},
   "outputs": [
    {
     "name": "stdout",
     "output_type": "stream",
     "text": [
      "{'_id': '17896922278085018239', 'name': 'AlNiTi_CMS2019'}\n",
      "{'_id': '12299200623732822270', 'name': 'COMP6'}\n",
      "{'_id': '2149155401424133298', 'name': 'CoNbV_CMS2019'}\n",
      "{'_id': '13344296987139791283', 'name': 'CuPd_CMS2019'}\n",
      "{'_id': '3976715385933640855', 'name': 'InP_JPCA2020'}\n",
      "{'_id': '11436130794767089172', 'name': 'Mo_PRM2019'}\n",
      "{'_id': '10687395576408685395', 'name': 'MoNbTaVW_PRB2021'}\n",
      "{'_id': '14772445951895794273', 'name': 'Nb_PRM2019'}\n",
      "{'_id': '9615499379302979156', 'name': 'QM9'}\n",
      "{'_id': '3071118515767946833', 'name': 'QM9_filtered'}\n",
      "{'_id': '5133304285144226850', 'name': 'Si_PRX_GAP'}\n",
      "{'_id': '16179299706373259656', 'name': 'Si_PRX_GAP-no-xc'}\n",
      "{'_id': '8081947610244469710', 'name': 'Si_PRX_GAP-pbe'}\n",
      "{'_id': '5869266345656656225', 'name': 'Si_PRX_GAP-pw91'}\n",
      "{'_id': '14511208659355684642', 'name': 'Ta_Linear_JCP2015'}\n",
      "{'_id': '10817583392748138384', 'name': 'Ta_PINN_2021'}\n",
      "{'_id': '1113141511992115938', 'name': 'Ta_PRM2019'}\n",
      "{'_id': '5154244796734251497', 'name': 'TiZrHfTa_APS2021'}\n",
      "{'_id': '884042749492280651', 'name': 'V_PRM2019'}\n",
      "{'_id': '16509418226799640192', 'name': 'W_PRB2019'}\n",
      "{'_id': '5579011345901941240', 'name': 'WBe_PRB2019'}\n"
     ]
    }
   ],
   "source": [
    "import os\n",
    "import shutil\n",
    "\n",
    "for ds_doc in client.datasets.find({}, {'name'}):\n",
    "    if not os.path.isdir(f'/home/josh/colabfit/colabfit/api/static/markdown/{ds_doc[\"_id\"]}'):\n",
    "        os.mkdir(f'/home/josh/colabfit/colabfit/api/static/markdown/{ds_doc[\"_id\"]}')\n",
    "    \n",
    "    shutil.copyfile(f'/colabfit/markdown/{ds_doc[\"name\"]}/README.md', f'/home/josh/colabfit/colabfit/api/static/markdown/{ds_doc[\"_id\"]}/README.md')\n",
    "    shutil.copyfile(f'/colabfit/markdown/{ds_doc[\"name\"]}/histogram', f'/home/josh/colabfit/colabfit/api/static/markdown/{ds_doc[\"_id\"]}/README.md')\n",
    "    print(ds_doc)"
   ]
  },
  {
   "cell_type": "code",
   "execution_count": null,
   "id": "4f48389e",
   "metadata": {},
   "outputs": [],
   "source": [
    "client.insert_property_definition('tag:staff@noreply.openkim.org,2014-04-15:property/bulk-modulus-isothermal-cubic-crystal-npt')"
   ]
  },
  {
   "cell_type": "code",
   "execution_count": null,
   "id": "c349a2d0",
   "metadata": {},
   "outputs": [],
   "source": [
    "client.configurations.distinct('elements', {})"
   ]
  },
  {
   "cell_type": "code",
   "execution_count": null,
   "id": "59c69223",
   "metadata": {},
   "outputs": [],
   "source": [
    "client.configurations.distinct('labels', {'nsites': {'$lt': 10}})"
   ]
  },
  {
   "cell_type": "markdown",
   "id": "dbf66951",
   "metadata": {},
   "source": [
    "# Verifying dataset correctness"
   ]
  },
  {
   "cell_type": "code",
   "execution_count": null,
   "id": "0249f1d2",
   "metadata": {},
   "outputs": [],
   "source": [
    "client.datasets.distinct('name')"
   ]
  },
  {
   "cell_type": "code",
   "execution_count": null,
   "id": "195c68c7",
   "metadata": {},
   "outputs": [],
   "source": [
    "ds_id = client.datasets.find_one({'name': 'Mo_PRM2019'})['_id']\n",
    "dataset = client.get_dataset(ds_id)['dataset']\n",
    "dataset.name, ds_id"
   ]
  },
  {
   "cell_type": "code",
   "execution_count": null,
   "id": "55fa5fd0",
   "metadata": {},
   "outputs": [],
   "source": [
    "client.dataset_to_markdown(\n",
    "    ds_id=ds_id,\n",
    "    base_folder='/tmp',\n",
    "    html_file_name='README',\n",
    "    data_file_name=dataset.name+'.xyz',\n",
    "    data_format='mongo',\n",
    "    yscale='log'\n",
    ")"
   ]
  },
  {
   "cell_type": "code",
   "execution_count": null,
   "id": "432f5c65",
   "metadata": {},
   "outputs": [],
   "source": [
    "dataset = client.dataset_from_markdown(\n",
    "    html_file_path='/tmp/README',\n",
    "    verbose=True\n",
    ")"
   ]
  },
  {
   "cell_type": "code",
   "execution_count": null,
   "id": "580605ed",
   "metadata": {},
   "outputs": [],
   "source": [
    "dataset['dataset'].name"
   ]
  },
  {
   "cell_type": "code",
   "execution_count": null,
   "id": "d2fc6882",
   "metadata": {},
   "outputs": [],
   "source": [
    "client.dataset_to_markdown(\n",
    "    ds_id=dataset['_id'],\n",
    "    base_folder='/tmp',\n",
    "    html_file_name='README-2',\n",
    "    data_file_name=dataset['dataset'].name+'-2.xyz',\n",
    "    data_format='mongo',\n",
    "    yscale='log'\n",
    ")"
   ]
  },
  {
   "cell_type": "code",
   "execution_count": null,
   "id": "9dc3db12",
   "metadata": {},
   "outputs": [],
   "source": [
    "client.plot_histograms(dataset.aggregated_info['property_fields'], ids=dataset.property_ids)"
   ]
  },
  {
   "cell_type": "markdown",
   "id": "48282525",
   "metadata": {},
   "source": [
    "# Number of configurations"
   ]
  },
  {
   "cell_type": "code",
   "execution_count": null,
   "id": "9dc97f27",
   "metadata": {},
   "outputs": [],
   "source": [
    "client.configurations.count_documents({})"
   ]
  },
  {
   "cell_type": "markdown",
   "id": "d0b730de",
   "metadata": {},
   "source": [
    "# Number of properties"
   ]
  },
  {
   "cell_type": "code",
   "execution_count": null,
   "id": "7fc659fa",
   "metadata": {},
   "outputs": [],
   "source": [
    "client.properties.count_documents({})"
   ]
  },
  {
   "cell_type": "markdown",
   "id": "6e90f8f2",
   "metadata": {},
   "source": [
    "# Number of datasets"
   ]
  },
  {
   "cell_type": "code",
   "execution_count": null,
   "id": "e7617f40",
   "metadata": {},
   "outputs": [],
   "source": [
    "client.datasets.count_documents({})"
   ]
  },
  {
   "cell_type": "markdown",
   "id": "f40d9baa",
   "metadata": {},
   "source": [
    "# Get configurations"
   ]
  },
  {
   "cell_type": "code",
   "execution_count": null,
   "id": "584267f2",
   "metadata": {},
   "outputs": [],
   "source": [
    "configs = client.get_configurations('all', attach_properties=True, generator=False)\n",
    "configs[0]"
   ]
  },
  {
   "cell_type": "code",
   "execution_count": null,
   "id": "533c4d5f",
   "metadata": {},
   "outputs": [],
   "source": [
    "configs[0].info"
   ]
  },
  {
   "cell_type": "code",
   "execution_count": null,
   "id": "e8f21704",
   "metadata": {},
   "outputs": [],
   "source": [
    "\"\"\"\n",
    "Get all Configurations\n",
    "\n",
    "Get all properties that have a CO ID that's in the query\n",
    "\"\"\"\n",
    "\n",
    "cursor = client.properties.aggregate([\n",
    "    {'$unwind': '$relationships.configurations'},\n",
    "#     {'$match': {'relationships.configurations': {'$in': ids}}},\n",
    "    {'$lookup': {\n",
    "        'from': 'configurations',\n",
    "        'localField': 'relationships.configurations',\n",
    "        'foreignField': '_id',\n",
    "        'as': 'linked_co'\n",
    "    }}\n",
    "])\n",
    "\n",
    "next(cursor)"
   ]
  },
  {
   "cell_type": "code",
   "execution_count": null,
   "id": "1d623404",
   "metadata": {},
   "outputs": [],
   "source": [
    "len(list(cursor))"
   ]
  },
  {
   "cell_type": "markdown",
   "id": "ba064aa1",
   "metadata": {},
   "source": [
    "## Names of datasets"
   ]
  },
  {
   "cell_type": "code",
   "execution_count": null,
   "id": "ac9074a8",
   "metadata": {},
   "outputs": [],
   "source": [
    "sorted(list(client.datasets.find({}, {'name'})), key=lambda x: x['name'].lower())"
   ]
  },
  {
   "cell_type": "markdown",
   "id": "d73f0981",
   "metadata": {},
   "source": [
    "# Number of configuration sets"
   ]
  },
  {
   "cell_type": "code",
   "execution_count": null,
   "id": "e673ee77",
   "metadata": {},
   "outputs": [],
   "source": [
    "client.configuration_sets.count_documents({})"
   ]
  },
  {
   "cell_type": "markdown",
   "id": "8697b574",
   "metadata": {},
   "source": [
    "## All configuration sets, and their linked datasets"
   ]
  },
  {
   "cell_type": "code",
   "execution_count": null,
   "id": "34569b5d",
   "metadata": {
    "scrolled": true
   },
   "outputs": [],
   "source": [
    "cursor = client.configuration_sets.aggregate([\n",
    "    {'$project': {'relationships.datasets': 1}},\n",
    "    {'$unwind': '$relationships.datasets'},\n",
    "    {'$project': {'ds_id': '$relationships.datasets'}},\n",
    "    {'$lookup': {\n",
    "        'from': 'datasets',\n",
    "        'localField': 'ds_id',\n",
    "        'foreignField': '_id',\n",
    "        'as': 'linked_ds'\n",
    "    }},\n",
    "    {'$project': {'ds_name': '$linked_ds.name'}}\n",
    "])\n",
    "\n",
    "sorted(list(cursor), key=lambda x: x['ds_name'][0].lower())"
   ]
  },
  {
   "cell_type": "markdown",
   "id": "b976a473",
   "metadata": {},
   "source": [
    "## Configuration sets that are tied to more than one dataset"
   ]
  },
  {
   "cell_type": "code",
   "execution_count": null,
   "id": "63ec025f",
   "metadata": {},
   "outputs": [],
   "source": [
    "client.configuration_sets.count_documents({'relationships.datasets.1': {'$exists': True}})"
   ]
  },
  {
   "cell_type": "code",
   "execution_count": null,
   "id": "9657d94b",
   "metadata": {},
   "outputs": [],
   "source": [
    "cursor = client.configuration_sets.aggregate([\n",
    "    {'$match': {'relationships.datasets.1': {'$exists': True}}},\n",
    "    {'$project': {'relationships.datasets': 1}},\n",
    "    {'$unwind': '$relationships.datasets'},\n",
    "    {'$project': {'ds_id': '$relationships.datasets'}},\n",
    "    {'$lookup': {\n",
    "        'from': 'datasets',\n",
    "        'localField': 'ds_id',\n",
    "        'foreignField': '_id',\n",
    "        'as': 'linked_ds'\n",
    "    }},\n",
    "    {'$project': {'ds_name': '$linked_ds.name'}}\n",
    "])\n",
    "\n",
    "list(cursor)"
   ]
  },
  {
   "cell_type": "markdown",
   "id": "39e3800a",
   "metadata": {},
   "source": [
    "# Total number of atoms"
   ]
  },
  {
   "cell_type": "code",
   "execution_count": null,
   "id": "9e214e79",
   "metadata": {},
   "outputs": [],
   "source": [
    "next(client.configurations.aggregate([\n",
    "    {'$group': {'_id': None, 'sum': {'$sum': '$nsites'}}}\n",
    "]))"
   ]
  },
  {
   "cell_type": "markdown",
   "id": "c1f4e366",
   "metadata": {},
   "source": [
    "# Total number of configuration labels"
   ]
  },
  {
   "cell_type": "code",
   "execution_count": null,
   "id": "aacb659f",
   "metadata": {},
   "outputs": [],
   "source": [
    "cursor = client.configurations.aggregate([\n",
    "#     { \"$match\": { \"_id\": { \"$in\": [1, 2] } } },\n",
    "    {\"$group\": {\"_id\": None, \"labels\": { \"$push\": \"$labels\" }}},\n",
    "    {\n",
    "        \"$project\": {\n",
    "            \"labels\": {\n",
    "                \"$reduce\": {\n",
    "                    \"input\": \"$labels\",\n",
    "                    \"initialValue\": [],\n",
    "                    \"in\": { \"$setUnion\": [\"$$value\", \"$$this\"] }\n",
    "                }\n",
    "            }\n",
    "        }\n",
    "    }\n",
    "])\n",
    "\n",
    "labels = next(cursor)['labels']\n",
    "len(labels)"
   ]
  },
  {
   "cell_type": "markdown",
   "id": "a50d04d0",
   "metadata": {},
   "source": [
    "## Counts for each label"
   ]
  },
  {
   "cell_type": "code",
   "execution_count": null,
   "id": "aa21dff0",
   "metadata": {},
   "outputs": [],
   "source": [
    "cursor = client.configurations.aggregate([\n",
    "    {'$unwind': '$labels'},\n",
    "    {'$group': {'_id': '$labels', 'count': {'$sum': 1}}}\n",
    "])\n",
    "\n",
    "sorted(cursor, key=lambda x: x['count'], reverse=True)"
   ]
  },
  {
   "cell_type": "markdown",
   "id": "b01c1f40",
   "metadata": {},
   "source": [
    "# Property distributions"
   ]
  },
  {
   "cell_type": "code",
   "execution_count": null,
   "id": "19c38f4a",
   "metadata": {},
   "outputs": [],
   "source": [
    "client.properties.find_one({})"
   ]
  },
  {
   "cell_type": "code",
   "execution_count": null,
   "id": "020b3bd7",
   "metadata": {},
   "outputs": [],
   "source": [
    "client.properties.distinct('type')"
   ]
  },
  {
   "cell_type": "code",
   "execution_count": null,
   "id": "a6aa56c8",
   "metadata": {},
   "outputs": [],
   "source": [
    "all_energies = client.get_data('properties', ['energy-forces-stress.energy', 'energy-forces-virial.energy'], ravel=True, verbose=True)"
   ]
  },
  {
   "cell_type": "code",
   "execution_count": null,
   "id": "413edb24",
   "metadata": {},
   "outputs": [],
   "source": [
    "import matplotlib.pyplot as plt\n",
    "\n",
    "fig, ax = plt.subplots()\n",
    "\n",
    "for k,v in all_energies.items():        \n",
    "    _ = ax.hist(v, bins=100, label=k)\n",
    "    \n",
    "ax.legend()\n",
    "ax.set_yscale('log')"
   ]
  },
  {
   "cell_type": "code",
   "execution_count": null,
   "id": "c404da28",
   "metadata": {},
   "outputs": [],
   "source": [
    "all_forces = client.get_data('properties', ['energy-forces-stress.forces', 'energy-forces-virial.forces'], ravel=True, verbose=True)"
   ]
  },
  {
   "cell_type": "code",
   "execution_count": null,
   "id": "a5815c21",
   "metadata": {},
   "outputs": [],
   "source": [
    "import matplotlib.pyplot as plt\n",
    "\n",
    "fig, ax = plt.subplots()\n",
    "\n",
    "for k,v in all_forces.items():\n",
    "    _ = ax.hist(v, bins=100, label=k)\n",
    "    \n",
    "ax.legend()\n",
    "ax.set_yscale('log')"
   ]
  },
  {
   "cell_type": "code",
   "execution_count": null,
   "id": "730be0f2",
   "metadata": {},
   "outputs": [],
   "source": [
    "all_stresses = client.get_data('properties', ['energy-forces-stress.stress', 'energy-forces-virial.virial'], ravel=True, verbose=True)"
   ]
  },
  {
   "cell_type": "code",
   "execution_count": null,
   "id": "5346dcf5",
   "metadata": {},
   "outputs": [],
   "source": [
    "import matplotlib.pyplot as plt\n",
    "\n",
    "fig, ax = plt.subplots()\n",
    "\n",
    "for k,v in all_stresses.items():\n",
    "    _ = ax.hist(v, bins=100, label=k)\n",
    "    \n",
    "ax.legend()\n",
    "ax.set_yscale('log')"
   ]
  },
  {
   "cell_type": "code",
   "execution_count": null,
   "id": "4805809c",
   "metadata": {},
   "outputs": [],
   "source": [
    "client.properties.distinct('energy-forces-stress.stress.source-unit')"
   ]
  },
  {
   "cell_type": "code",
   "execution_count": null,
   "id": "0fad64b5",
   "metadata": {},
   "outputs": [],
   "source": [
    "client.properties.distinct('energy-forces-virial.virial.source-unit')"
   ]
  },
  {
   "cell_type": "code",
   "execution_count": null,
   "id": "267a6b0a",
   "metadata": {},
   "outputs": [],
   "source": [
    "client.datasets.find_one({'name': 'WBe_PRB2019'})"
   ]
  },
  {
   "cell_type": "code",
   "execution_count": null,
   "id": "e9fdaf44",
   "metadata": {},
   "outputs": [],
   "source": [
    "client.properties.find_one({'relationships.datasets': '-6889328512840717042'})"
   ]
  },
  {
   "cell_type": "markdown",
   "id": "dc501616-edf1-414f-a87e-62a36b31eab0",
   "metadata": {},
   "source": [
    "# Copying to another database"
   ]
  },
  {
   "cell_type": "code",
   "execution_count": 4,
   "id": "bd20aa36-2f6b-4eb2-a267-9306078a0f3a",
   "metadata": {},
   "outputs": [
    {
     "data": {
      "text/plain": [
       "{'_id': '8081947610244469710', 'name': 'Si_PRX_GAP-pbe'}"
      ]
     },
     "execution_count": 4,
     "metadata": {},
     "output_type": "execute_result"
    }
   ],
   "source": [
    "client.datasets.find_one({'name': 'Si_PRX_GAP-pbe'}, {'name'})"
   ]
  },
  {
   "cell_type": "code",
   "execution_count": 7,
   "id": "79375ba8",
   "metadata": {},
   "outputs": [],
   "source": [
    "dataset = client.get_dataset('8081947610244469710')['dataset']"
   ]
  },
  {
   "cell_type": "code",
   "execution_count": 15,
   "id": "a85dd303-59b7-4a7a-be8a-5cf3ae393f79",
   "metadata": {},
   "outputs": [],
   "source": [
    "configuration_ids = set()\n",
    "\n",
    "for cs_id in dataset.configuration_set_ids:\n",
    "    cs = client.get_configuration_set(cs_id)['configuration_set']\n",
    "    \n",
    "    configuration_ids = configuration_ids.union(set(cs.configuration_ids))"
   ]
  },
  {
   "cell_type": "code",
   "execution_count": 36,
   "id": "dfd662c2-0439-4aa5-884b-7df015a2846e",
   "metadata": {},
   "outputs": [
    {
     "data": {
      "text/plain": [
       "['si-prx-gap-data']"
      ]
     },
     "execution_count": 36,
     "metadata": {},
     "output_type": "execute_result"
    }
   ],
   "source": [
    "dataset.aggregated_info['property_types']"
   ]
  },
  {
   "cell_type": "code",
   "execution_count": 33,
   "id": "2c5963d7-578a-4301-9b63-0df4581139eb",
   "metadata": {},
   "outputs": [],
   "source": [
    "client.properties.find_one({'type': 'energy-forces-stress', 'relationships.datasets': '8081947610244469710'})"
   ]
  },
  {
   "cell_type": "code",
   "execution_count": 102,
   "id": "50073105-77d5-43c8-8340-0d3f3e607833",
   "metadata": {},
   "outputs": [],
   "source": [
    "client2 = MongoDatabase('mini_database', drop_database=True)"
   ]
  },
  {
   "cell_type": "code",
   "execution_count": 103,
   "id": "90aba661-9d22-47e4-a8e5-e630fab036e5",
   "metadata": {},
   "outputs": [],
   "source": [
    "definition = client.get_property_definition('energy-forces-stress')['definition']\n",
    "definition['property-id'] = 'energy-forces-stress'"
   ]
  },
  {
   "cell_type": "code",
   "execution_count": 104,
   "id": "7bab03ce-4310-4f67-ba12-228f2406715e",
   "metadata": {},
   "outputs": [],
   "source": [
    "client2.insert_property_definition(definition)"
   ]
  },
  {
   "cell_type": "code",
   "execution_count": 105,
   "id": "cd1b9ac6-5add-4455-bb81-e58a52abf106",
   "metadata": {},
   "outputs": [],
   "source": [
    "configurations = client.get_configurations(list(configuration_ids), property_ids=dataset.property_ids, attach_properties=True)"
   ]
  },
  {
   "cell_type": "code",
   "execution_count": 106,
   "id": "9551fdc8-6231-4b0c-b2eb-69ac01b9fde0",
   "metadata": {},
   "outputs": [],
   "source": [
    "def tform(c):\n",
    "    c.info['energy-forces-stress.energy'] = c.info['energy-forces-stress.energy'][0][0]\n",
    "    c.info['energy-forces-stress.per-atom'] = bool(c.info['energy-forces-stress.per-atom'][0][0])\n",
    "    c.arrays['energy-forces-stress.forces'] = c.arrays['energy-forces-stress.forces'][0]"
   ]
  },
  {
   "cell_type": "code",
   "execution_count": 107,
   "id": "c2767398-8086-4d51-af47-24ef4e1aa090",
   "metadata": {},
   "outputs": [],
   "source": [
    "property_map = {\n",
    "    'energy-forces-stress': {\n",
    "        # Property Definition field: {'field': ASE field, 'units': ASE-readable units}\n",
    "        'energy': {'field': 'energy-forces-stress.energy', 'units': 'eV'},\n",
    "        'forces': {'field': 'energy-forces-stress.forces', 'units': 'eV/Ang'},\n",
    "        'stress': {'field': 'energy-forces-stress.stress', 'units': 'GPa'},\n",
    "        'per-atom': {'field': 'energy-forces-stress.per-atom', 'units': None},\n",
    "    },\n",
    "}"
   ]
  },
  {
   "cell_type": "code",
   "execution_count": 108,
   "id": "058a23b5-bb39-4157-aedb-e88111370a54",
   "metadata": {},
   "outputs": [
    {
     "name": "stderr",
     "output_type": "stream",
     "text": [
      "Preparing to add configurations to Database: 100%|██████████████████████████████████████████████████████| 50/50 [00:00<00:00, 437.71it/s]\n"
     ]
    }
   ],
   "source": [
    "from colabfit.tools.property_settings import PropertySettings\n",
    "\n",
    "pso = PropertySettings(\n",
    "    method='CASTEP',\n",
    "    description='DFT calculations using the CASTEP software',\n",
    "    files=None,\n",
    "    labels=['Monkhorst-Pack'],\n",
    ")\n",
    "\n",
    "ids = client2.insert_data(\n",
    "    configurations,\n",
    "    property_map=property_map,\n",
    "    property_settings={'energy-forces-stress': pso},\n",
    "    generator=False,\n",
    "    transform=tform,\n",
    "    verbose=True\n",
    ")"
   ]
  },
  {
   "cell_type": "code",
   "execution_count": 111,
   "id": "f0691838-e570-4bcf-8b6e-0c4e55fa50d6",
   "metadata": {},
   "outputs": [
    {
     "data": {
      "text/plain": [
       "50"
      ]
     },
     "execution_count": 111,
     "metadata": {},
     "output_type": "execute_result"
    }
   ],
   "source": [
    "all_co_ids, all_pr_ids = list(zip(*ids))\n",
    "\n",
    "len(all_co_ids)"
   ]
  },
  {
   "cell_type": "code",
   "execution_count": 115,
   "id": "b6c23195-a852-4286-a319-74d2e2d9f896",
   "metadata": {},
   "outputs": [
    {
     "name": "stdout",
     "output_type": "stream",
     "text": [
      "Help on method insert_dataset in module colabfit.tools.database:\n",
      "\n",
      "insert_dataset(cs_ids, pr_ids, name, authors=None, links=None, description='', resync=False, verbose=False) method of colabfit.tools.database.MongoDatabase instance\n",
      "    Inserts a dataset into the database.\n",
      "    \n",
      "    Args:\n",
      "    \n",
      "        cs_ids (list or str):\n",
      "            The IDs of the configuration sets to link to the dataset.\n",
      "    \n",
      "        pr_ids (list or str):\n",
      "            The IDs of the properties to link to the dataset\n",
      "    \n",
      "        name (str):\n",
      "            The name of the dataset\n",
      "    \n",
      "        authors (list or str or None):\n",
      "            The names of the authors of the dataset. If None, then no\n",
      "            authors are added.\n",
      "    \n",
      "        links (list or str or None):\n",
      "            External links (e.g., journal articles, Git repositories, ...)\n",
      "            to be associated with the dataset. If None, then no links are\n",
      "            added.\n",
      "    \n",
      "        description (str or None):\n",
      "            A human-readable description of the dataset. If None, then not\n",
      "            description is added.\n",
      "    \n",
      "        resync (bool):\n",
      "            If True, re-synchronizes the configuration sets and properties\n",
      "            before adding to the dataset. Default is False.\n",
      "    \n",
      "        verbose (bool, default=False):\n",
      "            If True, prints a progress bar\n",
      "    \n",
      "    Returns:\n",
      "    \n",
      "        ds_id (str):\n",
      "            The ID of the inserted dataset\n",
      "\n"
     ]
    }
   ],
   "source": [
    "help(client2.insert_dataset)"
   ]
  },
  {
   "cell_type": "code",
   "execution_count": 114,
   "id": "bc430811-6101-4b90-b668-7ad3829ba7a6",
   "metadata": {},
   "outputs": [],
   "source": [
    "new_cs_id = client2.insert_configuration_set(all_co_ids, description='An example configuration set that contains all of the configurations')"
   ]
  },
  {
   "cell_type": "code",
   "execution_count": 116,
   "id": "0718cc87-6158-4dd6-92f1-aefbb1df99fc",
   "metadata": {},
   "outputs": [
    {
     "data": {
      "text/plain": [
       "'Si_PRX_GAP-pbe'"
      ]
     },
     "execution_count": 116,
     "metadata": {},
     "output_type": "execute_result"
    }
   ],
   "source": [
    "dataset.name"
   ]
  },
  {
   "cell_type": "code",
   "execution_count": 117,
   "id": "55a4dcf8-3e86-4c6b-b329-6a29dfb02b39",
   "metadata": {},
   "outputs": [
    {
     "name": "stderr",
     "output_type": "stream",
     "text": [
      "Updating PR->DS relationships: 100%|█████████████████████████████████████████████████████████████████| 50/50 [00:00<00:00, 129453.83it/s]\n"
     ]
    },
    {
     "data": {
      "text/plain": [
       "'9569257247871315731'"
      ]
     },
     "execution_count": 117,
     "metadata": {},
     "output_type": "execute_result"
    }
   ],
   "source": [
    "new_ds_id = client2.insert_dataset(\n",
    "    cs_ids=[new_cs_id],\n",
    "    pr_ids=all_pr_ids,\n",
    "    name=dataset.name,\n",
    "    authors=dataset.authors,\n",
    "    links=dataset.links,\n",
    "    description=dataset.description,\n",
    ")\n",
    "new_ds_id"
   ]
  },
  {
   "cell_type": "code",
   "execution_count": 120,
   "id": "8f6ed032-6e50-4e74-b493-b778d34bcfb0",
   "metadata": {},
   "outputs": [
    {
     "name": "stderr",
     "output_type": "stream",
     "text": [
      "Aggregating configuration info: 100%|███████████████████████████████████████████████████████████████████| 50/50 [00:00<00:00, 313.97it/s]\n",
      "Aggregating property info: 100%|██████████████████████████████████████████████████████████████████████| 50/50 [00:00<00:00, 12647.16it/s]\n"
     ]
    }
   ],
   "source": [
    "dataset2 = client2.get_dataset(new_ds_id, resync=True, verbose=True)['dataset']"
   ]
  },
  {
   "cell_type": "code",
   "execution_count": 121,
   "id": "994f72d9-4b57-4591-93d9-6cbf9b45eee0",
   "metadata": {},
   "outputs": [
    {
     "name": "stdout",
     "output_type": "stream",
     "text": [
      "nconfigurations 50\n",
      "nsites 4800\n",
      "nelements 1\n",
      "chemical_systems ['Si']\n",
      "elements ['Si']\n",
      "individual_elements_ratios {'Si': [1.0]}\n",
      "total_elements_ratios {'Si': 1.0}\n",
      "configuration_labels ['surface', '111']\n",
      "configuration_labels_counts [50, 50]\n",
      "chemical_formula_reduced ['Si']\n",
      "chemical_formula_anonymous ['A']\n",
      "chemical_formula_hill ['Si96']\n",
      "nperiodic_dimensions [3]\n",
      "dimension_types [[1, 1, 1]]\n",
      "property_types ['energy-forces-stress']\n",
      "property_types_counts [50]\n",
      "property_fields ['energy-forces-stress.energy', 'energy-forces-stress.forces', 'energy-forces-stress.per-atom']\n",
      "property_fields_counts [50, 50, 50]\n",
      "methods ['CASTEP']\n",
      "methods_counts [50]\n",
      "property_labels ['Monkhorst-Pack']\n",
      "property_labels_counts [50]\n"
     ]
    }
   ],
   "source": [
    "for k,v in dataset2.aggregated_info.items():\n",
    "    print(k, v)"
   ]
  },
  {
   "cell_type": "code",
   "execution_count": null,
   "id": "95eb06c5-33ab-48c7-9706-4e4eee45c589",
   "metadata": {},
   "outputs": [],
   "source": []
  }
 ],
 "metadata": {
  "kernelspec": {
   "display_name": "Python 3 (ipykernel)",
   "language": "python",
   "name": "python3"
  },
  "language_info": {
   "codemirror_mode": {
    "name": "ipython",
    "version": 3
   },
   "file_extension": ".py",
   "mimetype": "text/x-python",
   "name": "python",
   "nbconvert_exporter": "python",
   "pygments_lexer": "ipython3",
   "version": "3.8.10"
  }
 },
 "nbformat": 4,
 "nbformat_minor": 5
}
