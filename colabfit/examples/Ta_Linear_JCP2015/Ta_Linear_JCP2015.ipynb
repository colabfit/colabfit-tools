{
 "cells": [
  {
   "cell_type": "code",
   "execution_count": null,
   "id": "684e98a0",
   "metadata": {},
   "outputs": [],
   "source": [
    "from colabfit.tools.database import MongoDatabase, load_data\n",
    "from colabfit.tools.property_settings import PropertySettings\n",
    "\n",
    "client = MongoDatabase('colabfit_rebuild', nprocs=1)"
   ]
  },
  {
   "cell_type": "code",
   "execution_count": null,
   "id": "6476303e",
   "metadata": {},
   "outputs": [],
   "source": [
    "import os\n",
    "import json\n",
    "import numpy as np\n",
    "from ase import Atoms\n",
    "\n",
    "def reader(file_path, **kwargs):\n",
    "    with open(file_path) as f:\n",
    "        data = json.loads('\\n'.join(f.readlines()[kwargs['header_lines']:]))\n",
    "\n",
    "    symbols     = data['Dataset']['Data'][0]['AtomTypes']\n",
    "    positions   = np.array(data['Dataset']['Data'][0]['Positions'])\n",
    "    box         = np.array(data['Dataset']['Data'][0]['Lattice'])\n",
    "\n",
    "    at_name = os.path.splitext(str(file_path).split('JSON')[1][1:])[0]\n",
    "\n",
    "    try:\n",
    "        atoms = Atoms(symbols, positions=positions, cell=box, pbc=[1, 1, 1])\n",
    "    except Exception as e:\n",
    "        print(\"Error on :\", at_name, e, set(symbols))\n",
    "        symbols = symbols[1:]\n",
    "        atoms = Atoms(symbols, positions=positions, cell=box, pbc=[1, 1, 1])\n",
    "\n",
    "    atoms.info['name']      = at_name\n",
    "    atoms.info['energy']    = data['Dataset']['Data'][0]['Energy']\n",
    "    atoms.arrays['forces']  = np.array(\n",
    "        data['Dataset']['Data'][0]['Forces']\n",
    "    )\n",
    "\n",
    "    atoms.info['stress'] = np.array(data['Dataset']['Data'][0]['Stress'])\n",
    "    \n",
    "    atoms.info['per-atom'] = False\n",
    "    \n",
    "    yield atoms"
   ]
  },
  {
   "cell_type": "code",
   "execution_count": null,
   "id": "46662706",
   "metadata": {},
   "outputs": [],
   "source": [
    "name = 'Ta_Linear_JCP2015'\n",
    "\n",
    "configurations = list(load_data(\n",
    "    file_path='/colabfit/data/FitSNAP/examples/Ta_Linear_JCP2014/JSON',\n",
    "    file_format='folder',\n",
    "    name_field='name',\n",
    "    elements=['Ta'],\n",
    "    default_name=name,\n",
    "    reader=reader,\n",
    "    glob_string='*.json',\n",
    "    # verbose=True,\n",
    "    header_lines=1\n",
    "))"
   ]
  },
  {
   "cell_type": "code",
   "execution_count": null,
   "id": "95355da9",
   "metadata": {},
   "outputs": [],
   "source": [
    "property_map = {\n",
    "    'energy-forces-stress': [{\n",
    "        # ColabFit name: {'field': ASE field name, 'units': str}\n",
    "        'energy': {'field': 'energy', 'units': 'eV'},\n",
    "        'forces': {'field': 'forces', 'units': 'eV/Ang'},\n",
    "        'stress': {'field': 'virial', 'units': 'bar'},\n",
    "        'per-atom': {'field': 'per-atom', 'units': None},\n",
    "        \n",
    "        '_settings': {\n",
    "            '_method': 'VASP',\n",
    "            '_description': 'energy/forces/stresses',\n",
    "            '_files': None,\n",
    "            '_labels': ['PBE', 'GGA']\n",
    "        }\n",
    "    }]\n",
    "}"
   ]
  },
  {
   "cell_type": "code",
   "execution_count": null,
   "id": "0376a16f",
   "metadata": {},
   "outputs": [],
   "source": [
    "ids = list(client.insert_data(\n",
    "    configurations,\n",
    "    property_map=property_map,\n",
    "    generator=False,\n",
    "    verbose=True\n",
    "))\n",
    "\n",
    "all_co_ids, all_pr_ids = list(zip(*ids))"
   ]
  },
  {
   "cell_type": "code",
   "execution_count": null,
   "id": "4e23bcd9",
   "metadata": {},
   "outputs": [],
   "source": [
    "len(set(all_co_ids))"
   ]
  },
  {
   "cell_type": "code",
   "execution_count": null,
   "id": "77d5c75b",
   "metadata": {},
   "outputs": [],
   "source": [
    "len(set(all_pr_ids))"
   ]
  },
  {
   "cell_type": "code",
   "execution_count": null,
   "id": "a46ef09c",
   "metadata": {},
   "outputs": [],
   "source": [
    "configuration_set_regexes = {\n",
    "    '.*':\n",
    "        'Solid and liquid tantalum',\n",
    "    'Displaced_A15':\n",
    "        'A15 configurations with random displacements on the atomic positions',\n",
    "    'Displaced_BCC':\n",
    "        'BCC configurations with random displacements on the atomic positions',\n",
    "    'Displaced_FCC':\n",
    "        'FCC configurations with random displacements on the atomic positions',\n",
    "    'Elastic_BCC':\n",
    "        'BCC primitive cells with random strains',\n",
    "    'Elastic_FCC':\n",
    "        'FCC primitive cells with random strains',\n",
    "    'GSF_(110|112)':\n",
    "        'Relaxed and unrelaxed generalized stacking faults along the [110] '\\\n",
    "        'and [112] crystallographic directions',\n",
    "    'Liquid':\n",
    "        'High-temperature AIMD sampling of molten tantalum',\n",
    "    'Surface':\n",
    "        'Relaxed and unrelaxed [100], [110], [111], and [112] BCC surfaces',\n",
    "    'Volume_A15':\n",
    "        'A15 primitive cells, compressed or expanded isotropically over a '\\\n",
    "        'wide range of densities',\n",
    "    'Volume_BCC':\n",
    "        'BCC primitive cells, compressed or expanded isotropically over a '\\\n",
    "        'wide range of densities',\n",
    "    'Volume_FCC':\n",
    "        'FCC primitive cells, compressed or expanded isotropically over a '\\\n",
    "        'wide range of densities',\n",
    "}\n",
    "\n",
    "cs_ids = []\n",
    "\n",
    "for i, (regex, desc) in enumerate(configuration_set_regexes.items()):\n",
    "    co_ids = client.get_data(\n",
    "        'configurations',\n",
    "        fields='_id',\n",
    "        query={'_id': {'$in': all_co_ids}, 'names': {'$regex': regex}},\n",
    "        ravel=True\n",
    "    ).tolist()\n",
    "\n",
    "    print(f'Configuration set {i}', f'({regex}):'.rjust(22), f'{len(co_ids)}'.rjust(7))\n",
    "\n",
    "    cs_id = client.insert_configuration_set(co_ids, description=desc)\n",
    "\n",
    "    cs_ids.append(cs_id)"
   ]
  },
  {
   "cell_type": "code",
   "execution_count": null,
   "id": "2245fc3c",
   "metadata": {},
   "outputs": [],
   "source": [
    "ds_id = client.insert_dataset(\n",
    "    cs_ids=cs_ids,\n",
    "    pr_ids=all_pr_ids,\n",
    "    name='Ta_Linear_JCP2015',\n",
    "    authors=[\n",
    "        'A. P. Thompson', 'L. P. Swiler', 'C. R. Trott', 'S. M. Foiles',\n",
    "        'G. J. Tucker'\n",
    "    ],\n",
    "    links=[\n",
    "        'https://www.sciencedirect.com/science/article/pii/S0021999114008353',\n",
    "        'https://github.com/FitSNAP/FitSNAP/tree/master/examples/Ta_Linear_JCP2014',\n",
    "    ],\n",
    "    description='This data set was originally used to generate a '\\\n",
    "    'linear SNAP potential for solid and liquid tantalum as published in '\\\n",
    "    'Thompson, A.P. et. al, J. Comp. Phys. 285 (2015) 316-330.',\n",
    "    resync=True,\n",
    "    verbose=True,\n",
    ")\n",
    "ds_id"
   ]
  },
  {
   "cell_type": "code",
   "execution_count": null,
   "id": "10628ff7",
   "metadata": {},
   "outputs": [],
   "source": [
    "configuration_label_regexes = {\n",
    "    'A15':\n",
    "        'a15',\n",
    "    'BCC':\n",
    "        'bcc',\n",
    "    'FCC':\n",
    "        'fcc',\n",
    "    'GSF':\n",
    "        'stacking_fault',\n",
    "    'Liquid':\n",
    "        'liquid',\n",
    "    'Surface':\n",
    "        'surface',\n",
    "}\n",
    "\n",
    "for regex, labels in configuration_label_regexes.items():\n",
    "    client.apply_labels(\n",
    "        dataset_id=ds_id,\n",
    "        collection_name='configurations',\n",
    "        query={'_id': {'$in': all_co_ids}, 'names': {'$regex': regex}},\n",
    "        labels=labels,\n",
    "        verbose=True\n",
    "    )"
   ]
  },
  {
   "cell_type": "code",
   "execution_count": null,
   "id": "3e1bd8ea",
   "metadata": {},
   "outputs": [],
   "source": [
    "dataset = client.get_dataset(ds_id, resync=True, verbose=True)['dataset']\n",
    "\n",
    "for k,v in dataset.aggregated_info.items():\n",
    "    print(k,v)"
   ]
  },
  {
   "cell_type": "code",
   "execution_count": null,
   "id": "c72faac1",
   "metadata": {},
   "outputs": [],
   "source": [
    "dataset.aggregated_info['property_fields']"
   ]
  },
  {
   "cell_type": "code",
   "execution_count": null,
   "id": "daa9e726",
   "metadata": {},
   "outputs": [],
   "source": [
    "fig = client.plot_histograms(dataset.aggregated_info['property_fields'], ids=dataset.property_ids, yscale='log')"
   ]
  },
  {
   "cell_type": "raw",
   "id": "57eb2f6b",
   "metadata": {},
   "source": [
    "client.dataset_to_markdown(\n",
    "    ds_id=ds_id,\n",
    "    base_folder='/colabfit/markdown/'+dataset.name,\n",
    "    html_file_name='README.md',\n",
    "    data_format='mongo',\n",
    "    data_file_name=None,\n",
    "    yscale='log'\n",
    ")"
   ]
  },
  {
   "cell_type": "code",
   "execution_count": null,
   "id": "d5c4f111",
   "metadata": {},
   "outputs": [],
   "source": []
  }
 ],
 "metadata": {
  "kernelspec": {
   "display_name": "Python 3 (ipykernel)",
   "language": "python",
   "name": "python3"
  },
  "language_info": {
   "codemirror_mode": {
    "name": "ipython",
    "version": 3
   },
   "file_extension": ".py",
   "mimetype": "text/x-python",
   "name": "python",
   "nbconvert_exporter": "python",
   "pygments_lexer": "ipython3",
   "version": "3.8.10"
  }
 },
 "nbformat": 4,
 "nbformat_minor": 5
}
