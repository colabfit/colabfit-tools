{
 "cells": [
  {
   "cell_type": "code",
   "execution_count": null,
   "id": "684e98a0",
   "metadata": {},
   "outputs": [],
   "source": [
    "from colabfit.tools.database import MongoDatabase, load_data\n",
    "from colabfit.tools.property_settings import PropertySettings\n",
    "from colabfit.tools.configuration import AtomicConfiguration\n",
    "\n",
    "client = MongoDatabase('colabfit_rebuild2', configuration_type=AtomicConfiguration, nprocs=1)"
   ]
  },
  {
   "cell_type": "code",
   "execution_count": null,
   "id": "46662706",
   "metadata": {},
   "outputs": [],
   "source": [
    "name = 'CoNbV_CMS2019'\n",
    "\n",
    "configurations = load_data(\n",
    "    file_path='../../../data/gubaev/CoNbV/train.cfg',\n",
    "    file_format='cfg',\n",
    "    name_field=None,\n",
    "    elements=['Co', 'Nb', 'V'],\n",
    "    default_name=name,\n",
    "    verbose=True,\n",
    "    generator=False,\n",
    ")"
   ]
  },
  {
   "cell_type": "code",
   "execution_count": null,
   "id": "95355da9",
   "metadata": {},
   "outputs": [],
   "source": [
    "property_map = {\n",
    "    'potential-energy': [{\n",
    "        'energy':   {'field': 'energy',  'units': 'eV'},\n",
    "        'per-atom': {'field': 'per-atom', 'units': None},\n",
    "        \n",
    "        '_settings': {\n",
    "            'method': 'VASP',\n",
    "            'description': 'static calculation',\n",
    "            'files': None,\n",
    "            'labels': None\n",
    "        }\n",
    "    }],\n",
    "    \n",
    "    'atomic-forces': [{\n",
    "        'forces':   {'field': 'forces',  'units': 'eV/Ang'},\n",
    "        \n",
    "        '_settings': {\n",
    "            'method': 'VASP',\n",
    "            'description': 'Static calculation',\n",
    "            'files': None,\n",
    "            'labels': None\n",
    "        }\n",
    "    }],\n",
    "    \n",
    "    'cauchy-stress': [{\n",
    "        'stress':   {'field': 'virial',  'units': 'GPa'},\n",
    "        \n",
    "        '_settings': {\n",
    "            'method': 'VASP',\n",
    "            'description': 'Static calculation',\n",
    "            'files': None,\n",
    "            'labels': None\n",
    "        }\n",
    "    }],\n",
    "}"
   ]
  },
  {
   "cell_type": "code",
   "execution_count": null,
   "id": "5b6d63c0-a7ee-473b-adbe-9ac978ee202c",
   "metadata": {},
   "outputs": [],
   "source": [
    "def tform(c):\n",
    "    c.info['per-atom'] = False"
   ]
  },
  {
   "cell_type": "code",
   "execution_count": null,
   "id": "0376a16f",
   "metadata": {},
   "outputs": [],
   "source": [
    "ids = list(client.insert_data(\n",
    "    configurations,\n",
    "    property_map=property_map,\n",
    "    generator=False,\n",
    "    transform=tform,\n",
    "    verbose=True\n",
    "))\n",
    "\n",
    "all_co_ids, all_pr_ids = list(zip(*ids))"
   ]
  },
  {
   "cell_type": "code",
   "execution_count": null,
   "id": "4e23bcd9",
   "metadata": {},
   "outputs": [],
   "source": [
    "len(set(all_co_ids))"
   ]
  },
  {
   "cell_type": "code",
   "execution_count": null,
   "id": "77d5c75b",
   "metadata": {},
   "outputs": [],
   "source": [
    "len(set(all_pr_ids))"
   ]
  },
  {
   "cell_type": "code",
   "execution_count": null,
   "id": "a46ef09c",
   "metadata": {},
   "outputs": [],
   "source": [
    "cs_regexes = {\n",
    "    '.*':\n",
    "        'Configurations generated using active learning by iteratively '\\\n",
    "        'fitting a MTP model, identifying configurations that required the '\\\n",
    "        'MTP to extrapolate, re-computing the energies/forces/structures of '\\\n",
    "        'those configurations with DFT, then retraining the MTP model.',\n",
    "}\n",
    "\n",
    "cs_ids = []\n",
    "\n",
    "for i, (regex, desc) in enumerate(cs_regexes.items()):\n",
    "    co_ids = client.get_data(\n",
    "        'configurations',\n",
    "        fields='colabfit_id',\n",
    "        query={'colabfit_id': {'$in': all_co_ids}, 'names': {'$regex': regex}},\n",
    "        ravel=True\n",
    "    ).tolist()\n",
    "\n",
    "    print(f'Configuration set {i}', f'({regex}):'.rjust(22), f'{len(co_ids)}'.rjust(7))\n",
    "\n",
    "    cs_id = client.insert_configuration_set(co_ids, description=desc)\n",
    "\n",
    "    cs_ids.append(cs_id)"
   ]
  },
  {
   "cell_type": "code",
   "execution_count": null,
   "id": "2245fc3c",
   "metadata": {},
   "outputs": [],
   "source": [
    "ds_id = client.insert_dataset(\n",
    "    cs_ids=cs_ids,\n",
    "    pr_ids=all_pr_ids,\n",
    "    name='CoNbV_CMS2019',\n",
    "    authors=[\n",
    "        'K. Gubaev', 'E. V. Podryabinkin', 'G. L. W. Hart', 'A. V. Shapeev'\n",
    "    ],\n",
    "    links=[\n",
    "        'https://www.sciencedirect.com/science/article/pii/S0927025618306372?via%3Dihub',\n",
    "        'https://gitlab.com/kgubaev/accelerating-high-throughput-searches-for-new-alloys-with-active-learning-data',\n",
    "    ],\n",
    "    description =  'This dataset was generated using the following active '\\\n",
    "    'learning scheme: 1) candidate structures relaxed by a partially-trained '\\\n",
    "    'MTP model, 2) structures for which the MTP had to perform extrapolation '\\\n",
    "    'are passed to DFT to be re-computed, 3) the MTP is retrained included '\\\n",
    "    'the structures that were re-computed with DFT, 4) steps 1-3 are repeated '\\\n",
    "    'until the MTP does not extrapolate on any of the original candidate '\\\n",
    "    'structures. The original candidate structures for this dataset included '\\\n",
    "    'about 27,000 configurations that were bcc-like and close-packed (fcc, '\\\n",
    "    'hcp, etc.) with 8 or less atoms in the unit cell and different '\\\n",
    "    'concentrations of Co, Nb, and V.',\n",
    "    resync=True,\n",
    "    verbose=True,\n",
    ")"
   ]
  },
  {
   "cell_type": "code",
   "execution_count": null,
   "id": "ed971ab8",
   "metadata": {},
   "outputs": [],
   "source": [
    "client.apply_labels(\n",
    "    dataset_id=ds_id,\n",
    "    collection_name='configurations',\n",
    "    query={'colabfit_id': {'$in': all_co_ids}},\n",
    "    labels='active_learning',\n",
    "    verbose=True\n",
    ")"
   ]
  },
  {
   "cell_type": "code",
   "execution_count": null,
   "id": "3e1bd8ea",
   "metadata": {},
   "outputs": [],
   "source": [
    "# ds_id = 'DS_911472907883_000'\n",
    "\n",
    "dataset = client.get_dataset(ds_id, resync=True, verbose=True)['dataset']\n",
    "\n",
    "for k,v in dataset.aggregated_info.items():\n",
    "    print(k,v)"
   ]
  },
  {
   "cell_type": "code",
   "execution_count": null,
   "id": "c72faac1",
   "metadata": {},
   "outputs": [],
   "source": [
    "dataset.aggregated_info['property_fields']"
   ]
  },
  {
   "cell_type": "code",
   "execution_count": null,
   "id": "daa9e726",
   "metadata": {},
   "outputs": [],
   "source": [
    "fig = client.plot_histograms(dataset.aggregated_info['property_fields'], ids=dataset.property_ids, method='matplotlib')"
   ]
  },
  {
   "cell_type": "raw",
   "id": "fa915699",
   "metadata": {},
   "source": [
    "client.dataset_to_markdown(\n",
    "    ds_id=ds_id,\n",
    "    base_folder='/colabfit/markdown/'+dataset.name,\n",
    "    html_file_name='README.md',\n",
    "    data_format='mongo',\n",
    "    data_file_name=None,\n",
    ")"
   ]
  },
  {
   "cell_type": "code",
   "execution_count": null,
   "id": "9386c96b",
   "metadata": {},
   "outputs": [],
   "source": []
  }
 ],
 "metadata": {
  "kernelspec": {
   "display_name": "Python 3 (ipykernel)",
   "language": "python",
   "name": "python3"
  },
  "language_info": {
   "codemirror_mode": {
    "name": "ipython",
    "version": 3
   },
   "file_extension": ".py",
   "mimetype": "text/x-python",
   "name": "python",
   "nbconvert_exporter": "python",
   "pygments_lexer": "ipython3",
   "version": "3.8.11"
  }
 },
 "nbformat": 4,
 "nbformat_minor": 5
}
