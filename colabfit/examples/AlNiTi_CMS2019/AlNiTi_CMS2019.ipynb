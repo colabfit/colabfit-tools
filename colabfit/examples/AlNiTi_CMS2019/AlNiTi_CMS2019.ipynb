{
 "cells": [
  {
   "cell_type": "code",
   "execution_count": null,
   "id": "684e98a0",
   "metadata": {},
   "outputs": [],
   "source": [
    "from colabfit.tools.database import MongoDatabase, load_data\n",
    "from colabfit.tools.property_settings import PropertySettings\n",
    "\n",
    "client = MongoDatabase('colabfit_rebuild', nprocs=1, drop_database=True)"
   ]
  },
  {
   "cell_type": "code",
   "execution_count": null,
   "id": "46662706",
   "metadata": {},
   "outputs": [],
   "source": [
    "configurations = load_data(\n",
    "    file_path='/colabfit/data/gubaev/AlNiTi/train_1st_stage.cfg',\n",
    "    file_format='cfg',\n",
    "    name_field=None,\n",
    "    elements=['Al', 'Ni', 'Ti'],\n",
    "    default_name='train_1st_stage',\n",
    "    verbose=True,\n",
    "    generator=False\n",
    ")\n",
    "\n",
    "configurations += load_data(\n",
    "    file_path='/colabfit/data/gubaev/AlNiTi/train_2nd_stage.cfg',\n",
    "    file_format='cfg',\n",
    "    name_field=None,\n",
    "    elements=['Al', 'Ni', 'Ti'],\n",
    "    default_name='train_2nd_stage',\n",
    "    verbose=True,\n",
    "    generator=False\n",
    ")"
   ]
  },
  {
   "cell_type": "code",
   "execution_count": null,
   "id": "948beee7",
   "metadata": {},
   "outputs": [],
   "source": [
    "client.insert_property_definition({\n",
    "    'property-id': 'energy-forces-stress',\n",
    "    'property-title': 'Basic outputs from a static calculation',\n",
    "    'property-description':\n",
    "        'Energy, forces, and stresses from a calculation of a '\\\n",
    "        'static configuration. Energies must be specified to be '\\\n",
    "        'per-atom or supercell. If a reference energy has been '\\\n",
    "        'used, this must be specified as well.',\n",
    "\n",
    "    'energy': {\n",
    "        'type': 'float',\n",
    "        'has-unit': True,\n",
    "        'extent': [],\n",
    "        'required': False,\n",
    "        'description':\n",
    "            'The potential energy of the system.'\n",
    "    },\n",
    "    'forces': {\n",
    "        'type': 'float',\n",
    "        'has-unit': True,\n",
    "        'extent': [\":\", 3],\n",
    "        'required': False,\n",
    "        'description':\n",
    "            'The [x,y,z] components of the force on each particle.'\n",
    "    },\n",
    "    'stress': {\n",
    "        'type': 'float',\n",
    "        'has-unit': True,\n",
    "        'extent': [3, 3],\n",
    "        'required': False,\n",
    "        'description':\n",
    "            'The full Cauchy stress tensor of the simulation cell'\n",
    "    },\n",
    "\n",
    "    'per-atom': {\n",
    "        'type': 'bool',\n",
    "        'has-unit': False,\n",
    "        'extent': [],\n",
    "        'required': True,\n",
    "        'description':\n",
    "            'If True, \"energy\" is the total energy of the system, '\\\n",
    "            'and has NOT been divided by the number of atoms in the '\\\n",
    "            'configuration.'\n",
    "    },\n",
    "    'reference-energy': {\n",
    "        'type': 'float',\n",
    "        'has-unit': True,\n",
    "        'extent': [],\n",
    "        'required': False,\n",
    "        'description':\n",
    "            'If provided, then \"energy\" is the energy (either of '\\\n",
    "            'the whole system, or per-atom) LESS the energy of '\\\n",
    "            'a reference configuration (E = E_0 - E_reference). '\\\n",
    "            'Note that \"reference-energy\" is just provided for '\\\n",
    "            'documentation, and that \"energy\" should already have '\\\n",
    "            'this value subtracted off. The reference energy must '\\\n",
    "            'have the same units as \"energy\".'\n",
    "    },\n",
    "})"
   ]
  },
  {
   "cell_type": "code",
   "execution_count": null,
   "id": "95355da9",
   "metadata": {},
   "outputs": [],
   "source": [
    "property_map = {\n",
    "    'energy-forces-stress': [{\n",
    "        # ColabFit name: {'field': ASE field name, 'units': str}\n",
    "        'energy':   {'field': 'energy',  'units': 'eV'},\n",
    "        'forces':   {'field': 'forces',  'units': 'eV/Ang'},\n",
    "        'stress':   {'field': 'virial',  'units': 'GPa'},\n",
    "        'per-atom': {'field': 'per-atom', 'units': None},\n",
    "        \n",
    "        '_settings': {\n",
    "            '_method': 'VASP',\n",
    "            '_description': 'energy/forces/stresses',\n",
    "            '_files': None,\n",
    "            '_labels': None\n",
    "        }\n",
    "    }]\n",
    "}"
   ]
  },
  {
   "cell_type": "code",
   "execution_count": null,
   "id": "b961ef18-b67c-4d23-a235-a849270d0859",
   "metadata": {},
   "outputs": [],
   "source": [
    "def tform(c):\n",
    "    c.info['per-atom'] = False"
   ]
  },
  {
   "cell_type": "code",
   "execution_count": null,
   "id": "0376a16f",
   "metadata": {},
   "outputs": [],
   "source": [
    "ids = list(client.insert_data(\n",
    "    configurations,\n",
    "    property_map=property_map,\n",
    "    generator=False,\n",
    "    transform=tform,\n",
    "    verbose=True\n",
    "))\n",
    "\n",
    "all_co_ids, all_pr_ids = list(zip(*ids))"
   ]
  },
  {
   "cell_type": "code",
   "execution_count": null,
   "id": "4e23bcd9",
   "metadata": {},
   "outputs": [],
   "source": [
    "len(set(all_co_ids))"
   ]
  },
  {
   "cell_type": "code",
   "execution_count": null,
   "id": "77d5c75b",
   "metadata": {},
   "outputs": [],
   "source": [
    "len(set(all_pr_ids))"
   ]
  },
  {
   "cell_type": "code",
   "execution_count": null,
   "id": "a46ef09c",
   "metadata": {},
   "outputs": [],
   "source": [
    "cs_regexes = {\n",
    "    '.*':\n",
    "        'Configurations generated using active learning by iteratively '\\\n",
    "        'fitting a MTP model, identifying configurations that required the '\\\n",
    "        'MTP to extrapolate, re-computing the energies/forces/structures of '\\\n",
    "        'those configurations with DFT, then retraining the MTP model.',\n",
    "    'train_1st_stage':\n",
    "        'Configurations used in the first stage of training',\n",
    "    'train_2nd_stage':\n",
    "        'Configurations used in the second stage of training',\n",
    "}\n",
    "\n",
    "cs_ids = []\n",
    "\n",
    "for i, (regex, desc) in enumerate(cs_regexes.items()):\n",
    "    co_ids = client.get_data(\n",
    "        'configurations',\n",
    "        fields='_id',\n",
    "        query={'_id': {'$in': all_co_ids}, 'names': {'$regex': regex}},\n",
    "        ravel=True\n",
    "    ).tolist()\n",
    "\n",
    "    print(f'Configuration set {i}', f'({regex}):'.rjust(22), f'{len(co_ids)}'.rjust(7))\n",
    "\n",
    "    cs_id = client.insert_configuration_set(co_ids, description=desc, verbose=True)\n",
    "\n",
    "    cs_ids.append(cs_id)"
   ]
  },
  {
   "cell_type": "code",
   "execution_count": null,
   "id": "2245fc3c",
   "metadata": {},
   "outputs": [],
   "source": [
    "ds_id = client.insert_dataset(\n",
    "    cs_ids=cs_ids,\n",
    "    pr_ids=all_pr_ids,\n",
    "    name='AlNiTi_CMS2019',\n",
    "    authors=[\n",
    "        'K. Gubaev', 'E. V. Podryabinkin', 'G. L. W. Hart', 'A. V. Shapeev'\n",
    "    ],\n",
    "    links=[\n",
    "        'https://www.sciencedirect.com/science/article/pii/S0927025618306372?via%3Dihub',\n",
    "        'https://gitlab.com/kgubaev/accelerating-high-throughput-searches-for-new-alloys-with-active-learning-data',\n",
    "    ],\n",
    "    description =  'This dataset was generated using the following active '\\\n",
    "    'learning scheme: 1) candidate structures relaxed by a partially-trained '\\\n",
    "    'MTP model, 2) structures for which the MTP had to perform extrapolation '\\\n",
    "    'are passed to DFT to be re-computed, 3) the MTP is retrained included '\\\n",
    "    'the structures that were re-computed with DFT, 4) steps 1-3 are repeated '\\\n",
    "    'until the MTP does not extrapolate on any of the original candidate '\\\n",
    "    'structures. The original candidate structures for this dataset included '\\\n",
    "    'about 375,000 binary and ternary structures enumerating all possible '\\\n",
    "    'unit cells with different symmetries (BCC, FCC, and HCP) and different '\\\n",
    "    'number of atoms',\n",
    "    resync=True,\n",
    "    verbose=True,\n",
    ")\n",
    "ds_id"
   ]
  },
  {
   "cell_type": "code",
   "execution_count": null,
   "id": "ed971ab8",
   "metadata": {},
   "outputs": [],
   "source": [
    "client.apply_labels(\n",
    "    dataset_id=ds_id,\n",
    "    collection_name='configurations',\n",
    "    query={'_id': {'$in': all_co_ids}},\n",
    "    labels='active_learning',\n",
    "    verbose=True\n",
    ")"
   ]
  },
  {
   "cell_type": "code",
   "execution_count": null,
   "id": "3e1bd8ea",
   "metadata": {},
   "outputs": [],
   "source": [
    "# ds_id = 'DS_930103518389_000'\n",
    "\n",
    "dataset = client.get_dataset(ds_id, resync=True, verbose=True)['dataset']\n",
    "\n",
    "for k,v in dataset.aggregated_info.items():\n",
    "    print(k,v)"
   ]
  },
  {
   "cell_type": "code",
   "execution_count": null,
   "id": "c72faac1",
   "metadata": {},
   "outputs": [],
   "source": [
    "dataset.aggregated_info['property_fields']"
   ]
  },
  {
   "cell_type": "code",
   "execution_count": null,
   "id": "daa9e726",
   "metadata": {},
   "outputs": [],
   "source": [
    "_ = client.plot_histograms(dataset.aggregated_info['property_fields'], ids=dataset.property_ids, method='matplotlib', yscale='log')"
   ]
  },
  {
   "cell_type": "raw",
   "id": "842a2daa",
   "metadata": {},
   "source": [
    "client.dataset_to_markdown(\n",
    "    ds_id=ds_id,\n",
    "    base_folder='/colabfit/markdown/'+dataset.name,\n",
    "    html_file_name='README.md',\n",
    "    data_format='mongo',\n",
    "    data_file_name=None,\n",
    "    yscale='log'\n",
    ")"
   ]
  },
  {
   "cell_type": "code",
   "execution_count": null,
   "id": "14ee80a9-3769-486d-af5e-547d8b049042",
   "metadata": {},
   "outputs": [],
   "source": []
  }
 ],
 "metadata": {
  "kernelspec": {
   "display_name": "Python 3 (ipykernel)",
   "language": "python",
   "name": "python3"
  },
  "language_info": {
   "codemirror_mode": {
    "name": "ipython",
    "version": 3
   },
   "file_extension": ".py",
   "mimetype": "text/x-python",
   "name": "python",
   "nbconvert_exporter": "python",
   "pygments_lexer": "ipython3",
   "version": "3.8.10"
  }
 },
 "nbformat": 4,
 "nbformat_minor": 5
}
