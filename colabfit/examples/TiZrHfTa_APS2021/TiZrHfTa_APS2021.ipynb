{
 "cells": [
  {
   "cell_type": "code",
   "execution_count": null,
   "id": "684e98a0",
   "metadata": {},
   "outputs": [],
   "source": [
    "from colabfit.tools.database import MongoDatabase, load_data\n",
    "from colabfit.tools.property_settings import PropertySettings\n",
    "\n",
    "client = MongoDatabase('colabfit_rebuild', nprocs=6)"
   ]
  },
  {
   "cell_type": "code",
   "execution_count": null,
   "id": "46662706",
   "metadata": {},
   "outputs": [],
   "source": [
    "name = 'TiZrHfTa_APS2021'\n",
    "\n",
    "configurations = list(load_data(\n",
    "    file_path='/colabfit/data/gubaev/TiZrHfTa_APS2021/train.cfg',\n",
    "    file_format='cfg',\n",
    "    name_field=None,\n",
    "    elements=['Ti', 'Zr', 'Hf', 'Ta'],\n",
    "    default_name=name,\n",
    "    verbose=True,\n",
    "))"
   ]
  },
  {
   "cell_type": "code",
   "execution_count": null,
   "id": "95355da9",
   "metadata": {},
   "outputs": [],
   "source": [
    "property_map = {\n",
    "    'energy-forces-stress': [{\n",
    "        # ColabFit name: {'field': ASE field name, 'units': str}\n",
    "        'energy': {'field': 'energy', 'units': 'eV'},\n",
    "        'forces': {'field': 'forces', 'units': 'eV/Ang'},\n",
    "        'stress': {'field': 'virial', 'units': 'GPa'},\n",
    "        'per-atom': {'field': 'per-atom', 'units': None},\n",
    "        \n",
    "        '_settings': {\n",
    "            '_method': 'VASP',\n",
    "            '_description': 'energy/forces/stresses',\n",
    "            '_files': None,\n",
    "            '_labels': ['PBE', 'GGA']\n",
    "        }\n",
    "    }]\n",
    "}"
   ]
  },
  {
   "cell_type": "code",
   "execution_count": null,
   "id": "2858ace2-757e-4f49-a5d0-8852038e63b3",
   "metadata": {},
   "outputs": [],
   "source": [
    "def tform(c):\n",
    "    c.info['per-atom'] = False"
   ]
  },
  {
   "cell_type": "code",
   "execution_count": null,
   "id": "0376a16f",
   "metadata": {},
   "outputs": [],
   "source": [
    "ids = list(client.insert_data(\n",
    "    configurations,\n",
    "    property_map=property_map,\n",
    "    generator=False,\n",
    "    transform=tform,\n",
    "    verbose=True\n",
    "))\n",
    "\n",
    "all_co_ids, all_pr_ids = list(zip(*ids))"
   ]
  },
  {
   "cell_type": "code",
   "execution_count": null,
   "id": "4e23bcd9",
   "metadata": {},
   "outputs": [],
   "source": [
    "len(set(all_co_ids))"
   ]
  },
  {
   "cell_type": "code",
   "execution_count": null,
   "id": "77d5c75b",
   "metadata": {},
   "outputs": [],
   "source": [
    "len(set(all_pr_ids))"
   ]
  },
  {
   "cell_type": "markdown",
   "id": "aff46ec2",
   "metadata": {},
   "source": [
    "Note: this dataset has many duplicate configurations"
   ]
  },
  {
   "cell_type": "code",
   "execution_count": null,
   "id": "ab3270aa",
   "metadata": {},
   "outputs": [],
   "source": [
    "client.configurations.count_documents({'_id': {'$in': all_co_ids}, 'names.1': {'$exists': True}})"
   ]
  },
  {
   "cell_type": "markdown",
   "id": "f037bbf4",
   "metadata": {},
   "source": [
    "It also has two properties pointing to the same configuration, but with a single force component different by 1e-6"
   ]
  },
  {
   "cell_type": "code",
   "execution_count": null,
   "id": "afc0fb1b",
   "metadata": {},
   "outputs": [],
   "source": [
    "client.configurations.count_documents({'_id': {'$in': all_co_ids}, 'relationships.properties.1': {'$exists': True}})"
   ]
  },
  {
   "cell_type": "code",
   "execution_count": null,
   "id": "e1c68541",
   "metadata": {},
   "outputs": [],
   "source": [
    "duplicate_pr_ids = client.configurations.find_one(\n",
    "    {'_id': {'$in': all_co_ids}, 'relationships.properties.1': {'$exists': True}},\n",
    "    {'relationships.properties'}\n",
    ")['relationships']['properties']\n",
    "duplicate_pr_ids"
   ]
  },
  {
   "cell_type": "code",
   "execution_count": null,
   "id": "d67e69fc",
   "metadata": {},
   "outputs": [],
   "source": [
    "pr0 = client.properties.find_one({'_id': duplicate_pr_ids[0]})\n",
    "pr1 = client.properties.find_one({'_id': duplicate_pr_ids[1]})"
   ]
  },
  {
   "cell_type": "code",
   "execution_count": null,
   "id": "67cc3d0e",
   "metadata": {},
   "outputs": [],
   "source": [
    "import numpy as np\n",
    "\n",
    "f1 = np.array(pr0['energy-forces-stress']['forces']['source-value'])\n",
    "f2 = np.array(pr1['energy-forces-stress']['forces']['source-value'])\n",
    "\n",
    "diff = np.abs(f1-f2)\n",
    "print(np.max(diff))\n",
    "\n",
    "np.where(diff > 0)"
   ]
  },
  {
   "cell_type": "code",
   "execution_count": null,
   "id": "a46ef09c",
   "metadata": {},
   "outputs": [],
   "source": [
    "configuration_set_regexes = {\n",
    "    '.*':\n",
    "        'Configurations for the TiZrHfTa_x system with Ta concentrations '\\\n",
    "        'between 0 and 33 percent generated via active learning.'\n",
    "}\n",
    "\n",
    "cs_ids = []\n",
    "\n",
    "for i, (regex, desc) in enumerate(configuration_set_regexes.items()):\n",
    "    co_ids = client.get_data(\n",
    "        'configurations',\n",
    "        fields='_id',\n",
    "        query={'_id': {'$in': all_co_ids}, 'names': {'$regex': regex}},\n",
    "        ravel=True\n",
    "    ).tolist()\n",
    "\n",
    "    print(f'Configuration set {i}', f'({regex}):'.rjust(22), f'{len(co_ids)}'.rjust(7))\n",
    "\n",
    "    cs_id = client.insert_configuration_set(co_ids, description=desc)\n",
    "\n",
    "    cs_ids.append(cs_id)"
   ]
  },
  {
   "cell_type": "code",
   "execution_count": null,
   "id": "2245fc3c",
   "metadata": {},
   "outputs": [],
   "source": [
    "ds_id = client.insert_dataset(\n",
    "    cs_ids=cs_ids,\n",
    "    pr_ids=all_pr_ids,\n",
    "    name='TiZrHfTa_APS2021',\n",
    "    authors=[\n",
    "        'A. P. Thompson', 'L. P. Swiler', 'C. R. Trott', 'S. M. Foiles',\n",
    "        'G. J. Tucker'\n",
    "    ],\n",
    "    links=[\n",
    "        'https://www.sciencedirect.com/science/article/pii/S0021999114008353',\n",
    "        'https://github.com/FitSNAP/FitSNAP/tree/master/examples/Ta_Linear_JCP2014',\n",
    "    ],\n",
    "    description='This data set was originally used to generate a '\\\n",
    "    'linear SNAP potential for solid and liquid tantalum as published in '\\\n",
    "    'Thompson, A.P. et. al, J. Comp. Phys. 285 (2015) 316-330.',\n",
    "    resync=True,\n",
    "    verbose=True,\n",
    ")"
   ]
  },
  {
   "cell_type": "code",
   "execution_count": null,
   "id": "10628ff7",
   "metadata": {},
   "outputs": [],
   "source": [
    "configuration_label_regexes = {\n",
    "    '.*': 'active_learning',\n",
    "}\n",
    "\n",
    "for regex, labels in configuration_label_regexes.items():\n",
    "    client.apply_labels(\n",
    "        dataset_id=ds_id,\n",
    "        collection_name='configurations',\n",
    "        query={'_id': {'$in': all_co_ids}, 'names': {'$regex': regex}},\n",
    "        labels=labels,\n",
    "        verbose=True\n",
    "    )"
   ]
  },
  {
   "cell_type": "code",
   "execution_count": null,
   "id": "3e1bd8ea",
   "metadata": {},
   "outputs": [],
   "source": [
    "dataset = client.get_dataset(ds_id, resync=True, verbose=True)['dataset']\n",
    "\n",
    "for k,v in dataset.aggregated_info.items():\n",
    "    print(k,v)"
   ]
  },
  {
   "cell_type": "code",
   "execution_count": null,
   "id": "c72faac1",
   "metadata": {},
   "outputs": [],
   "source": [
    "dataset.aggregated_info['property_fields']"
   ]
  },
  {
   "cell_type": "code",
   "execution_count": null,
   "id": "daa9e726",
   "metadata": {},
   "outputs": [],
   "source": [
    "fig = client.plot_histograms(dataset.aggregated_info['property_fields'], ids=dataset.property_ids, yscale='log')"
   ]
  },
  {
   "cell_type": "raw",
   "id": "e263d46e",
   "metadata": {},
   "source": [
    "client.dataset_to_markdown(\n",
    "    ds_id=ds_id,\n",
    "    base_folder='/colabfit/markdown/'+dataset.name,\n",
    "    html_file_name='README.md',\n",
    "    data_format='mongo',\n",
    "    data_file_name=None,\n",
    "    yscale='log'\n",
    ")"
   ]
  },
  {
   "cell_type": "code",
   "execution_count": null,
   "id": "d5c4f111",
   "metadata": {},
   "outputs": [],
   "source": []
  }
 ],
 "metadata": {
  "kernelspec": {
   "display_name": "Python 3 (ipykernel)",
   "language": "python",
   "name": "python3"
  },
  "language_info": {
   "codemirror_mode": {
    "name": "ipython",
    "version": 3
   },
   "file_extension": ".py",
   "mimetype": "text/x-python",
   "name": "python",
   "nbconvert_exporter": "python",
   "pygments_lexer": "ipython3",
   "version": "3.8.10"
  }
 },
 "nbformat": 4,
 "nbformat_minor": 5
}
