{
 "cells": [
  {
   "cell_type": "markdown",
   "id": "d50fbe04",
   "metadata": {
    "id": "d50fbe04"
   },
   "source": [
    "This notebook serves as an example of how to load and manipulate the [QM9 dataset](https://figshare.com/collections/Quantum_chemistry_structures_and_properties_of_134_kilo_molecules/978904) using a `Dataset` object."
   ]
  },
  {
   "cell_type": "raw",
   "id": "7b4d0549",
   "metadata": {
    "id": "x31ydZi35Zbt"
   },
   "source": [
    "!mkdir qm9\n",
    "!cd qm9 && wget -O dsgdb9nsd.xyz.tar.bz2 https://figshare.com/ndownloader/files/3195389 && tar -xvjf dsgdb9nsd.xyz.tar.bz2"
   ]
  },
  {
   "cell_type": "markdown",
   "id": "88892bbe",
   "metadata": {
    "id": "88892bbe"
   },
   "source": [
    "# Imports"
   ]
  },
  {
   "cell_type": "code",
   "execution_count": null,
   "id": "0b91d7f5",
   "metadata": {
    "id": "0b91d7f5"
   },
   "outputs": [],
   "source": [
    "import os\n",
    "import numpy as np\n",
    "from ase import Atoms"
   ]
  },
  {
   "cell_type": "markdown",
   "id": "5e61b8e0",
   "metadata": {},
   "source": [
    "# Initialize the database"
   ]
  },
  {
   "cell_type": "code",
   "execution_count": null,
   "id": "514c0908",
   "metadata": {},
   "outputs": [],
   "source": [
    "from colabfit.tools.database import MongoDatabase\n",
    "\n",
    "client = MongoDatabase('colabfit_rebuild')"
   ]
  },
  {
   "cell_type": "markdown",
   "id": "73932423",
   "metadata": {
    "id": "73932423"
   },
   "source": [
    "# Data loading"
   ]
  },
  {
   "cell_type": "markdown",
   "id": "9ebbb798",
   "metadata": {
    "id": "9ebbb798"
   },
   "source": [
    "## Define the properties and reader functions"
   ]
  },
  {
   "cell_type": "code",
   "execution_count": null,
   "id": "9b1797e5",
   "metadata": {
    "id": "9b1797e5"
   },
   "outputs": [],
   "source": [
    "client.insert_property_definition({\n",
    "    'property-id': 'qm9-property',\n",
    "    'property-title': 'A, B, C, mu, alpha, homo, lumo, gap, r2, zpve, U0, U, H, G, Cv',\n",
    "    'property-description': 'Geometries minimal in energy, corresponding harmonic frequencies, dipole moments, polarizabilities, along with energies, enthalpies, and free energies of atomization',\n",
    "    'a':     {'type': 'float', 'has-unit': True, 'extent': [], 'required': True, 'description': 'Rotational constant A'},\n",
    "    'b':     {'type': 'float', 'has-unit': True, 'extent': [], 'required': True, 'description': 'Rotational constant B'},\n",
    "    'c':     {'type': 'float', 'has-unit': True, 'extent': [], 'required': True, 'description': 'Rotational constant C'},\n",
    "    'mu':    {'type': 'float', 'has-unit': True, 'extent': [], 'required': True, 'description': 'Dipole moment'},\n",
    "    'alpha': {'type': 'float', 'has-unit': True, 'extent': [], 'required': True, 'description': 'Isotropic polarizability'},\n",
    "    'homo':  {'type': 'float', 'has-unit': True, 'extent': [], 'required': True, 'description': 'Energy of Highest occupied molecular orbital (HOMO)'},\n",
    "    'lumo':  {'type': 'float', 'has-unit': True, 'extent': [], 'required': True, 'description': 'Energy of Lowest occupied molecular orbital (LUMO)'},\n",
    "    'gap':   {'type': 'float', 'has-unit': True, 'extent': [], 'required': True, 'description': 'Gap, difference between LUMO and HOMO'},\n",
    "    'r2':    {'type': 'float', 'has-unit': True, 'extent': [], 'required': True, 'description': 'Electronic spatial extent'},\n",
    "    'zpve':  {'type': 'float', 'has-unit': True, 'extent': [], 'required': True, 'description': 'Zero point vibrational energy'},\n",
    "    'u0':    {'type': 'float', 'has-unit': True, 'extent': [], 'required': True, 'description': 'Internal energy at 0 K'},\n",
    "    'u':     {'type': 'float', 'has-unit': True, 'extent': [], 'required': True, 'description': 'Internal energy at 298.15 K'},\n",
    "    'h':     {'type': 'float', 'has-unit': True, 'extent': [], 'required': True, 'description': 'Enthalpy at 298.15 K'},\n",
    "    'g':     {'type': 'float', 'has-unit': True, 'extent': [], 'required': True, 'description': 'Free energy at 298.15 K'},\n",
    "    'cv':    {'type': 'float', 'has-unit': True, 'extent': [], 'required': True, 'description': 'Heat capacity at 298.15 K'},\n",
    "    'smiles-relaxed':    {'type': 'string', 'has-unit': False, 'extent': [], 'required': True, 'description': 'SMILES for relaxed geometry'},\n",
    "    'inchi-relaxed':     {'type': 'string', 'has-unit': False, 'extent': [], 'required': True, 'description': 'InChI for relaxed geometry'},\n",
    "})"
   ]
  },
  {
   "cell_type": "code",
   "execution_count": null,
   "id": "26725912",
   "metadata": {
    "id": "26725912"
   },
   "outputs": [],
   "source": [
    "def reader(file_path):\n",
    "    # A function for returning a list of ASE a\n",
    "    \n",
    "    properties_order = [\n",
    "        'tag', 'index', 'A', 'B', 'C', 'mu', 'alpha', 'homo', 'lumo', 'gap', 'r2', 'zpve', 'U0', 'U', 'H', 'G', 'Cv'\n",
    "    ]\n",
    "        \n",
    "    with open(file_path, 'r') as f:\n",
    "        lines = [_.strip() for _ in f.readlines()]\n",
    "        \n",
    "        na = int(lines[0])\n",
    "        properties = lines[1].split()\n",
    "        \n",
    "        symbols = []\n",
    "        positions = []\n",
    "        partial_charges = []\n",
    "        \n",
    "        for line in lines[2:2+na]:\n",
    "            split = line.split()\n",
    "            split = [_.replace('*^', 'e') for _ in split]  # Python-readable scientific notation\n",
    "            \n",
    "            # Line order: symbol, x, y, z, charge\n",
    "            symbols.append(split[0])\n",
    "            positions.append(split[1:4])\n",
    "            partial_charges.append(split[-1])\n",
    "            \n",
    "        positions = np.array(positions)\n",
    "        partial_charges = np.array(partial_charges, dtype=float)\n",
    "                \n",
    "        atoms = Atoms(symbols=symbols, positions=positions)\n",
    "        \n",
    "        atoms.info['mulliken_partial_charges'] = partial_charges\n",
    "        \n",
    "        name = os.path.splitext(os.path.split(file_path)[-1])[0]\n",
    "\n",
    "        atoms.info['name'] = name\n",
    "        \n",
    "        for pname, val in zip(properties_order[2:], properties[2:]):\n",
    "            atoms.info[pname] = float(val)\n",
    "            \n",
    "        frequencies = np.array(lines[-3].split(), dtype=float)\n",
    "        atoms.info['frequencies'] = frequencies\n",
    "                \n",
    "        smiles = lines[-2].split()\n",
    "        inchi  = lines[-1].split()\n",
    "        \n",
    "        atoms.info['SMILES']         = smiles[0]\n",
    "        atoms.info['SMILES_relaxed'] = smiles[1]\n",
    "        atoms.info['InChI']          = inchi[0]\n",
    "        atoms.info['InChI_relaxed']  = inchi[1]\n",
    "        \n",
    "        yield atoms"
   ]
  },
  {
   "cell_type": "markdown",
   "id": "e3842912",
   "metadata": {},
   "source": [
    "## Defining a `property_map`"
   ]
  },
  {
   "cell_type": "code",
   "execution_count": null,
   "id": "8e5fe28a",
   "metadata": {
    "id": "8e5fe28a"
   },
   "outputs": [],
   "source": [
    "property_map = {\n",
    "    'qm9-property': [{\n",
    "        # Property Definition field: {'field': ASE field, 'units': ASE-readable units}\n",
    "        'a':     {'field': 'A',     'units': 'GHz'},\n",
    "        'b':     {'field': 'B',     'units': 'GHz'},\n",
    "        'c':     {'field': 'C',     'units': 'GHz'},\n",
    "        'mu':    {'field': 'mu',    'units': 'Debye'},\n",
    "        'alpha': {'field': 'alpha', 'units': 'Bohr*Bohr*Bohr'},\n",
    "        'homo':  {'field': 'homo',  'units': 'Hartree'},\n",
    "        'lumo':  {'field': 'lumo',  'units': 'Hartree'},\n",
    "        'gap':   {'field': 'gap',   'units': 'Hartree'},\n",
    "        'r2':    {'field': 'r2',    'units': 'Bohr*Bohr'},\n",
    "        'zpve':  {'field': 'zpve',  'units': 'Hartree'},\n",
    "        'u0':    {'field': 'U0',    'units': 'Hartree'},\n",
    "        'u':     {'field': 'U',     'units': 'Hartree'},\n",
    "        'h':     {'field': 'H',     'units': 'Hartree'},\n",
    "        'g':     {'field': 'G',     'units': 'Hartree'},\n",
    "        'cv':    {'field': 'Cv',    'units': 'cal/mol/K'},\n",
    "        'smiles-relaxed': {'field': 'SMILES_relaxed', 'units': None},\n",
    "        'inchi-relaxed': {'field': 'SMILES_relaxed',  'units': None},\n",
    "        \n",
    "        '_settings': {\n",
    "            '_method': 'DFT/B3LYP/6-31G(2df,p)',\n",
    "            '_description': 'QM9 property settings calculation',\n",
    "            '_files': None,\n",
    "            '_labels': ['DFT', 'B3LYP', '6-31G(2df,p)'],\n",
    "        }\n",
    "    }]\n",
    "}"
   ]
  },
  {
   "cell_type": "markdown",
   "id": "614d04f0",
   "metadata": {
    "id": "614d04f0"
   },
   "source": [
    "## Load and insert the data"
   ]
  },
  {
   "cell_type": "code",
   "execution_count": null,
   "id": "f167adde",
   "metadata": {},
   "outputs": [],
   "source": [
    "from colabfit.tools.database import load_data\n",
    "\n",
    "images = load_data(\n",
    "    file_path='/colabfit/data/quantum-machine/qm9',\n",
    "    file_format='folder',\n",
    "    name_field='name',  # key in Configuration.info to use as the Configuration name\n",
    "    elements=['H', 'C', 'N', 'O', 'F'],    # order matters for CFG files, but not others\n",
    "    default_name='qm9',  # default name with `name_field` not found\n",
    "    reader=reader,\n",
    "    glob_string='*.xyz',\n",
    "    verbose=True\n",
    ")"
   ]
  },
  {
   "cell_type": "code",
   "execution_count": null,
   "id": "e6ba5344",
   "metadata": {
    "scrolled": true
   },
   "outputs": [],
   "source": [
    "from colabfit.tools.property_settings import PropertySettings\n",
    "\n",
    "pso = PropertySettings(\n",
    "    method='DFT/B3LYP/6-31G(2df,p)',\n",
    "    description='QM9 property settings calculation',\n",
    "    files=None,\n",
    "    labels=['DFT', 'B3LYP', '6-31G(2df,p)'],\n",
    ")\n",
    "\n",
    "ids = list(client.insert_data(\n",
    "    images,\n",
    "    property_map=property_map,\n",
    "    # property_settings={'qm9-property': pso},\n",
    "    generator=False,\n",
    "    verbose=True\n",
    "))"
   ]
  },
  {
   "cell_type": "code",
   "execution_count": null,
   "id": "bd44a7de-5189-471e-a6b8-db74dfb3961b",
   "metadata": {},
   "outputs": [],
   "source": [
    "len(ids)"
   ]
  },
  {
   "cell_type": "markdown",
   "id": "8da5ee73",
   "metadata": {},
   "source": [
    "# Defining `ConfigurationSet`s"
   ]
  },
  {
   "cell_type": "code",
   "execution_count": null,
   "id": "c426b4bf",
   "metadata": {},
   "outputs": [],
   "source": [
    "co_ids1 = client.get_data('configurations', fields='_id', query={'names': {'$regex': 'dsC7O2H10nsd'}}, ravel=True).tolist()\n",
    "co_ids2 = client.get_data('configurations', fields='_id', query={'names': {'$regex': 'dsgdb9nsd'}}, ravel=True).tolist()\n",
    "\n",
    "print('Configuration set 1', '(dsC7O2H10nsd):'.rjust(15), f'{len(co_ids1)}'.rjust(7))\n",
    "print('Configuration set 2', '(dsgdb9nsd):'.rjust(15), f'{len(co_ids2)}'.rjust(7))"
   ]
  },
  {
   "cell_type": "code",
   "execution_count": null,
   "id": "62603414",
   "metadata": {},
   "outputs": [],
   "source": [
    "cs_id1 = client.insert_configuration_set(\n",
    "    co_ids1,\n",
    "    description='Isomers of C7O2H10',\n",
    "    verbose=True\n",
    ")\n",
    "cs_id1"
   ]
  },
  {
   "cell_type": "code",
   "execution_count": null,
   "id": "3650b666",
   "metadata": {},
   "outputs": [],
   "source": [
    "cs_id2 = client.insert_configuration_set(\n",
    "    co_ids2,\n",
    "    description='The subset of all 133,885 species with up to '\\\n",
    "    'nine heavy atoms (CONF) out of the GDB-17 chemical universe '\\\n",
    "    'of 166 billion organic molecules',\n",
    "    verbose=True\n",
    ")\n",
    "cs_id2"
   ]
  },
  {
   "cell_type": "code",
   "execution_count": null,
   "id": "d1721e6c",
   "metadata": {},
   "outputs": [],
   "source": [
    "cs1 = client.get_configuration_set(cs_id1)['configuration_set']\n",
    "\n",
    "print(cs1.description)\n",
    "\n",
    "for k,v in cs1.aggregated_info.items():\n",
    "    print(k, v)"
   ]
  },
  {
   "cell_type": "code",
   "execution_count": null,
   "id": "b8724a35",
   "metadata": {},
   "outputs": [],
   "source": [
    "cs2 = client.get_configuration_set(cs_id2)['configuration_set']\n",
    "\n",
    "print(cs2.description)\n",
    "\n",
    "for k,v in cs2.aggregated_info.items():\n",
    "    print(k, v)"
   ]
  },
  {
   "cell_type": "markdown",
   "id": "8ab7cc07",
   "metadata": {},
   "source": [
    "# Defining `Dataset`s"
   ]
  },
  {
   "cell_type": "code",
   "execution_count": null,
   "id": "79619956",
   "metadata": {},
   "outputs": [],
   "source": [
    "all_co_ids, all_pr_ids = list(zip(*ids))\n",
    "len(all_pr_ids)"
   ]
  },
  {
   "cell_type": "code",
   "execution_count": null,
   "id": "4efa31e4",
   "metadata": {},
   "outputs": [],
   "source": [
    "ds_id = client.insert_dataset(\n",
    "    cs_ids=[cs_id1, cs_id2],\n",
    "    pr_ids=all_pr_ids,\n",
    "    name='QM9',\n",
    "    authors=['Raghunathan Ramakrishnan', 'Pavlo Dral', 'Matthias Rupp', 'O. Anatole von Lilienfeld'],\n",
    "    links=[\n",
    "        'https://www.nature.com/articles/sdata201422',\n",
    "        'https://figshare.com/collections/Quantum_chemistry_structures_and_properties_of_134_kilo_molecules/978904'\n",
    "    ],\n",
    "    description=\"The QM9 dataset, split into the GDB-9 molecules and the C7O2H10 isomers\",\n",
    "    resync=True,\n",
    "    verbose=True,\n",
    ")\n",
    "ds_id"
   ]
  },
  {
   "cell_type": "code",
   "execution_count": null,
   "id": "37969d62",
   "metadata": {},
   "outputs": [],
   "source": [
    "ds_id = '9615499379302979156'\n",
    "dataset = client.get_dataset(ds_id, resync=True, verbose=True)['dataset']\n",
    "\n",
    "for k,v in dataset.aggregated_info.items():\n",
    "    print(k,v)"
   ]
  },
  {
   "cell_type": "markdown",
   "id": "c09c23ec",
   "metadata": {
    "id": "c09c23ec",
    "jp-MarkdownHeadingCollapsed": true,
    "tags": []
   },
   "source": [
    "# Next up: exploring a dataset"
   ]
  },
  {
   "cell_type": "code",
   "execution_count": null,
   "id": "c395c7cb",
   "metadata": {},
   "outputs": [],
   "source": [
    "client.get_statistics(\n",
    "    ['qm9-property.a', 'qm9-property.b', 'qm9-property.c'],\n",
    "    ids=dataset.property_ids,\n",
    "    verbose=True\n",
    ")"
   ]
  },
  {
   "cell_type": "code",
   "execution_count": null,
   "id": "072a0551",
   "metadata": {},
   "outputs": [],
   "source": [
    "fig = client.plot_histograms(\n",
    "    ['qm9-property.a', 'qm9-property.b', 'qm9-property.c',],\n",
    "    ids=dataset.property_ids\n",
    ")"
   ]
  },
  {
   "cell_type": "code",
   "execution_count": null,
   "id": "e1771537",
   "metadata": {},
   "outputs": [],
   "source": [
    "client.dataset_to_markdown(\n",
    "    ds_id=ds_id,\n",
    "    base_folder='/colabfit/markdown/'+dataset.name,\n",
    "    html_file_name='README.md',\n",
    "    data_format='mongo',\n",
    "    data_file_name=None,\n",
    "    histogram_fields=[\n",
    "        'qm9-property.a',\n",
    "        'qm9-property.b',\n",
    "        'qm9-property.c',\n",
    "        'qm9-property.mu',\n",
    "        'qm9-property.alpha',\n",
    "        'qm9-property.homo',\n",
    "        'qm9-property.lumo',\n",
    "        'qm9-property.gap',\n",
    "        'qm9-property.r2',\n",
    "        'qm9-property.zpve',\n",
    "        'qm9-property.u0',\n",
    "        'qm9-property.u',\n",
    "        'qm9-property.h',\n",
    "        'qm9-property.g',\n",
    "        'qm9-property.cv',\n",
    "#         'qm9-property.smiles-relaxed',\n",
    "#         'qm9-property.inchi-relaxed'\n",
    "    ],\n",
    "    yscale='log'\n",
    ")"
   ]
  },
  {
   "cell_type": "code",
   "execution_count": null,
   "id": "882a7c89",
   "metadata": {
    "id": "882a7c89"
   },
   "outputs": [],
   "source": [
    "clean_config_sets, clean_property_ids = client.filter_on_properties(\n",
    "    ds_id=ds_id,\n",
    "    filter_fxn=lambda x: (x['qm9-property']['a']['source-value'] < 20) and x['qm9-property']['b']['source-value'] < 10,\n",
    "    fields=['qm9-property.a.source-value', 'qm9-property.b.source-value'],\n",
    "    verbose=True\n",
    ")"
   ]
  },
  {
   "cell_type": "code",
   "execution_count": null,
   "id": "8dec7e22",
   "metadata": {},
   "outputs": [],
   "source": [
    "new_cs_ids = []\n",
    "for cs in clean_config_sets:\n",
    "    new_cs_ids.append(client.insert_configuration_set(cs.configuration_ids, cs.description, verbose=True))\n",
    "    \n",
    "print(new_cs_ids)"
   ]
  },
  {
   "cell_type": "code",
   "execution_count": null,
   "id": "1bc00a4a",
   "metadata": {
    "scrolled": true
   },
   "outputs": [],
   "source": [
    "ds_id_clean = client.insert_dataset(\n",
    "    cs_ids=new_cs_ids,\n",
    "    pr_ids=clean_property_ids,\n",
    "    name='QM9_filtered',\n",
    "    authors=dataset.authors,\n",
    "    links=[\n",
    "        'https://www.nature.com/articles/sdata201422',\n",
    "        'https://figshare.com/collections/Quantum_chemistry_structures_and_properties_of_134_kilo_molecules/978904'\n",
    "    ],\n",
    "    description=\"The QM9 dataset, filtered by removing values with a>=20 or b>=10\",\n",
    "    resync=True,\n",
    "    verbose=True,\n",
    ")\n",
    "ds_id_clean"
   ]
  },
  {
   "cell_type": "code",
   "execution_count": null,
   "id": "9f31b5c8",
   "metadata": {},
   "outputs": [],
   "source": [
    "ds_id_clean = '3071118515767946833'\n",
    "\n",
    "clean_ds = client.get_dataset(ds_id_clean)['dataset']\n",
    "len(clean_ds.property_ids)"
   ]
  },
  {
   "cell_type": "code",
   "execution_count": null,
   "id": "e51a7310",
   "metadata": {
    "id": "e51a7310"
   },
   "outputs": [],
   "source": [
    "fig = client.plot_histograms(\n",
    "    ['qm9-property.a', 'qm9-property.b', 'qm9-property.c'],\n",
    "    ids=clean_ds.property_ids,\n",
    "    verbose=True\n",
    ")"
   ]
  },
  {
   "cell_type": "code",
   "execution_count": null,
   "id": "f9da1d0e",
   "metadata": {},
   "outputs": [],
   "source": [
    "client.dataset_to_markdown(\n",
    "    ds_id=ds_id_clean,\n",
    "    base_folder='/colabfit/markdown/'+clean_ds.name,\n",
    "    html_file_name='README.md',\n",
    "    data_format='mongo',\n",
    "    data_file_name=None,\n",
    "    histogram_fields=[\n",
    "        'qm9-property.a',\n",
    "        'qm9-property.b',\n",
    "        'qm9-property.c',\n",
    "        'qm9-property.mu',\n",
    "        'qm9-property.alpha',\n",
    "        'qm9-property.homo',\n",
    "        'qm9-property.lumo',\n",
    "        'qm9-property.gap',\n",
    "        'qm9-property.r2',\n",
    "        'qm9-property.zpve',\n",
    "        'qm9-property.u0',\n",
    "        'qm9-property.u',\n",
    "        'qm9-property.h',\n",
    "        'qm9-property.g',\n",
    "        'qm9-property.cv',\n",
    "#         'qm9-property.smiles-relaxed',\n",
    "#         'qm9-property.inchi-relaxed'\n",
    "    ],\n",
    "    yscale='log'\n",
    ")"
   ]
  },
  {
   "cell_type": "code",
   "execution_count": null,
   "id": "e4dd0b8f",
   "metadata": {},
   "outputs": [],
   "source": []
  }
 ],
 "metadata": {
  "colab": {
   "collapsed_sections": [],
   "name": "qm9.ipynb",
   "provenance": []
  },
  "kernelspec": {
   "display_name": "Python 3 (ipykernel)",
   "language": "python",
   "name": "python3"
  },
  "language_info": {
   "codemirror_mode": {
    "name": "ipython",
    "version": 3
   },
   "file_extension": ".py",
   "mimetype": "text/x-python",
   "name": "python",
   "nbconvert_exporter": "python",
   "pygments_lexer": "ipython3",
   "version": "3.8.11"
  }
 },
 "nbformat": 4,
 "nbformat_minor": 5
}
