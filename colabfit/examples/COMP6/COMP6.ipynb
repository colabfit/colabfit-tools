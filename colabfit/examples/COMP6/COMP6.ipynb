{
 "cells": [
  {
   "cell_type": "markdown",
   "id": "27826272",
   "metadata": {},
   "source": [
    "This notebook serves as an example of how to load and manipulate the [COMP6 dataset](https://github.com/isayev/COMP6) using a `Dataset` object."
   ]
  },
  {
   "cell_type": "code",
   "execution_count": 1,
   "id": "cfce0e98",
   "metadata": {},
   "outputs": [],
   "source": [
    "import os\n",
    "from ase import Atoms"
   ]
  },
  {
   "cell_type": "markdown",
   "id": "ebfd61d9",
   "metadata": {},
   "source": [
    "# Initialize the database"
   ]
  },
  {
   "cell_type": "code",
   "execution_count": 2,
   "id": "c7e0dbd0",
   "metadata": {},
   "outputs": [],
   "source": [
    "from colabfit.tools.database import MongoDatabase, load_data\n",
    "\n",
    "client = MongoDatabase('colabfit_rebuild', nprocs=1)#, drop_database=True)"
   ]
  },
  {
   "cell_type": "markdown",
   "id": "7610eec7",
   "metadata": {},
   "source": [
    "# Setup"
   ]
  },
  {
   "cell_type": "markdown",
   "id": "8c52063e",
   "metadata": {},
   "source": [
    "The COMP6 dataset is one of a collection of datasets that uses the [ANI-1 format](https://github.com/isayev/ANI1_dataset) for loading. Before running this example, you should make sure that [pyanitools.py](https://github.com/isayev/ANI1_dataset/blob/master/readers/lib/pyanitools.py) is in `PYTHONPATH` so that you can use it for loading from the ANI-formatted HDF5 files."
   ]
  },
  {
   "cell_type": "code",
   "execution_count": 3,
   "id": "d1bd50c4",
   "metadata": {},
   "outputs": [],
   "source": [
    "import sys\n",
    "\n",
    "my_path_to_pyanitools = '/colabfit/data/AL_Al'\n",
    "sys.path.append(my_path_to_pyanitools)"
   ]
  },
  {
   "cell_type": "markdown",
   "id": "68613ff1",
   "metadata": {},
   "source": [
    "# Custom reader\n",
    "\n",
    "Since COMP6 is not stored in one of the core file formats, a user-specified `reader` function must be provided to `load_data` in order to read the data."
   ]
  },
  {
   "cell_type": "code",
   "execution_count": 4,
   "id": "43ae7b48",
   "metadata": {},
   "outputs": [],
   "source": [
    "def reader(path):    \n",
    "    import pyanitools as pya\n",
    "    \n",
    "    adl = pya.anidataloader(path)\n",
    "    \n",
    "    images = []\n",
    "    for data in adl:        \n",
    "        for i in range(data['coordinates'].shape[0]):\n",
    "            atoms = Atoms(symbols=data['species'], positions=data['coordinates'][i])\n",
    "            \n",
    "            atoms.info['name'] = '{}_{}_conformer_{}'.format(os.path.split(path)[-1], data['path'], i)\n",
    "            \n",
    "            atoms.info['per-atom'] = False\n",
    "            \n",
    "            atoms.info['energy'] = data['energies'][i]\n",
    "            atoms.arrays['forces'] = data['forces'][i]\n",
    "            \n",
    "            atoms.info['cm5'] = data['cm5'][i]\n",
    "            atoms.info['hirdipole'] = data['hirdipole'][i]\n",
    "            atoms.info['hirshfeld'] = data['hirshfeld'][i]\n",
    "            atoms.info['spindensities'] = data['spindensities'][i]\n",
    "            \n",
    "            images.append(atoms)\n",
    "            \n",
    "    return images"
   ]
  },
  {
   "cell_type": "markdown",
   "id": "59366168",
   "metadata": {},
   "source": [
    "# Data loading"
   ]
  },
  {
   "cell_type": "code",
   "execution_count": 5,
   "id": "1fea1e98",
   "metadata": {},
   "outputs": [],
   "source": [
    "comp6_property_definition = {\n",
    "    'property-id': 'comp6-data',\n",
    "    'property-title': 'cm5, hirdipole, hirshfeld, spindensities',\n",
    "    'property-description': 'Charges, dipoles, and spin densities',\n",
    "    \n",
    "    'cm5':          {'type': 'float', 'has-unit': True, 'extent': [\":\"], 'required': True, 'description': 'CM5 atomic charges'},\n",
    "    'hirshfeld':    {'type': 'float', 'has-unit': True, 'extent': [\":\"], 'required': True, 'description': 'Hirshfeld atomic charges'},\n",
    "    'hirdipole':    {'type': 'float', 'has-unit': True, 'extent': [\":\", 3], 'required': True, 'description': 'Hirshfeld atomic dipoles'},\n",
    "}"
   ]
  },
  {
   "cell_type": "code",
   "execution_count": 6,
   "id": "ae004451",
   "metadata": {},
   "outputs": [
    {
     "name": "stderr",
     "output_type": "stream",
     "text": [
      "/home/josh/colabfit/colabfit/tools/database.py:1158: UserWarning: Invalid KIM property-id; Temporarily renaming to tag:@,0000-00-00:property/comp6-data. See https://openkim.org/doc/schema/properties-framework/ for more details.\n",
      "  warnings.warn(\n"
     ]
    }
   ],
   "source": [
    "client.insert_property_definition(comp6_property_definition)"
   ]
  },
  {
   "cell_type": "code",
   "execution_count": 8,
   "id": "c103c7be",
   "metadata": {},
   "outputs": [],
   "source": [
    "property_map = {\n",
    "    'energy-forces-stress': [{\n",
    "        # ColabFit name: {'field': ASE field name, 'units': str}\n",
    "        'energy': {'field': 'energy', 'units': 'kcal/mol'},\n",
    "        'forces': {'field': 'forces', 'units': 'kcal/mol/Ang'},\n",
    "        'per-atom': {'field': 'per-atom', 'units': None},\n",
    "        \n",
    "        '_settings': {\n",
    "            '_method': 'Gaussian09',\n",
    "            '_description': 'COMP6 property settings calculation',\n",
    "            '_files': None,\n",
    "            '_labels': ['DFT', 'wb97x', '6-31G(d)'],\n",
    "        }\n",
    "    }],\n",
    "    'comp6-data': [{\n",
    "        # Property Definition field: {'field': ASE field, 'units': ASE-readable units}\n",
    "        'cm5':       {'field': 'cm5',       'units': 'elementary_charge'},\n",
    "        'hirshfeld': {'field': 'hirshfeld', 'units': 'elementary_charge'},\n",
    "        'hirdipole': {'field': 'hirdipole', 'units': 'elementary_charge*Ang'},\n",
    "        \n",
    "        '_settings': {\n",
    "            '_method': 'Gaussian09',\n",
    "            '_description': 'COMP6 property settings calculation',\n",
    "            '_files': None,\n",
    "            '_labels': ['DFT', 'wb97x', '6-31G(d)'],\n",
    "        }\n",
    "    }]\n",
    "}"
   ]
  },
  {
   "cell_type": "code",
   "execution_count": 9,
   "id": "84a2f788",
   "metadata": {},
   "outputs": [
    {
     "name": "stderr",
     "output_type": "stream",
     "text": [
      "Loading file 1/11: 100%|█| 13379/13379 [00:01<00:00, 1\n",
      "Loading file 2/11: 100%|█| 12000/12000 [00:01<00:00, 1\n",
      "Loading file 3/11: 100%|█| 12000/12000 [00:01<00:00, 1\n",
      "Loading file 4/11: 100%|█| 12000/12000 [00:01<00:00, 9\n",
      "Loading file 5/11: 100%|█| 528/528 [00:00<00:00, 12002\n",
      "Loading file 6/11: 100%|█| 1984/1984 [00:00<00:00, 117\n",
      "Loading file 7/11: 100%|█| 12000/12000 [00:01<00:00, 8\n",
      "Loading file 8/11: 100%|█| 12000/12000 [00:01<00:00, 9\n",
      "Loading file 9/11: 100%|█| 11670/11670 [00:01<00:00, 9\n",
      "Loading file 10/11: 100%|█| 12000/12000 [00:01<00:00, \n",
      "Loading file 11/11: 100%|█| 1791/1791 [00:00<00:00, 10\n"
     ]
    }
   ],
   "source": [
    "images = list(load_data(\n",
    "    file_path='/colabfit/data/isayev/COMP6/COMP6v1/',\n",
    "    file_format='folder',\n",
    "    name_field='name',  # key in Configuration.info to use as the Configuration name\n",
    "    elements=['C', 'H', 'N', 'O'],    # order matters for CFG files, but not others\n",
    "    default_name='comp6',  # default name with `name_field` not found\n",
    "    reader=reader,\n",
    "    glob_string='*.h5',\n",
    "    verbose=True\n",
    "))"
   ]
  },
  {
   "cell_type": "code",
   "execution_count": null,
   "id": "edad2d6a",
   "metadata": {},
   "outputs": [
    {
     "name": "stderr",
     "output_type": "stream",
     "text": [
      "Preparing to add configurations to Database: 100%|█| 1\n"
     ]
    }
   ],
   "source": [
    "from colabfit.tools.property_settings import PropertySettings\n",
    "\n",
    "ids = list(client.insert_data(\n",
    "    images,\n",
    "    property_map=property_map,\n",
    "    generator=True,\n",
    "    verbose=True\n",
    "))"
   ]
  },
  {
   "cell_type": "code",
   "execution_count": null,
   "id": "2116a201",
   "metadata": {},
   "outputs": [],
   "source": [
    "configuration_set_regexes = {\n",
    "    'ani_md_bench':\n",
    "        'Forces from the ANI-1x potential are applied to run '\\\n",
    "        '1 ns of vacuum molecular dynamics with a 0.25 fs time '\\\n",
    "        'step at 300 K using the Langevin thermostat on 14 well-'\\\n",
    "        'known drug molecules and two small proteins. System '\\\n",
    "        'sizes range from 20 to 312 atoms. A random subsample '\\\n",
    "        'of 128 frames from each 1 ns trajectory is selected, and '\\\n",
    "        'reference DFT single point calculations are performed '\\\n",
    "        'to obtain QM energies and forces.',\n",
    "    'drugbank_testset':\n",
    "        'This benchmark is developed '\\\n",
    "        'through a subsampling of the DrugBank database '\\\n",
    "        'of real drug molecules. 837 SMILES strings con'\\\n",
    "        'taining C, N, and O are randomly selected. Like the '\\\n",
    "        'GDB7to9 benchmark, the molecules are embedded in '\\\n",
    "        '3D space, structurally optimized, and normal modes are '\\\n",
    "        'computed. DNMS is utilized to generate random '\\\n",
    "        'non-equilibrium conformations.',\n",
    "    'gdb11_0[7-9]':\n",
    "        'The GDB-11 subsets contain'\\\n",
    "        'ing 7 to 9 heavy atoms (C, N, and O) are subsampled '\\\n",
    "        'and randomly embedded in 3D space using RDKit '\\\n",
    "        '[www.rdkit.org]. A total of 1500 molecule SMILES '\\\n",
    "        '[opensmiles.org] strings are selected: 500 per 7, 8, '\\\n",
    "        'and 9 heavy-atom sets. The resulting structures are '\\\n",
    "        'optimized with tight convergence criteria, and nor'\\\n",
    "        'mal modes/force constants are computed using the '\\\n",
    "        'reference DFT model. Finally, diverse normal mode '\\\n",
    "        'sampling (DNMS) is carried out to generate non-'\\\n",
    "        'equilibrium conformations.',\n",
    "    'gdb1[1,3]_1[0-3]':\n",
    "        'GDB10to13 benchmark. Subsamples of 500 SMILES '\\\n",
    "        'strings each from the 10 and 11 heavy-atom subsets '\\\n",
    "        'of GDB-11 and 1000 SMILES strings from the 12 '\\\n",
    "        'and 13 heavy-atom subsets of the GDB-13 database '\\\n",
    "        'are randomly selected. DNMS is utilized to generate '\\\n",
    "        'random non-equilibrium conformations.',\n",
    "    'tripeptide_full':\n",
    "        'Tripeptide benchmark. 248 random tripeptides contain'\\\n",
    "        'ing H, C, N, and O are generated using FASTA strings '\\\n",
    "        'and randomly embedded in 3D space using RDKit. As '\\\n",
    "        'with GDB7to9, the molecules are optimized, and nor'\\\n",
    "        'mal modes are computed. DNMS is utilized to generate '\\\n",
    "        'random non-equilibrium conformations.',\n",
    "    's66x8_wb97x6-31gd':\n",
    "        'S66x8 benchmark. This dataset is built from the '\\\n",
    "        'original S66x850 benchmark for comparing accuracy '\\\n",
    "        'between different methods in describing noncovalent '\\\n",
    "        'interactions common in biological molecules. S66x8 is '\\\n",
    "        'developed from 66 dimeric systems involving hydro'\\\n",
    "        'gen bonding, pi-pi stacking, London interactions, and '\\\n",
    "        'mixed influence interactions. While the keen reader '\\\n",
    "        'might question the use of this benchmark without dis'\\\n",
    "        'persion corrections, since dispersion corrections such '\\\n",
    "        'as the D362 correction by Grimme et al. are a posteriori '\\\n",
    "        'additions to the produced energy, then a comparison '\\\n",
    "        'without the correction is equivalent to a comparison '\\\n",
    "        'with the same dispersion corrections applied to both '\\\n",
    "        'models.'\n",
    "}"
   ]
  },
  {
   "cell_type": "code",
   "execution_count": null,
   "id": "a8a4becb",
   "metadata": {},
   "outputs": [],
   "source": [
    "cs_ids = []\n",
    "\n",
    "for i, (regex, desc) in enumerate(configuration_set_regexes.items()):\n",
    "    co_ids = client.get_data(\n",
    "        'configurations',\n",
    "        fields='_id',\n",
    "        query={'names': {'$regex': regex}},\n",
    "        ravel=True\n",
    "    ).tolist()\n",
    "    \n",
    "    print(f'Configuration set {i}', f'({regex}):'.rjust(20), f'{len(co_ids)}'.rjust(7))\n",
    "\n",
    "    cs_id = client.insert_configuration_set(co_ids, description=desc)\n",
    "    \n",
    "    cs_ids.append(cs_id)"
   ]
  },
  {
   "cell_type": "code",
   "execution_count": null,
   "id": "6f02cf50",
   "metadata": {},
   "outputs": [],
   "source": [
    "all_co_ids, all_pr_ids = list(zip(*ids))\n",
    "len(all_pr_ids)"
   ]
  },
  {
   "cell_type": "code",
   "execution_count": null,
   "id": "7497f640",
   "metadata": {},
   "outputs": [],
   "source": [
    "ds_id = client.insert_dataset(\n",
    "    cs_ids=cs_ids,\n",
    "    pr_ids=all_pr_ids,\n",
    "    name='COMP6',\n",
    "    authors=[\n",
    "        'Justin S. Smith',\n",
    "        'Ben Nebgen',\n",
    "        'Nicholas Lubbers',\n",
    "        'Olexandr Isayev',\n",
    "        'Adrian E. Roitberg'\n",
    "    ],\n",
    "    links=[\n",
    "        'https://aip.scitation.org/doi/full/10.1063/1.5023802',\n",
    "        'https://github.com/isayev/COMP6',\n",
    "    ],\n",
    "    description='This repository contains the COMP6 benchmark '\\\n",
    "        'for evaluating the extensibility of machine-learning '\\\n",
    "        'based molecular potentials.',\n",
    "    # resync=True,\n",
    "    verbose=True,\n",
    ")\n",
    "ds_id"
   ]
  },
  {
   "cell_type": "code",
   "execution_count": null,
   "id": "201793f2",
   "metadata": {},
   "outputs": [],
   "source": [
    "ds_id = '12299200623732822270'\n",
    "\n",
    "ds = client.get_dataset(ds_id, verbose=True)['dataset']"
   ]
  },
  {
   "cell_type": "code",
   "execution_count": null,
   "id": "d4a3d554",
   "metadata": {},
   "outputs": [],
   "source": [
    "for k,v in ds.aggregated_info.items():\n",
    "    print(k, v)"
   ]
  },
  {
   "cell_type": "markdown",
   "id": "87e19a8d",
   "metadata": {},
   "source": [
    "# Exploration"
   ]
  },
  {
   "cell_type": "code",
   "execution_count": null,
   "id": "df14e384",
   "metadata": {},
   "outputs": [],
   "source": [
    "ds.aggregated_info['property_fields']"
   ]
  },
  {
   "cell_type": "code",
   "execution_count": null,
   "id": "8ce3bdcb",
   "metadata": {},
   "outputs": [],
   "source": [
    "from IPython.display import Image"
   ]
  },
  {
   "cell_type": "code",
   "execution_count": null,
   "id": "fbfb4b97",
   "metadata": {},
   "outputs": [],
   "source": [
    "fig = client.plot_histograms(ds.aggregated_info['property_fields'], ids=ds.property_ids, verbose=True, method='matplotlib')"
   ]
  },
  {
   "cell_type": "code",
   "execution_count": null,
   "id": "5b7265a3",
   "metadata": {},
   "outputs": [],
   "source": [
    "client.dataset_to_markdown(\n",
    "    ds_id=ds_id,\n",
    "    base_folder='/colabfit/markdown/'+ds.name,\n",
    "    html_file_name='README.md',\n",
    "    data_format='mongo',\n",
    "    data_file_name=None,\n",
    "#     yscale='log'\n",
    ")"
   ]
  },
  {
   "cell_type": "markdown",
   "id": "4bb7d03d",
   "metadata": {},
   "source": [
    "# Filtering"
   ]
  },
  {
   "cell_type": "code",
   "execution_count": null,
   "id": "a3d94901",
   "metadata": {},
   "outputs": [],
   "source": [
    "clean_config_sets, clean_property_ids = client.filter_on_properties(\n",
    "    ds_id=ds_id,\n",
    "    filter_fxn=lambda p: p['comp6-data']['energy']['source-value'] > -4000,\n",
    "    fields=['comp6-data.energy'],\n",
    "    verbose=True\n",
    ")"
   ]
  },
  {
   "cell_type": "code",
   "execution_count": null,
   "id": "9918c158",
   "metadata": {},
   "outputs": [],
   "source": [
    "clean_cs_ids = []\n",
    "\n",
    "for cs in clean_config_sets:\n",
    "    cs_id = client.insert_configuration_set(cs.configuration_ids, description=cs.description, verbose=True)\n",
    "    \n",
    "    clean_cs_ids.append(cs_id)"
   ]
  },
  {
   "cell_type": "code",
   "execution_count": null,
   "id": "8e05ea44",
   "metadata": {},
   "outputs": [],
   "source": [
    "clean_ds_id = client.insert_dataset(\n",
    "    cs_ids=clean_cs_ids,\n",
    "    pr_ids=clean_property_ids,\n",
    "    name='COMP6_filtered',\n",
    "    authors=ds.authors,\n",
    "    links=ds.links,\n",
    "    description=\"A filtered version of the COMP6 dataset \"\\\n",
    "    \"that removed all configurations with energies < -4000\",\n",
    "    resync=True,\n",
    "    verbose=True\n",
    ")\n",
    "clean_ds_id"
   ]
  },
  {
   "cell_type": "code",
   "execution_count": null,
   "id": "30170207",
   "metadata": {},
   "outputs": [],
   "source": [
    "clean_ds = client.get_dataset(clean_ds_id, verbose=True)['dataset']"
   ]
  },
  {
   "cell_type": "code",
   "execution_count": null,
   "id": "0196e328",
   "metadata": {},
   "outputs": [],
   "source": [
    "fig = client.plot_histograms(clean_ds.aggregated_info['property_fields'], ids=clean_ds.property_ids, verbose=True)"
   ]
  },
  {
   "cell_type": "code",
   "execution_count": null,
   "id": "e485da3a",
   "metadata": {},
   "outputs": [],
   "source": [
    "Image(fig.to_image(format=\"png\", width=800, height=500, scale=1))"
   ]
  },
  {
   "cell_type": "markdown",
   "id": "d8d8ec7f",
   "metadata": {},
   "source": [
    "## Extracting data from a single configuration set"
   ]
  },
  {
   "cell_type": "code",
   "execution_count": null,
   "id": "34c037a5",
   "metadata": {},
   "outputs": [],
   "source": [
    "cs = client.get_configuration_set(clean_ds.configuration_set_ids[0])['configuration_set']\n",
    "\n",
    "pr_ids = client.get_data(\n",
    "    'configurations',\n",
    "    fields='relationships.properties',\n",
    "    ids=cs.configuration_ids,\n",
    "    ravel=True\n",
    ").tolist()\n",
    "\n",
    "len(pr_ids)"
   ]
  },
  {
   "cell_type": "code",
   "execution_count": null,
   "id": "3dbe5d81",
   "metadata": {},
   "outputs": [],
   "source": [
    "fig = client.plot_histograms(\n",
    "    clean_ds.aggregated_info['property_fields'],\n",
    "    ids=pr_ids,\n",
    "    verbose=True\n",
    ")\n",
    "\n",
    "Image(fig.to_image(format=\"png\", width=800, height=500, scale=1))"
   ]
  },
  {
   "cell_type": "code",
   "execution_count": null,
   "id": "986389eb",
   "metadata": {},
   "outputs": [],
   "source": []
  }
 ],
 "metadata": {
  "kernelspec": {
   "display_name": "Python 3 (ipykernel)",
   "language": "python",
   "name": "python3"
  },
  "language_info": {
   "codemirror_mode": {
    "name": "ipython",
    "version": 3
   },
   "file_extension": ".py",
   "mimetype": "text/x-python",
   "name": "python",
   "nbconvert_exporter": "python",
   "pygments_lexer": "ipython3",
   "version": "3.8.10"
  }
 },
 "nbformat": 4,
 "nbformat_minor": 5
}
