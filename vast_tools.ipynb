{
 "cells": [
  {
   "cell_type": "code",
   "execution_count": 1,
   "metadata": {},
   "outputs": [
    {
     "data": {
      "text/plain": [
       "True"
      ]
     },
     "execution_count": 1,
     "metadata": {},
     "output_type": "execute_result"
    }
   ],
   "source": [
    "import datetime\n",
    "import json\n",
    "import os\n",
    "from pathlib import Path\n",
    "from pprint import pprint\n",
    "\n",
    "import dateutil.parser\n",
    "import findspark\n",
    "import numpy as np\n",
    "import pyspark\n",
    "from ase.atoms import Atoms\n",
    "from ase.io.cfg import read_cfg\n",
    "from dotenv import load_dotenv\n",
    "from pyspark.sql import SparkSession\n",
    "from pyspark.sql.types import (\n",
    "    BooleanType,\n",
    "    DoubleType,\n",
    "    FloatType,\n",
    "    IntegerType,\n",
    "    LongType,\n",
    "    StringType,\n",
    "    StructField,\n",
    "    StructType,\n",
    "    TimestampType,\n",
    ")\n",
    "\n",
    "from colabfit.tools.configuration import AtomicConfiguration\n",
    "from colabfit.tools.property import Property\n",
    "from colabfit.tools.property_definitions import (\n",
    "    atomic_forces_pd,\n",
    "    cauchy_stress_pd,\n",
    "    potential_energy_pd,\n",
    ")\n",
    "\n",
    "findspark.init()\n",
    "format = \"jdbc\"\n",
    "load_dotenv(\"./.env\")"
   ]
  },
  {
   "cell_type": "code",
   "execution_count": 2,
   "metadata": {},
   "outputs": [],
   "source": [
    "def convert_stress(keys, stress):\n",
    "    stresses = {k: s for k, s in zip(keys, stress)}\n",
    "    return [\n",
    "        [stresses[\"xx\"], stresses[\"xy\"], stresses[\"xz\"]],\n",
    "        [stresses[\"xy\"], stresses[\"yy\"], stresses[\"yz\"]],\n",
    "        [stresses[\"xz\"], stresses[\"yz\"], stresses[\"zz\"]],\n",
    "    ]\n",
    "\n",
    "\n",
    "SYMBOL_DICT = {\"0\": \"Si\", \"1\": \"O\"}\n",
    "\n",
    "\n",
    "def reader(filepath):\n",
    "    with open(filepath, \"rt\") as f:\n",
    "        energy = None\n",
    "        forces = None\n",
    "        coords = []\n",
    "        cell = []\n",
    "        symbols = []\n",
    "        config_count = 0\n",
    "        for line in f:\n",
    "            if line.strip().startswith(\"Size\"):\n",
    "                size = int(f.readline().strip())\n",
    "            elif line.strip().lower().startswith(\"supercell\"):\n",
    "                cell.append([float(x) for x in f.readline().strip().split()])\n",
    "                cell.append([float(x) for x in f.readline().strip().split()])\n",
    "                cell.append([float(x) for x in f.readline().strip().split()])\n",
    "            elif line.strip().startswith(\"Energy\"):\n",
    "                energy = float(f.readline().strip())\n",
    "            elif line.strip().startswith(\"PlusStress\"):\n",
    "                stress_keys = line.strip().split()[-6:]\n",
    "                stress = [float(x) for x in f.readline().strip().split()]\n",
    "                stress = convert_stress(stress_keys, stress)\n",
    "            elif line.strip().startswith(\"AtomData:\"):\n",
    "                keys = line.strip().split()[1:]\n",
    "                if \"fx\" in keys:\n",
    "                    forces = []\n",
    "                for i in range(size):\n",
    "                    li = {\n",
    "                        key: val for key, val in zip(keys, f.readline().strip().split())\n",
    "                    }\n",
    "                    symbols.append(SYMBOL_DICT[li[\"type\"]])\n",
    "                    if \"cartes_x\" in keys:\n",
    "                        coords.append(\n",
    "                            [\n",
    "                                float(c)\n",
    "                                for c in [\n",
    "                                    li[\"cartes_x\"],\n",
    "                                    li[\"cartes_y\"],\n",
    "                                    li[\"cartes_z\"],\n",
    "                                ]\n",
    "                            ]\n",
    "                        )\n",
    "                    elif \"direct_x\" in keys:\n",
    "                        coords.append(\n",
    "                            [\n",
    "                                float(c)\n",
    "                                for c in [\n",
    "                                    li[\"direct_x\"],\n",
    "                                    li[\"direct_y\"],\n",
    "                                    li[\"direct_z\"],\n",
    "                                ]\n",
    "                            ]\n",
    "                        )\n",
    "\n",
    "                    if \"fx\" in keys:\n",
    "                        forces.append(\n",
    "                            [float(f) for f in [li[\"fx\"], li[\"fy\"], li[\"fz\"]]]\n",
    "                        )\n",
    "\n",
    "            elif line.startswith(\"END_CFG\"):\n",
    "                if \"cartes_x\" in keys:\n",
    "                    config = AtomicConfiguration(\n",
    "                        positions=coords, symbols=symbols, cell=cell\n",
    "                    )\n",
    "                elif \"direct_x\" in keys:\n",
    "                    config = AtomicConfiguration(\n",
    "                        scaled_positions=coords, symbols=symbols, cell=cell\n",
    "                    )\n",
    "                config.info[\"energy\"] = energy\n",
    "                if forces:\n",
    "                    config.info[\"forces\"] = forces\n",
    "                config.info[\"stress\"] = stress\n",
    "\n",
    "                if \"Si\" in symbols and \"O\" in symbols:\n",
    "                    config.info[\"input\"] = {\n",
    "                        \"kpoint-scheme\": \"Monkhorst-Pack\",\n",
    "                        \"kpoints\": \"11x11x11\",\n",
    "                        \"kinetic-energy-cutoff\": {\n",
    "                            \"val\": 1224,\n",
    "                            \"units\": \"eV\",\n",
    "                        },\n",
    "                    }\n",
    "                    config.info[\"name\"] = f\"{filepath.stem}_SiO2_{config_count}\"\n",
    "                elif \"Si\" in symbols:\n",
    "                    config.info[\"input\"] = {\n",
    "                        \"kpoint-scheme\": \"Monkhorst-Pack\",\n",
    "                        \"kpoints\": \"8x8x8\",\n",
    "                        \"kinetic-energy-cutoff\": {\n",
    "                            \"val\": 884,\n",
    "                            \"units\": \"eV\",\n",
    "                        },\n",
    "                    }\n",
    "                    config.info[\"name\"] = f\"{filepath.stem}_Si_{config_count}\"\n",
    "                elif \"O\" in symbols:\n",
    "                    config.info[\"input\"] = {\n",
    "                        \"kpoint-scheme\": \"Monkhorst-Pack\",\n",
    "                        \"kpoints\": \"gamma-point\",\n",
    "                        \"kinetic-energy-cutoff\": {\n",
    "                            \"val\": 1224,\n",
    "                            \"units\": \"eV\",\n",
    "                        },\n",
    "                    }\n",
    "                    config.info[\"name\"] = f\"{filepath.stem}_O_{config_count}\"\n",
    "                config_count += 1\n",
    "                yield config\n",
    "                forces = None\n",
    "                stress = []\n",
    "                coords = []\n",
    "                cell = []\n",
    "                symbols = []\n",
    "                energy = None"
   ]
  },
  {
   "cell_type": "code",
   "execution_count": 3,
   "metadata": {},
   "outputs": [
    {
     "data": {
      "text/plain": [
       "{'nsites': 4,\n",
       " 'elements': ['Si'],\n",
       " 'nelements': 1,\n",
       " 'elements_ratios': [1.0],\n",
       " 'chemical_formula_anonymous': 'A',\n",
       " 'chemical_formula_reduced': 'Si',\n",
       " 'chemical_formula_hill': 'Si4',\n",
       " 'dimension_types': [0, 0, 0],\n",
       " 'nperiodic_dimensions': 0}"
      ]
     },
     "execution_count": 3,
     "metadata": {},
     "output_type": "execute_result"
    }
   ],
   "source": [
    "mtpu_configs = reader(Path(\"data/mtpu_2023/Unified_training_set.cfg\"))\n",
    "data = [x for x in mtpu_configs]\n",
    "data[0].configuration_summary()"
   ]
  },
  {
   "cell_type": "code",
   "execution_count": 4,
   "metadata": {},
   "outputs": [
    {
     "name": "stderr",
     "output_type": "stream",
     "text": [
      "24/04/10 17:24:32 WARN Utils: Your hostname, arktos resolves to a loopback address: 127.0.1.1; using 172.24.21.25 instead (on interface enp5s0)\n",
      "24/04/10 17:24:32 WARN Utils: Set SPARK_LOCAL_IP if you need to bind to another address\n",
      "24/04/10 17:24:33 WARN NativeCodeLoader: Unable to load native-hadoop library for your platform... using builtin-java classes where applicable\n",
      "Setting default log level to \"WARN\".\n",
      "To adjust logging level use sc.setLogLevel(newLevel). For SparkR, use setLogLevel(newLevel).\n"
     ]
    }
   ],
   "source": [
    "JARFILE = os.environ.get(\"CLASSPATH\")\n",
    "spark = (\n",
    "    SparkSession.builder.appName(\"PostgreSQL Connection with PySpark\")\n",
    "    .config(\"spark.jars\", JARFILE)\n",
    "    .getOrCreate()\n",
    ")\n",
    "url = \"jdbc:postgresql://localhost:5432/colabfit\"\n",
    "user = os.environ.get(\"PGS_USER\")\n",
    "password = os.environ.get(\"PGS_PASS\")\n",
    "properties = {\n",
    "    \"user\": user,\n",
    "    \"password\": password,\n",
    "    \"driver\": \"org.postgresql.Driver\",\n",
    "}"
   ]
  },
  {
   "cell_type": "code",
   "execution_count": 5,
   "metadata": {},
   "outputs": [],
   "source": [
    "config_schema = StructType(\n",
    "    [\n",
    "        StructField(\"id\", StringType(), False),\n",
    "        StructField(\"hash\", StringType(), False),\n",
    "        StructField(\"last_modified\", TimestampType(), False),\n",
    "        StructField(\"dataset_ids\", StringType(), True),  # ArrayType(StringType())\n",
    "        StructField(\"chemical_formula_hill\", StringType(), True),\n",
    "        StructField(\"chemical_formula_reduced\", StringType(), True),\n",
    "        StructField(\"chemical_formula_anonymous\", StringType(), True),\n",
    "        StructField(\"elements\", StringType(), True),  # ArrayType(StringType())\n",
    "        StructField(\"elements_ratios\", StringType(), True),  # ArrayType(IntegerType())\n",
    "        StructField(\"atomic_numbers\", StringType(), True),  # ArrayType(IntegerType())\n",
    "        StructField(\"nsites\", IntegerType(), True),\n",
    "        StructField(\"nelements\", IntegerType(), True),\n",
    "        StructField(\"nperiodic_dimensions\", IntegerType(), True),\n",
    "        StructField(\"cell\", StringType(), True),  # ArrayType(ArrayType(DoubleType()))\n",
    "        StructField(\"dimension_types\", StringType(), True),  # ArrayType(IntegerType())\n",
    "        StructField(\"pbc\", StringType(), True),  # ArrayType(IntegerType())\n",
    "        StructField(\n",
    "            \"positions\", StringType(), True\n",
    "        ),  # ArrayType(ArrayType(DoubleType()))\n",
    "        StructField(\"names\", StringType(), True),  # ArrayType(StringType())\n",
    "    ]\n",
    ")\n",
    "property_object_schema = StructType(\n",
    "    [\n",
    "        StructField(\"id\", StringType(), False),\n",
    "        StructField(\"hash\", StringType(), False),\n",
    "        StructField(\"last_modified\", TimestampType(), False),\n",
    "        StructField(\"configuration_ids\", StringType(), True),  # ArrayType(StringType())\n",
    "        StructField(\"dataset_ids\", StringType(), True),  # ArrayType(StringType())\n",
    "        StructField(\"metadata\", StringType(), True),\n",
    "        StructField(\"chemical_formula_hill\", StringType(), True),\n",
    "        StructField(\"potential_energy\", DoubleType(), True),\n",
    "        StructField(\"potential_energy_unit\", StringType(), True),\n",
    "        StructField(\"potential_energy_per_atom\", BooleanType(), True),\n",
    "        StructField(\"potential_energy_reference\", DoubleType(), True),\n",
    "        StructField(\"potential_energy_reference_unit\", StringType(), True),\n",
    "        StructField(\"potential_energy_property_id\", StringType(), True),\n",
    "        StructField(\n",
    "            \"atomic_forces\", StringType(), True\n",
    "        ),  # ArrayType(ArrayType(DoubleType()))\n",
    "        StructField(\"atomic_forces_unit\", StringType(), True),\n",
    "        StructField(\"atomic_forces_property_id\", StringType(), True),\n",
    "        StructField(\n",
    "            \"cauchy_stress\", StringType(), True\n",
    "        ),  # ArrayType(ArrayType(DoubleType()))\n",
    "        StructField(\"cauchy_stress_unit\", StringType(), True),\n",
    "        StructField(\"cauchy_stress_volume_normalized\", BooleanType(), True),\n",
    "        StructField(\"cauchy_stress_property_id\", StringType(), True),\n",
    "        StructField(\"free_energy\", DoubleType(), True),\n",
    "        StructField(\"free_energy_unit\", StringType(), True),\n",
    "        StructField(\"free_energy_per_atom\", BooleanType(), True),\n",
    "        StructField(\"free_energy_reference\", DoubleType(), True),\n",
    "        StructField(\"free_energy_reference_unit\", StringType(), True),\n",
    "        StructField(\"free_energy_property_id\", StringType(), True),\n",
    "        StructField(\"band_gap\", DoubleType(), True),\n",
    "        StructField(\"band_gap_unit\", StringType(), True),\n",
    "        StructField(\"band_gap_property_id\", StringType(), True),\n",
    "        StructField(\"formation_energy\", DoubleType(), True),\n",
    "        StructField(\"formation_energy_unit\", StringType(), True),\n",
    "        StructField(\"formation_energy_per_atom\", BooleanType(), True),\n",
    "        StructField(\"formation_energy_reference\", DoubleType(), True),\n",
    "        StructField(\"formation_energy_reference_unit\", StringType(), True),\n",
    "        StructField(\"formation_energy_property_id\", StringType(), True),\n",
    "        StructField(\"adsorption_energy\", DoubleType(), True),\n",
    "        StructField(\"adsorption_energy_unit\", StringType(), True),\n",
    "        StructField(\"adsorption_energy_per_atom\", BooleanType(), True),\n",
    "        StructField(\"adsorption_energy_reference\", DoubleType(), True),\n",
    "        StructField(\"adsorption_energy_reference_unit\", StringType(), True),\n",
    "        StructField(\"adsorption_energy_property_id\", StringType(), True),\n",
    "        StructField(\"atomization_energy\", DoubleType(), True),\n",
    "        StructField(\"atomization_energy_unit\", StringType(), True),\n",
    "        StructField(\"atomization_energy_per_atom\", BooleanType(), True),\n",
    "        StructField(\"atomization_energy_reference\", DoubleType(), True),\n",
    "        StructField(\"atomization_energy_reference_unit\", StringType(), True),\n",
    "        StructField(\"atomization_energy_property_id\", StringType(), True),\n",
    "    ]\n",
    ")"
   ]
  },
  {
   "cell_type": "code",
   "execution_count": 6,
   "metadata": {},
   "outputs": [],
   "source": [
    "def stringify_lists(row_dict):\n",
    "    \"\"\"\n",
    "    Replace list/tuple fields with comma-separated strings.\n",
    "    Spark and Vast both support array columns, but the connector does not,\n",
    "    so keeping cell values in list format crashes the table.\n",
    "    TODO: Remove when no longer necessary\n",
    "    \"\"\"\n",
    "    for key, val in row_dict.items():\n",
    "        if (\n",
    "            isinstance(val, np.ndarray)\n",
    "            or isinstance[\"potential-energy\"](val, list)\n",
    "            or isinstance(val, tuple)\n",
    "            or isinstance(val, dict)\n",
    "        ):\n",
    "            row_dict[key] = str(val)\n",
    "    return row_dict"
   ]
  },
  {
   "cell_type": "code",
   "execution_count": 7,
   "metadata": {},
   "outputs": [],
   "source": [
    "def _empty_dict_from_schema(schema):\n",
    "    empty_dict = {}\n",
    "    for field in schema:\n",
    "        empty_dict[field.name] = None\n",
    "    return empty_dict"
   ]
  },
  {
   "cell_type": "code",
   "execution_count": 8,
   "metadata": {},
   "outputs": [],
   "source": [
    "SHORT_ID_STRING_NAME = \"colabfit-id\"\n",
    "ATOMS_NAME_FIELD = \"name\""
   ]
  },
  {
   "cell_type": "code",
   "execution_count": 9,
   "metadata": {},
   "outputs": [],
   "source": [
    "PI_METADATA = {\n",
    "    \"software\": {\"value\": \"Quantum ESPRESSO\"},\n",
    "    \"method\": {\"value\": \"DFT-PBE\"},\n",
    "    \"input\": {\"field\": \"input\"},\n",
    "}\n",
    "\n",
    "PROPERTY_MAP = {\n",
    "    \"potential-energy\": [\n",
    "        {\n",
    "            \"energy\": {\"field\": \"energy\", \"units\": \"eV\"},\n",
    "            \"per-atom\": {\"value\": False, \"units\": None},\n",
    "            # \"_metadata\": PI_METADATA,\n",
    "        }\n",
    "    ],\n",
    "    \"atomic-forces\": [\n",
    "        {\n",
    "            \"forces\": {\"field\": \"forces\", \"units\": \"eV/angstrom\"},\n",
    "            # \"_metadata\": PI_METADATA,\n",
    "        },\n",
    "    ],\n",
    "    \"cauchy-stress\": [\n",
    "        {\n",
    "            \"stress\": {\"field\": \"stress\", \"units\": \"GPa\"},\n",
    "            \"volume-normalized\": {\"value\": True, \"units\": None},\n",
    "        }\n",
    "    ],\n",
    "    \"_metadata\": PI_METADATA,\n",
    "}"
   ]
  },
  {
   "cell_type": "code",
   "execution_count": 10,
   "metadata": {},
   "outputs": [
    {
     "name": "stdout",
     "output_type": "stream",
     "text": [
      "energy\n",
      "per-atom\n",
      "reference-energy\n",
      "forces\n",
      "stress\n",
      "volume-normalized\n"
     ]
    }
   ],
   "source": [
    "prop = Property.from_definition(\n",
    "    [potential_energy_pd, atomic_forces_pd, cauchy_stress_pd],\n",
    "    data[0],\n",
    "    property_map=PROPERTY_MAP,\n",
    ")"
   ]
  },
  {
   "cell_type": "code",
   "execution_count": 11,
   "metadata": {},
   "outputs": [
    {
     "name": "stdout",
     "output_type": "stream",
     "text": [
      "{'atomic-forces': {'forces': {'source-unit': 'eV/angstrom',\n",
      "                              'source-value': [[-0.000211, -2.8e-05, 0.000336],\n",
      "                                               [-9.1e-05, 2.8e-05, -0.000302],\n",
      "                                               [9.1e-05, 2.8e-05, 0.000304],\n",
      "                                               [0.000211,\n",
      "                                                -2.8e-05,\n",
      "                                                -0.000339]]},\n",
      "                   'instance-id': 1,\n",
      "                   'property-id': 'tag:staff@noreply.colabfit.org,2022-05-30:property/atomic-forces'},\n",
      " 'cauchy-stress': {'instance-id': 1,\n",
      "                   'property-id': 'tag:staff@noreply.colabfit.org,2022-05-30:property/cauchy-stress',\n",
      "                   'stress': {'source-unit': 'GPa',\n",
      "                              'source-value': [[-0.02752, 0.0, -0.99821],\n",
      "                                               [0.0, 0.01635, -0.0],\n",
      "                                               [-0.99821, -0.0, 0.0021]]},\n",
      "                   'volume-normalized': {'source-value': True}},\n",
      " 'potential-energy': {'energy': {'source-unit': 'eV',\n",
      "                                 'source-value': -2542.938029229892},\n",
      "                      'instance-id': 1,\n",
      "                      'per-atom': {'source-value': False},\n",
      "                      'property-id': 'tag:staff@noreply.colabfit.org,2022-05-30:property/potential-energy'}}\n"
     ]
    }
   ],
   "source": [
    "instance = prop.instance\n",
    "pprint(instance)"
   ]
  },
  {
   "cell_type": "code",
   "execution_count": 12,
   "metadata": {},
   "outputs": [],
   "source": [
    "def energy_to_schema(prop_name, en_prop: dict):\n",
    "    new_name = prop_name.replace(\"-\", \"_\")\n",
    "    en_dict = {\n",
    "        f\"{new_name}_property_id\": en_prop[\"property-id\"],\n",
    "        f\"{new_name}\": en_prop[\"energy\"][\"source-value\"],\n",
    "        f\"{new_name}_unit\": en_prop[\"energy\"][\"source-unit\"],\n",
    "        f\"{new_name}_per_atom\": en_prop[\"per-atom\"][\"source-value\"],\n",
    "    }\n",
    "    ref_en = en_prop.get(\"reference-energy\")\n",
    "    if ref_en is not None:\n",
    "        ref_en = ref_en[\"source-value\"]\n",
    "    ref_unit = en_prop.get(\"reference-energy\")\n",
    "    if ref_unit is not None:\n",
    "        ref_unit = ref_unit[\"source-unit\"]\n",
    "    en_dict[f\"{new_name}_reference\"] = ref_en\n",
    "    en_dict[f\"{new_name}_reference_unit\"] = ref_unit\n",
    "\n",
    "    return en_dict\n",
    "\n",
    "\n",
    "def atomic_forces_to_schema(af_prop: dict):\n",
    "    af_dict = {\n",
    "        \"atomic_forces_property_id\": af_prop[\"property-id\"],\n",
    "        \"atomic_forces\": af_prop[\"forces\"][\"source-value\"],\n",
    "        \"atomic_forces_unit\": af_prop[\"forces\"][\"source-unit\"],\n",
    "    }\n",
    "    return af_dict\n",
    "\n",
    "\n",
    "def cauchy_stress_to_schema(cs_prop: dict):\n",
    "    cs_dict = {\n",
    "        \"cauchy_stress_property_id\": cs_prop[\"property-id\"],\n",
    "        \"cauchy_stress\": cs_prop[\"stress\"][\"source-value\"],\n",
    "        \"cauchy_stress_unit\": cs_prop[\"stress\"][\"source-unit\"],\n",
    "        \"cauchy_stress_volume_normalized\": cs_prop[\"volume-normalized\"][\"source-value\"],\n",
    "    }\n",
    "    return cs_dict\n",
    "\n",
    "\n",
    "def band_gap_to_schema(bg_prop: dict):\n",
    "    bg_dict = {\n",
    "        \"band_gap_property_id\": bg_prop[\"property-id\"],\n",
    "        \"band_gap\": bg_prop[\"band-gap\"][\"source-value\"],\n",
    "        \"band_gap_unit\": bg_prop[\"band-gap\"][\"source-unit\"],\n",
    "    }\n",
    "    return bg_dict\n",
    "\n",
    "\n",
    "prop_mapper_dict = {\n",
    "    \"energy\": energy_to_schema,\n",
    "    \"atomic-forces\": atomic_forces_to_schema,\n",
    "    \"cauchy-stress\": cauchy_stress_to_schema,\n",
    "    \"band-gap\": band_gap_to_schema,\n",
    "}"
   ]
  },
  {
   "cell_type": "code",
   "execution_count": 13,
   "metadata": {},
   "outputs": [],
   "source": [
    "po_dict2 = _empty_dict_from_schema(property_object_schema)\n",
    "po_dict2.update(energy_to_schema(\"potential-energy\", instance[\"potential-energy\"]))\n",
    "po_dict2.update(atomic_forces_to_schema(instance[\"atomic-forces\"]))\n",
    "po_dict2.update(cauchy_stress_to_schema(instance[\"cauchy-stress\"]))"
   ]
  },
  {
   "cell_type": "code",
   "execution_count": 14,
   "metadata": {},
   "outputs": [
    {
     "name": "stdout",
     "output_type": "stream",
     "text": [
      "{'adsorption_energy': None,\n",
      " 'adsorption_energy_per_atom': None,\n",
      " 'adsorption_energy_property_id': None,\n",
      " 'adsorption_energy_reference': None,\n",
      " 'adsorption_energy_reference_unit': None,\n",
      " 'adsorption_energy_unit': None,\n",
      " 'atomic_forces': [[-0.000211, -2.8e-05, 0.000336],\n",
      "                   [-9.1e-05, 2.8e-05, -0.000302],\n",
      "                   [9.1e-05, 2.8e-05, 0.000304],\n",
      "                   [0.000211, -2.8e-05, -0.000339]],\n",
      " 'atomic_forces_property_id': 'tag:staff@noreply.colabfit.org,2022-05-30:property/atomic-forces',\n",
      " 'atomic_forces_unit': 'eV/angstrom',\n",
      " 'atomization_energy': None,\n",
      " 'atomization_energy_per_atom': None,\n",
      " 'atomization_energy_property_id': None,\n",
      " 'atomization_energy_reference': None,\n",
      " 'atomization_energy_reference_unit': None,\n",
      " 'atomization_energy_unit': None,\n",
      " 'band_gap': None,\n",
      " 'band_gap_property_id': None,\n",
      " 'band_gap_unit': None,\n",
      " 'cauchy_stress': [[-0.02752, 0.0, -0.99821],\n",
      "                   [0.0, 0.01635, -0.0],\n",
      "                   [-0.99821, -0.0, 0.0021]],\n",
      " 'cauchy_stress_property_id': 'tag:staff@noreply.colabfit.org,2022-05-30:property/cauchy-stress',\n",
      " 'cauchy_stress_unit': 'GPa',\n",
      " 'cauchy_stress_volume_normalized': True,\n",
      " 'chemical_formula_hill': None,\n",
      " 'configuration_ids': None,\n",
      " 'dataset_ids': None,\n",
      " 'formation_energy': None,\n",
      " 'formation_energy_per_atom': None,\n",
      " 'formation_energy_property_id': None,\n",
      " 'formation_energy_reference': None,\n",
      " 'formation_energy_reference_unit': None,\n",
      " 'formation_energy_unit': None,\n",
      " 'free_energy': None,\n",
      " 'free_energy_per_atom': None,\n",
      " 'free_energy_property_id': None,\n",
      " 'free_energy_reference': None,\n",
      " 'free_energy_reference_unit': None,\n",
      " 'free_energy_unit': None,\n",
      " 'hash': None,\n",
      " 'id': None,\n",
      " 'last_modified': None,\n",
      " 'metadata': None,\n",
      " 'potential_energy': -2542.938029229892,\n",
      " 'potential_energy_per_atom': False,\n",
      " 'potential_energy_property_id': 'tag:staff@noreply.colabfit.org,2022-05-30:property/potential-energy',\n",
      " 'potential_energy_reference': None,\n",
      " 'potential_energy_reference_unit': None,\n",
      " 'potential_energy_unit': 'eV'}\n"
     ]
    }
   ],
   "source": [
    "pprint(po_dict2)"
   ]
  },
  {
   "cell_type": "code",
   "execution_count": 15,
   "metadata": {},
   "outputs": [
    {
     "name": "stdout",
     "output_type": "stream",
     "text": [
      "{'adsorption_energy': None,\n",
      " 'adsorption_energy_per_atom': None,\n",
      " 'adsorption_energy_property_id': None,\n",
      " 'adsorption_energy_reference': None,\n",
      " 'adsorption_energy_reference_unit': None,\n",
      " 'adsorption_energy_unit': None,\n",
      " 'atomic_forces': [[-0.000211, -2.8e-05, 0.000336],\n",
      "                   [-9.1e-05, 2.8e-05, -0.000302],\n",
      "                   [9.1e-05, 2.8e-05, 0.000304],\n",
      "                   [0.000211, -2.8e-05, -0.000339]],\n",
      " 'atomic_forces_property_id': 'tag:staff@noreply.colabfit.org,2022-05-30:property/atomic-forces',\n",
      " 'atomic_forces_unit': 'eV/angstrom',\n",
      " 'atomization_energy': None,\n",
      " 'atomization_energy_per_atom': None,\n",
      " 'atomization_energy_property_id': None,\n",
      " 'atomization_energy_reference': None,\n",
      " 'atomization_energy_reference_unit': None,\n",
      " 'atomization_energy_unit': None,\n",
      " 'band_gap': None,\n",
      " 'band_gap_property_id': None,\n",
      " 'band_gap_unit': None,\n",
      " 'cauchy_stress': [[-0.02752, 0.0, -0.99821],\n",
      "                   [0.0, 0.01635, -0.0],\n",
      "                   [-0.99821, -0.0, 0.0021]],\n",
      " 'cauchy_stress_property_id': 'tag:staff@noreply.colabfit.org,2022-05-30:property/cauchy-stress',\n",
      " 'cauchy_stress_unit': 'GPa',\n",
      " 'cauchy_stress_volume_normalized': None,\n",
      " 'chemical_formula_hill': None,\n",
      " 'configuration_ids': None,\n",
      " 'dataset_ids': None,\n",
      " 'formation_energy': None,\n",
      " 'formation_energy_per_atom': None,\n",
      " 'formation_energy_property_id': None,\n",
      " 'formation_energy_reference': None,\n",
      " 'formation_energy_reference_unit': None,\n",
      " 'formation_energy_unit': None,\n",
      " 'free_energy': None,\n",
      " 'free_energy_per_atom': None,\n",
      " 'free_energy_property_id': None,\n",
      " 'free_energy_reference': None,\n",
      " 'free_energy_reference_unit': None,\n",
      " 'free_energy_unit': None,\n",
      " 'hash': None,\n",
      " 'id': None,\n",
      " 'last_modified': None,\n",
      " 'metadata': None,\n",
      " 'potential_energy': -2542.938029229892,\n",
      " 'potential_energy_per_atom': False,\n",
      " 'potential_energy_property_id': 'tag:staff@noreply.colabfit.org,2022-05-30:property/potential-energy',\n",
      " 'potential_energy_reference': None,\n",
      " 'potential_energy_reference_unit': None,\n",
      " 'potential_energy_unit': 'eV'}\n"
     ]
    }
   ],
   "source": [
    "co_dict = _empty_dict_from_schema(config_schema)\n",
    "po_dict = _empty_dict_from_schema(property_object_schema)\n",
    "po_dict[\"potential_energy_property_id\"] = instance[\"potential-energy\"][\"property-id\"]\n",
    "po_dict[\"potential_energy\"] = instance[\"potential-energy\"][\"energy\"][\"source-value\"]\n",
    "po_dict[\"potential_energy_unit\"] = instance[\"potential-energy\"][\"energy\"][\"source-unit\"]\n",
    "po_dict[\"potential_energy_per_atom\"] = instance[\"potential-energy\"][\"per-atom\"][\n",
    "    \"source-value\"\n",
    "]\n",
    "po_dict[\"atomic_forces_property_id\"] = instance[\"atomic-forces\"][\"property-id\"]\n",
    "po_dict[\"atomic_forces\"] = instance[\"atomic-forces\"][\"forces\"][\"source-value\"]\n",
    "po_dict[\"atomic_forces_unit\"] = instance[\"atomic-forces\"][\"forces\"][\"source-unit\"]\n",
    "\n",
    "po_dict[\"cauchy_stress_property_id\"] = instance[\"cauchy-stress\"][\"property-id\"]\n",
    "po_dict[\"cauchy_stress\"] = instance[\"cauchy-stress\"][\"stress\"][\"source-value\"]\n",
    "po_dict[\"cauchy_stress_unit\"] = instance[\"cauchy-stress\"][\"stress\"][\"source-unit\"]\n",
    "\n",
    "\n",
    "pprint(po_dict)"
   ]
  },
  {
   "cell_type": "code",
   "execution_count": 16,
   "metadata": {},
   "outputs": [],
   "source": [
    "def md_from_map(pmap_md, config: AtomicConfiguration):\n",
    "    gathered_fields = {}\n",
    "    for md_field in pmap_md.keys():\n",
    "        if \"value\" in pmap_md[md_field]:\n",
    "            v = pmap_md[md_field][\"value\"]\n",
    "        elif \"field\" in pmap_md[md_field]:\n",
    "            field_key = pmap_md[md_field][\"field\"]\n",
    "\n",
    "            if field_key in config.info:\n",
    "                v = config.info[field_key]\n",
    "            elif field_key in config.arrays:\n",
    "                v = config.arrays[field_key]\n",
    "            else:\n",
    "                # No keys are required; ignored if missing\n",
    "                continue\n",
    "        else:\n",
    "            # No keys are required; ignored if missing\n",
    "            continue\n",
    "\n",
    "        if \"units\" in pmap_md[md_field]:\n",
    "            gathered_fields[md_field] = {\n",
    "                \"source-value\": v,\n",
    "                \"source-unit\": pmap_md[md_field][\"units\"],\n",
    "            }\n",
    "        else:\n",
    "            gathered_fields[md_field] = {\"source-value\": v}\n",
    "    return json.dumps(gathered_fields)\n",
    "    # return gathered_fields"
   ]
  },
  {
   "cell_type": "code",
   "execution_count": null,
   "metadata": {},
   "outputs": [],
   "source": [
    "def parse_property(property: Property):\n",
    "    "
   ]
  },
  {
   "cell_type": "code",
   "execution_count": 19,
   "metadata": {},
   "outputs": [],
   "source": [
    "# in-progress config parser\n",
    "def parse_do(config: AtomicConfiguration, property: Property, property_map: dict):\n",
    "\n",
    "    # create and add configuration dict from empty dict as above\n",
    "    co_dict = _empty_dict_from_schema(config_schema)\n",
    "\n",
    "    # create and add property object dict from empty dict as above\n",
    "    po_dict = _empty_dict_from_schema(property_object_schema)\n",
    "    po_dict[\"metadata\"] = md_from_map(property_map[\"_metadata\"], config)\n",
    "    for key in property.instance:\n",
    "        if key != \"_metadata\":\n",
    "            if \"energy\" in key:\n",
    "                print(key), print(property_map[key])\n",
    "                po_dict.update(prop_mapper_dict[\"energy\"](key, property_map[key]))\n",
    "            else:\n",
    "                po_dict.update(prop_mapper_dict[key](property_map[key]))\n",
    "\n",
    "    instance = property.instance\n",
    "\n",
    "    # CO and PO will include respective MDs already (will they?)\n",
    "\n",
    "    # return CO and PO\n",
    "    return co_dict, po_dict"
   ]
  },
  {
   "cell_type": "code",
   "execution_count": 21,
   "metadata": {},
   "outputs": [
    {
     "ename": "AttributeError",
     "evalue": "'dict' object has no attribute 'instance'",
     "output_type": "error",
     "traceback": [
      "\u001b[0;31m---------------------------------------------------------------------------\u001b[0m",
      "\u001b[0;31mAttributeError\u001b[0m                            Traceback (most recent call last)",
      "Cell \u001b[0;32mIn[21], line 1\u001b[0m\n\u001b[0;32m----> 1\u001b[0m \u001b[43mparse_do\u001b[49m\u001b[43m(\u001b[49m\u001b[43mdata\u001b[49m\u001b[43m[\u001b[49m\u001b[38;5;241;43m0\u001b[39;49m\u001b[43m]\u001b[49m\u001b[43m,\u001b[49m\u001b[43m \u001b[49m\u001b[43mprop\u001b[49m\u001b[38;5;241;43m.\u001b[39;49m\u001b[43minstance\u001b[49m\u001b[43m,\u001b[49m\u001b[43m \u001b[49m\u001b[43mPROPERTY_MAP\u001b[49m\u001b[43m)\u001b[49m\n",
      "Cell \u001b[0;32mIn[19], line 10\u001b[0m, in \u001b[0;36mparse_do\u001b[0;34m(config, property, property_map)\u001b[0m\n\u001b[1;32m      8\u001b[0m po_dict \u001b[38;5;241m=\u001b[39m _empty_dict_from_schema(property_object_schema)\n\u001b[1;32m      9\u001b[0m po_dict[\u001b[38;5;124m\"\u001b[39m\u001b[38;5;124mmetadata\u001b[39m\u001b[38;5;124m\"\u001b[39m] \u001b[38;5;241m=\u001b[39m md_from_map(property_map[\u001b[38;5;124m\"\u001b[39m\u001b[38;5;124m_metadata\u001b[39m\u001b[38;5;124m\"\u001b[39m], config)\n\u001b[0;32m---> 10\u001b[0m \u001b[38;5;28;01mfor\u001b[39;00m key \u001b[38;5;129;01min\u001b[39;00m \u001b[38;5;28;43mproperty\u001b[39;49m\u001b[38;5;241;43m.\u001b[39;49m\u001b[43minstance\u001b[49m:\n\u001b[1;32m     11\u001b[0m     \u001b[38;5;28;01mif\u001b[39;00m key \u001b[38;5;241m!=\u001b[39m \u001b[38;5;124m\"\u001b[39m\u001b[38;5;124m_metadata\u001b[39m\u001b[38;5;124m\"\u001b[39m:\n\u001b[1;32m     12\u001b[0m         \u001b[38;5;28;01mif\u001b[39;00m \u001b[38;5;124m\"\u001b[39m\u001b[38;5;124menergy\u001b[39m\u001b[38;5;124m\"\u001b[39m \u001b[38;5;129;01min\u001b[39;00m key:\n",
      "\u001b[0;31mAttributeError\u001b[0m: 'dict' object has no attribute 'instance'"
     ]
    }
   ],
   "source": [
    "parse_do(data[0], prop, PROPERTY_MAP)\n",
    "# I've moved metadata to an outer row of property map, and we'll probably have to do a single property of each name, not\n",
    "# a list of properties of each name"
   ]
  },
  {
   "cell_type": "code",
   "execution_count": null,
   "metadata": {},
   "outputs": [],
   "source": [
    "data[0].todict()"
   ]
  },
  {
   "cell_type": "code",
   "execution_count": 16,
   "metadata": {},
   "outputs": [
    {
     "name": "stdout",
     "output_type": "stream",
     "text": [
      "{'input': {'source-value': {'kinetic-energy-cutoff': {'units': 'eV',\n",
      "                                                      'val': 884},\n",
      "                            'kpoint-scheme': 'Monkhorst-Pack',\n",
      "                            'kpoints': '8x8x8'}},\n",
      " 'method': {'source-value': 'DFT-PBE'},\n",
      " 'software': {'source-value': 'Quantum ESPRESSO'}}\n"
     ]
    }
   ],
   "source": [
    "md = parse_do(data[0], PROPERTY_MAP[\"potential-energy\"][0])\n",
    "pprint(md)"
   ]
  },
  {
   "cell_type": "code",
   "execution_count": 18,
   "metadata": {},
   "outputs": [
    {
     "data": {
      "text/plain": [
       "'{\"software\": {\"source-value\": \"Quantum ESPRESSO\"}, \"method\": {\"source-value\": \"DFT-PBE\"}, \"input\": {\"source-value\": {\"kpoint-scheme\": \"Monkhorst-Pack\", \"kpoints\": \"8x8x8\", \"kinetic-energy-cutoff\": {\"val\": 884, \"units\": \"eV\"}}}}'"
      ]
     },
     "execution_count": 18,
     "metadata": {},
     "output_type": "execute_result"
    }
   ],
   "source": [
    "json.dumps(md)"
   ]
  },
  {
   "cell_type": "code",
   "execution_count": null,
   "metadata": {},
   "outputs": [],
   "source": [
    "def _parse_cf_config(config: AtomicConfiguration):\n",
    "    summary = config.configuration_summary()\n",
    "    co = _empty_dict_from_schema(config_schema)\n",
    "    co[\"hash\"] = str(hash(config))  # String\n",
    "    co[\"id\"] = f\"CO_{co['hash']}\"  # String\n",
    "    last_modified = datetime.datetime.now(tz=datetime.timezone.utc).strftime(\n",
    "        \"%Y-%m-%dT%H:%M:%SZ\"\n",
    "    )\n",
    "    co[\"last_modified\"] = dateutil.parser.parse(last_modified)  # timestamp\n",
    "\n",
    "    co[\"nsites\"] = summary[\"nsites\"]  # int\n",
    "    co[\"elements\"] = summary[\"elements\"]  # Array[string]\n",
    "    co[\"nelements\"] = summary[\"nelements\"]  # int\n",
    "    co[\"elements_ratios\"] = summary[\"elements_ratios\"]  # Array[string]\n",
    "    co[\"chemical_formula_anonymous\"] = summary[\"chemical_formula_anonymous\"]  # String\n",
    "    co[\"chemical_formula_reduced\"] = summary[\"chemical_formula_reduced\"]  # String\n",
    "    co[\"chemical_formula_hill\"] = summary[\"chemical_formula_hill\"]  # String\n",
    "    co[\"dimension_types\"] = summary[\"dimension_types\"]  # Array\n",
    "    co[\"nperiodic_dimensions\"] = summary[\"nperiodic_dimensions\"]  # int\n",
    "\n",
    "    co[\"atomic_numbers\"] = config.arrays[\"numbers\"]  # Array[int]\n",
    "    co[\"cell\"] = config.cell  # Array 3x3\n",
    "    co[\"pbc\"] = config.pbc  # Array len 3\n",
    "    co[\"names\"] = config.info[ATOMS_NAME_FIELD]  # Array\n",
    "\n",
    "    # TODO: handle oversize positions lists\n",
    "    co[\"positions\"] = config.arrays[\"positions\"]  # Array nsitesx3\n",
    "    # co[\"dataset_ids\"] = []  # Array[string]\n",
    "    # for relationship in config[\"relationships\"]:\n",
    "    #     co[\"dataset_ids\"].append(relationship[\"dataset\"])\n",
    "\n",
    "    return co"
   ]
  },
  {
   "cell_type": "code",
   "execution_count": null,
   "metadata": {},
   "outputs": [],
   "source": [
    "type(data[0].arrays[\"numbers\"])"
   ]
  },
  {
   "cell_type": "code",
   "execution_count": null,
   "metadata": {},
   "outputs": [],
   "source": [
    "cos_parallel = spark.sparkContext.parallelize(data)"
   ]
  },
  {
   "cell_type": "code",
   "execution_count": null,
   "metadata": {},
   "outputs": [],
   "source": [
    "configs_to_add = cos_parallel.map(_parse_cf_config).map(stringify_lists)"
   ]
  },
  {
   "cell_type": "code",
   "execution_count": null,
   "metadata": {},
   "outputs": [],
   "source": [
    "configs_to_add.take(1)"
   ]
  },
  {
   "cell_type": "code",
   "execution_count": null,
   "metadata": {},
   "outputs": [],
   "source": [
    "\"\"\"\n",
    "Can we make the configuration and the property instance/data object at the same time?\n",
    "In this way, we would only have to pass through the data one time.\n",
    "\n",
    "Workflow:\n",
    "create database access object\n",
    "create data reader as function? of the database access object\n",
    "reader returns ase.Atoms-style objects (AtomicConfiguration)\n",
    "DOs and PIs are now one object\n",
    "These DOs point to a configuration\n",
    "The configuration may already exist in the database, so we keep track of the hash added to the DO\n",
    "\n",
    "\n",
    "\"\"\""
   ]
  },
  {
   "cell_type": "code",
   "execution_count": null,
   "metadata": {},
   "outputs": [],
   "source": [
    "def _build_co_update_doc(configuration):\n",
    "    processed_fields = configuration.configuration_summary()\n",
    "    co_hash = str(hash(configuration))\n",
    "    config_dict = configuration.todict()\n",
    "    config_dict.update(\n",
    "        {\n",
    "            \"hash\": co_hash,\n",
    "            SHORT_ID_STRING_NAME: \"CO_\" + co_hash,\n",
    "            \"last_modified\": datetime.datetime.now(tz=datetime.timezone.utc).strftime(\n",
    "                \"%Y-%m-%dT%H:%M:%SZ\"\n",
    "            ),\n",
    "        }\n",
    "    )\n",
    "    names = configuration.info.pop([ATOMS_NAME_FIELD])\n",
    "    if isinstance(names, str):\n",
    "        names = [names]\n",
    "    config_dict[\"names\"] = names\n",
    "    config_dict.update(\n",
    "        {k: str(v.tolist()) for k, v in configuration.unique_identifiers.items()}\n",
    "    )\n",
    "    config_dict.update({k: v for k, v in processed_fields.items()})\n",
    "    # 'nsites': 4,\n",
    "    # 'elements': ['Si'],\n",
    "    # 'nelements': 1,\n",
    "    # 'elements_ratios': [1.0],\n",
    "    # 'chemical_formula_anonymous': 'A',\n",
    "    # 'chemical_formula_reduced': 'Si',\n",
    "    # 'chemical_formula_hill': 'Si4',\n",
    "    # 'dimension_types': [0, 0, 0],\n",
    "    # 'nperiodic_dimensions': 0\n",
    "    return config_dict, co_hash"
   ]
  },
  {
   "cell_type": "code",
   "execution_count": null,
   "metadata": {},
   "outputs": [],
   "source": [
    "stringify_lists(_build_co_update_doc(data[0])[0])"
   ]
  },
  {
   "cell_type": "code",
   "execution_count": null,
   "metadata": {},
   "outputs": [],
   "source": [
    "cos = json.load(Path(\"sample_db/co_ds1.json\").open(\"r\"))"
   ]
  },
  {
   "cell_type": "code",
   "execution_count": null,
   "metadata": {},
   "outputs": [],
   "source": [
    "with open(Path(\"sample_db/co_ds1.json\"), \"r\") as f:\n",
    "    co_json = spark.sparkContext.parallelize(json.load(f))"
   ]
  },
  {
   "cell_type": "code",
   "execution_count": null,
   "metadata": {},
   "outputs": [],
   "source": [
    "co = co_json.map(_parse_config).map(stringify_lists)\n",
    "co_df = spark.createDataFrame(co, config_schema)"
   ]
  },
  {
   "cell_type": "code",
   "execution_count": null,
   "metadata": {},
   "outputs": [],
   "source": [
    "def parse_configs(co_path, spark):\n",
    "    with open(co_path, \"r\") as f:\n",
    "        co_json = spark.sparkContext.parallelize(json.load(f))\n",
    "    co = co_json.map(_parse_config).map(stringify_lists)\n",
    "    co_df = spark.createDataFrame(co, config_schema)\n",
    "    return co_df"
   ]
  },
  {
   "cell_type": "code",
   "execution_count": null,
   "metadata": {},
   "outputs": [],
   "source": [
    "parse_configs(\"sample_db/co_ds1.json\", spark).show()"
   ]
  },
  {
   "cell_type": "code",
   "execution_count": null,
   "metadata": {},
   "outputs": [],
   "source": [
    "table_name = \"co\"\n",
    "\n",
    "mode = \"append\"\n",
    "url = \"jdbc:postgresql://localhost:5432/colabfit\"\n",
    "properties = {\"user\": user, \"password\": password, \"driver\": \"org.postgresql.Driver\"}\n",
    "co_df.write.jdbc(url=url, table=table_name, mode=mode, properties=properties)"
   ]
  },
  {
   "cell_type": "code",
   "execution_count": null,
   "metadata": {},
   "outputs": [],
   "source": [
    "# co_df.write."
   ]
  },
  {
   "cell_type": "code",
   "execution_count": null,
   "metadata": {},
   "outputs": [],
   "source": []
  }
 ],
 "metadata": {
  "kernelspec": {
   "display_name": "cf-dev-env",
   "language": "python",
   "name": "python3"
  },
  "language_info": {
   "codemirror_mode": {
    "name": "ipython",
    "version": 3
   },
   "file_extension": ".py",
   "mimetype": "text/x-python",
   "name": "python",
   "nbconvert_exporter": "python",
   "pygments_lexer": "ipython3",
   "version": "3.11.4"
  }
 },
 "nbformat": 4,
 "nbformat_minor": 2
}
