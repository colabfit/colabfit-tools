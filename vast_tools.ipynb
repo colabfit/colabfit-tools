{
 "cells": [
  {
   "cell_type": "markdown",
   "metadata": {},
   "source": [
    "# Imports"
   ]
  },
  {
   "cell_type": "code",
   "execution_count": 1,
   "metadata": {},
   "outputs": [
    {
     "data": {
      "text/plain": [
       "True"
      ]
     },
     "execution_count": 1,
     "metadata": {},
     "output_type": "execute_result"
    }
   ],
   "source": [
    "import datetime\n",
    "import json\n",
    "import os\n",
    "import pickle\n",
    "\n",
    "# from functools import partial\n",
    "# from itertools import chain, islice\n",
    "# from multiprocessing import Pool, cpu_count\n",
    "from pathlib import Path\n",
    "\n",
    "# from pprint import pprint\n",
    "\n",
    "import dateutil.parser\n",
    "import findspark\n",
    "import lmdb\n",
    "import numpy as np\n",
    "import psycopg\n",
    "import pyspark.sql.functions as sf\n",
    "from ase.atoms import Atoms\n",
    "from ase.io.cfg import read_cfg\n",
    "from dotenv import load_dotenv\n",
    "from pyspark.sql import SparkSession\n",
    "from pyspark.sql.types import (\n",
    "    ArrayType,\n",
    "    BooleanType,\n",
    "    DoubleType,\n",
    "    FloatType,\n",
    "    IntegerType,\n",
    "    LongType,\n",
    "    StringType,\n",
    "    StructField,\n",
    "    StructType,\n",
    "    TimestampType,\n",
    ")\n",
    "\n",
    "from colabfit.tools.configuration import AtomicConfiguration, config_schema\n",
    "from colabfit.tools.database import DataManager, PGDataLoader\n",
    "from colabfit.tools.dataset import Dataset, dataset_schema\n",
    "from colabfit.tools.property import Property, property_object_schema\n",
    "from colabfit.tools.property_definitions import (\n",
    "    atomic_forces_pd,\n",
    "    cauchy_stress_pd,\n",
    "    potential_energy_pd,\n",
    ")\n",
    "from colabfit.tools.schema import configuration_set_schema\n",
    "import pyarrow as pa\n",
    "\n",
    "with open(\"formation_energy.json\", \"r\") as f:\n",
    "    formation_energy_pd = json.load(f)\n",
    "findspark.init()\n",
    "format = \"jdbc\"\n",
    "load_dotenv(\"./.env\")"
   ]
  },
  {
   "cell_type": "markdown",
   "metadata": {},
   "source": [
    "# Set up MTPU and Carolina Materials readers and data"
   ]
  },
  {
   "cell_type": "code",
   "execution_count": 2,
   "metadata": {},
   "outputs": [],
   "source": [
    "# MTPU data\n",
    "\n",
    "\n",
    "def convert_stress(keys, stress):\n",
    "    stresses = {k: s for k, s in zip(keys, stress)}\n",
    "    return [\n",
    "        [stresses[\"xx\"], stresses[\"xy\"], stresses[\"xz\"]],\n",
    "        [stresses[\"xy\"], stresses[\"yy\"], stresses[\"yz\"]],\n",
    "        [stresses[\"xz\"], stresses[\"yz\"], stresses[\"zz\"]],\n",
    "    ]\n",
    "\n",
    "\n",
    "SYMBOL_DICT = {\"0\": \"Si\", \"1\": \"O\"}\n",
    "\n",
    "\n",
    "def mtpu_reader(filepath):\n",
    "    with open(filepath, \"rt\") as f:\n",
    "        energy = None\n",
    "        forces = None\n",
    "        coords = []\n",
    "        cell = []\n",
    "        symbols = []\n",
    "        config_count = 0\n",
    "        for line in f:\n",
    "            if line.strip().startswith(\"Size\"):\n",
    "                size = int(f.readline().strip())\n",
    "            elif line.strip().lower().startswith(\"supercell\"):\n",
    "                cell.append([float(x) for x in f.readline().strip().split()])\n",
    "                cell.append([float(x) for x in f.readline().strip().split()])\n",
    "                cell.append([float(x) for x in f.readline().strip().split()])\n",
    "            elif line.strip().startswith(\"Energy\"):\n",
    "                energy = float(f.readline().strip())\n",
    "            elif line.strip().startswith(\"PlusStress\"):\n",
    "                stress_keys = line.strip().split()[-6:]\n",
    "                stress = [float(x) for x in f.readline().strip().split()]\n",
    "                stress = convert_stress(stress_keys, stress)\n",
    "            elif line.strip().startswith(\"AtomData:\"):\n",
    "                keys = line.strip().split()[1:]\n",
    "                if \"fx\" in keys:\n",
    "                    forces = []\n",
    "                for i in range(size):\n",
    "                    li = {\n",
    "                        key: val for key, val in zip(keys, f.readline().strip().split())\n",
    "                    }\n",
    "                    symbols.append(SYMBOL_DICT[li[\"type\"]])\n",
    "                    if \"cartes_x\" in keys:\n",
    "                        coords.append(\n",
    "                            [\n",
    "                                float(c)\n",
    "                                for c in [\n",
    "                                    li[\"cartes_x\"],\n",
    "                                    li[\"cartes_y\"],\n",
    "                                    li[\"cartes_z\"],\n",
    "                                ]\n",
    "                            ]\n",
    "                        )\n",
    "                    elif \"direct_x\" in keys:\n",
    "                        coords.append(\n",
    "                            [\n",
    "                                float(c)\n",
    "                                for c in [\n",
    "                                    li[\"direct_x\"],\n",
    "                                    li[\"direct_y\"],\n",
    "                                    li[\"direct_z\"],\n",
    "                                ]\n",
    "                            ]\n",
    "                        )\n",
    "\n",
    "                    if \"fx\" in keys:\n",
    "                        forces.append(\n",
    "                            [float(f) for f in [li[\"fx\"], li[\"fy\"], li[\"fz\"]]]\n",
    "                        )\n",
    "\n",
    "            elif line.startswith(\"END_CFG\"):\n",
    "                if \"cartes_x\" in keys:\n",
    "                    config = AtomicConfiguration(\n",
    "                        positions=coords, symbols=symbols, cell=cell\n",
    "                    )\n",
    "                elif \"direct_x\" in keys:\n",
    "                    config = AtomicConfiguration(\n",
    "                        scaled_positions=coords, symbols=symbols, cell=cell\n",
    "                    )\n",
    "                config.info[\"energy\"] = energy\n",
    "                if forces:\n",
    "                    config.info[\"forces\"] = forces\n",
    "                config.info[\"stress\"] = stress\n",
    "\n",
    "                if \"Si\" in symbols and \"O\" in symbols:\n",
    "                    config.info[\"input\"] = {\n",
    "                        \"kpoint-scheme\": \"Monkhorst-Pack\",\n",
    "                        \"kpoints\": \"11x11x11\",\n",
    "                        \"kinetic-energy-cutoff\": {\n",
    "                            \"val\": 1224,\n",
    "                            \"units\": \"eV\",\n",
    "                        },\n",
    "                    }\n",
    "                    config.info[\"_name\"] = f\"{filepath.stem}_SiO2_{config_count}\"\n",
    "                elif \"Si\" in symbols:\n",
    "                    config.info[\"input\"] = {\n",
    "                        \"kpoint-scheme\": \"Monkhorst-Pack\",\n",
    "                        \"kpoints\": \"8x8x8\",\n",
    "                        \"kinetic-energy-cutoff\": {\n",
    "                            \"val\": 884,\n",
    "                            \"units\": \"eV\",\n",
    "                        },\n",
    "                    }\n",
    "                    config.info[\"_name\"] = f\"{filepath.stem}_Si_{config_count}\"\n",
    "                elif \"O\" in symbols:\n",
    "                    config.info[\"input\"] = {\n",
    "                        \"kpoint-scheme\": \"Monkhorst-Pack\",\n",
    "                        \"kpoints\": \"gamma-point\",\n",
    "                        \"kinetic-energy-cutoff\": {\n",
    "                            \"val\": 1224,\n",
    "                            \"units\": \"eV\",\n",
    "                        },\n",
    "                    }\n",
    "                    config.info[\"_name\"] = f\"{filepath.stem}_O_{config_count}\"\n",
    "                config_count += 1\n",
    "                yield config\n",
    "                forces = None\n",
    "                stress = []\n",
    "                coords = []\n",
    "                cell = []\n",
    "                symbols = []\n",
    "                energy = None"
   ]
  },
  {
   "cell_type": "code",
   "execution_count": 3,
   "metadata": {},
   "outputs": [],
   "source": [
    "mtpu_configs = mtpu_reader(Path(\"data/mtpu_2023/Unified_training_set.cfg\"))\n",
    "# data = [x for x in mtpu_configs]\n",
    "# data[0].configuration_summary()"
   ]
  },
  {
   "cell_type": "code",
   "execution_count": 4,
   "metadata": {},
   "outputs": [],
   "source": [
    "# Carolina Materials data\n",
    "\n",
    "SOFTWARE = \"VASP\"\n",
    "METHODS = \"DFT-PBE\"\n",
    "CM_PI_METADATA = {\n",
    "    \"software\": {\"value\": SOFTWARE},\n",
    "    \"method\": {\"value\": METHODS},\n",
    "    \"input\": {\"value\": {\"IBRION\": 6, \"NFREE\": 4}},\n",
    "}\n",
    "\n",
    "CM_PROPERTY_MAP = {\n",
    "    \"formation-energy\": [\n",
    "        {\n",
    "            \"energy\": {\"field\": \"energy\", \"units\": \"eV\"},\n",
    "            \"per-atom\": {\"value\": False, \"units\": None},\n",
    "        }\n",
    "    ],\n",
    "    \"_metadata\": CM_PI_METADATA,\n",
    "}\n",
    "CO_MD = {\n",
    "    key: {\"field\": key}\n",
    "    for key in [\n",
    "        \"_symmetry_space_group_name_H-M\",\n",
    "        \"_symmetry_Int_Tables_number\",\n",
    "        \"_chemical_formula_structural\",\n",
    "        \"_chemical_formula_sum\",\n",
    "        \"_cell_volume\",\n",
    "        \"_cell_formula_units_Z\",\n",
    "        \"symmetry_dict\",\n",
    "        \"formula_pretty\",\n",
    "    ]\n",
    "}\n",
    "\n",
    "\n",
    "def load_row(txn, row):\n",
    "    try:\n",
    "        data = pickle.loads(txn.get(f\"{row}\".encode(\"ascii\")))\n",
    "        return data\n",
    "    except TypeError:\n",
    "        return False\n",
    "\n",
    "\n",
    "def config_from_row(row: dict, row_num: int):\n",
    "    coords = row.pop(\"cart_coords\")\n",
    "    a_num = row.pop(\"atomic_numbers\")\n",
    "    cell = [\n",
    "        row.pop(x)\n",
    "        for x in [\n",
    "            \"_cell_length_a\",\n",
    "            \"_cell_length_b\",\n",
    "            \"_cell_length_c\",\n",
    "            \"_cell_angle_alpha\",\n",
    "            \"_cell_angle_beta\",\n",
    "            \"_cell_angle_gamma\",\n",
    "        ]\n",
    "    ]\n",
    "    symmetry_dict = {str(key): val for key, val in row.pop(\"symmetry_dict\").items()}\n",
    "    for key in symmetry_dict:\n",
    "        key = str(key)\n",
    "    info = {}\n",
    "    info = row\n",
    "    info[\"symmetry_dict\"] = symmetry_dict\n",
    "    info[\"_name\"] = f\"carolina_materials_{row_num}\"\n",
    "    if row_num % 10 == 0:\n",
    "        info[\"_labels\"] = [row_num % 10, \"bcc\"]\n",
    "    else:\n",
    "        info[\"_labels\"] = [row_num % 10, \"fcc\"]\n",
    "    config = AtomicConfiguration(\n",
    "        scaled_positions=coords,\n",
    "        numbers=a_num,\n",
    "        cell=cell,\n",
    "        info=info,\n",
    "    )\n",
    "    return config\n",
    "    # return AtomicConfiguration.from_ase(config)\n",
    "\n",
    "\n",
    "def carmat_reader(fp: Path):\n",
    "    parent = fp.parent\n",
    "    env = lmdb.open(str(parent))\n",
    "    txn = env.begin()\n",
    "    row_num = 0\n",
    "    rows = []\n",
    "    while row_num <= 10000:\n",
    "        row = load_row(txn, row_num)\n",
    "        if row is False:\n",
    "            env.close()\n",
    "            break\n",
    "        rows.append(row)\n",
    "        yield config_from_row(row, row_num)\n",
    "        row_num += 1\n",
    "    env.close()\n",
    "    return False\n",
    "    # return rows"
   ]
  },
  {
   "cell_type": "code",
   "execution_count": 5,
   "metadata": {},
   "outputs": [],
   "source": [
    "PI_METADATA = {\n",
    "    \"software\": {\"value\": \"Quantum ESPRESSO\"},\n",
    "    \"method\": {\"value\": \"DFT-PBE\"},\n",
    "    \"input\": {\"field\": \"input\"},\n",
    "}\n",
    "PROPERTY_MAP = {\n",
    "    \"potential-energy\": [\n",
    "        {\n",
    "            \"energy\": {\"field\": \"energy\", \"units\": \"eV\"},\n",
    "            \"per-atom\": {\"value\": False, \"units\": None},\n",
    "            # \"_metadata\": PI_METADATA,\n",
    "        }\n",
    "    ],\n",
    "    \"atomic-forces\": [\n",
    "        {\n",
    "            \"forces\": {\"field\": \"forces\", \"units\": \"eV/angstrom\"},\n",
    "            # \"_metadata\": PI_METADATA,\n",
    "        },\n",
    "    ],\n",
    "    \"cauchy-stress\": [\n",
    "        {\n",
    "            \"stress\": {\"field\": \"stress\", \"units\": \"GPa\"},\n",
    "            \"volume-normalized\": {\"value\": True, \"units\": None},\n",
    "        }\n",
    "    ],\n",
    "    \"_metadata\": PI_METADATA,\n",
    "}"
   ]
  },
  {
   "cell_type": "markdown",
   "metadata": {},
   "source": [
    "# Connect to DB and run loader"
   ]
  },
  {
   "cell_type": "code",
   "execution_count": 57,
   "metadata": {},
   "outputs": [
    {
     "name": "stderr",
     "output_type": "stream",
     "text": [
      "24/05/07 15:01:14 WARN SparkSession: Using an existing Spark session; only runtime SQL configurations will take effect.\n",
      "24/05/07 15:01:14 WARN SparkSession: Using an existing Spark session; only runtime SQL configurations will take effect.\n"
     ]
    }
   ],
   "source": [
    "JARFILE = os.environ.get(\"CLASSPATH\")\n",
    "spark = (\n",
    "    SparkSession.builder.appName(\"PostgreSQL Connection with PySpark\")\n",
    "    .config(\"spark.jars\", JARFILE)\n",
    "    .getOrCreate()\n",
    ")\n",
    "url = \"jdbc:postgresql://localhost:5432/colabfit\"\n",
    "user = os.environ.get(\"PGS_USER\")\n",
    "password = os.environ.get(\"PGS_PASS\")\n",
    "properties = {\n",
    "    \"user\": user,\n",
    "    \"password\": password,\n",
    "    \"driver\": \"org.postgresql.Driver\",\n",
    "}\n",
    "loader = PGDataLoader(appname=\"colabfit\", env=\"./.env\")"
   ]
  },
  {
   "cell_type": "code",
   "execution_count": 58,
   "metadata": {},
   "outputs": [
    {
     "name": "stdout",
     "output_type": "stream",
     "text": [
      "Dataset ID: DS_y7nrdsjtuw0g_0\n"
     ]
    }
   ],
   "source": [
    "carmat_config_gen = carmat_reader(Path(\"data/carolina_matdb/base/all/data.mdb\"))\n",
    "carmat_ds_id = \"DS_y7nrdsjtuw0g_0\"\n",
    "# carmat_ds_id2 = \"duplicate_ds_id\"\n",
    "dm = DataManager(\n",
    "    nprocs=4,\n",
    "    configs=carmat_config_gen,\n",
    "    prop_defs=[formation_energy_pd],\n",
    "    prop_map=CM_PROPERTY_MAP,\n",
    "    dataset_id=carmat_ds_id,\n",
    ")\n",
    "# dm_dup = DataManager(\n",
    "#     nprocs=4,\n",
    "#     configs=carmat_config_gen,\n",
    "#     prop_defs=[formation_energy_pd],\n",
    "#     prop_map=CM_PROPERTY_MAP,\n",
    "#     dataset_id=carmat_ds_id2,\n",
    "# )"
   ]
  },
  {
   "cell_type": "code",
   "execution_count": 8,
   "metadata": {},
   "outputs": [
    {
     "name": "stdout",
     "output_type": "stream",
     "text": [
      "Dataset ID: DS_y7nrdsjtuwom_0\n"
     ]
    }
   ],
   "source": [
    "mtpu_ds_id = \"DS_y7nrdsjtuwom_0\"\n",
    "dm2 = DataManager(\n",
    "    nprocs=4,\n",
    "    configs=mtpu_configs,\n",
    "    prop_defs=[potential_energy_pd, atomic_forces_pd, cauchy_stress_pd],\n",
    "    prop_map=PROPERTY_MAP,\n",
    "    dataset_id=mtpu_ds_id,\n",
    ")"
   ]
  },
  {
   "cell_type": "code",
   "execution_count": 59,
   "metadata": {},
   "outputs": [],
   "source": [
    "batch = next(dm.gather_co_po_in_batches())"
   ]
  },
  {
   "cell_type": "code",
   "execution_count": 60,
   "metadata": {},
   "outputs": [],
   "source": [
    "cos = [x[0] for x in batch]\n",
    "cos_dataframe = loader.spark.createDataFrame(cos, schema=config_schema)"
   ]
  },
  {
   "cell_type": "code",
   "execution_count": 61,
   "metadata": {},
   "outputs": [],
   "source": [
    "rows = loader.spark.createDataFrame(cos, schema=config_schema).collect()"
   ]
  },
  {
   "cell_type": "code",
   "execution_count": 53,
   "metadata": {},
   "outputs": [],
   "source": [
    "from collections import defaultdict"
   ]
  },
  {
   "cell_type": "code",
   "execution_count": 54,
   "metadata": {},
   "outputs": [
    {
     "name": "stdout",
     "output_type": "stream",
     "text": [
      "defaultdict(<class 'list'>, {'id': ['CO_2035392092515548233', 'CO_395357802651642160', 'CO_1353971176978508405', 'CO_673544646621950284', 'CO_1180491453360028556', 'CO_1235470615381239321', 'CO_1125763852340156480', 'CO_2185718778256801767', 'CO_1547613879869181226', 'CO_2262213674274439455', 'CO_2212061042677459331'], 'hash': ['2035392092515548233', '395357802651642160', '1353971176978508405', '673544646621950284', '1180491453360028556', '1235470615381239321', '1125763852340156480', '2185718778256801767', '1547613879869181226', '2262213674274439455', '2212061042677459331'], 'last_modified': [datetime.datetime(2024, 5, 7, 12, 13, 15), datetime.datetime(2024, 5, 7, 12, 13, 15), datetime.datetime(2024, 5, 7, 12, 13, 15), datetime.datetime(2024, 5, 7, 12, 13, 15), datetime.datetime(2024, 5, 7, 12, 13, 15), datetime.datetime(2024, 5, 7, 12, 13, 15), datetime.datetime(2024, 5, 7, 12, 13, 15), datetime.datetime(2024, 5, 7, 12, 13, 15), datetime.datetime(2024, 5, 7, 12, 13, 15), datetime.datetime(2024, 5, 7, 12, 13, 15), datetime.datetime(2024, 5, 7, 12, 13, 15)], 'dataset_ids': [\"['DS_y7nrdsjtuw0g_0']\", \"['DS_y7nrdsjtuw0g_0']\", \"['DS_y7nrdsjtuw0g_0']\", \"['DS_y7nrdsjtuw0g_0']\", \"['DS_y7nrdsjtuw0g_0']\", \"['DS_y7nrdsjtuw0g_0']\", \"['DS_y7nrdsjtuw0g_0']\", \"['DS_y7nrdsjtuw0g_0']\", \"['DS_y7nrdsjtuw0g_0']\", \"['DS_y7nrdsjtuw0g_0']\", \"['DS_y7nrdsjtuw0g_0']\"], 'metadata': [None, None, None, None, None, None, None, None, None, None, None], 'chemical_formula_hill': ['H6BrCaRh2', 'H24Al4Co4Ti4', 'FeGe6InSn2', 'Au4F24Li4', 'Na2OsRuV6', 'Cr6FeOsRu2', 'FeMg2NiTi6', 'Au2InKPt6', 'Cl6MoSb2Sc', 'BCrIr2N6', 'Cr2NiPbSe6'], 'chemical_formula_reduced': ['BrCaH6Rh2', 'AlCoH6Ti', 'FeGe6InSn2', 'AuF6Li', 'Na2OsRuV6', 'Cr6FeOsRu2', 'FeMg2NiTi6', 'Au2InKPt6', 'Cl6MoSb2Sc', 'BCrIr2N6', 'Cr2NiPbSe6'], 'chemical_formula_anonymous': ['A6B2CD', 'A6BCD', 'A6B2CD', 'A6BC', 'A6B2CD', 'A6B2CD', 'A6B2CD', 'A6B2CD', 'A6B2CD', 'A6B2CD', 'A6B2CD'], 'elements': [\"['Br', 'Ca', 'H', 'Rh']\", \"['Al', 'Co', 'H', 'Ti']\", \"['Fe', 'Ge', 'In', 'Sn']\", \"['Au', 'F', 'Li']\", \"['Na', 'Os', 'Ru', 'V']\", \"['Cr', 'Fe', 'Os', 'Ru']\", \"['Fe', 'Mg', 'Ni', 'Ti']\", \"['Au', 'In', 'K', 'Pt']\", \"['Cl', 'Mo', 'Sb', 'Sc']\", \"['B', 'Cr', 'Ir', 'N']\", \"['Cr', 'Ni', 'Pb', 'Se']\"], 'elements_ratios': ['[0.1, 0.1, 0.6, 0.2]', '[0.1111111111111111, 0.1111111111111111, 0.6666666666666666, 0.1111111111111111]', '[0.1, 0.6, 0.1, 0.2]', '[0.125, 0.75, 0.125]', '[0.2, 0.1, 0.1, 0.6]', '[0.6, 0.1, 0.1, 0.2]', '[0.1, 0.2, 0.1, 0.6]', '[0.2, 0.1, 0.1, 0.6]', '[0.6, 0.1, 0.2, 0.1]', '[0.1, 0.1, 0.2, 0.6]', '[0.2, 0.1, 0.1, 0.6]'], 'atomic_numbers': ['[35, 20, 1, 1, 1, 1, 1, 1, 45, 45]', '[22, 22, 22, 22, 13, 13, 13, 13, 27, 27, 27, 27, 1, 1, 1, 1, 1, 1, 1, 1, 1, 1, 1, 1, 1, 1, 1, 1, 1, 1, 1, 1, 1, 1, 1, 1]', '[26, 32, 32, 32, 32, 32, 32, 49, 50, 50]', '[3, 3, 3, 3, 79, 79, 79, 79, 9, 9, 9, 9, 9, 9, 9, 9, 9, 9, 9, 9, 9, 9, 9, 9, 9, 9, 9, 9, 9, 9, 9, 9]', '[11, 11, 76, 44, 23, 23, 23, 23, 23, 23]', '[24, 24, 24, 24, 24, 24, 26, 76, 44, 44]', '[26, 12, 12, 28, 22, 22, 22, 22, 22, 22]', '[79, 79, 49, 19, 78, 78, 78, 78, 78, 78]', '[17, 17, 17, 17, 17, 17, 42, 51, 51, 21]', '[5, 24, 77, 77, 7, 7, 7, 7, 7, 7]', '[24, 24, 28, 82, 34, 34, 34, 34, 34, 34]'], 'nsites': [10, 36, 10, 32, 10, 10, 10, 10, 10, 10, 10], 'nelements': [4, 4, 4, 3, 4, 4, 4, 4, 4, 4, 4], 'nperiodic_dimensions': [0, 0, 0, 0, 0, 0, 0, 0, 0, 0, 0], 'cell': ['[[5.39874426, 0.0, 0.0], [2.6993721300000004, 4.67544967769542, 0.0], [2.6993721300000004, 1.5584832258984738, 4.4080562295931855]]', '[[6.15561698, 0.0, 0.0], [0.0, 6.15561698, 0.0], [0.0, 0.0, 6.15561698]]', '[[7.43156319, 0.0, 0.0], [3.715781595000001, 6.435922512369321, 0.0], [3.715781595000001, 2.1453075041231076, 6.067845935583344]]', '[[7.15089046, 0.0, 0.0], [0.0, 7.15089046, 0.0], [0.0, 0.0, 7.15089046]]', '[[6.54034444, 0.0, 0.0], [3.270172219497596, 5.6641035341639325, 0.0], [3.2701714405023883, 1.888034661305724, 5.34016844849794]]', '[[6.07158833, 0.0, 0.0], [3.035794165000001, 5.258149735101135, 0.0], [3.035794165000001, 1.7527165783670453, 4.957431112245681]]', '[[6.56086252, 0.0, 0.0], [3.2804312600000007, 5.681873613057189, 0.0], [3.2804312600000007, 1.8939578710190634, 5.356921815516864]]', '[[7.12091764, 0.0, 0.0], [3.560458820000001, 6.166895574496731, 0.0], [3.560458820000001, 2.0556318581655777, 5.814204906127931]]', '[[6.99866541, 0.0, 0.0], [3.499332705000001, 6.061022037647434, 0.0], [3.499332705000001, 2.0203406792158116, 5.714386378322141]]', '[[5.43784303, 0.0, 0.0], [2.7189215150000003, 4.7093102057721445, 0.0], [2.7189215150000003, 1.5697700685907152, 4.439980241616666]]', '[[7.06578183, 0.0, 0.0], [3.5328909150000007, 6.119146562378499, 0.0], [3.5328909150000007, 2.0397155207928335, 5.76918670577625]]'], 'dimension_types': ['[0, 0, 0]', '[0, 0, 0]', '[0, 0, 0]', '[0, 0, 0]', '[0, 0, 0]', '[0, 0, 0]', '[0, 0, 0]', '[0, 0, 0]', '[0, 0, 0]', '[0, 0, 0]', '[0, 0, 0]'], 'pbc': ['[False, False, False]', '[False, False, False]', '[False, False, False]', '[False, False, False]', '[False, False, False]', '[False, False, False]', '[False, False, False]', '[False, False, False]', '[False, False, False]', '[False, False, False]', '[False, False, False]'], 'positions': ['[[0.0, 0.0, 0.0], [5.398744260000001, 3.116966451796947, 2.2040281147965928], [5.398744260000001, 4.84493341938597, 3.4258852752451454], [5.39874426, 1.3889994842079243, 0.9821709543480398], [6.895207550832455, 3.980949935591458, 0.9821709543480398], [3.902280969167545, 2.252982968002436, 3.4258852752451454], [6.895207550832455, 2.252982968002436, 3.4258852752451454], [3.902280969167545, 3.980949935591458, 0.9821709543480398], [8.098116390000001, 4.67544967769542, 3.306042172194889], [2.6993721300000004, 1.5584832258984735, 1.1020140573982964]]', '[[1.538904245, 1.538904245, 4.616712735], [1.538904245, 4.616712735, 1.538904245], [4.616712735, 1.538904245, 1.538904245], [4.616712735, 4.616712735, 4.616712735], [0.0, 0.0, 0.0], [0.0, 3.07780849, 3.07780849], [3.07780849, 0.0, 3.07780849], [3.07780849, 3.07780849, 0.0], [1.538904245, 1.538904245, 1.538904245], [1.538904245, 4.616712735, 4.616712735], [4.616712735, 1.538904245, 4.616712735], [4.616712735, 4.616712735, 1.538904245], [3.07780849, 1.3692779705893465, 0.0], [0.0, 1.7085305194106533, 0.0], [1.7085305194106533, 0.0, 0.0], [4.447086460589347, 0.0, 0.0], [3.07780849, 0.0, 4.786339009410653], [3.07780849, 0.0, 1.3692779705893465], [3.07780849, 4.447086460589347, 3.07780849], [0.0, 4.786339009410653, 3.07780849], [1.7085305194106533, 3.07780849, 3.07780849], [4.447086460589347, 3.07780849, 3.07780849], [3.07780849, 3.07780849, 1.7085305194106533], [3.07780849, 3.07780849, 4.447086460589347], [0.0, 1.3692779705893465, 3.07780849], [3.07780849, 1.7085305194106533, 3.07780849], [4.786339009410653, 0.0, 3.07780849], [1.3692779705893465, 0.0, 3.07780849], [0.0, 0.0, 1.7085305194106533], [0.0, 0.0, 4.447086460589347], [0.0, 4.447086460589347, 0.0], [3.07780849, 4.786339009410653, 0.0], [4.786339009410653, 3.07780849, 0.0], [1.3692779705893465, 3.07780849, 0.0], [0.0, 3.07780849, 4.786339009410653], [0.0, 3.07780849, 1.3692779705893465]]', '[[0.0, 0.0, 0.0], [1.8578907975000005, 1.0726537520615538, 3.033922967791672], [5.573672392500001, 1.0726537520615538, 3.033922967791672], [5.573672392500001, 3.2179612561846604, 0.0], [1.8578907975000005, 3.2179612561846604, 0.0], [3.715781595000001, 4.290615008246214, 3.033922967791672], [3.715781595, 0.0, 0.0], [7.431563190000001, 4.290615008246214, 3.033922967791672], [11.147344785000001, 6.435922512369322, 4.550884451687509], [3.7157815950000006, 2.145307504123107, 1.516961483895836]]', '[[5.363167845, 1.787722615, 1.787722615], [5.363167845, 5.363167845, 5.363167845], [1.787722615, 1.787722615, 5.363167845], [1.787722615, 5.363167845, 1.787722615], [0.0, 0.0, 0.0], [0.0, 3.57544523, 3.57544523], [3.57544523, 0.0, 3.57544523], [3.57544523, 3.57544523, 0.0], [3.620749124438093, 1.787722615, 5.363167845], [5.363167845, 3.530141335561907, 5.363167845], [7.105586565561907, 1.787722615, 5.363167845], [5.363167845, 0.0453038944380932, 5.363167845], [5.363167845, 1.787722615, 7.105586565561907], [5.363167845, 1.787722615, 3.620749124438093], [3.620749124438093, 5.363167845, 1.787722615], [5.363167845, 7.105586565561907, 1.787722615], [7.105586565561907, 5.363167845, 1.787722615], [5.363167845, 3.620749124438093, 1.787722615], [5.363167845, 5.363167845, 3.530141335561907], [5.363167845, 5.363167845, 0.0453038944380932], [0.0453038944380932, 1.787722615, 1.787722615], [1.787722615, 3.530141335561907, 1.787722615], [3.530141335561907, 1.787722615, 1.787722615], [1.787722615, 0.0453038944380932, 1.787722615], [1.787722615, 1.787722615, 3.530141335561907], [1.787722615, 1.787722615, 0.0453038944380932], [0.0453038944380932, 5.363167845, 5.363167845], [1.787722615, 7.105586565561907, 5.363167845], [3.530141335561907, 5.363167845, 5.363167845], [1.787722615, 3.620749124438093, 5.363167845], [1.787722615, 5.363167845, 7.105586565561907], [1.787722615, 5.363167845, 3.620749124438093]]', '[[9.810516074999988, 5.664103646602243, 4.005126336373455], [3.270172024999996, 1.8880345488674142, 1.335042112124485], [6.540344049999992, 3.7760690977348284, 2.67008422424897], [0.0, 0.0, 0.0], [6.540343852814592, 5.685263151876927, 4.020088366930772], [6.540344247185392, 1.8668750435927293, 1.320080081567168], [8.193755028579922, 4.730666067956665, 1.320080081567168], [4.886933071420062, 2.821472127512991, 4.020088366930772], [8.193754634717157, 2.821472127512991, 4.020088366930772], [4.886933465282827, 4.730666067956665, 1.320080081567168]]', '[[1.5178970825000004, 0.8763582891835227, 2.4787155561228404], [4.553691247500001, 0.8763582891835227, 2.4787155561228404], [4.553691247500001, 2.6290748675505675, 0.0], [1.5178970825000004, 2.6290748675505675, 0.0], [3.035794165000001, 3.50543315673409, 2.4787155561228404], [3.035794165, 0.0, 0.0], [0.0, 0.0, 0.0], [6.071588330000001, 3.50543315673409, 2.4787155561228404], [9.107382495000001, 5.258149735101135, 3.7180733341842607], [3.0357941650000004, 1.752716578367045, 1.2393577780614202]]', '[[6.560862520000001, 3.7879157420381264, 2.678460907758432], [9.84129378, 5.68187361305719, 4.017691361637648], [3.2804312600000003, 1.8939578710190632, 1.339230453879216], [0.0, 0.0, 0.0], [1.6402156300000004, 0.9469789355095317, 2.678460907758432], [4.92064689, 0.9469789355095317, 2.678460907758432], [4.92064689, 2.8409368065285947, 0.0], [1.6402156300000004, 2.8409368065285947, 0.0], [3.2804312600000007, 3.7879157420381264, 2.678460907758432], [3.28043126, 0.0, 0.0]]', '[[10.681376460000001, 6.166895574496731, 4.3606536795959485], [3.5604588200000005, 2.0556318581655773, 1.4535512265319828], [0.0, 0.0, 0.0], [7.120917640000001, 4.1112637163311545, 2.9071024530639655], [1.7802294100000005, 1.0278159290827888, 2.9071024530639655], [5.3406882300000005, 1.0278159290827888, 2.9071024530639655], [5.3406882300000005, 3.0834477872483657, 0.0], [1.7802294100000005, 3.0834477872483657, 0.0], [3.560458820000001, 4.1112637163311545, 2.9071024530639655], [3.56045882, 0.0, 0.0]]', '[[6.998665410000002, 6.008416891923776, 4.248592328475101], [6.998665410000001, 2.0729458249394694, 1.4657940498470403], [8.70277436993353, 5.0245491251777, 1.4657940498470403], [5.294556450066471, 3.0568135916855463, 4.248592328475101], [8.70277436993353, 3.0568135916855463, 4.248592328475101], [5.294556450066471, 5.0245491251777, 1.4657940498470403], [6.998665410000001, 4.040681358431623, 2.8571931891610705], [10.497998115000001, 6.061022037647435, 4.285789783741606], [3.4993327050000005, 2.0203406792158116, 1.4285965945805352], [0.0, 0.0, 0.0]]', '[[0.0, 0.0, 0.0], [5.43784303, 3.13954013718143, 2.219990120808333], [8.156764545, 4.7093102057721445, 3.329985181212499], [2.718921515, 1.569770068590715, 1.1099950604041664], [1.3594607575000002, 0.7848850342953576, 2.219990120808333], [4.0783822725, 0.7848850342953576, 2.219990120808333], [4.0783822725, 2.3546551028860723, 0.0], [1.3594607575000002, 2.3546551028860723, 0.0], [2.7189215150000003, 3.13954013718143, 2.219990120808333], [2.718921515, 0.0, 0.0]]', '[[10.598672745000002, 6.119146562378499, 4.326890029332188], [3.5328909150000003, 2.039715520792833, 1.4422966764440626], [7.065781830000001, 4.079431041585666, 2.884593352888125], [0.0, 0.0, 0.0], [7.065781830000001, 5.946989105985988, 4.205156324485215], [7.065781829999999, 2.211872977185344, 1.5640303812910343], [8.683134556813174, 5.013210073785827, 1.5640303812910343], [5.448429103186826, 3.1456520093855054, 4.205156324485215], [8.683134556813172, 3.1456520093855054, 4.205156324485215], [5.448429103186826, 5.013210073785827, 1.5640303812910343]]'], 'names': [\"['carolina_materials_0']\", \"['carolina_materials_1']\", \"['carolina_materials_2']\", \"['carolina_materials_3']\", \"['carolina_materials_4']\", \"['carolina_materials_5']\", \"['carolina_materials_6']\", \"['carolina_materials_7']\", \"['carolina_materials_8']\", \"['carolina_materials_9']\", \"['carolina_materials_10']\"], 'labels': [\"[0, 'bcc']\", \"[1, 'fcc']\", \"[2, 'fcc']\", \"[3, 'fcc']\", \"[4, 'fcc']\", \"[5, 'fcc']\", \"[6, 'fcc']\", \"[7, 'fcc']\", \"[8, 'fcc']\", \"[9, 'fcc']\", \"[0, 'bcc']\"], 'configuration_set_ids': [None, None, None, None, None, None, None, None, None, None, None]})\n"
     ]
    }
   ],
   "source": [
    "row_dict = defaultdict(list)\n",
    "for i, row in enumerate(rows):\n",
    "    if i > 10:\n",
    "        break\n",
    "    for key, val in row.asDict().items():\n",
    "        row_dict[key].append(val)\n",
    "print(row_dict)"
   ]
  },
  {
   "cell_type": "code",
   "execution_count": 30,
   "metadata": {},
   "outputs": [],
   "source": [
    "import pyarrow as pa\n",
    "\n",
    "config_schema = StructType(\n",
    "    [\n",
    "        StructField(\"id\", StringType(), False),\n",
    "        StructField(\"hash\", StringType(), False),\n",
    "        StructField(\"last_modified\", TimestampType(), False),\n",
    "        StructField(\"dataset_ids\", StringType(), True),  # ArrayType(StringType())\n",
    "        StructField(\"metadata\", StringType(), True),\n",
    "        StructField(\"chemical_formula_hill\", StringType(), True),\n",
    "        StructField(\"chemical_formula_reduced\", StringType(), True),\n",
    "        StructField(\"chemical_formula_anonymous\", StringType(), True),\n",
    "        StructField(\"elements\", StringType(), True),  # ArrayType(StringType())\n",
    "        StructField(\"elements_ratios\", StringType(), True),  # ArrayType(IntegerType())\n",
    "        StructField(\"atomic_numbers\", StringType(), True),  # ArrayType(IntegerType())\n",
    "        StructField(\"nsites\", IntegerType(), True),\n",
    "        StructField(\"nelements\", IntegerType(), True),\n",
    "        StructField(\"nperiodic_dimensions\", IntegerType(), True),\n",
    "        StructField(\"cell\", StringType(), True),  # ArrayType(ArrayType(DoubleType()))\n",
    "        StructField(\"dimension_types\", StringType(), True),  # ArrayType(IntegerType())\n",
    "        StructField(\"pbc\", StringType(), True),  # ArrayType(IntegerType())\n",
    "        StructField(\n",
    "            \"positions\", StringType(), True\n",
    "        ),  # ArrayType(ArrayType(DoubleType()))\n",
    "        StructField(\"names\", StringType(), True),  # ArrayType(StringType()),\n",
    "        StructField(\"labels\", StringType(), True),  # ArrayType(StringType())\n",
    "        StructField(\n",
    "            \"configuration_set_ids\", StringType(), True\n",
    "        ),  # ArrayType(StringType())\n",
    "    ]\n",
    ")\n",
    "\n",
    "\n",
    "def convert_type(spark_type):\n",
    "    type_name = spark_type.dataType.typeName()\n",
    "    if type_name in data_type_map:\n",
    "        print(data_type_map[type_name])\n",
    "        return pa.field(spark_type.name, data_type_map[type_name])\n",
    "    else:\n",
    "        raise ValueError(f\"Unsupported PySpark data type: {spark_type}\")\n",
    "\n",
    "\n",
    "# data_type_map = {\n",
    "#     StringType: pa.string(),\n",
    "#     IntegerType: pa.int32(),\n",
    "#     FloatType: pa.float64(),\n",
    "#     DoubleType: pa.float64(),\n",
    "#     BooleanType: pa.bool_(),\n",
    "#     TimestampType: pa.timestamp(\"ns\"),\n",
    "#     # DateType: pa.date32(),\n",
    "#     ArrayType: lambda dt: pa.list_(convert_type(dt)),\n",
    "#     StructType: lambda st: pa.struct([convert_type(f) for f in st.fields]),\n",
    "# }\n",
    "data_type_map = {\n",
    "    \"string\": pa.string(),\n",
    "    \"integer\": pa.int32(),\n",
    "    \"float\": pa.float64(),\n",
    "    # DoubleType: pa.float64(),\n",
    "    # BooleanType: pa.bool_(),\n",
    "    \"timestamp\": pa.timestamp(\"ns\"),\n",
    "    # DateType: pa.date32(),\n",
    "    # ArrayType: lambda dt: pa.list_(convert_type(dt)),\n",
    "    \"struct\": lambda st: pa.struct([convert_type(f) for f in st.fields]),\n",
    "}"
   ]
  },
  {
   "cell_type": "code",
   "execution_count": 62,
   "metadata": {},
   "outputs": [],
   "source": [
    "config_set_query = (\n",
    "    cos_dataframe.withColumn(\n",
    "        \"names_unstrung\", sf.from_json(sf.col(\"names\"), ArrayType(StringType()))\n",
    "    )\n",
    "    .withColumn(\n",
    "        \"labels_unstrung\",\n",
    "        sf.from_json(sf.col(\"labels\"), ArrayType(StringType())),\n",
    "    )\n",
    "    .withColumn(\n",
    "        \"dataset_ids_unstrung\", sf.from_json(\"dataset_ids\", ArrayType(StringType()))\n",
    "    )\n",
    "    .drop(\"names\", \"labels\", \"dataset_ids\")\n",
    "    .withColumnRenamed(\"names_unstrung\", \"names\")\n",
    "    .withColumnRenamed(\"labels_unstrung\", \"labels\")\n",
    "    .withColumnRenamed(\"dataset_ids_unstrung\", \"dataset_ids\")\n",
    "    .filter(sf.array_contains(sf.col(\"dataset_ids\"), carmat_ds_id))\n",
    ")"
   ]
  },
  {
   "cell_type": "code",
   "execution_count": 63,
   "metadata": {},
   "outputs": [
    {
     "name": "stdout",
     "output_type": "stream",
     "text": [
      "+----------------------+-------------------+-------------------+--------+---------------------+------------------------+--------------------------+-----------------------+--------------------+----------------------------------+------+---------+--------------------+-----------------------------------------------------------------------------------------------------------------------------------+---------------+---------------------+----------------------------------------------------------------------------------------------------------------------------------------------------------------------------------------------------------------------------------------------------------------------------------------------------------------------------------------------------------------------------------------------------------------------------------------------------------------------------------------------------------------------------------------------------------------------+---------------------+----------------------+--------+-------------------+\n",
      "|id                    |hash               |last_modified      |metadata|chemical_formula_hill|chemical_formula_reduced|chemical_formula_anonymous|elements               |elements_ratios     |atomic_numbers                    |nsites|nelements|nperiodic_dimensions|cell                                                                                                                               |dimension_types|pbc                  |positions                                                                                                                                                                                                                                                                                                                                                                                                                                                                                                                                                             |configuration_set_ids|names                 |labels  |dataset_ids        |\n",
      "+----------------------+-------------------+-------------------+--------+---------------------+------------------------+--------------------------+-----------------------+--------------------+----------------------------------+------+---------+--------------------+-----------------------------------------------------------------------------------------------------------------------------------+---------------+---------------------+----------------------------------------------------------------------------------------------------------------------------------------------------------------------------------------------------------------------------------------------------------------------------------------------------------------------------------------------------------------------------------------------------------------------------------------------------------------------------------------------------------------------------------------------------------------------+---------------------+----------------------+--------+-------------------+\n",
      "|CO_2035392092515548233|2035392092515548233|2024-05-07 15:01:22|NULL    |H6BrCaRh2            |BrCaH6Rh2               |A6B2CD                    |['Br', 'Ca', 'H', 'Rh']|[0.1, 0.1, 0.6, 0.2]|[35, 20, 1, 1, 1, 1, 1, 1, 45, 45]|10    |4        |0                   |[[5.39874426, 0.0, 0.0], [2.6993721300000004, 4.67544967769542, 0.0], [2.6993721300000004, 1.5584832258984738, 4.4080562295931855]]|[0, 0, 0]      |[False, False, False]|[[0.0, 0.0, 0.0], [5.398744260000001, 3.116966451796947, 2.2040281147965928], [5.398744260000001, 4.84493341938597, 3.4258852752451454], [5.39874426, 1.3889994842079243, 0.9821709543480398], [6.895207550832455, 3.980949935591458, 0.9821709543480398], [3.902280969167545, 2.252982968002436, 3.4258852752451454], [6.895207550832455, 2.252982968002436, 3.4258852752451454], [3.902280969167545, 3.980949935591458, 0.9821709543480398], [8.098116390000001, 4.67544967769542, 3.306042172194889], [2.6993721300000004, 1.5584832258984735, 1.1020140573982964]]|NULL                 |[carolina_materials_0]|[0, bcc]|[DS_y7nrdsjtuw0g_0]|\n",
      "+----------------------+-------------------+-------------------+--------+---------------------+------------------------+--------------------------+-----------------------+--------------------+----------------------------------+------+---------+--------------------+-----------------------------------------------------------------------------------------------------------------------------------+---------------+---------------------+----------------------------------------------------------------------------------------------------------------------------------------------------------------------------------------------------------------------------------------------------------------------------------------------------------------------------------------------------------------------------------------------------------------------------------------------------------------------------------------------------------------------------------------------------------------------+---------------------+----------------------+--------+-------------------+\n",
      "only showing top 1 row\n",
      "\n"
     ]
    }
   ],
   "source": [
    "config_set_query.show(1, False)"
   ]
  },
  {
   "cell_type": "code",
   "execution_count": 64,
   "metadata": {},
   "outputs": [
    {
     "name": "stdout",
     "output_type": "stream",
     "text": [
      "+---------------------+------------------+-------------------+--------+---------------------+------------------------+--------------------------+------------------------+--------------------+----------------------------------------+------+---------+--------------------+--------------------------------------------------------------------------------------------------------------------------------+---------------+---------------------+-----------------------------------------------------------------------------------------------------------------------------------------------------------------------------------------------------------------------------------------------------------------------------------------------------------------------------------------------------------------------------------------------------------------------------------------------------------------------------------------------------------------+---------------------+--------+-------------------+---------------+----------------------+\n",
      "|id                   |hash              |last_modified      |metadata|chemical_formula_hill|chemical_formula_reduced|chemical_formula_anonymous|elements                |elements_ratios     |atomic_numbers                          |nsites|nelements|nperiodic_dimensions|cell                                                                                                                            |dimension_types|pbc                  |positions                                                                                                                                                                                                                                                                                                                                                                                                                                                                                                        |configuration_set_ids|labels  |dataset_ids        |labels_exploded|names_exploded        |\n",
      "+---------------------+------------------+-------------------+--------+---------------------+------------------------+--------------------------+------------------------+--------------------+----------------------------------------+------+---------+--------------------+--------------------------------------------------------------------------------------------------------------------------------+---------------+---------------------+-----------------------------------------------------------------------------------------------------------------------------------------------------------------------------------------------------------------------------------------------------------------------------------------------------------------------------------------------------------------------------------------------------------------------------------------------------------------------------------------------------------------+---------------------+--------+-------------------+---------------+----------------------+\n",
      "|CO_623768866906050502|623768866906050502|2024-05-07 15:01:22|NULL    |Cd6MgSeTe2           |Cd6MgSeTe2              |A6B2CD                    |['Cd', 'Mg', 'Se', 'Te']|[0.6, 0.1, 0.1, 0.2]|[48, 48, 48, 48, 48, 48, 12, 34, 52, 52]|10    |4        |0                   |[[8.10975373, 0.0, 0.0], [4.054876866668527, 7.023251338917589, 0.0], [4.054875643331443, 2.341084015070624, 6.621585529535167]]|[0, 0, 0]      |[False, False, False]|[[2.0274378216657216, 1.170542007535312, 3.3107927647675837], [6.082314686665722, 1.170542007535312, 3.3107927647675837], [6.082315298334263, 3.5116256694587946, 0.0], [2.0274384333342637, 3.5116256694587946, 0.0], [4.054876254999986, 4.682167676994107, 3.3107927647675837], [4.054876865, 0.0, 0.0], [0.0, 0.0, 0.0], [8.109753119999985, 4.682167676994107, 3.3107927647675837], [12.164629679999976, 7.02325151549116, 4.9661891471513755], [4.054876559999992, 2.3410838384970534, 1.6553963823837918]]|NULL                 |[1, fcc]|[DS_y7nrdsjtuw0g_0]|1              |carolina_materials_101|\n",
      "+---------------------+------------------+-------------------+--------+---------------------+------------------------+--------------------------+------------------------+--------------------+----------------------------------------+------+---------+--------------------+--------------------------------------------------------------------------------------------------------------------------------+---------------+---------------------+-----------------------------------------------------------------------------------------------------------------------------------------------------------------------------------------------------------------------------------------------------------------------------------------------------------------------------------------------------------------------------------------------------------------------------------------------------------------------------------------------------------------+---------------------+--------+-------------------+---------------+----------------------+\n",
      "only showing top 1 row\n",
      "\n"
     ]
    }
   ],
   "source": [
    "label_match = \"fcc|1\"\n",
    "names_match = \"materials_10\"\n",
    "if names_match:\n",
    "    config_set_query = (\n",
    "        config_set_query.withColumn(\"labels_exploded\", sf.explode(sf.col(\"labels\")))\n",
    "        .withColumn(\"names_exploded\", sf.explode(sf.col(\"names\")))\n",
    "        .drop(\"names\")\n",
    "        .filter(sf.regexp_like(sf.col(\"names_exploded\"), sf.lit(rf\"{names_match}\")))\n",
    "    )\n",
    "if label_match:\n",
    "    config_set_query = config_set_query.filter(\n",
    "        sf.regexp_like(sf.col(\"labels_exploded\"), sf.lit(rf\"{label_match}\"))\n",
    "    )\n",
    "config_set_query.show(1, False)"
   ]
  },
  {
   "cell_type": "code",
   "execution_count": null,
   "metadata": {},
   "outputs": [],
   "source": [
    "loader.spark.sql(\n",
    "    \"UPDATE config_table SET configuration_set_ids = array_append(configuration_set_ids, %s) WHERE id = %s\"\n",
    ") % (config_set.id, co_ids)"
   ]
  },
  {
   "cell_type": "code",
   "execution_count": 13,
   "metadata": {},
   "outputs": [],
   "source": [
    "from colabfit.tools.configuration_set import ConfigurationSet"
   ]
  },
  {
   "cell_type": "code",
   "execution_count": 56,
   "metadata": {},
   "outputs": [],
   "source": [
    "from importlib import reload\n",
    "import colabfit.tools.configuration_set\n",
    "\n",
    "reload(colabfit.tools.configuration_set)\n",
    "ConfigurationSet = colabfit.tools.configuration_set.ConfigurationSet\n",
    "reload(colabfit.tools.database)\n",
    "from colabfit.tools.database import DataManager, PGDataLoader"
   ]
  },
  {
   "cell_type": "code",
   "execution_count": 65,
   "metadata": {},
   "outputs": [],
   "source": [
    "co_ids = [x[0] for x in config_set_query.select(\"id\").distinct().collect()]"
   ]
  },
  {
   "cell_type": "code",
   "execution_count": 66,
   "metadata": {},
   "outputs": [
    {
     "name": "stdout",
     "output_type": "stream",
     "text": [
      "<class 'list'>\n",
      "[Row(element='Ga', ratio=0.009410288582183186), Row(element='Pt', ratio=0.006900878293601004), Row(element='Se', ratio=0.02070263488080301), Row(element='Tl', ratio=0.006900878293601004), Row(element='Fe', ratio=0.006273525721455458), Row(element='Co', ratio=0.014429109159347553), Row(element='Mg', ratio=0.00878293601003764), Row(element='Ti', ratio=0.0370138017565872), Row(element='H', ratio=0.05144291091593475), Row(element='Te', ratio=0.00439146800501882), Row(element='C', ratio=0.012547051442910916), Row(element='S', ratio=0.029485570890840654), Row(element='Cd', ratio=0.03450439146800502), Row(element='Tc', ratio=0.01944792973651192), Row(element='Hf', ratio=0.00878293601003764), Row(element='Cs', ratio=0.0075282308657465494), Row(element='Be', ratio=0.014429109159347553), Row(element='In', ratio=0.0056461731493099125), Row(element='Sb', ratio=0.005018820577164366), Row(element='Sn', ratio=0.006273525721455458), Row(element='Hg', ratio=0.0056461731493099125), Row(element='Mn', ratio=0.02132998745294856), Row(element='Cr', ratio=0.028858218318695106), Row(element='Sc', ratio=0.0075282308657465494), Row(element='Na', ratio=0.05144291091593475), Row(element='As', ratio=0.009410288582183186), Row(element='Bi', ratio=0.01819322459222083), Row(element='Mo', ratio=0.011292346298619825), Row(element='Zn', ratio=0.018820577164366373), Row(element='I', ratio=0.03889585947302384), Row(element='Ni', ratio=0.01944792973651192), Row(element='Os', ratio=0.01819322459222083), Row(element='Ru', ratio=0.0037641154328732747), Row(element='Ag', ratio=0.013801756587202008), Row(element='Al', ratio=0.006273525721455458), Row(element='Li', ratio=0.006273525721455458), Row(element='Zr', ratio=0.009410288582183186), Row(element='Ca', ratio=0.003136762860727729), Row(element='B', ratio=0.016938519447929738), Row(element='K', ratio=0.01819322459222083), Row(element='Nb', ratio=0.021957340025094103), Row(element='P', ratio=0.01819322459222083), Row(element='Rb', ratio=0.01819322459222083), Row(element='Cl', ratio=0.02132998745294856), Row(element='F', ratio=0.037641154328732745), Row(element='Br', ratio=0.027603513174404015), Row(element='O', ratio=0.012547051442910916), Row(element='V', ratio=0.021957340025094103), Row(element='Y', ratio=0.0018820577164366374), Row(element='N', ratio=0.03450439146800502), Row(element='Ir', ratio=0.009410288582183186), Row(element='Rh', ratio=0.03136762860727729), Row(element='Pb', ratio=0.0056461731493099125), Row(element='Ta', ratio=0.003136762860727729), Row(element='Cu', ratio=0.0056461731493099125), Row(element='Ge', ratio=0.020075282308657464), Row(element='Re', ratio=0.010037641154328732), Row(element='Ba', ratio=0.006273525721455458), Row(element='Si', ratio=0.01756587202007528), Row(element='Au', ratio=0.010037641154328732), Row(element='Pd', ratio=0.01066499372647428), Row(element='W', ratio=0.01756587202007528)]\n",
      "[0.013801756587202008, 0.006273525721455458, 0.009410288582183186, 0.010037641154328732, 0.016938519447929738, 0.006273525721455458, 0.014429109159347553, 0.01819322459222083, 0.027603513174404015, 0.012547051442910916, 0.003136762860727729, 0.03450439146800502, 0.02132998745294856, 0.014429109159347553, 0.028858218318695106, 0.0075282308657465494, 0.0056461731493099125, 0.037641154328732745, 0.006273525721455458, 0.009410288582183186, 0.020075282308657464, 0.05144291091593475, 0.00878293601003764, 0.0056461731493099125, 0.03889585947302384, 0.0056461731493099125, 0.009410288582183186, 0.01819322459222083, 0.006273525721455458, 0.00878293601003764, 0.02132998745294856, 0.011292346298619825, 0.03450439146800502, 0.05144291091593475, 0.021957340025094103, 0.01944792973651192, 0.012547051442910916, 0.01819322459222083, 0.01819322459222083, 0.0056461731493099125, 0.01066499372647428, 0.006900878293601004, 0.01819322459222083, 0.010037641154328732, 0.03136762860727729, 0.0037641154328732747, 0.029485570890840654, 0.005018820577164366, 0.0075282308657465494, 0.02070263488080301, 0.01756587202007528, 0.006273525721455458, 0.003136762860727729, 0.01944792973651192, 0.00439146800501882, 0.0370138017565872, 0.006900878293601004, 0.021957340025094103, 0.01756587202007528, 0.0018820577164366374, 0.018820577164366373, 0.009410288582183186]\n",
      "[0.013801756587202008, 0.006273525721455458, 0.009410288582183186, 0.010037641154328732, 0.016938519447929738, 0.006273525721455458, 0.014429109159347553, 0.01819322459222083, 0.027603513174404015, 0.012547051442910916, 0.003136762860727729, 0.03450439146800502, 0.02132998745294856, 0.014429109159347553, 0.028858218318695106, 0.0075282308657465494, 0.0056461731493099125, 0.037641154328732745, 0.006273525721455458, 0.009410288582183186, 0.020075282308657464, 0.05144291091593475, 0.00878293601003764, 0.0056461731493099125, 0.03889585947302384, 0.0056461731493099125, 0.009410288582183186, 0.01819322459222083, 0.006273525721455458, 0.00878293601003764, 0.02132998745294856, 0.011292346298619825, 0.03450439146800502, 0.05144291091593475, 0.021957340025094103, 0.01944792973651192, 0.012547051442910916, 0.01819322459222083, 0.01819322459222083, 0.0056461731493099125, 0.01066499372647428, 0.006900878293601004, 0.01819322459222083, 0.010037641154328732, 0.03136762860727729, 0.0037641154328732747, 0.029485570890840654, 0.005018820577164366, 0.0075282308657465494, 0.02070263488080301, 0.01756587202007528, 0.006273525721455458, 0.003136762860727729, 0.01944792973651192, 0.00439146800501882, 0.0370138017565872, 0.006900878293601004, 0.021957340025094103, 0.01756587202007528, 0.0018820577164366374, 0.018820577164366373, 0.009410288582183186]\n"
     ]
    }
   ],
   "source": [
    "CS = ConfigurationSet(\n",
    "    name=\"test\", config_df=config_set_query, description=\"test description\"\n",
    ")"
   ]
  },
  {
   "cell_type": "code",
   "execution_count": 101,
   "metadata": {},
   "outputs": [],
   "source": [
    "def update_co_rows_cs_id(self, co_ids: list[str], cs_id: str):\n",
    "    with psycopg.connect(\n",
    "        \"\"\"dbname=colabfit user=%s password=%s host=localhost port=5432\"\"\"\n",
    "        % (\n",
    "            user,\n",
    "            password,\n",
    "        )\n",
    "    ) as conn:\n",
    "        # dbname=self.database_name,\n",
    "        # user=self.properties[\"user\"],\n",
    "        # password=self.properties[\"password\"],\n",
    "        # host=\"localhost\",\n",
    "        # port=\"5432\",\n",
    "\n",
    "        cur = conn.execute(\n",
    "            \"\"\"UPDATE configurations\n",
    "                SET configuration_set_ids = concat(%s::text, \n",
    "                rtrim(ltrim(replace(configuration_set_ids,%s,''), \n",
    "                \n",
    "                '['),']'), %s::text)\n",
    "                WHERE id = ANY(%s::array)\"\"\",\n",
    "            (\"[\", f\", {cs_id}\", f\", {cs_id}]\", co_ids),\n",
    "            # WHERE id = ANY(%s)\"\"\",\n",
    "            # (cs_id, co_ids),\n",
    "        )\n",
    "        # cur.fetchall()\n",
    "        conn.commit()"
   ]
  },
  {
   "cell_type": "code",
   "execution_count": null,
   "metadata": {},
   "outputs": [],
   "source": [
    "# You were trying to get  postgresql to recognize the WHERE id = ANY() array syntax"
   ]
  },
  {
   "cell_type": "code",
   "execution_count": 102,
   "metadata": {},
   "outputs": [
    {
     "ename": "SyntaxError",
     "evalue": "syntax error at or near \"array\"\nLINE 6:                 WHERE id = ANY($4::array)\n                                           ^",
     "output_type": "error",
     "traceback": [
      "\u001b[0;31m---------------------------------------------------------------------------\u001b[0m",
      "\u001b[0;31mSyntaxError\u001b[0m                               Traceback (most recent call last)",
      "Cell \u001b[0;32mIn[102], line 1\u001b[0m\n\u001b[0;32m----> 1\u001b[0m \u001b[43mupdate_co_rows_cs_id\u001b[49m\u001b[43m(\u001b[49m\u001b[43mloader\u001b[49m\u001b[43m,\u001b[49m\u001b[43m \u001b[49m\u001b[43mco_ids\u001b[49m\u001b[43m,\u001b[49m\u001b[43m \u001b[49m\u001b[43mCS\u001b[49m\u001b[38;5;241;43m.\u001b[39;49m\u001b[43mspark_row\u001b[49m\u001b[43m[\u001b[49m\u001b[38;5;124;43m\"\u001b[39;49m\u001b[38;5;124;43mid\u001b[39;49m\u001b[38;5;124;43m\"\u001b[39;49m\u001b[43m]\u001b[49m\u001b[43m)\u001b[49m\n",
      "Cell \u001b[0;32mIn[101], line 15\u001b[0m, in \u001b[0;36mupdate_co_rows_cs_id\u001b[0;34m(self, co_ids, cs_id)\u001b[0m\n\u001b[1;32m      1\u001b[0m \u001b[38;5;28;01mdef\u001b[39;00m \u001b[38;5;21mupdate_co_rows_cs_id\u001b[39m(\u001b[38;5;28mself\u001b[39m, co_ids: \u001b[38;5;28mlist\u001b[39m[\u001b[38;5;28mstr\u001b[39m], cs_id: \u001b[38;5;28mstr\u001b[39m):\n\u001b[1;32m      2\u001b[0m     \u001b[38;5;28;01mwith\u001b[39;00m psycopg\u001b[38;5;241m.\u001b[39mconnect(\n\u001b[1;32m      3\u001b[0m \u001b[38;5;250m        \u001b[39m\u001b[38;5;124;03m\"\"\"dbname=colabfit user=%s password=%s host=localhost port=5432\"\"\"\u001b[39;00m\n\u001b[1;32m      4\u001b[0m         \u001b[38;5;241m%\u001b[39m (\n\u001b[0;32m   (...)\u001b[0m\n\u001b[1;32m     12\u001b[0m         \u001b[38;5;66;03m# host=\"localhost\",\u001b[39;00m\n\u001b[1;32m     13\u001b[0m         \u001b[38;5;66;03m# port=\"5432\",\u001b[39;00m\n\u001b[0;32m---> 15\u001b[0m         cur \u001b[38;5;241m=\u001b[39m \u001b[43mconn\u001b[49m\u001b[38;5;241;43m.\u001b[39;49m\u001b[43mexecute\u001b[49m\u001b[43m(\u001b[49m\n\u001b[1;32m     16\u001b[0m \u001b[38;5;250;43m            \u001b[39;49m\u001b[38;5;124;43;03m\"\"\"UPDATE configurations\u001b[39;49;00m\n\u001b[1;32m     17\u001b[0m \u001b[38;5;124;43;03m                SET configuration_set_ids = concat(%s::text, \u001b[39;49;00m\n\u001b[1;32m     18\u001b[0m \u001b[38;5;124;43;03m                rtrim(ltrim(replace(configuration_set_ids,%s,''), \u001b[39;49;00m\n\u001b[1;32m     19\u001b[0m \u001b[38;5;124;43;03m                \u001b[39;49;00m\n\u001b[1;32m     20\u001b[0m \u001b[38;5;124;43;03m                '['),']'), %s::text)\u001b[39;49;00m\n\u001b[1;32m     21\u001b[0m \u001b[38;5;124;43;03m                WHERE id = ANY(%s::array)\"\"\"\u001b[39;49;00m\u001b[43m,\u001b[49m\n\u001b[1;32m     22\u001b[0m \u001b[43m            \u001b[49m\u001b[43m(\u001b[49m\u001b[38;5;124;43m\"\u001b[39;49m\u001b[38;5;124;43m[\u001b[39;49m\u001b[38;5;124;43m\"\u001b[39;49m\u001b[43m,\u001b[49m\u001b[43m \u001b[49m\u001b[38;5;124;43mf\u001b[39;49m\u001b[38;5;124;43m\"\u001b[39;49m\u001b[38;5;124;43m, \u001b[39;49m\u001b[38;5;132;43;01m{\u001b[39;49;00m\u001b[43mcs_id\u001b[49m\u001b[38;5;132;43;01m}\u001b[39;49;00m\u001b[38;5;124;43m\"\u001b[39;49m\u001b[43m,\u001b[49m\u001b[43m \u001b[49m\u001b[38;5;124;43mf\u001b[39;49m\u001b[38;5;124;43m\"\u001b[39;49m\u001b[38;5;124;43m, \u001b[39;49m\u001b[38;5;132;43;01m{\u001b[39;49;00m\u001b[43mcs_id\u001b[49m\u001b[38;5;132;43;01m}\u001b[39;49;00m\u001b[38;5;124;43m]\u001b[39;49m\u001b[38;5;124;43m\"\u001b[39;49m\u001b[43m,\u001b[49m\u001b[43m \u001b[49m\u001b[43mco_ids\u001b[49m\u001b[43m)\u001b[49m\u001b[43m,\u001b[49m\n\u001b[1;32m     23\u001b[0m \u001b[43m            \u001b[49m\u001b[38;5;66;43;03m# WHERE id = ANY(%s)\"\"\",\u001b[39;49;00m\n\u001b[1;32m     24\u001b[0m \u001b[43m            \u001b[49m\u001b[38;5;66;43;03m# (cs_id, co_ids),\u001b[39;49;00m\n\u001b[1;32m     25\u001b[0m \u001b[43m        \u001b[49m\u001b[43m)\u001b[49m\n\u001b[1;32m     26\u001b[0m         \u001b[38;5;66;03m# cur.fetchall()\u001b[39;00m\n\u001b[1;32m     27\u001b[0m         conn\u001b[38;5;241m.\u001b[39mcommit()\n",
      "File \u001b[0;32m~/colabfit-tools/cf-dev-env/lib/python3.11/site-packages/psycopg/connection.py:891\u001b[0m, in \u001b[0;36mConnection.execute\u001b[0;34m(self, query, params, prepare, binary)\u001b[0m\n\u001b[1;32m    888\u001b[0m     \u001b[38;5;28;01mreturn\u001b[39;00m cur\u001b[38;5;241m.\u001b[39mexecute(query, params, prepare\u001b[38;5;241m=\u001b[39mprepare)\n\u001b[1;32m    890\u001b[0m \u001b[38;5;28;01mexcept\u001b[39;00m e\u001b[38;5;241m.\u001b[39m_NO_TRACEBACK \u001b[38;5;28;01mas\u001b[39;00m ex:\n\u001b[0;32m--> 891\u001b[0m     \u001b[38;5;28;01mraise\u001b[39;00m ex\u001b[38;5;241m.\u001b[39mwith_traceback(\u001b[38;5;28;01mNone\u001b[39;00m)\n",
      "\u001b[0;31mSyntaxError\u001b[0m: syntax error at or near \"array\"\nLINE 6:                 WHERE id = ANY($4::array)\n                                           ^"
     ]
    }
   ],
   "source": [
    "update_co_rows_cs_id(loader, co_ids, CS.spark_row[\"id\"])"
   ]
  },
  {
   "cell_type": "code",
   "execution_count": 67,
   "metadata": {},
   "outputs": [
    {
     "data": {
      "text/plain": [
       "{'id': 'CS_258512216210800474',\n",
       " 'hash': 258512216210800474,\n",
       " 'last_modified': None,\n",
       " 'nconfigurations': 110,\n",
       " 'nsites': 1594,\n",
       " 'nelements': 62,\n",
       " 'elements': ['Ag',\n",
       "  'Al',\n",
       "  'As',\n",
       "  'Au',\n",
       "  'B',\n",
       "  'Ba',\n",
       "  'Be',\n",
       "  'Bi',\n",
       "  'Br',\n",
       "  'C',\n",
       "  'Ca',\n",
       "  'Cd',\n",
       "  'Cl',\n",
       "  'Co',\n",
       "  'Cr',\n",
       "  'Cs',\n",
       "  'Cu',\n",
       "  'F',\n",
       "  'Fe',\n",
       "  'Ga',\n",
       "  'Ge',\n",
       "  'H',\n",
       "  'Hf',\n",
       "  'Hg',\n",
       "  'I',\n",
       "  'In',\n",
       "  'Ir',\n",
       "  'K',\n",
       "  'Li',\n",
       "  'Mg',\n",
       "  'Mn',\n",
       "  'Mo',\n",
       "  'N',\n",
       "  'Na',\n",
       "  'Nb',\n",
       "  'Ni',\n",
       "  'O',\n",
       "  'Os',\n",
       "  'P',\n",
       "  'Pb',\n",
       "  'Pd',\n",
       "  'Pt',\n",
       "  'Rb',\n",
       "  'Re',\n",
       "  'Rh',\n",
       "  'Ru',\n",
       "  'S',\n",
       "  'Sb',\n",
       "  'Sc',\n",
       "  'Se',\n",
       "  'Si',\n",
       "  'Sn',\n",
       "  'Ta',\n",
       "  'Tc',\n",
       "  'Te',\n",
       "  'Ti',\n",
       "  'Tl',\n",
       "  'V',\n",
       "  'W',\n",
       "  'Y',\n",
       "  'Zn',\n",
       "  'Zr'],\n",
       " 'dataset_id': None,\n",
       " 'name': 'test',\n",
       " 'description': 'test description',\n",
       " 'total_elements_ratios': [0.013801756587202008,\n",
       "  0.006273525721455458,\n",
       "  0.009410288582183186,\n",
       "  0.010037641154328732,\n",
       "  0.016938519447929738,\n",
       "  0.006273525721455458,\n",
       "  0.014429109159347553,\n",
       "  0.01819322459222083,\n",
       "  0.027603513174404015,\n",
       "  0.012547051442910916,\n",
       "  0.003136762860727729,\n",
       "  0.03450439146800502,\n",
       "  0.02132998745294856,\n",
       "  0.014429109159347553,\n",
       "  0.028858218318695106,\n",
       "  0.0075282308657465494,\n",
       "  0.0056461731493099125,\n",
       "  0.037641154328732745,\n",
       "  0.006273525721455458,\n",
       "  0.009410288582183186,\n",
       "  0.020075282308657464,\n",
       "  0.05144291091593475,\n",
       "  0.00878293601003764,\n",
       "  0.0056461731493099125,\n",
       "  0.03889585947302384,\n",
       "  0.0056461731493099125,\n",
       "  0.009410288582183186,\n",
       "  0.01819322459222083,\n",
       "  0.006273525721455458,\n",
       "  0.00878293601003764,\n",
       "  0.02132998745294856,\n",
       "  0.011292346298619825,\n",
       "  0.03450439146800502,\n",
       "  0.05144291091593475,\n",
       "  0.021957340025094103,\n",
       "  0.01944792973651192,\n",
       "  0.012547051442910916,\n",
       "  0.01819322459222083,\n",
       "  0.01819322459222083,\n",
       "  0.0056461731493099125,\n",
       "  0.01066499372647428,\n",
       "  0.006900878293601004,\n",
       "  0.01819322459222083,\n",
       "  0.010037641154328732,\n",
       "  0.03136762860727729,\n",
       "  0.0037641154328732747,\n",
       "  0.029485570890840654,\n",
       "  0.005018820577164366,\n",
       "  0.0075282308657465494,\n",
       "  0.02070263488080301,\n",
       "  0.01756587202007528,\n",
       "  0.006273525721455458,\n",
       "  0.003136762860727729,\n",
       "  0.01944792973651192,\n",
       "  0.00439146800501882,\n",
       "  0.0370138017565872,\n",
       "  0.006900878293601004,\n",
       "  0.021957340025094103,\n",
       "  0.01756587202007528,\n",
       "  0.0018820577164366374,\n",
       "  0.018820577164366373,\n",
       "  0.009410288582183186]}"
      ]
     },
     "execution_count": 67,
     "metadata": {},
     "output_type": "execute_result"
    }
   ],
   "source": [
    "CS.spark_row"
   ]
  },
  {
   "cell_type": "code",
   "execution_count": 78,
   "metadata": {},
   "outputs": [],
   "source": [
    "from colabfit.tools.utilities import _empty_dict_from_schema\n",
    "from colabfit.tools.schema import configuration_set_schema\n",
    "import dateutil.parser\n",
    "\n",
    "cs = _empty_dict_from_schema(configuration_set_schema)\n",
    "cs[\"nconfigurations\"] = 200\n",
    "cs[\"dataset_id\"] = carmat_ds_id\n",
    "cs[\"name\"] = \"test\"\n",
    "cs[\"description\"] = \"test description for test\"\n",
    "cs[\"nelements\"] = 25\n",
    "cs[\"last_modified\"] = dateutil.parser.parse(\n",
    "    datetime.datetime.now(tz=datetime.timezone.utc).strftime(\"%Y-%m-%dT%H:%M:%SZ\")\n",
    ")\n",
    "cs[\"id\"] = \"CS_y7nrdsjtuw0g_0\"\n",
    "cs[\"hash\"] = hash(cs[\"name\"])"
   ]
  },
  {
   "cell_type": "code",
   "execution_count": 79,
   "metadata": {},
   "outputs": [],
   "source": [
    "loader.write_table([cs], \"configuration_sets\", configuration_set_schema)"
   ]
  },
  {
   "cell_type": "code",
   "execution_count": 111,
   "metadata": {},
   "outputs": [],
   "source": [
    "co_ids = [x[0] for x in config_set_query.select(\"id\").distinct().collect()]"
   ]
  },
  {
   "cell_type": "code",
   "execution_count": 84,
   "metadata": {},
   "outputs": [
    {
     "name": "stderr",
     "output_type": "stream",
     "text": [
      "Loading data to PostgreSQL: : 0batch [00:00, ?batch/s]24/05/03 15:10:44 WARN SparkStringUtils: Truncated the string representation of a plan since it was too large. This behavior can be adjusted by setting 'spark.sql.debug.maxToStringFields'.\n",
      "Loading data to PostgreSQL: : 2batch [00:04,  2.20s/batch]\n"
     ]
    }
   ],
   "source": [
    "dm.load_data_to_pg_in_batches(loader)"
   ]
  },
  {
   "cell_type": "code",
   "execution_count": 112,
   "metadata": {},
   "outputs": [],
   "source": [
    "with psycopg.connect(\n",
    "    dbname=\"colabfit\",\n",
    "    user=os.environ.get(\"PGS_USER\"),\n",
    "    password=os.environ.get(\"PGS_PASS\"),\n",
    "    host=\"localhost\",\n",
    ") as conn:\n",
    "    with conn.cursor() as cur:\n",
    "\n",
    "        # cur.execute(\n",
    "        #     \"UPDATE configurations SET configuration_set_ids = configuration_set_ids || %(cs_id)s WHERE id = ANY(%(co_ids)s)\",\n",
    "        #     {\"cs_id\": cs[\"id\"], \"co_ids\": co_ids},\n",
    "        # )\n",
    "        # data = cur.fetchall()\n",
    "        cur.execute(\n",
    "            \"SELECT * FROM public.configurations WHERE id = ANY(%s)\",\n",
    "            [co_ids],\n",
    "        )\n",
    "        data2 = cur.fetchall()\n",
    "    conn.commit()"
   ]
  },
  {
   "cell_type": "code",
   "execution_count": 109,
   "metadata": {},
   "outputs": [],
   "source": [
    "co_ids.append(\"CO_215290934057753943\")"
   ]
  },
  {
   "cell_type": "code",
   "execution_count": 113,
   "metadata": {},
   "outputs": [
    {
     "data": {
      "text/plain": [
       "[]"
      ]
     },
     "execution_count": 113,
     "metadata": {},
     "output_type": "execute_result"
    }
   ],
   "source": [
    "data2"
   ]
  },
  {
   "cell_type": "code",
   "execution_count": null,
   "metadata": {},
   "outputs": [],
   "source": [
    "dm2.load_data_to_pg_in_batches(loader)"
   ]
  },
  {
   "cell_type": "markdown",
   "metadata": {},
   "source": [
    "# In progress"
   ]
  },
  {
   "cell_type": "markdown",
   "metadata": {},
   "source": [
    "Upsert appears to be this for postgres:\n",
    "```\n",
    "update the_table\n",
    "    set id = id || array[5,6]\n",
    "where id = 4;\n",
    "```\n",
    "* ~~Check for upsert function from pyspark to concatenate lists of relationships instead of primary key id collision~~\n",
    "* There is no pyspark-upsert function. Will have to manage this possibly through a different sql-based library\n",
    "* Written: find duplicates, but convert to access database, not download full dataframe\n",
    "* I see this being used with batches of hashes during upload: something like\n",
    "    ``` for batch in batches:\n",
    "            hash_duplicates = find_duplicates(batch, loader/database)\n",
    "            hash_duplicates.make_change_to_append_dataset-ids\n",
    "            hash_duplicates.write-to-database\n",
    "* Where would be the best place to catch duplicates? Keeping in mind that this might be a bulk operation (i.e. on the order of millions, like with ANI1/ANI2x variations)"
   ]
  },
  {
   "cell_type": "code",
   "execution_count": null,
   "metadata": {},
   "outputs": [],
   "source": [
    "JARFILE = os.environ.get(\"CLASSPATH\")\n",
    "spark = (\n",
    "    SparkSession.builder.appName(\"PostgreSQL Connection with PySpark\")\n",
    "    .config(\"spark.jars\", JARFILE)\n",
    "    .getOrCreate()\n",
    ")\n",
    "url = \"jdbc:postgresql://localhost:5432/colabfit\"\n",
    "user = os.environ.get(\"PGS_USER\")\n",
    "password = os.environ.get(\"PGS_PASS\")\n",
    "properties = {\n",
    "    \"user\": user,\n",
    "    \"password\": password,\n",
    "    \"driver\": \"org.postgresql.Driver\",\n",
    "}\n",
    "loader = PGDataLoader(appname=\"colabfit\", env=\"./.env\")"
   ]
  },
  {
   "cell_type": "code",
   "execution_count": null,
   "metadata": {},
   "outputs": [],
   "source": [
    "carmat_ds_id = \"DS_y7nrdsjtuw0g_0\""
   ]
  },
  {
   "cell_type": "code",
   "execution_count": null,
   "metadata": {},
   "outputs": [],
   "source": [
    "from importlib import reload\n",
    "\n",
    "import colabfit.tools.dataset\n",
    "import colabfit.tools.database\n",
    "\n",
    "reload(colabfit.tools.dataset)\n",
    "reload(colabfit.tools.database)\n",
    "DataManager = colabfit.tools.database.DataManager\n",
    "\n",
    "Dataset = colabfit.tools.dataset.Dataset"
   ]
  },
  {
   "cell_type": "code",
   "execution_count": null,
   "metadata": {},
   "outputs": [],
   "source": [
    "def find_duplicate_hash(spark_rows: dict, loader):\n",
    "    # hashes = loader.spark.createDataFrame([x[\"hash\"] for x in spark_rows])\n",
    "    hashes = [x[\"hash\"] for x in spark_rows]\n",
    "    duplicates = loader.spark.read.jdbc(\n",
    "        url=url,\n",
    "        table=\"configurations\",\n",
    "        properties=properties,\n",
    "    ).filter(sf.col(\"hash\").isin(hashes))\n",
    "    # dupl_hashes = df.filter(df.hash.isin(hashes)).select(\"hash\").collect()\n",
    "    return duplicates"
   ]
  },
  {
   "cell_type": "code",
   "execution_count": null,
   "metadata": {},
   "outputs": [],
   "source": [
    "dupl_rows = [x.spark_row for x in dm_dup.configs]"
   ]
  },
  {
   "cell_type": "code",
   "execution_count": null,
   "metadata": {},
   "outputs": [],
   "source": [
    "config_df = (\n",
    "    loader.spark.read.jdbc(\n",
    "        url=loader.url, table=loader.config_table, properties=loader.properties\n",
    "    )\n",
    "    .withColumn(\n",
    "        \"ds_ids_unstrung\",\n",
    "        sf.from_json(sf.col(\"dataset_ids\"), sf.ArrayType(sf.StringType())),\n",
    "    )\n",
    "    .filter(sf.array_contains(\"ds_ids_unstrung\", dm.dataset_id))\n",
    "    .drop(\"ds_ids_unstrung\")\n",
    ")"
   ]
  },
  {
   "cell_type": "code",
   "execution_count": null,
   "metadata": {},
   "outputs": [],
   "source": [
    "dup_hashes = find_duplicate_hash(dupl_rows, loader)"
   ]
  },
  {
   "cell_type": "code",
   "execution_count": null,
   "metadata": {},
   "outputs": [],
   "source": [
    "dup_hashes.show(10, False)"
   ]
  },
  {
   "cell_type": "code",
   "execution_count": null,
   "metadata": {},
   "outputs": [],
   "source": [
    "[x[\"hash\"] for x in dup_hashes]"
   ]
  },
  {
   "cell_type": "markdown",
   "metadata": {},
   "source": [
    "# outer"
   ]
  },
  {
   "cell_type": "code",
   "execution_count": null,
   "metadata": {},
   "outputs": [],
   "source": [
    "\"\"\"\n",
    "Can we make the configuration and the property instance/data object at the same time?\n",
    "In this way, we would only have to pass through the data one time.\n",
    "\n",
    "Workflow:\n",
    "create database access object\n",
    "create data reader as function? of the database access object\n",
    "reader returns ase.Atoms-style objects (AtomicConfiguration)\n",
    "DOs and PIs are now one object\n",
    "These DOs point to a configuration\n",
    "The configuration may already exist in the database, so we keep track of the hash added to the DO\n",
    "\n",
    "\n",
    "\"\"\""
   ]
  },
  {
   "cell_type": "code",
   "execution_count": null,
   "metadata": {},
   "outputs": [],
   "source": [
    "cos = json.load(Path(\"sample_db/co_ds1.json\").open(\"r\"))"
   ]
  },
  {
   "cell_type": "code",
   "execution_count": null,
   "metadata": {},
   "outputs": [],
   "source": [
    "with open(Path(\"sample_db/co_ds1.json\"), \"r\") as f:\n",
    "    co_json = spark.sparkContext.parallelize(json.load(f))"
   ]
  },
  {
   "cell_type": "code",
   "execution_count": null,
   "metadata": {},
   "outputs": [],
   "source": [
    "co = co_json.map(_parse_config).map(stringify_lists)\n",
    "co_df = spark.createDataFrame(co, config_schema)"
   ]
  },
  {
   "cell_type": "code",
   "execution_count": null,
   "metadata": {},
   "outputs": [],
   "source": [
    "def parse_configs(co_path, spark):\n",
    "    with open(co_path, \"r\") as f:\n",
    "        co_json = spark.sparkContext.parallelize(json.load(f))\n",
    "    co = co_json.map(_parse_config).map(stringify_lists)\n",
    "    co_df = spark.createDataFrame(co, config_schema)\n",
    "    return co_df"
   ]
  },
  {
   "cell_type": "code",
   "execution_count": null,
   "metadata": {},
   "outputs": [],
   "source": [
    "parse_configs(\"sample_db/co_ds1.json\", spark).show()"
   ]
  }
 ],
 "metadata": {
  "kernelspec": {
   "display_name": "cf-dev-env",
   "language": "python",
   "name": "python3"
  },
  "language_info": {
   "codemirror_mode": {
    "name": "ipython",
    "version": 3
   },
   "file_extension": ".py",
   "mimetype": "text/x-python",
   "name": "python",
   "nbconvert_exporter": "python",
   "pygments_lexer": "ipython3",
   "version": "3.11.4"
  }
 },
 "nbformat": 4,
 "nbformat_minor": 2
}
