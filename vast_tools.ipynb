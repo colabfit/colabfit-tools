{
 "cells": [
  {
   "cell_type": "markdown",
   "metadata": {},
   "source": [
    "# Imports"
   ]
  },
  {
   "cell_type": "code",
   "execution_count": 20,
   "metadata": {},
   "outputs": [
    {
     "data": {
      "text/plain": [
       "True"
      ]
     },
     "execution_count": 20,
     "metadata": {},
     "output_type": "execute_result"
    }
   ],
   "source": [
    "import datetime\n",
    "import json\n",
    "import os\n",
    "import pickle\n",
    "from functools import partial\n",
    "from itertools import chain, islice\n",
    "from multiprocessing import Pool, cpu_count\n",
    "from pathlib import Path\n",
    "from pprint import pprint\n",
    "\n",
    "import dateutil.parser\n",
    "import findspark\n",
    "import lmdb\n",
    "import numpy as np\n",
    "import pyspark\n",
    "import pyspark.sql.functions as sf\n",
    "from ase.atoms import Atoms\n",
    "from ase.io.cfg import read_cfg\n",
    "from dotenv import load_dotenv\n",
    "from pyspark.sql import SparkSession\n",
    "from pyspark.sql.types import (\n",
    "    ArrayType,\n",
    "    BooleanType,\n",
    "    DoubleType,\n",
    "    FloatType,\n",
    "    IntegerType,\n",
    "    LongType,\n",
    "    StringType,\n",
    "    StructField,\n",
    "    StructType,\n",
    "    TimestampType,\n",
    ")\n",
    "\n",
    "from colabfit.tools.configuration import AtomicConfiguration, config_schema\n",
    "from colabfit.tools.database import DataManager, PGDataLoader\n",
    "from colabfit.tools.property import Property, property_object_schema\n",
    "from colabfit.tools.property_definitions import (\n",
    "    atomic_forces_pd,\n",
    "    cauchy_stress_pd,\n",
    "    potential_energy_pd,\n",
    ")\n",
    "from colabfit.tools.dataset import Dataset, dataset_schema\n",
    "\n",
    "with open(\"formation_energy.json\", \"r\") as f:\n",
    "    formation_energy_pd = json.load(f)\n",
    "findspark.init()\n",
    "format = \"jdbc\"\n",
    "load_dotenv(\"./.env\")"
   ]
  },
  {
   "cell_type": "markdown",
   "metadata": {},
   "source": [
    "# Set up MTPU and Carolina Materials readers and data"
   ]
  },
  {
   "cell_type": "code",
   "execution_count": 21,
   "metadata": {},
   "outputs": [],
   "source": [
    "# MTPU data\n",
    "\n",
    "\n",
    "def convert_stress(keys, stress):\n",
    "    stresses = {k: s for k, s in zip(keys, stress)}\n",
    "    return [\n",
    "        [stresses[\"xx\"], stresses[\"xy\"], stresses[\"xz\"]],\n",
    "        [stresses[\"xy\"], stresses[\"yy\"], stresses[\"yz\"]],\n",
    "        [stresses[\"xz\"], stresses[\"yz\"], stresses[\"zz\"]],\n",
    "    ]\n",
    "\n",
    "\n",
    "SYMBOL_DICT = {\"0\": \"Si\", \"1\": \"O\"}\n",
    "\n",
    "\n",
    "def mtpu_reader(filepath):\n",
    "    with open(filepath, \"rt\") as f:\n",
    "        energy = None\n",
    "        forces = None\n",
    "        coords = []\n",
    "        cell = []\n",
    "        symbols = []\n",
    "        config_count = 0\n",
    "        for line in f:\n",
    "            if line.strip().startswith(\"Size\"):\n",
    "                size = int(f.readline().strip())\n",
    "            elif line.strip().lower().startswith(\"supercell\"):\n",
    "                cell.append([float(x) for x in f.readline().strip().split()])\n",
    "                cell.append([float(x) for x in f.readline().strip().split()])\n",
    "                cell.append([float(x) for x in f.readline().strip().split()])\n",
    "            elif line.strip().startswith(\"Energy\"):\n",
    "                energy = float(f.readline().strip())\n",
    "            elif line.strip().startswith(\"PlusStress\"):\n",
    "                stress_keys = line.strip().split()[-6:]\n",
    "                stress = [float(x) for x in f.readline().strip().split()]\n",
    "                stress = convert_stress(stress_keys, stress)\n",
    "            elif line.strip().startswith(\"AtomData:\"):\n",
    "                keys = line.strip().split()[1:]\n",
    "                if \"fx\" in keys:\n",
    "                    forces = []\n",
    "                for i in range(size):\n",
    "                    li = {\n",
    "                        key: val for key, val in zip(keys, f.readline().strip().split())\n",
    "                    }\n",
    "                    symbols.append(SYMBOL_DICT[li[\"type\"]])\n",
    "                    if \"cartes_x\" in keys:\n",
    "                        coords.append(\n",
    "                            [\n",
    "                                float(c)\n",
    "                                for c in [\n",
    "                                    li[\"cartes_x\"],\n",
    "                                    li[\"cartes_y\"],\n",
    "                                    li[\"cartes_z\"],\n",
    "                                ]\n",
    "                            ]\n",
    "                        )\n",
    "                    elif \"direct_x\" in keys:\n",
    "                        coords.append(\n",
    "                            [\n",
    "                                float(c)\n",
    "                                for c in [\n",
    "                                    li[\"direct_x\"],\n",
    "                                    li[\"direct_y\"],\n",
    "                                    li[\"direct_z\"],\n",
    "                                ]\n",
    "                            ]\n",
    "                        )\n",
    "\n",
    "                    if \"fx\" in keys:\n",
    "                        forces.append(\n",
    "                            [float(f) for f in [li[\"fx\"], li[\"fy\"], li[\"fz\"]]]\n",
    "                        )\n",
    "\n",
    "            elif line.startswith(\"END_CFG\"):\n",
    "                if \"cartes_x\" in keys:\n",
    "                    config = AtomicConfiguration(\n",
    "                        positions=coords, symbols=symbols, cell=cell\n",
    "                    )\n",
    "                elif \"direct_x\" in keys:\n",
    "                    config = AtomicConfiguration(\n",
    "                        scaled_positions=coords, symbols=symbols, cell=cell\n",
    "                    )\n",
    "                config.info[\"energy\"] = energy\n",
    "                if forces:\n",
    "                    config.info[\"forces\"] = forces\n",
    "                config.info[\"stress\"] = stress\n",
    "\n",
    "                if \"Si\" in symbols and \"O\" in symbols:\n",
    "                    config.info[\"input\"] = {\n",
    "                        \"kpoint-scheme\": \"Monkhorst-Pack\",\n",
    "                        \"kpoints\": \"11x11x11\",\n",
    "                        \"kinetic-energy-cutoff\": {\n",
    "                            \"val\": 1224,\n",
    "                            \"units\": \"eV\",\n",
    "                        },\n",
    "                    }\n",
    "                    config.info[\"_name\"] = f\"{filepath.stem}_SiO2_{config_count}\"\n",
    "                elif \"Si\" in symbols:\n",
    "                    config.info[\"input\"] = {\n",
    "                        \"kpoint-scheme\": \"Monkhorst-Pack\",\n",
    "                        \"kpoints\": \"8x8x8\",\n",
    "                        \"kinetic-energy-cutoff\": {\n",
    "                            \"val\": 884,\n",
    "                            \"units\": \"eV\",\n",
    "                        },\n",
    "                    }\n",
    "                    config.info[\"_name\"] = f\"{filepath.stem}_Si_{config_count}\"\n",
    "                elif \"O\" in symbols:\n",
    "                    config.info[\"input\"] = {\n",
    "                        \"kpoint-scheme\": \"Monkhorst-Pack\",\n",
    "                        \"kpoints\": \"gamma-point\",\n",
    "                        \"kinetic-energy-cutoff\": {\n",
    "                            \"val\": 1224,\n",
    "                            \"units\": \"eV\",\n",
    "                        },\n",
    "                    }\n",
    "                    config.info[\"_name\"] = f\"{filepath.stem}_O_{config_count}\"\n",
    "                config_count += 1\n",
    "                yield config\n",
    "                forces = None\n",
    "                stress = []\n",
    "                coords = []\n",
    "                cell = []\n",
    "                symbols = []\n",
    "                energy = None"
   ]
  },
  {
   "cell_type": "code",
   "execution_count": 22,
   "metadata": {},
   "outputs": [],
   "source": [
    "mtpu_configs = mtpu_reader(Path(\"data/mtpu_2023/Unified_training_set.cfg\"))\n",
    "# data = [x for x in mtpu_configs]\n",
    "# data[0].configuration_summary()"
   ]
  },
  {
   "cell_type": "code",
   "execution_count": 23,
   "metadata": {},
   "outputs": [],
   "source": [
    "# Carolina Materials data\n",
    "\n",
    "SOFTWARE = \"VASP\"\n",
    "METHODS = \"DFT-PBE\"\n",
    "CM_PI_METADATA = {\n",
    "    \"software\": {\"value\": SOFTWARE},\n",
    "    \"method\": {\"value\": METHODS},\n",
    "    \"input\": {\"value\": {\"IBRION\": 6, \"NFREE\": 4}},\n",
    "}\n",
    "\n",
    "CM_PROPERTY_MAP = {\n",
    "    \"formation-energy\": [\n",
    "        {\n",
    "            \"energy\": {\"field\": \"energy\", \"units\": \"eV\"},\n",
    "            \"per-atom\": {\"value\": False, \"units\": None},\n",
    "        }\n",
    "    ],\n",
    "    \"_metadata\": CM_PI_METADATA,\n",
    "}\n",
    "CO_MD = {\n",
    "    key: {\"field\": key}\n",
    "    for key in [\n",
    "        \"_symmetry_space_group_name_H-M\",\n",
    "        \"_symmetry_Int_Tables_number\",\n",
    "        \"_chemical_formula_structural\",\n",
    "        \"_chemical_formula_sum\",\n",
    "        \"_cell_volume\",\n",
    "        \"_cell_formula_units_Z\",\n",
    "        \"symmetry_dict\",\n",
    "        \"formula_pretty\",\n",
    "    ]\n",
    "}\n",
    "\n",
    "\n",
    "def load_row(txn, row):\n",
    "    try:\n",
    "        data = pickle.loads(txn.get(f\"{row}\".encode(\"ascii\")))\n",
    "        return data\n",
    "    except TypeError:\n",
    "        return False\n",
    "\n",
    "\n",
    "def config_from_row(row: dict, row_num: int):\n",
    "    coords = row.pop(\"cart_coords\")\n",
    "    a_num = row.pop(\"atomic_numbers\")\n",
    "    cell = [\n",
    "        row.pop(x)\n",
    "        for x in [\n",
    "            \"_cell_length_a\",\n",
    "            \"_cell_length_b\",\n",
    "            \"_cell_length_c\",\n",
    "            \"_cell_angle_alpha\",\n",
    "            \"_cell_angle_beta\",\n",
    "            \"_cell_angle_gamma\",\n",
    "        ]\n",
    "    ]\n",
    "    config = AtomicConfiguration(scaled_positions=coords, numbers=a_num, cell=cell)\n",
    "    symmetry_dict = {str(key): val for key, val in row.pop(\"symmetry_dict\").items()}\n",
    "    for key in symmetry_dict:\n",
    "        key = str(key)\n",
    "    config.info = row\n",
    "    config.info[\"symmetry_dict\"] = symmetry_dict\n",
    "    config.info[\"_name\"] = f\"carolina_materials_{row_num}\"\n",
    "    return config\n",
    "    # return AtomicConfiguration.from_ase(config)\n",
    "\n",
    "\n",
    "def carmat_reader(fp: Path):\n",
    "    parent = fp.parent\n",
    "    env = lmdb.open(str(parent))\n",
    "    txn = env.begin()\n",
    "    row_num = 0\n",
    "    rows = []\n",
    "    while row_num <= 1000000:\n",
    "        row = load_row(txn, row_num)\n",
    "        if row is False:\n",
    "            env.close()\n",
    "            break\n",
    "        rows.append(row)\n",
    "        yield config_from_row(row, row_num)\n",
    "        row_num += 1\n",
    "    env.close()\n",
    "    return False\n",
    "    # return rows"
   ]
  },
  {
   "cell_type": "code",
   "execution_count": 24,
   "metadata": {},
   "outputs": [],
   "source": [
    "PI_METADATA = {\n",
    "    \"software\": {\"value\": \"Quantum ESPRESSO\"},\n",
    "    \"method\": {\"value\": \"DFT-PBE\"},\n",
    "    \"input\": {\"field\": \"input\"},\n",
    "}\n",
    "\n",
    "PROPERTY_MAP = {\n",
    "    \"potential-energy\": [\n",
    "        {\n",
    "            \"energy\": {\"field\": \"energy\", \"units\": \"eV\"},\n",
    "            \"per-atom\": {\"value\": False, \"units\": None},\n",
    "            # \"_metadata\": PI_METADATA,\n",
    "        }\n",
    "    ],\n",
    "    \"atomic-forces\": [\n",
    "        {\n",
    "            \"forces\": {\"field\": \"forces\", \"units\": \"eV/angstrom\"},\n",
    "            # \"_metadata\": PI_METADATA,\n",
    "        },\n",
    "    ],\n",
    "    \"cauchy-stress\": [\n",
    "        {\n",
    "            \"stress\": {\"field\": \"stress\", \"units\": \"GPa\"},\n",
    "            \"volume-normalized\": {\"value\": True, \"units\": None},\n",
    "        }\n",
    "    ],\n",
    "    \"_metadata\": PI_METADATA,\n",
    "}"
   ]
  },
  {
   "cell_type": "markdown",
   "metadata": {},
   "source": [
    "# Connect to DB and run loader"
   ]
  },
  {
   "cell_type": "code",
   "execution_count": 25,
   "metadata": {},
   "outputs": [
    {
     "name": "stderr",
     "output_type": "stream",
     "text": [
      "24/04/25 15:05:43 WARN SparkSession: Using an existing Spark session; only runtime SQL configurations will take effect.\n",
      "24/04/25 15:05:43 WARN SparkSession: Using an existing Spark session; only runtime SQL configurations will take effect.\n"
     ]
    }
   ],
   "source": [
    "JARFILE = os.environ.get(\"CLASSPATH\")\n",
    "spark = (\n",
    "    SparkSession.builder.appName(\"PostgreSQL Connection with PySpark\")\n",
    "    .config(\"spark.jars\", JARFILE)\n",
    "    .getOrCreate()\n",
    ")\n",
    "url = \"jdbc:postgresql://localhost:5432/colabfit\"\n",
    "user = os.environ.get(\"PGS_USER\")\n",
    "password = os.environ.get(\"PGS_PASS\")\n",
    "properties = {\n",
    "    \"user\": user,\n",
    "    \"password\": password,\n",
    "    \"driver\": \"org.postgresql.Driver\",\n",
    "}\n",
    "loader = PGDataLoader(appname=\"colabfit\", env=\"./.env\")"
   ]
  },
  {
   "cell_type": "code",
   "execution_count": 32,
   "metadata": {},
   "outputs": [],
   "source": [
    "carmat_config_gen = carmat_reader(Path(\"data/carolina_matdb/base/all/data.mdb\"))\n",
    "carmat_ds_id = \"DS_y7nrdsjtuw0g_0\"\n",
    "dm = DataManager(\n",
    "    nprocs=4,\n",
    "    configs=carmat_config_gen,\n",
    "    prop_defs=[formation_energy_pd],\n",
    "    prop_map=CM_PROPERTY_MAP,\n",
    "    dataset_id=carmat_ds_id,\n",
    ")"
   ]
  },
  {
   "cell_type": "code",
   "execution_count": 31,
   "metadata": {},
   "outputs": [],
   "source": [
    "mtpu_ds_id = \"DS_y7nrdsjtuw0g_1\"\n",
    "dm2 = DataManager(\n",
    "    nprocs=4,\n",
    "    configs=mtpu_configs,\n",
    "    prop_defs=[potential_energy_pd, atomic_forces_pd, cauchy_stress_pd],\n",
    "    prop_map=PROPERTY_MAP,\n",
    "    dataset_id=mtpu_ds_id,\n",
    ")"
   ]
  },
  {
   "cell_type": "code",
   "execution_count": 28,
   "metadata": {},
   "outputs": [
    {
     "name": "stderr",
     "output_type": "stream",
     "text": [
      "Loading data to PostgreSQL: : 54batch [02:05,  2.32s/batch]\n"
     ]
    }
   ],
   "source": [
    "dm.load_data_to_pg_in_batches(loader)"
   ]
  },
  {
   "cell_type": "code",
   "execution_count": 29,
   "metadata": {},
   "outputs": [
    {
     "name": "stderr",
     "output_type": "stream",
     "text": [
      "Loading data to PostgreSQL: : 1batch [00:01,  1.89s/batch]\n"
     ]
    }
   ],
   "source": [
    "dm2.load_data_to_pg_in_batches(loader)"
   ]
  },
  {
   "cell_type": "markdown",
   "metadata": {},
   "source": [
    "# In progress"
   ]
  },
  {
   "cell_type": "code",
   "execution_count": null,
   "metadata": {},
   "outputs": [],
   "source": [
    "JARFILE = os.environ.get(\"CLASSPATH\")\n",
    "spark = (\n",
    "    SparkSession.builder.appName(\"PostgreSQL Connection with PySpark\")\n",
    "    .config(\"spark.jars\", JARFILE)\n",
    "    .getOrCreate()\n",
    ")\n",
    "url = \"jdbc:postgresql://localhost:5432/colabfit\"\n",
    "user = os.environ.get(\"PGS_USER\")\n",
    "password = os.environ.get(\"PGS_PASS\")\n",
    "properties = {\n",
    "    \"user\": user,\n",
    "    \"password\": password,\n",
    "    \"driver\": \"org.postgresql.Driver\",\n",
    "}\n",
    "loader = PGDataLoader(appname=\"colabfit\", env=\"./.env\")"
   ]
  },
  {
   "cell_type": "markdown",
   "metadata": {},
   "source": [
    "You were making the data loader take dataset-id as an argument so that it would create configurations and properties with ds-id in advance\n",
    "* Check for upsert function from pyspark to concatenate lists of relationships instead of primary key id collision"
   ]
  },
  {
   "cell_type": "code",
   "execution_count": 1,
   "metadata": {},
   "outputs": [],
   "source": [
    "from colabfit.tools.dataset import Dataset"
   ]
  },
  {
   "cell_type": "code",
   "execution_count": 4,
   "metadata": {},
   "outputs": [
    {
     "ename": "NameError",
     "evalue": "name 'carmat_ds_id' is not defined",
     "output_type": "error",
     "traceback": [
      "\u001b[0;31m---------------------------------------------------------------------------\u001b[0m",
      "\u001b[0;31mNameError\u001b[0m                                 Traceback (most recent call last)",
      "Cell \u001b[0;32mIn[4], line 8\u001b[0m\n\u001b[1;32m      1\u001b[0m x \u001b[38;5;241m=\u001b[39m Dataset(\n\u001b[1;32m      2\u001b[0m     name\u001b[38;5;241m=\u001b[39m\u001b[38;5;124m\"\u001b[39m\u001b[38;5;124mCarolina_Materials\u001b[39m\u001b[38;5;124m\"\u001b[39m,\n\u001b[1;32m      3\u001b[0m     authors\u001b[38;5;241m=\u001b[39m[\u001b[38;5;124m\"\u001b[39m\u001b[38;5;124mauthor1\u001b[39m\u001b[38;5;124m\"\u001b[39m, \u001b[38;5;124m\"\u001b[39m\u001b[38;5;124mauthor2\u001b[39m\u001b[38;5;124m\"\u001b[39m],\n\u001b[1;32m      4\u001b[0m     publication_link\u001b[38;5;241m=\u001b[39m\u001b[38;5;124m\"\u001b[39m\u001b[38;5;124mhttps://www.example.com\u001b[39m\u001b[38;5;124m\"\u001b[39m,\n\u001b[1;32m      5\u001b[0m     data_link\u001b[38;5;241m=\u001b[39m\u001b[38;5;124m\"\u001b[39m\u001b[38;5;124mwww.example.com\u001b[39m\u001b[38;5;124m\"\u001b[39m,\n\u001b[1;32m      6\u001b[0m     description\u001b[38;5;241m=\u001b[39m\u001b[38;5;124m\"\u001b[39m\u001b[38;5;124mA dataset of materials from the Carolina Materials Database\u001b[39m\u001b[38;5;124m\"\u001b[39m,\n\u001b[1;32m      7\u001b[0m     \u001b[38;5;66;03m# tags=[\"tag1\", \"tag2\"],\u001b[39;00m\n\u001b[0;32m----> 8\u001b[0m     dataset_id\u001b[38;5;241m=\u001b[39m\u001b[43mcarmat_ds_id\u001b[49m,\n\u001b[1;32m      9\u001b[0m )\n",
      "\u001b[0;31mNameError\u001b[0m: name 'carmat_ds_id' is not defined"
     ]
    }
   ],
   "source": [
    "x = Dataset(\n",
    "    name=\"Carolina_Materials\",\n",
    "    authors=[\"author1\", \"author2\"],\n",
    "    publication_link=\"https://www.example.com\",\n",
    "    data_link=\"www.example.com\",\n",
    "    description=\"A dataset of materials from the Carolina Materials Database\",\n",
    "    # tags=[\"tag1\", \"tag2\"],\n",
    "    dataset_id=carmat_ds_id,\n",
    ")"
   ]
  },
  {
   "cell_type": "code",
   "execution_count": 43,
   "metadata": {},
   "outputs": [
    {
     "name": "stdout",
     "output_type": "stream",
     "text": [
      "+----------------------+-------------------+-------------------+-----------+--------+---------------------+------------------------+--------------------------+------------------------+--------------------------------------------------------------------------------+------------------------------------------------------------------------------------------------------------------------------------------------+------+---------+--------------------+------------------------------------------------------------------------------------------------------------------------------------+---------------+---------------------+----------------------------------------------------------------------------------------------------------------------------------------------------------------------------------------------------------------------------------------------------------------------------------------------------------------------------------------------------------------------------------------------------------------------------------------------------------------------------------------------------------------------------------------------------------------------------------------------------------------------------------------------------------------------------------------------------------------------------------------------------------------------------------------------------------------------------------------------------------------------------------------------------------------------------------------------------------------------------------------------------------------------------------------------------------------------------------------------------------------------------------------------------------------------------------------------------------------------------------------------------------------------------------------------------------------------------------------------------------------------------------------------------------------------------------------------------------------------------------------------------------------------------------------------------------------------------------------------------------------------------------------------------------------------------------------------------------------------------+-----+---------------+\n",
      "|id                    |hash               |last_modified      |dataset_ids|metadata|chemical_formula_hill|chemical_formula_reduced|chemical_formula_anonymous|elements                |elements_ratios                                                                 |atomic_numbers                                                                                                                                  |nsites|nelements|nperiodic_dimensions|cell                                                                                                                                |dimension_types|pbc                  |positions                                                                                                                                                                                                                                                                                                                                                                                                                                                                                                                                                                                                                                                                                                                                                                                                                                                                                                                                                                                                                                                                                                                                                                                                                                                                                                                                                                                                                                                                                                                                                                                                                                                                                                                   |names|ds_ids_unstrung|\n",
      "+----------------------+-------------------+-------------------+-----------+--------+---------------------+------------------------+--------------------------+------------------------+--------------------------------------------------------------------------------+------------------------------------------------------------------------------------------------------------------------------------------------+------+---------+--------------------+------------------------------------------------------------------------------------------------------------------------------------+---------------+---------------------+----------------------------------------------------------------------------------------------------------------------------------------------------------------------------------------------------------------------------------------------------------------------------------------------------------------------------------------------------------------------------------------------------------------------------------------------------------------------------------------------------------------------------------------------------------------------------------------------------------------------------------------------------------------------------------------------------------------------------------------------------------------------------------------------------------------------------------------------------------------------------------------------------------------------------------------------------------------------------------------------------------------------------------------------------------------------------------------------------------------------------------------------------------------------------------------------------------------------------------------------------------------------------------------------------------------------------------------------------------------------------------------------------------------------------------------------------------------------------------------------------------------------------------------------------------------------------------------------------------------------------------------------------------------------------------------------------------------------------+-----+---------------+\n",
      "|CO_477694363814657591 |477694363814657591 |2024-04-25 15:06:02|NULL       |NULL    |H24Pt4Rh4Te4         |H6PtRhTe                |A6BCD                     |['H', 'Pt', 'Rh', 'Te'] |[0.6666666666666666, 0.1111111111111111, 0.1111111111111111, 0.1111111111111111]|[52, 52, 52, 52, 1, 1, 1, 1, 1, 1, 1, 1, 1, 1, 1, 1, 1, 1, 1, 1, 1, 1, 1, 1, 1, 1, 1, 1, 78, 78, 78, 78, 45, 45, 45, 45]                        |36    |4        |0                   |[[6.98051536, 0.0, 0.0], [0.0, 6.98051536, 0.0], [0.0, 0.0, 6.98051536]]                                                            |[0, 0, 0]      |[False, False, False]|[[1.74512884, 1.74512884, 5.2353865200000005], [1.74512884, 5.2353865200000005, 1.74512884], [5.2353865200000005, 1.74512884, 1.74512884], [5.2353865200000005, 5.2353865200000005, 5.2353865200000005], [3.49025768, 1.7238541837270207, 0.0], [0.0, 1.766403496272979, 0.0], [1.766403496272979, 0.0, 0.0], [5.214111863727021, 0.0, 0.0], [3.49025768, 0.0, 5.256661176272979], [3.49025768, 0.0, 1.7238541837270207], [3.49025768, 5.214111863727021, 3.49025768], [0.0, 5.256661176272979, 3.49025768], [1.766403496272979, 3.49025768, 3.49025768], [5.214111863727021, 3.49025768, 3.49025768], [3.49025768, 3.49025768, 1.766403496272979], [3.49025768, 3.49025768, 5.214111863727021], [0.0, 1.7238541837270207, 3.49025768], [3.49025768, 1.766403496272979, 3.49025768], [5.256661176272979, 0.0, 3.49025768], [1.7238541837270207, 0.0, 3.49025768], [0.0, 0.0, 1.766403496272979], [0.0, 0.0, 5.214111863727021], [0.0, 5.214111863727021, 0.0], [3.49025768, 5.256661176272979, 0.0], [5.256661176272979, 3.49025768, 0.0], [1.7238541837270207, 3.49025768, 0.0], [0.0, 3.49025768, 5.256661176272979], [0.0, 3.49025768, 1.7238541837270207], [3.49025768, 0.0, 0.0], [3.49025768, 3.49025768, 3.49025768], [0.0, 0.0, 3.49025768], [0.0, 3.49025768, 0.0], [1.74512884, 1.74512884, 1.74512884], [1.74512884, 5.2353865200000005, 5.2353865200000005], [5.2353865200000005, 1.74512884, 5.2353865200000005], [5.2353865200000005, 5.2353865200000005, 1.74512884]]                                                                                                                                                                                                                                        |[]   |NULL           |\n",
      "|CO_285722848248578714 |285722848248578714 |2024-04-25 15:06:02|NULL       |NULL    |Al6HfOs2Zr           |Al6HfOs2Zr              |A6B2CD                    |['Al', 'Hf', 'Os', 'Zr']|[0.6, 0.1, 0.2, 0.1]                                                            |[13, 13, 13, 13, 13, 13, 72, 76, 76, 40]                                                                                                        |10    |4        |0                   |[[6.93693835, 0.0, 0.0], [3.468469175000001, 6.007564835586507, 0.0], [3.468469175000001, 2.0025216118621696, 5.663986444881421]]   |[0, 0, 0]      |[False, False, False]|[[6.936938350000001, 6.006276653484029, 4.247078951361], [6.936938350000001, 2.0038097939646478, 1.4169074935204211], [8.670057339074553, 5.005659938604184, 1.4169074935204211], [5.203819360925448, 3.0044265088444932, 4.247078951361], [8.670057339074555, 3.0044265088444932, 4.247078951361], [5.203819360925448, 5.005659938604184, 1.4169074935204211], [0.0, 0.0, 0.0], [10.405407525000001, 6.007564835586507, 4.247989833661066], [3.4684691750000005, 2.002521611862169, 1.4159966112203553], [6.936938350000001, 4.005043223724338, 2.8319932224407105]]                                                                                                                                                                                                                                                                                                                                                                                                                                                                                                                                                                                                                                                                                                                                                                                                                                                                                                                                                                                                                                                                                                                                                       |[]   |NULL           |\n",
      "|CO_1991176203201227218|1991176203201227218|2024-04-25 15:06:02|NULL       |NULL    |Ag2As6ClHf           |Ag2As6ClHf              |A6B2CD                    |['Ag', 'As', 'Cl', 'Hf']|[0.2, 0.6, 0.1, 0.1]                                                            |[47, 47, 33, 33, 33, 33, 33, 33, 17, 72]                                                                                                        |10    |4        |0                   |[[7.01203186, 0.0, 0.0], [3.5060159300000007, 6.072597722905847, 0.0], [3.5060159300000007, 2.0241992409686165, 5.7253000390462825]]|[0, 0, 0]      |[False, False, False]|[[10.51804779, 6.072597722905848, 4.293975029284712], [3.5060159300000002, 2.024199240968616, 1.4313250097615706], [1.7530079650000003, 1.0120996204843082, 2.8626500195231412], [5.259023895, 1.0120996204843082, 2.8626500195231412], [5.259023895, 3.0362988614529236, 0.0], [1.7530079650000003, 3.0362988614529236, 0.0], [3.5060159300000007, 4.048398481937232, 2.8626500195231412], [3.50601593, 0.0, 0.0], [7.0120318600000004, 4.048398481937232, 2.8626500195231412], [0.0, 0.0, 0.0]]                                                                                                                                                                                                                                                                                                                                                                                                                                                                                                                                                                                                                                                                                                                                                                                                                                                                                                                                                                                                                                                                                                                                                                                                                           |[]   |NULL           |\n",
      "|CO_2089682043016473726|2089682043016473726|2024-04-25 15:06:02|NULL       |NULL    |K4Si24Sn4V4          |KSi6SnV                 |A6BCD                     |['K', 'Si', 'Sn', 'V']  |[0.1111111111111111, 0.6666666666666666, 0.1111111111111111, 0.1111111111111111]|[19, 19, 19, 19, 23, 23, 23, 23, 14, 14, 14, 14, 14, 14, 14, 14, 14, 14, 14, 14, 14, 14, 14, 14, 14, 14, 14, 14, 14, 14, 14, 14, 50, 50, 50, 50]|36    |4        |0                   |[[8.72448824, 0.0, 0.0], [0.0, 8.72448824, 0.0], [0.0, 0.0, 8.72448824]]                                                            |[0, 0, 0]      |[False, False, False]|[[2.18112206, 2.18112206, 6.54336618], [2.18112206, 6.54336618, 2.18112206], [6.54336618, 2.18112206, 2.18112206], [6.54336618, 6.54336618, 6.54336618], [4.36224412, 0.0, 0.0], [4.36224412, 4.36224412, 4.36224412], [0.0, 0.0, 4.36224412], [0.0, 4.36224412, 0.0], [4.36224412, 2.5596072853583856, 0.0], [0.0, 1.8026368346416142, 0.0], [1.8026368346416142, 0.0, 0.0], [6.921851405358384, 0.0, 0.0], [4.36224412, 0.0, 6.164880954641615], [4.36224412, 0.0, 2.5596072853583856], [4.36224412, 6.921851405358384, 4.36224412], [0.0, 6.164880954641615, 4.36224412], [1.8026368346416142, 4.36224412, 4.36224412], [6.921851405358384, 4.36224412, 4.36224412], [4.36224412, 4.36224412, 1.8026368346416142], [4.36224412, 4.36224412, 6.921851405358384], [0.0, 2.5596072853583856, 4.36224412], [4.36224412, 1.8026368346416142, 4.36224412], [6.164880954641615, 0.0, 4.36224412], [2.5596072853583856, 0.0, 4.36224412], [0.0, 0.0, 1.8026368346416142], [0.0, 0.0, 6.921851405358384], [0.0, 6.921851405358384, 0.0], [4.36224412, 6.164880954641615, 0.0], [6.164880954641615, 4.36224412, 0.0], [2.5596072853583856, 4.36224412, 0.0], [0.0, 4.36224412, 6.164880954641615], [0.0, 4.36224412, 2.5596072853583856], [2.18112206, 2.18112206, 2.18112206], [2.18112206, 6.54336618, 6.54336618], [6.54336618, 2.18112206, 6.54336618], [6.54336618, 6.54336618, 2.18112206]]                                                                                                                                                                                                                                                                                                                                  |[]   |NULL           |\n",
      "|CO_108964141742943804 |108964141742943804 |2024-04-25 15:06:02|NULL       |NULL    |GaMg6NiSb2           |GaMg6NiSb2              |A6B2CD                    |['Ga', 'Mg', 'Ni', 'Sb']|[0.1, 0.6, 0.1, 0.2]                                                            |[31, 12, 12, 12, 12, 12, 12, 28, 51, 51]                                                                                                        |10    |4        |0                   |[[6.97128849, 0.0, 0.0], [3.4856442467524427, 6.0373119469428085, 0.0], [3.48564339324754, 2.0124374799047526, 5.692032755018293]]  |[0, 0, 0]      |[False, False, False]|[[0.0, 0.0, 0.0], [6.971287858768882, 5.977943799655267, 4.227044857049892], [6.971288271231101, 2.0718056271922936, 1.4649878979684015], [8.66269595684868, 5.001409196760229, 1.4649878979684015], [5.2798801731513025, 3.0483402300873315, 4.227044857049892], [8.662695542685716, 3.0483402300873315, 4.227044857049892], [5.279880587314266, 5.001409196760229, 1.4649878979684015], [6.971288064999991, 4.024874713423781, 2.8460163775091467], [10.456932097499987, 6.0373120701356715, 4.26902456626372], [3.4856440324999953, 2.0124373567118905, 1.4230081887545734]]                                                                                                                                                                                                                                                                                                                                                                                                                                                                                                                                                                                                                                                                                                                                                                                                                                                                                                                                                                                                                                                                                                                                             |[]   |NULL           |\n",
      "|CO_446896713486105910 |446896713486105910 |2024-04-25 15:06:02|NULL       |NULL    |Ag6Ge2PdRh           |Ag6Ge2PdRh              |A6B2CD                    |['Ag', 'Ge', 'Pd', 'Rh']|[0.6, 0.2, 0.1, 0.1]                                                            |[47, 47, 47, 47, 47, 47, 32, 32, 46, 45]                                                                                                        |10    |4        |0                   |[[6.78130386, 0.0, 0.0], [3.390651930000001, 5.872781413541472, 0.0], [3.390651930000001, 1.9575938045138246, 5.53691141592199]]    |[0, 0, 0]      |[False, False, False]|[[1.6953259650000005, 0.9787969022569123, 2.768455707960995], [5.085977895000001, 0.9787969022569123, 2.768455707960995], [5.085977895000001, 2.936390706770736, 0.0], [1.6953259650000005, 2.936390706770736, 0.0], [3.390651930000001, 3.9151876090276483, 2.768455707960995], [3.39065193, 0.0, 0.0], [10.171955790000002, 5.872781413541473, 4.152683561941492], [3.3906519300000006, 1.9575938045138241, 1.3842278539804975], [6.781303860000001, 3.9151876090276483, 2.768455707960995], [0.0, 0.0, 0.0]]                                                                                                                                                                                                                                                                                                                                                                                                                                                                                                                                                                                                                                                                                                                                                                                                                                                                                                                                                                                                                                                                                                                                                                                                             |[]   |NULL           |\n",
      "|CO_679434484630802482 |679434484630802482 |2024-04-25 15:06:07|NULL       |NULL    |Pb4Ru4Te24           |PbRuTe6                 |A6BC                      |['Pb', 'Ru', 'Te']      |[0.125, 0.125, 0.75]                                                            |[52, 52, 52, 52, 52, 52, 52, 52, 52, 52, 52, 52, 52, 52, 52, 52, 52, 52, 52, 52, 52, 52, 52, 52, 44, 44, 44, 44, 82, 82, 82, 82]                |32    |3        |0                   |[[10.45121283, 0.0, 0.0], [0.0, 10.45121283, 0.0], [0.0, 0.0, 10.45121283]]                                                         |[0, 0, 0]      |[False, False, False]|[[0.3574309562253585, 7.8384096224999995, 7.8384096224999995], [2.6128032075, 10.093781873774642, 7.8384096224999995], [4.868175458774641, 7.8384096224999995, 7.8384096224999995], [2.6128032075, 5.583037371225358, 7.8384096224999995], [2.6128032075, 7.8384096224999995, 10.093781873774642], [2.6128032075, 7.8384096224999995, 5.583037371225358], [0.3574309562253585, 2.6128032075, 2.6128032075], [2.6128032075, 4.868175458774641, 2.6128032075], [4.868175458774641, 2.6128032075, 2.6128032075], [2.6128032075, 0.3574309562253585, 2.6128032075], [2.6128032075, 2.6128032075, 4.868175458774641], [2.6128032075, 2.6128032075, 0.3574309562253585], [5.583037371225358, 7.8384096224999995, 2.6128032075], [7.8384096224999995, 10.093781873774642, 2.6128032075], [10.093781873774642, 7.8384096224999995, 2.6128032075], [7.8384096224999995, 5.583037371225358, 2.6128032075], [7.8384096224999995, 7.8384096224999995, 4.868175458774641], [7.8384096224999995, 7.8384096224999995, 0.3574309562253585], [5.583037371225358, 2.6128032075, 7.8384096224999995], [7.8384096224999995, 4.868175458774641, 7.8384096224999995], [10.093781873774642, 2.6128032075, 7.8384096224999995], [7.8384096224999995, 0.3574309562253585, 7.8384096224999995], [7.8384096224999995, 2.6128032075, 10.093781873774642], [7.8384096224999995, 2.6128032075, 5.583037371225358], [0.0, 0.0, 0.0], [0.0, 5.225606415, 5.225606415], [5.225606415, 0.0, 5.225606415], [5.225606415, 5.225606415, 0.0], [2.6128032075, 2.6128032075, 7.8384096224999995], [2.6128032075, 7.8384096224999995, 2.6128032075], [7.8384096224999995, 2.6128032075, 2.6128032075], [7.8384096224999995, 7.8384096224999995, 7.8384096224999995]]|[]   |NULL           |\n",
      "|CO_198392400113100761 |198392400113100761 |2024-04-25 15:06:03|NULL       |NULL    |Be6Na2VW             |Be6Na2VW                |A6B2CD                    |['Be', 'Na', 'V', 'W']  |[0.6, 0.2, 0.1, 0.1]                                                            |[4, 4, 4, 4, 4, 4, 11, 11, 23, 74]                                                                                                              |10    |4        |0                   |[[6.40413484, 0.0, 0.0], [3.202067418664565, 5.5461423876004785, 0.0], [3.2020664913354127, 1.8487143076648076, 5.228953693705294]] |[0, 0, 0]      |[False, False, False]|[[6.404134139859937, 5.5671347448412165, 3.9365590148665133], [6.404134610140042, 1.8277219504240703, 1.2923946788387806], [8.02334812128314, 4.632281478552759, 1.2923946788387806], [4.784920628716837, 2.7625752167125275, 3.9365590148665133], [8.023347652353635, 2.7625752167125275, 3.9365590148665133], [4.784921097646343, 4.632281478552759, 1.2923946788387806], [9.606201562499983, 5.546142521448965, 3.9217152702789706], [3.2020671874999946, 1.8487141738163215, 1.3072384234263235], [6.404134374999989, 3.697428347632643, 2.614476846852647], [0.0, 0.0, 0.0]]                                                                                                                                                                                                                                                                                                                                                                                                                                                                                                                                                                                                                                                                                                                                                                                                                                                                                                                                                                                                                                                                                                                                           |[]   |NULL           |\n",
      "|CO_921841388233265885 |921841388233265885 |2024-04-25 15:06:03|NULL       |NULL    |F6HgMoZr2            |F6HgMoZr2               |A6B2CD                    |['F', 'Hg', 'Mo', 'Zr'] |[0.6, 0.1, 0.1, 0.2]                                                            |[9, 9, 9, 9, 9, 9, 80, 42, 40, 40]                                                                                                              |10    |4        |0                   |[[6.42709183, 0.0, 0.0], [3.213545915000001, 5.566024797235417, 0.0], [3.213545915000001, 1.8553415990784725, 5.247698504503521]]   |[0, 0, 0]      |[False, False, False]|[[6.427091830000001, 5.808156152623153, 4.106986601710199], [6.42709183, 1.6132102436907363, 1.1407119027933224], [8.243556692318538, 4.759419675390049, 1.1407119027933224], [4.610626967681464, 2.6619467209238405, 4.106986601710199], [8.243556692318538, 2.6619467209238405, 4.106986601710199], [4.610626967681464, 4.759419675390049, 1.1407119027933224], [6.427091830000001, 3.7106831981569446, 2.6238492522517607], [0.0, 0.0, 0.0], [9.640637745000001, 5.566024797235417, 3.935773878377641], [3.2135459150000005, 1.8553415990784723, 1.3119246261258803]]                                                                                                                                                                                                                                                                                                                                                                                                                                                                                                                                                                                                                                                                                                                                                                                                                                                                                                                                                                                                                                                                                                                                                    |[]   |NULL           |\n",
      "|CO_1166740866705981397|1166740866705981397|2024-04-25 15:06:03|NULL       |NULL    |As6Li2TiW            |As6Li2TiW               |A6B2CD                    |['As', 'Li', 'Ti', 'W'] |[0.6, 0.2, 0.1, 0.1]                                                            |[33, 33, 33, 33, 33, 33, 3, 3, 22, 74]                                                                                                          |10    |4        |0                   |[[6.32289538, 0.0, 0.0], [3.161447690000001, 5.475788024551261, 0.0], [3.161447690000001, 1.8252626748504208, 5.162622459333715]]   |[0, 0, 0]      |[False, False, False]|[[1.5807238450000005, 0.9126313374252104, 2.5813112296668574], [4.742171535000001, 0.9126313374252104, 2.5813112296668574], [4.742171535000001, 2.7378940122756306, 0.0], [1.5807238450000005, 2.7378940122756306, 0.0], [3.161447690000001, 3.6505253497008407, 2.5813112296668574], [3.16144769, 0.0, 0.0], [9.484343070000001, 5.475788024551262, 3.871966844500286], [3.1614476900000006, 1.8252626748504204, 1.2906556148334287], [6.322895380000001, 3.6505253497008407, 2.5813112296668574], [0.0, 0.0, 0.0]]                                                                                                                                                                                                                                                                                                                                                                                                                                                                                                                                                                                                                                                                                                                                                                                                                                                                                                                                                                                                                                                                                                                                                                                                        |[]   |NULL           |\n",
      "+----------------------+-------------------+-------------------+-----------+--------+---------------------+------------------------+--------------------------+------------------------+--------------------------------------------------------------------------------+------------------------------------------------------------------------------------------------------------------------------------------------+------+---------+--------------------+------------------------------------------------------------------------------------------------------------------------------------+---------------+---------------------+----------------------------------------------------------------------------------------------------------------------------------------------------------------------------------------------------------------------------------------------------------------------------------------------------------------------------------------------------------------------------------------------------------------------------------------------------------------------------------------------------------------------------------------------------------------------------------------------------------------------------------------------------------------------------------------------------------------------------------------------------------------------------------------------------------------------------------------------------------------------------------------------------------------------------------------------------------------------------------------------------------------------------------------------------------------------------------------------------------------------------------------------------------------------------------------------------------------------------------------------------------------------------------------------------------------------------------------------------------------------------------------------------------------------------------------------------------------------------------------------------------------------------------------------------------------------------------------------------------------------------------------------------------------------------------------------------------------------------+-----+---------------+\n",
      "only showing top 10 rows\n",
      "\n"
     ]
    },
    {
     "name": "stderr",
     "output_type": "stream",
     "text": [
      "                                                                                \r"
     ]
    }
   ],
   "source": [
    "df = (\n",
    "    loader.spark.read.jdbc(\n",
    "        url=loader.url, table=\"public.configurations\", properties=loader.properties\n",
    "    ).withColumn(\n",
    "        \"ds_ids_unstrung\",\n",
    "        sf.from_json(sf.col(\"dataset_ids\"), sf.ArrayType(sf.StringType())),\n",
    "    )\n",
    "    # .where(sf.array_contains(\"ds_ids_unstrung\", carmat_ds_id))\n",
    "    .show(10, False)\n",
    ")\n",
    "# (f\"'{carmat_ds_id}=ANY(dataset_ids)'\")\n",
    "# .select(\"elements\", \"elements_ratios\", \"id\", \"dataset_ids\")\n",
    "#"
   ]
  },
  {
   "cell_type": "code",
   "execution_count": 45,
   "metadata": {},
   "outputs": [],
   "source": [
    "prop_df = loader.spark.read.jdbc(\n",
    "    url=loader.url, table=\"public.property_objects\", properties=loader.properties\n",
    ").withColumn(\n",
    "    \"ds_ids_unstrung\",\n",
    "    sf.from_json(sf.col(\"dataset_ids\"), sf.ArrayType(sf.StringType())),\n",
    ")"
   ]
  },
  {
   "cell_type": "code",
   "execution_count": 46,
   "metadata": {},
   "outputs": [
    {
     "name": "stdout",
     "output_type": "stream",
     "text": [
      "+----------------------+-------------------+-------------------+--------------------------+---------------------+------------------------------------------------------+--------+-------+---------------------+----------------+---------------------+-------------------------+--------------------------+-------------------------------+----------------------------+-------------+------------------+-------------------------+-------------+------------------+-------------------------------+-------------------------+-----------+----------------+--------------------+---------------------+--------------------------+-----------------------+--------+-------------+--------------------+----------------+---------------------+-------------------------+--------------------------+-------------------------------+-------------------------------------------------------------------+-----------------+----------------------+--------------------------+---------------------------+--------------------------------+-----------------------------+------------------+-----------------------+---------------------------+----------------------------+---------------------------------+------------------------------+-------------------+\n",
      "|id                    |hash               |last_modified      |configuration_ids         |dataset_ids          |metadata                                              |software|method |chemical_formula_hill|potential_energy|potential_energy_unit|potential_energy_per_atom|potential_energy_reference|potential_energy_reference_unit|potential_energy_property_id|atomic_forces|atomic_forces_unit|atomic_forces_property_id|cauchy_stress|cauchy_stress_unit|cauchy_stress_volume_normalized|cauchy_stress_property_id|free_energy|free_energy_unit|free_energy_per_atom|free_energy_reference|free_energy_reference_unit|free_energy_property_id|band_gap|band_gap_unit|band_gap_property_id|formation_energy|formation_energy_unit|formation_energy_per_atom|formation_energy_reference|formation_energy_reference_unit|formation_energy_property_id                                       |adsorption_energy|adsorption_energy_unit|adsorption_energy_per_atom|adsorption_energy_reference|adsorption_energy_reference_unit|adsorption_energy_property_id|atomization_energy|atomization_energy_unit|atomization_energy_per_atom|atomization_energy_reference|atomization_energy_reference_unit|atomization_energy_property_id|ds_ids_unstrung    |\n",
      "+----------------------+-------------------+-------------------+--------------------------+---------------------+------------------------------------------------------+--------+-------+---------------------+----------------+---------------------+-------------------------+--------------------------+-------------------------------+----------------------------+-------------+------------------+-------------------------+-------------+------------------+-------------------------------+-------------------------+-----------+----------------+--------------------+---------------------+--------------------------+-----------------------+--------+-------------+--------------------+----------------+---------------------+-------------------------+--------------------------+-------------------------------+-------------------------------------------------------------------+-----------------+----------------------+--------------------------+---------------------------+--------------------------------+-----------------------------+------------------+-----------------------+---------------------------+----------------------------+---------------------------------+------------------------------+-------------------+\n",
      "|PO_881672991025299341 |881672991025299341 |2024-04-25 15:06:04|['CO_2054710369908306893']|['DS_y7nrdsjtuw0g_0']|{\"input\": {\"source-value\": {\"IBRION\": 6, \"NFREE\": 4}}}|VASP    |DFT-PBE|IrSc2Ta6Zr           |NULL            |NULL                 |NULL                     |NULL                      |NULL                           |NULL                        |NULL         |NULL              |NULL                     |NULL         |NULL              |NULL                           |NULL                     |NULL       |NULL            |NULL                |NULL                 |NULL                      |NULL                   |NULL    |NULL         |NULL                |1.229           |eV                   |false                    |NULL                      |NULL                           |tag:staff@noreply.colabfit.org,2022-11-18:property/formation-energy|NULL             |NULL                  |NULL                      |NULL                       |NULL                            |NULL                         |NULL              |NULL                   |NULL                       |NULL                        |NULL                             |NULL                          |[DS_y7nrdsjtuw0g_0]|\n",
      "|PO_2078460029462207614|2078460029462207614|2024-04-25 15:06:04|['CO_2101855852440468130']|['DS_y7nrdsjtuw0g_0']|{\"input\": {\"source-value\": {\"IBRION\": 6, \"NFREE\": 4}}}|VASP    |DFT-PBE|In2OsRe6Rh           |NULL            |NULL                 |NULL                     |NULL                      |NULL                           |NULL                        |NULL         |NULL              |NULL                     |NULL         |NULL              |NULL                           |NULL                     |NULL       |NULL            |NULL                |NULL                 |NULL                      |NULL                   |NULL    |NULL         |NULL                |3.362           |eV                   |false                    |NULL                      |NULL                           |tag:staff@noreply.colabfit.org,2022-11-18:property/formation-energy|NULL             |NULL                  |NULL                      |NULL                       |NULL                            |NULL                         |NULL              |NULL                   |NULL                       |NULL                        |NULL                             |NULL                          |[DS_y7nrdsjtuw0g_0]|\n",
      "|PO_55155517045697878  |55155517045697878  |2024-04-25 15:06:04|['CO_1763616538315078061']|['DS_y7nrdsjtuw0g_0']|{\"input\": {\"source-value\": {\"IBRION\": 6, \"NFREE\": 4}}}|VASP    |DFT-PBE|Au3LiMn              |NULL            |NULL                 |NULL                     |NULL                      |NULL                           |NULL                        |NULL         |NULL              |NULL                     |NULL         |NULL              |NULL                           |NULL                     |NULL       |NULL            |NULL                |NULL                 |NULL                      |NULL                   |NULL    |NULL         |NULL                |1.089           |eV                   |false                    |NULL                      |NULL                           |tag:staff@noreply.colabfit.org,2022-11-18:property/formation-energy|NULL             |NULL                  |NULL                      |NULL                       |NULL                            |NULL                         |NULL              |NULL                   |NULL                       |NULL                        |NULL                             |NULL                          |[DS_y7nrdsjtuw0g_0]|\n",
      "|PO_104055752189878931 |104055752189878931 |2024-04-25 15:06:04|['CO_467204674000136287'] |['DS_y7nrdsjtuw0g_0']|{\"input\": {\"source-value\": {\"IBRION\": 6, \"NFREE\": 4}}}|VASP    |DFT-PBE|Cd2GeN6Na            |NULL            |NULL                 |NULL                     |NULL                      |NULL                           |NULL                        |NULL         |NULL              |NULL                     |NULL         |NULL              |NULL                           |NULL                     |NULL       |NULL            |NULL                |NULL                 |NULL                      |NULL                   |NULL    |NULL         |NULL                |-0.819          |eV                   |false                    |NULL                      |NULL                           |tag:staff@noreply.colabfit.org,2022-11-18:property/formation-energy|NULL             |NULL                  |NULL                      |NULL                       |NULL                            |NULL                         |NULL              |NULL                   |NULL                       |NULL                        |NULL                             |NULL                          |[DS_y7nrdsjtuw0g_0]|\n",
      "|PO_1573190053553654325|1573190053553654325|2024-04-25 15:06:04|['CO_1376310510571191064']|['DS_y7nrdsjtuw0g_0']|{\"input\": {\"source-value\": {\"IBRION\": 6, \"NFREE\": 4}}}|VASP    |DFT-PBE|Al6NbOsSn2           |NULL            |NULL                 |NULL                     |NULL                      |NULL                           |NULL                        |NULL         |NULL              |NULL                     |NULL         |NULL              |NULL                           |NULL                     |NULL       |NULL            |NULL                |NULL                 |NULL                      |NULL                   |NULL    |NULL         |NULL                |0.339           |eV                   |false                    |NULL                      |NULL                           |tag:staff@noreply.colabfit.org,2022-11-18:property/formation-energy|NULL             |NULL                  |NULL                      |NULL                       |NULL                            |NULL                         |NULL              |NULL                   |NULL                       |NULL                        |NULL                             |NULL                          |[DS_y7nrdsjtuw0g_0]|\n",
      "|PO_15370881615124147  |15370881615124147  |2024-04-25 15:06:04|['CO_2049403998799079436']|['DS_y7nrdsjtuw0g_0']|{\"input\": {\"source-value\": {\"IBRION\": 6, \"NFREE\": 4}}}|VASP    |DFT-PBE|HgLi2V6Y             |NULL            |NULL                 |NULL                     |NULL                      |NULL                           |NULL                        |NULL         |NULL              |NULL                     |NULL         |NULL              |NULL                           |NULL                     |NULL       |NULL            |NULL                |NULL                 |NULL                      |NULL                   |NULL    |NULL         |NULL                |1.272           |eV                   |false                    |NULL                      |NULL                           |tag:staff@noreply.colabfit.org,2022-11-18:property/formation-energy|NULL             |NULL                  |NULL                      |NULL                       |NULL                            |NULL                         |NULL              |NULL                   |NULL                       |NULL                        |NULL                             |NULL                          |[DS_y7nrdsjtuw0g_0]|\n",
      "|PO_2221335523064161036|2221335523064161036|2024-04-25 15:06:04|['CO_1242217809506015097']|['DS_y7nrdsjtuw0g_0']|{\"input\": {\"source-value\": {\"IBRION\": 6, \"NFREE\": 4}}}|VASP    |DFT-PBE|AsIPt2Zr6            |NULL            |NULL                 |NULL                     |NULL                      |NULL                           |NULL                        |NULL         |NULL              |NULL                     |NULL         |NULL              |NULL                           |NULL                     |NULL       |NULL            |NULL                |NULL                 |NULL                      |NULL                   |NULL    |NULL         |NULL                |0.155           |eV                   |false                    |NULL                      |NULL                           |tag:staff@noreply.colabfit.org,2022-11-18:property/formation-energy|NULL             |NULL                  |NULL                      |NULL                       |NULL                            |NULL                         |NULL              |NULL                   |NULL                       |NULL                        |NULL                             |NULL                          |[DS_y7nrdsjtuw0g_0]|\n",
      "|PO_1204919091961896672|1204919091961896672|2024-04-25 15:06:04|['CO_1919530226701619513']|['DS_y7nrdsjtuw0g_0']|{\"input\": {\"source-value\": {\"IBRION\": 6, \"NFREE\": 4}}}|VASP    |DFT-PBE|Ir2SnTa6Tl           |NULL            |NULL                 |NULL                     |NULL                      |NULL                           |NULL                        |NULL         |NULL              |NULL                     |NULL         |NULL              |NULL                           |NULL                     |NULL       |NULL            |NULL                |NULL                 |NULL                      |NULL                   |NULL    |NULL         |NULL                |0.914           |eV                   |false                    |NULL                      |NULL                           |tag:staff@noreply.colabfit.org,2022-11-18:property/formation-energy|NULL             |NULL                  |NULL                      |NULL                       |NULL                            |NULL                         |NULL              |NULL                   |NULL                       |NULL                        |NULL                             |NULL                          |[DS_y7nrdsjtuw0g_0]|\n",
      "|PO_280061379308723548 |280061379308723548 |2024-04-25 15:06:04|['CO_19310776962141568']  |['DS_y7nrdsjtuw0g_0']|{\"input\": {\"source-value\": {\"IBRION\": 6, \"NFREE\": 4}}}|VASP    |DFT-PBE|AgLiMo2Ta6           |NULL            |NULL                 |NULL                     |NULL                      |NULL                           |NULL                        |NULL         |NULL              |NULL                     |NULL         |NULL              |NULL                           |NULL                     |NULL       |NULL            |NULL                |NULL                 |NULL                      |NULL                   |NULL    |NULL         |NULL                |1.423           |eV                   |false                    |NULL                      |NULL                           |tag:staff@noreply.colabfit.org,2022-11-18:property/formation-energy|NULL             |NULL                  |NULL                      |NULL                       |NULL                            |NULL                         |NULL              |NULL                   |NULL                       |NULL                        |NULL                             |NULL                          |[DS_y7nrdsjtuw0g_0]|\n",
      "|PO_1724973639199935954|1724973639199935954|2024-04-25 15:06:04|['CO_425273540032955009'] |['DS_y7nrdsjtuw0g_0']|{\"input\": {\"source-value\": {\"IBRION\": 6, \"NFREE\": 4}}}|VASP    |DFT-PBE|As24Hf4Os4W4         |NULL            |NULL                 |NULL                     |NULL                      |NULL                           |NULL                        |NULL         |NULL              |NULL                     |NULL         |NULL              |NULL                           |NULL                     |NULL       |NULL            |NULL                |NULL                 |NULL                      |NULL                   |NULL    |NULL         |NULL                |0.799           |eV                   |false                    |NULL                      |NULL                           |tag:staff@noreply.colabfit.org,2022-11-18:property/formation-energy|NULL             |NULL                  |NULL                      |NULL                       |NULL                            |NULL                         |NULL              |NULL                   |NULL                       |NULL                        |NULL                             |NULL                          |[DS_y7nrdsjtuw0g_0]|\n",
      "+----------------------+-------------------+-------------------+--------------------------+---------------------+------------------------------------------------------+--------+-------+---------------------+----------------+---------------------+-------------------------+--------------------------+-------------------------------+----------------------------+-------------+------------------+-------------------------+-------------+------------------+-------------------------------+-------------------------+-----------+----------------+--------------------+---------------------+--------------------------+-----------------------+--------+-------------+--------------------+----------------+---------------------+-------------------------+--------------------------+-------------------------------+-------------------------------------------------------------------+-----------------+----------------------+--------------------------+---------------------------+--------------------------------+-----------------------------+------------------+-----------------------+---------------------------+----------------------------+---------------------------------+------------------------------+-------------------+\n",
      "only showing top 10 rows\n",
      "\n"
     ]
    }
   ],
   "source": [
    "prop_df.show(10, False)"
   ]
  },
  {
   "cell_type": "code",
   "execution_count": null,
   "metadata": {},
   "outputs": [],
   "source": [
    "prop_df.select(\"formation_energy\").where(\"formation_energy is not null\").count()"
   ]
  },
  {
   "cell_type": "code",
   "execution_count": null,
   "metadata": {},
   "outputs": [],
   "source": [
    "loader.prefix"
   ]
  },
  {
   "cell_type": "code",
   "execution_count": null,
   "metadata": {},
   "outputs": [],
   "source": [
    "row_dict = {}\n",
    "for prop in [\n",
    "    \"atomization_energy\",\n",
    "    \"adsorption_energy\",\n",
    "    \"band_gap\",\n",
    "    \"formation_energy\",\n",
    "    \"free_energy\",\n",
    "    \"potential_energy\",\n",
    "    \"atomic_forces\",\n",
    "    \"cauchy_stress\",\n",
    "]:\n",
    "    row_dict[f\"{prop}_count\"] = (\n",
    "        prop_df.select(prop).where(f\"{prop} is not null\").count()\n",
    "    )"
   ]
  },
  {
   "cell_type": "code",
   "execution_count": null,
   "metadata": {},
   "outputs": [],
   "source": [
    "row_dict"
   ]
  },
  {
   "cell_type": "code",
   "execution_count": null,
   "metadata": {},
   "outputs": [],
   "source": [
    "df.agg(sf.collect_set(\"nperiodic_dimensions\")).collect()[0][0]"
   ]
  },
  {
   "cell_type": "code",
   "execution_count": null,
   "metadata": {},
   "outputs": [],
   "source": [
    "dims = (\n",
    "    df.withColumn(\n",
    "        \"dims_unstrung\",\n",
    "        sf.from_json(sf.col(\"dimension_types\"), sf.ArrayType(sf.StringType())),\n",
    "    )\n",
    "    .select(\"dims_unstrung\")\n",
    "    .agg(sf.collect_set(\"dims_unstrung\"))\n",
    "    .collect()[0][0]\n",
    ")"
   ]
  },
  {
   "cell_type": "code",
   "execution_count": null,
   "metadata": {},
   "outputs": [],
   "source": [
    "df = loader.spark.read.jdbc(\n",
    "    loader.url,\n",
    "    table=\"public.configurations\",\n",
    "    properties=loader.properties,\n",
    ").options(query=\"SELECT * FROM public.configurations\")"
   ]
  },
  {
   "cell_type": "code",
   "execution_count": null,
   "metadata": {},
   "outputs": [],
   "source": [
    "loader.spark.read.format(\"jdbc\").options(\n",
    "    url=loader.url,\n",
    "    query=\"SELECT * FROM public.configurations\",\n",
    ").load()"
   ]
  },
  {
   "cell_type": "code",
   "execution_count": null,
   "metadata": {},
   "outputs": [],
   "source": [
    "pyspark.sql.SQLContext(loader.spark).sql(\"SELECT * FROM configurations\").show()"
   ]
  },
  {
   "cell_type": "markdown",
   "metadata": {},
   "source": [
    "# Hashing"
   ]
  },
  {
   "cell_type": "markdown",
   "metadata": {},
   "source": [
    "# outer"
   ]
  },
  {
   "cell_type": "code",
   "execution_count": null,
   "metadata": {},
   "outputs": [],
   "source": [
    "\"\"\"\n",
    "Can we make the configuration and the property instance/data object at the same time?\n",
    "In this way, we would only have to pass through the data one time.\n",
    "\n",
    "Workflow:\n",
    "create database access object\n",
    "create data reader as function? of the database access object\n",
    "reader returns ase.Atoms-style objects (AtomicConfiguration)\n",
    "DOs and PIs are now one object\n",
    "These DOs point to a configuration\n",
    "The configuration may already exist in the database, so we keep track of the hash added to the DO\n",
    "\n",
    "\n",
    "\"\"\""
   ]
  },
  {
   "cell_type": "code",
   "execution_count": null,
   "metadata": {},
   "outputs": [],
   "source": [
    "cos = json.load(Path(\"sample_db/co_ds1.json\").open(\"r\"))"
   ]
  },
  {
   "cell_type": "code",
   "execution_count": null,
   "metadata": {},
   "outputs": [],
   "source": [
    "with open(Path(\"sample_db/co_ds1.json\"), \"r\") as f:\n",
    "    co_json = spark.sparkContext.parallelize(json.load(f))"
   ]
  },
  {
   "cell_type": "code",
   "execution_count": null,
   "metadata": {},
   "outputs": [],
   "source": [
    "co = co_json.map(_parse_config).map(stringify_lists)\n",
    "co_df = spark.createDataFrame(co, config_schema)"
   ]
  },
  {
   "cell_type": "code",
   "execution_count": null,
   "metadata": {},
   "outputs": [],
   "source": [
    "def parse_configs(co_path, spark):\n",
    "    with open(co_path, \"r\") as f:\n",
    "        co_json = spark.sparkContext.parallelize(json.load(f))\n",
    "    co = co_json.map(_parse_config).map(stringify_lists)\n",
    "    co_df = spark.createDataFrame(co, config_schema)\n",
    "    return co_df"
   ]
  },
  {
   "cell_type": "code",
   "execution_count": null,
   "metadata": {},
   "outputs": [],
   "source": [
    "parse_configs(\"sample_db/co_ds1.json\", spark).show()"
   ]
  }
 ],
 "metadata": {
  "kernelspec": {
   "display_name": "cf-dev-env",
   "language": "python",
   "name": "python3"
  },
  "language_info": {
   "codemirror_mode": {
    "name": "ipython",
    "version": 3
   },
   "file_extension": ".py",
   "mimetype": "text/x-python",
   "name": "python",
   "nbconvert_exporter": "python",
   "pygments_lexer": "ipython3",
   "version": "3.11.4"
  }
 },
 "nbformat": 4,
 "nbformat_minor": 2
}
