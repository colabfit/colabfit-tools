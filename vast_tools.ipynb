{
 "cells": [
  {
   "cell_type": "markdown",
   "metadata": {},
   "source": [
    "# Imports"
   ]
  },
  {
   "cell_type": "code",
   "execution_count": 1,
   "metadata": {},
   "outputs": [
    {
     "data": {
      "text/plain": [
       "True"
      ]
     },
     "execution_count": 1,
     "metadata": {},
     "output_type": "execute_result"
    }
   ],
   "source": [
    "import datetime\n",
    "import json\n",
    "import os\n",
    "import pickle\n",
    "from itertools import chain, islice\n",
    "from multiprocessing import Pool, cpu_count\n",
    "from pathlib import Path\n",
    "from pprint import pprint\n",
    "\n",
    "import dateutil.parser\n",
    "import findspark\n",
    "import lmdb\n",
    "import numpy as np\n",
    "import pyspark\n",
    "from ase.atoms import Atoms\n",
    "\n",
    "from functools import partial\n",
    "from ase.io.cfg import read_cfg\n",
    "from dotenv import load_dotenv\n",
    "from pyspark.sql import SparkSession\n",
    "from pyspark.sql.types import (\n",
    "    BooleanType,\n",
    "    DoubleType,\n",
    "    FloatType,\n",
    "    IntegerType,\n",
    "    LongType,\n",
    "    StringType,\n",
    "    StructField,\n",
    "    StructType,\n",
    "    TimestampType,\n",
    ")\n",
    "\n",
    "from colabfit.tools.configuration import AtomicConfiguration\n",
    "\n",
    "from colabfit.tools.database import DataManager, PGDataLoader\n",
    "from colabfit.tools.property import Property, property_object_schema\n",
    "from colabfit.tools.configuration import config_schema\n",
    "from colabfit.tools.property_definitions import (\n",
    "    atomic_forces_pd,\n",
    "    cauchy_stress_pd,\n",
    "    potential_energy_pd,\n",
    ")\n",
    "\n",
    "findspark.init()\n",
    "format = \"jdbc\"\n",
    "load_dotenv(\"./.env\")"
   ]
  },
  {
   "cell_type": "markdown",
   "metadata": {},
   "source": [
    "# Set up MTPU and Carolina Materials readers and data"
   ]
  },
  {
   "cell_type": "code",
   "execution_count": 2,
   "metadata": {},
   "outputs": [],
   "source": [
    "def convert_stress(keys, stress):\n",
    "    stresses = {k: s for k, s in zip(keys, stress)}\n",
    "    return [\n",
    "        [stresses[\"xx\"], stresses[\"xy\"], stresses[\"xz\"]],\n",
    "        [stresses[\"xy\"], stresses[\"yy\"], stresses[\"yz\"]],\n",
    "        [stresses[\"xz\"], stresses[\"yz\"], stresses[\"zz\"]],\n",
    "    ]\n",
    "\n",
    "\n",
    "SYMBOL_DICT = {\"0\": \"Si\", \"1\": \"O\"}\n",
    "\n",
    "\n",
    "def reader(filepath):\n",
    "    with open(filepath, \"rt\") as f:\n",
    "        energy = None\n",
    "        forces = None\n",
    "        coords = []\n",
    "        cell = []\n",
    "        symbols = []\n",
    "        config_count = 0\n",
    "        for line in f:\n",
    "            if line.strip().startswith(\"Size\"):\n",
    "                size = int(f.readline().strip())\n",
    "            elif line.strip().lower().startswith(\"supercell\"):\n",
    "                cell.append([float(x) for x in f.readline().strip().split()])\n",
    "                cell.append([float(x) for x in f.readline().strip().split()])\n",
    "                cell.append([float(x) for x in f.readline().strip().split()])\n",
    "            elif line.strip().startswith(\"Energy\"):\n",
    "                energy = float(f.readline().strip())\n",
    "            elif line.strip().startswith(\"PlusStress\"):\n",
    "                stress_keys = line.strip().split()[-6:]\n",
    "                stress = [float(x) for x in f.readline().strip().split()]\n",
    "                stress = convert_stress(stress_keys, stress)\n",
    "            elif line.strip().startswith(\"AtomData:\"):\n",
    "                keys = line.strip().split()[1:]\n",
    "                if \"fx\" in keys:\n",
    "                    forces = []\n",
    "                for i in range(size):\n",
    "                    li = {\n",
    "                        key: val for key, val in zip(keys, f.readline().strip().split())\n",
    "                    }\n",
    "                    symbols.append(SYMBOL_DICT[li[\"type\"]])\n",
    "                    if \"cartes_x\" in keys:\n",
    "                        coords.append(\n",
    "                            [\n",
    "                                float(c)\n",
    "                                for c in [\n",
    "                                    li[\"cartes_x\"],\n",
    "                                    li[\"cartes_y\"],\n",
    "                                    li[\"cartes_z\"],\n",
    "                                ]\n",
    "                            ]\n",
    "                        )\n",
    "                    elif \"direct_x\" in keys:\n",
    "                        coords.append(\n",
    "                            [\n",
    "                                float(c)\n",
    "                                for c in [\n",
    "                                    li[\"direct_x\"],\n",
    "                                    li[\"direct_y\"],\n",
    "                                    li[\"direct_z\"],\n",
    "                                ]\n",
    "                            ]\n",
    "                        )\n",
    "\n",
    "                    if \"fx\" in keys:\n",
    "                        forces.append(\n",
    "                            [float(f) for f in [li[\"fx\"], li[\"fy\"], li[\"fz\"]]]\n",
    "                        )\n",
    "\n",
    "            elif line.startswith(\"END_CFG\"):\n",
    "                if \"cartes_x\" in keys:\n",
    "                    config = AtomicConfiguration(\n",
    "                        positions=coords, symbols=symbols, cell=cell\n",
    "                    )\n",
    "                elif \"direct_x\" in keys:\n",
    "                    config = AtomicConfiguration(\n",
    "                        scaled_positions=coords, symbols=symbols, cell=cell\n",
    "                    )\n",
    "                config.info[\"energy\"] = energy\n",
    "                if forces:\n",
    "                    config.info[\"forces\"] = forces\n",
    "                config.info[\"stress\"] = stress\n",
    "\n",
    "                if \"Si\" in symbols and \"O\" in symbols:\n",
    "                    config.info[\"input\"] = {\n",
    "                        \"kpoint-scheme\": \"Monkhorst-Pack\",\n",
    "                        \"kpoints\": \"11x11x11\",\n",
    "                        \"kinetic-energy-cutoff\": {\n",
    "                            \"val\": 1224,\n",
    "                            \"units\": \"eV\",\n",
    "                        },\n",
    "                    }\n",
    "                    config.info[\"_name\"] = f\"{filepath.stem}_SiO2_{config_count}\"\n",
    "                elif \"Si\" in symbols:\n",
    "                    config.info[\"input\"] = {\n",
    "                        \"kpoint-scheme\": \"Monkhorst-Pack\",\n",
    "                        \"kpoints\": \"8x8x8\",\n",
    "                        \"kinetic-energy-cutoff\": {\n",
    "                            \"val\": 884,\n",
    "                            \"units\": \"eV\",\n",
    "                        },\n",
    "                    }\n",
    "                    config.info[\"_name\"] = f\"{filepath.stem}_Si_{config_count}\"\n",
    "                elif \"O\" in symbols:\n",
    "                    config.info[\"input\"] = {\n",
    "                        \"kpoint-scheme\": \"Monkhorst-Pack\",\n",
    "                        \"kpoints\": \"gamma-point\",\n",
    "                        \"kinetic-energy-cutoff\": {\n",
    "                            \"val\": 1224,\n",
    "                            \"units\": \"eV\",\n",
    "                        },\n",
    "                    }\n",
    "                    config.info[\"_name\"] = f\"{filepath.stem}_O_{config_count}\"\n",
    "                config_count += 1\n",
    "                yield config\n",
    "                forces = None\n",
    "                stress = []\n",
    "                coords = []\n",
    "                cell = []\n",
    "                symbols = []\n",
    "                energy = None"
   ]
  },
  {
   "cell_type": "code",
   "execution_count": 3,
   "metadata": {},
   "outputs": [
    {
     "data": {
      "text/plain": [
       "{'nsites': 4,\n",
       " 'elements': ['Si'],\n",
       " 'nelements': 1,\n",
       " 'elements_ratios': [1.0],\n",
       " 'chemical_formula_anonymous': 'A',\n",
       " 'chemical_formula_reduced': 'Si',\n",
       " 'chemical_formula_hill': 'Si4',\n",
       " 'dimension_types': [0, 0, 0],\n",
       " 'nperiodic_dimensions': 0}"
      ]
     },
     "execution_count": 3,
     "metadata": {},
     "output_type": "execute_result"
    }
   ],
   "source": [
    "mtpu_configs = reader(Path(\"data/mtpu_2023/Unified_training_set.cfg\"))\n",
    "data = [x for x in mtpu_configs]\n",
    "data[0].configuration_summary()"
   ]
  },
  {
   "cell_type": "code",
   "execution_count": 27,
   "metadata": {},
   "outputs": [],
   "source": [
    "SOFTWARE = \"VASP\"\n",
    "METHODS = \"DFT-PBE\"\n",
    "CM_PI_METADATA = {\n",
    "    \"software\": {\"value\": SOFTWARE},\n",
    "    \"method\": {\"value\": METHODS},\n",
    "    \"input\": {\"value\": {\"IBRION\": 6, \"NFREE\": 4}},\n",
    "}\n",
    "\n",
    "CM_PROPERTY_MAP = {\n",
    "    \"formation-energy\": [\n",
    "        {\n",
    "            \"energy\": {\"field\": \"energy\", \"units\": \"eV\"},\n",
    "            \"per-atom\": {\"value\": False, \"units\": None},\n",
    "        }\n",
    "    ],\n",
    "    \"_metadata\": CM_PI_METADATA,\n",
    "}\n",
    "CO_MD = {\n",
    "    key: {\"field\": key}\n",
    "    for key in [\n",
    "        \"_symmetry_space_group_name_H-M\",\n",
    "        \"_symmetry_Int_Tables_number\",\n",
    "        \"_chemical_formula_structural\",\n",
    "        \"_chemical_formula_sum\",\n",
    "        \"_cell_volume\",\n",
    "        \"_cell_formula_units_Z\",\n",
    "        \"symmetry_dict\",\n",
    "        \"formula_pretty\",\n",
    "    ]\n",
    "}\n",
    "\n",
    "\n",
    "def load_row(txn, row):\n",
    "    try:\n",
    "        data = pickle.loads(txn.get(f\"{row}\".encode(\"ascii\")))\n",
    "        return data\n",
    "    except TypeError:\n",
    "        return False\n",
    "\n",
    "\n",
    "def config_from_row(row: dict, row_num: int):\n",
    "    coords = row.pop(\"cart_coords\")\n",
    "    a_num = row.pop(\"atomic_numbers\")\n",
    "    cell = [\n",
    "        row.pop(x)\n",
    "        for x in [\n",
    "            \"_cell_length_a\",\n",
    "            \"_cell_length_b\",\n",
    "            \"_cell_length_c\",\n",
    "            \"_cell_angle_alpha\",\n",
    "            \"_cell_angle_beta\",\n",
    "            \"_cell_angle_gamma\",\n",
    "        ]\n",
    "    ]\n",
    "    config = Atoms(scaled_positions=coords, numbers=a_num, cell=cell)\n",
    "    symmetry_dict = {str(key): val for key, val in row.pop(\"symmetry_dict\").items()}\n",
    "    for key in symmetry_dict:\n",
    "        key = str(key)\n",
    "    config.info = row\n",
    "    config.info[\"symmetry_dict\"] = symmetry_dict\n",
    "    config.info[\"name\"] = f\"carolina_materials_{row_num}\"\n",
    "    return AtomicConfiguration.from_ase(config)\n",
    "\n",
    "\n",
    "def carmat_reader(fp: Path):\n",
    "    parent = fp.parent\n",
    "    env = lmdb.open(str(parent))\n",
    "    txn = env.begin()\n",
    "    row_num = 0\n",
    "    rows = []\n",
    "    while row_num <= 10000:\n",
    "        row = load_row(txn, row_num)\n",
    "        if row is False:\n",
    "            env.close()\n",
    "            break\n",
    "        rows.append(row)\n",
    "        yield config_from_row(row, row_num)\n",
    "        row_num += 1\n",
    "    env.close()\n",
    "    return False\n",
    "    # return rows"
   ]
  },
  {
   "cell_type": "code",
   "execution_count": 28,
   "metadata": {},
   "outputs": [],
   "source": [
    "reader = carmat_reader(Path(\"data/carolina_matdb/base/all/data.mdb\"))"
   ]
  },
  {
   "cell_type": "code",
   "execution_count": 29,
   "metadata": {},
   "outputs": [],
   "source": [
    "carmat_configs = list(carmat_reader(Path(\"data/carolina_matdb/base/all/data.mdb\")))\n",
    "PI_METADATA = {\n",
    "    \"software\": {\"value\": \"Quantum ESPRESSO\"},\n",
    "    \"method\": {\"value\": \"DFT-PBE\"},\n",
    "    \"input\": {\"field\": \"input\"},\n",
    "}\n",
    "\n",
    "PROPERTY_MAP = {\n",
    "    \"potential-energy\": [\n",
    "        {\n",
    "            \"energy\": {\"field\": \"energy\", \"units\": \"eV\"},\n",
    "            \"per-atom\": {\"value\": False, \"units\": None},\n",
    "            # \"_metadata\": PI_METADATA,\n",
    "        }\n",
    "    ],\n",
    "    \"atomic-forces\": [\n",
    "        {\n",
    "            \"forces\": {\"field\": \"forces\", \"units\": \"eV/angstrom\"},\n",
    "            # \"_metadata\": PI_METADATA,\n",
    "        },\n",
    "    ],\n",
    "    \"cauchy-stress\": [\n",
    "        {\n",
    "            \"stress\": {\"field\": \"stress\", \"units\": \"GPa\"},\n",
    "            \"volume-normalized\": {\"value\": True, \"units\": None},\n",
    "        }\n",
    "    ],\n",
    "    \"_metadata\": PI_METADATA,\n",
    "}"
   ]
  },
  {
   "cell_type": "code",
   "execution_count": 30,
   "metadata": {},
   "outputs": [
    {
     "data": {
      "text/plain": [
       "10001"
      ]
     },
     "execution_count": 30,
     "metadata": {},
     "output_type": "execute_result"
    }
   ],
   "source": [
    "# carmat_aconfigs = [\n",
    "#     AtomicConfiguration(names=f\"{i}\").from_ase(c) for i, c in enumerate(carmat_configs)\n",
    "# ]\n",
    "for c in carmat_configs:\n",
    "    c.set_metadata(CO_MD)\n",
    "len(carmat_configs)"
   ]
  },
  {
   "cell_type": "markdown",
   "metadata": {},
   "source": [
    "# Connect to DB and run loader"
   ]
  },
  {
   "cell_type": "code",
   "execution_count": 11,
   "metadata": {},
   "outputs": [
    {
     "name": "stderr",
     "output_type": "stream",
     "text": [
      "24/04/16 13:07:36 WARN Utils: Your hostname, arktos resolves to a loopback address: 127.0.1.1; using 172.24.21.25 instead (on interface enp5s0)\n",
      "24/04/16 13:07:36 WARN Utils: Set SPARK_LOCAL_IP if you need to bind to another address\n",
      "24/04/16 13:07:36 WARN NativeCodeLoader: Unable to load native-hadoop library for your platform... using builtin-java classes where applicable\n",
      "Setting default log level to \"WARN\".\n",
      "To adjust logging level use sc.setLogLevel(newLevel). For SparkR, use setLogLevel(newLevel).\n",
      "24/04/16 13:07:38 WARN SparkSession: Using an existing Spark session; only runtime SQL configurations will take effect.\n"
     ]
    }
   ],
   "source": [
    "JARFILE = os.environ.get(\"CLASSPATH\")\n",
    "spark = (\n",
    "    SparkSession.builder.appName(\"PostgreSQL Connection with PySpark\")\n",
    "    .config(\"spark.jars\", JARFILE)\n",
    "    .getOrCreate()\n",
    ")\n",
    "url = \"jdbc:postgresql://localhost:5432/colabfit\"\n",
    "user = os.environ.get(\"PGS_USER\")\n",
    "password = os.environ.get(\"PGS_PASS\")\n",
    "properties = {\n",
    "    \"user\": user,\n",
    "    \"password\": password,\n",
    "    \"driver\": \"org.postgresql.Driver\",\n",
    "}\n",
    "loader = PGDataLoader(appname=\"colabfit\", env=\"./.env\")"
   ]
  },
  {
   "cell_type": "code",
   "execution_count": 31,
   "metadata": {},
   "outputs": [],
   "source": [
    "with open(\"formation_energy.json\", \"r\") as f:\n",
    "    formation_energy_pd = json.load(f)\n",
    "dm = DataManager(\n",
    "    nprocs=4,\n",
    "    configs=carmat_configs,\n",
    "    prop_defs=[formation_energy_pd],\n",
    "    prop_map=CM_PROPERTY_MAP,\n",
    ")"
   ]
  },
  {
   "cell_type": "code",
   "execution_count": 13,
   "metadata": {},
   "outputs": [
    {
     "name": "stdout",
     "output_type": "stream",
     "text": [
      "type config chunks <class 'generator'>\n",
      "number of chunks 2\n",
      "10000\n"
     ]
    },
    {
     "data": {
      "text/plain": [
       "10001"
      ]
     },
     "execution_count": 13,
     "metadata": {},
     "output_type": "execute_result"
    }
   ],
   "source": [
    "co_po = list(dm.gather_co_po_in_batches())\n",
    "co_po0 = co_po[0]\n",
    "len(co_po0)"
   ]
  },
  {
   "cell_type": "code",
   "execution_count": 32,
   "metadata": {},
   "outputs": [
    {
     "name": "stdout",
     "output_type": "stream",
     "text": [
      "type config chunks <class 'generator'>\n",
      "number of chunks 2\n",
      "10000\n"
     ]
    }
   ],
   "source": [
    "dm.load_data_to_pg_in_batches(loader)"
   ]
  },
  {
   "cell_type": "code",
   "execution_count": 14,
   "metadata": {},
   "outputs": [],
   "source": [
    "cos, pos = zip(*co_po0)"
   ]
  },
  {
   "cell_type": "code",
   "execution_count": 25,
   "metadata": {},
   "outputs": [
    {
     "name": "stdout",
     "output_type": "stream",
     "text": [
      "{'atomic_numbers': '[35 20  1  1  1  1  1  1 45 45]',\n",
      " 'cell': '[[5.39874426, 0.0, 0.0], [2.6993721300000004, 4.67544967769542, '\n",
      "         '0.0], [2.6993721300000004, 1.5584832258984738, 4.4080562295931855]]',\n",
      " 'chemical_formula_anonymous': 'A6B2CD',\n",
      " 'chemical_formula_hill': 'H6BrCaRh2',\n",
      " 'chemical_formula_reduced': 'BrCaH6Rh2',\n",
      " 'dataset_ids': None,\n",
      " 'dimension_types': '[0, 0, 0]',\n",
      " 'elements': \"['Br', 'Ca', 'H', 'Rh']\",\n",
      " 'elements_ratios': '[0.1, 0.1, 0.6, 0.2]',\n",
      " 'hash': 1639958031759710933,\n",
      " 'id': 'CO_1639958031759710933',\n",
      " 'last_modified': datetime.datetime(2024, 4, 16, 17, 7, 39, tzinfo=tzutc()),\n",
      " 'metadata': '{\"_symmetry_space_group_name_H-M\": \"Fm-3m\", '\n",
      "             '\"_symmetry_Int_Tables_number\": \"225\", '\n",
      "             '\"_chemical_formula_structural\": \"CaH6Rh2Br\", '\n",
      "             '\"_chemical_formula_sum\": \"\\'Ca1 H6 Rh2 Br1\\'\", \"_cell_volume\": '\n",
      "             '\"111.26620291\", \"_cell_formula_units_Z\": \"1\", \"symmetry_dict\": '\n",
      "             '{\"1\": \"\\'x, y, z\\'\", \"2\": \"\\'-x, -y, -z\\'\", \"3\": \"\\'-z, -x, '\n",
      "             'x+y+z\\'\", \"4\": \"\\'z, x, -x-y-z\\'\", \"5\": \"\\'-x-y-z, z, y\\'\", \"6\": '\n",
      "             '\"\\'x+y+z, -z, -y\\'\", \"7\": \"\\'-y, x+y+z, -x\\'\", \"8\": \"\\'y, '\n",
      "             '-x-y-z, x\\'\", \"9\": \"\\'y, x, -x-y-z\\'\", \"10\": \"\\'-y, -x, '\n",
      "             'x+y+z\\'\", \"11\": \"\\'-x, -z, -y\\'\", \"12\": \"\\'x, z, y\\'\", \"13\": '\n",
      "             '\"\\'z, -x-y-z, x\\'\", \"14\": \"\\'-z, x+y+z, -x\\'\", \"15\": \"\\'x+y+z, '\n",
      "             '-y, -z\\'\", \"16\": \"\\'-x-y-z, y, z\\'\", \"17\": \"\\'y, z, x\\'\", \"18\": '\n",
      "             '\"\\'-y, -z, -x\\'\", \"19\": \"\\'-x, x+y+z, -z\\'\", \"20\": \"\\'x, -x-y-z, '\n",
      "             'z\\'\", \"21\": \"\\'z, y, -x-y-z\\'\", \"22\": \"\\'-z, -y, x+y+z\\'\", \"23\": '\n",
      "             '\"\\'x+y+z, -x, -y\\'\", \"24\": \"\\'-x-y-z, x, y\\'\", \"25\": \"\\'x, '\n",
      "             '-x-y-z, y\\'\", \"26\": \"\\'-x, x+y+z, -y\\'\", \"27\": \"\\'-z, -y, -x\\'\", '\n",
      "             '\"28\": \"\\'z, y, x\\'\", \"29\": \"\\'-x-y-z, x, z\\'\", \"30\": \"\\'x+y+z, '\n",
      "             '-x, -z\\'\", \"31\": \"\\'-y, -z, x+y+z\\'\", \"32\": \"\\'y, z, -x-y-z\\'\", '\n",
      "             '\"33\": \"\\'z, x, y\\'\", \"34\": \"\\'-z, -x, -y\\'\", \"35\": \"\\'x+y+z, -z, '\n",
      "             '-x\\'\", \"36\": \"\\'-x-y-z, z, x\\'\", \"37\": \"\\'y, -x-y-z, z\\'\", \"38\": '\n",
      "             '\"\\'-y, x+y+z, -z\\'\", \"39\": \"\\'-x, -y, x+y+z\\'\", \"40\": \"\\'x, y, '\n",
      "             '-x-y-z\\'\", \"41\": \"\\'-x-y-z, y, x\\'\", \"42\": \"\\'x+y+z, -y, -x\\'\", '\n",
      "             '\"43\": \"\\'-y, -x, -z\\'\", \"44\": \"\\'y, x, z\\'\", \"45\": \"\\'x, z, '\n",
      "             '-x-y-z\\'\", \"46\": \"\\'-x, -z, x+y+z\\'\", \"47\": \"\\'-z, x+y+z, -y\\'\", '\n",
      "             '\"48\": \"\\'z, -x-y-z, y\\'\"}, \"formula_pretty\": \"\\'Ca1H6Rh2Br1\\'\"}',\n",
      " 'names': set(),\n",
      " 'nelements': 4,\n",
      " 'nperiodic_dimensions': 0,\n",
      " 'nsites': 10,\n",
      " 'pbc': '[False False False]',\n",
      " 'positions': '[[0.         0.         0.        ]\\n'\n",
      "              ' [5.39874426 3.11696645 2.20402811]\\n'\n",
      "              ' [5.39874426 4.84493342 3.42588528]\\n'\n",
      "              ' [5.39874426 1.38899948 0.98217095]\\n'\n",
      "              ' [6.89520755 3.98094994 0.98217095]\\n'\n",
      "              ' [3.90228097 2.25298297 3.42588528]\\n'\n",
      "              ' [6.89520755 2.25298297 3.42588528]\\n'\n",
      "              ' [3.90228097 3.98094994 0.98217095]\\n'\n",
      "              ' [8.09811639 4.67544968 3.30604217]\\n'\n",
      "              ' [2.69937213 1.55848323 1.10201406]]'}\n"
     ]
    }
   ],
   "source": [
    "pprint(cos[0])"
   ]
  },
  {
   "cell_type": "code",
   "execution_count": 26,
   "metadata": {},
   "outputs": [
    {
     "name": "stdout",
     "output_type": "stream",
     "text": [
      "{'adsorption_energy': None,\n",
      " 'adsorption_energy_per_atom': None,\n",
      " 'adsorption_energy_property_id': None,\n",
      " 'adsorption_energy_reference': None,\n",
      " 'adsorption_energy_reference_unit': None,\n",
      " 'adsorption_energy_unit': None,\n",
      " 'atomic_forces': None,\n",
      " 'atomic_forces_property_id': None,\n",
      " 'atomic_forces_unit': None,\n",
      " 'atomization_energy': None,\n",
      " 'atomization_energy_per_atom': None,\n",
      " 'atomization_energy_property_id': None,\n",
      " 'atomization_energy_reference': None,\n",
      " 'atomization_energy_reference_unit': None,\n",
      " 'atomization_energy_unit': None,\n",
      " 'band_gap': None,\n",
      " 'band_gap_property_id': None,\n",
      " 'band_gap_unit': None,\n",
      " 'cauchy_stress': None,\n",
      " 'cauchy_stress_property_id': None,\n",
      " 'cauchy_stress_unit': None,\n",
      " 'cauchy_stress_volume_normalized': None,\n",
      " 'chemical_formula_hill': 'H6BrCaRh2',\n",
      " 'configuration_ids': \"['CO_1639958031759710933']\",\n",
      " 'dataset_ids': None,\n",
      " 'formation_energy': -0.574,\n",
      " 'formation_energy_per_atom': False,\n",
      " 'formation_energy_property_id': 'tag:staff@noreply.colabfit.org,2022-11-18:property/formation-energy',\n",
      " 'formation_energy_reference': None,\n",
      " 'formation_energy_reference_unit': None,\n",
      " 'formation_energy_unit': 'eV',\n",
      " 'free_energy': None,\n",
      " 'free_energy_per_atom': None,\n",
      " 'free_energy_property_id': None,\n",
      " 'free_energy_reference': None,\n",
      " 'free_energy_reference_unit': None,\n",
      " 'free_energy_unit': None,\n",
      " 'hash': 2166445686733900785,\n",
      " 'id': 'PO_2166445686733900785',\n",
      " 'last_modified': datetime.datetime(2024, 4, 16, 17, 7, 39, tzinfo=tzutc()),\n",
      " 'metadata': '{\"input\": {\"source-value\": {\"IBRION\": 6, \"NFREE\": 4}}}',\n",
      " 'method': 'DFT-PBE',\n",
      " 'potential_energy': None,\n",
      " 'potential_energy_per_atom': None,\n",
      " 'potential_energy_property_id': None,\n",
      " 'potential_energy_reference': None,\n",
      " 'potential_energy_reference_unit': None,\n",
      " 'potential_energy_unit': None,\n",
      " 'software': 'VASP'}\n"
     ]
    }
   ],
   "source": [
    "pprint(pos[0])"
   ]
  },
  {
   "cell_type": "code",
   "execution_count": 24,
   "metadata": {},
   "outputs": [
    {
     "data": {
      "text/plain": [
       "datetime.datetime(2024, 4, 16, 17, 15, 23, tzinfo=tzutc())"
      ]
     },
     "execution_count": 24,
     "metadata": {},
     "output_type": "execute_result"
    }
   ],
   "source": [
    "dateutil.parser.parse(\n",
    "    datetime.datetime.now(tz=datetime.timezone.utc).strftime(\"%Y-%m-%dT%H:%M:%SZ\")\n",
    ")"
   ]
  },
  {
   "cell_type": "code",
   "execution_count": null,
   "metadata": {},
   "outputs": [],
   "source": [
    "\"\"\"\n",
    "Can we make the configuration and the property instance/data object at the same time?\n",
    "In this way, we would only have to pass through the data one time.\n",
    "\n",
    "Workflow:\n",
    "create database access object\n",
    "create data reader as function? of the database access object\n",
    "reader returns ase.Atoms-style objects (AtomicConfiguration)\n",
    "DOs and PIs are now one object\n",
    "These DOs point to a configuration\n",
    "The configuration may already exist in the database, so we keep track of the hash added to the DO\n",
    "\n",
    "\n",
    "\"\"\""
   ]
  },
  {
   "cell_type": "code",
   "execution_count": null,
   "metadata": {},
   "outputs": [],
   "source": [
    "cos = json.load(Path(\"sample_db/co_ds1.json\").open(\"r\"))"
   ]
  },
  {
   "cell_type": "code",
   "execution_count": null,
   "metadata": {},
   "outputs": [],
   "source": [
    "with open(Path(\"sample_db/co_ds1.json\"), \"r\") as f:\n",
    "    co_json = spark.sparkContext.parallelize(json.load(f))"
   ]
  },
  {
   "cell_type": "code",
   "execution_count": null,
   "metadata": {},
   "outputs": [],
   "source": [
    "co = co_json.map(_parse_config).map(stringify_lists)\n",
    "co_df = spark.createDataFrame(co, config_schema)"
   ]
  },
  {
   "cell_type": "code",
   "execution_count": null,
   "metadata": {},
   "outputs": [],
   "source": [
    "def parse_configs(co_path, spark):\n",
    "    with open(co_path, \"r\") as f:\n",
    "        co_json = spark.sparkContext.parallelize(json.load(f))\n",
    "    co = co_json.map(_parse_config).map(stringify_lists)\n",
    "    co_df = spark.createDataFrame(co, config_schema)\n",
    "    return co_df"
   ]
  },
  {
   "cell_type": "code",
   "execution_count": null,
   "metadata": {},
   "outputs": [],
   "source": [
    "parse_configs(\"sample_db/co_ds1.json\", spark).show()"
   ]
  },
  {
   "cell_type": "code",
   "execution_count": null,
   "metadata": {},
   "outputs": [],
   "source": [
    "table_name = \"co\"\n",
    "\n",
    "mode = \"append\"\n",
    "url = \"jdbc:postgresql://localhost:5432/colabfit\"\n",
    "properties = {\"user\": user, \"password\": password, \"driver\": \"org.postgresql.Driver\"}\n",
    "co_df.write.jdbc(url=url, table=table_name, mode=mode, properties=properties)"
   ]
  },
  {
   "cell_type": "code",
   "execution_count": null,
   "metadata": {},
   "outputs": [],
   "source": [
    "# co_df.write."
   ]
  },
  {
   "cell_type": "code",
   "execution_count": null,
   "metadata": {},
   "outputs": [],
   "source": []
  }
 ],
 "metadata": {
  "kernelspec": {
   "display_name": "cf-dev-env",
   "language": "python",
   "name": "python3"
  },
  "language_info": {
   "codemirror_mode": {
    "name": "ipython",
    "version": 3
   },
   "file_extension": ".py",
   "mimetype": "text/x-python",
   "name": "python",
   "nbconvert_exporter": "python",
   "pygments_lexer": "ipython3",
   "version": "3.11.4"
  }
 },
 "nbformat": 4,
 "nbformat_minor": 2
}
