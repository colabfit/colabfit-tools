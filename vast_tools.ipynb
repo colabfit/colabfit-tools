{
 "cells": [
  {
   "cell_type": "code",
   "execution_count": 1,
   "metadata": {},
   "outputs": [
    {
     "data": {
      "text/plain": [
       "True"
      ]
     },
     "execution_count": 1,
     "metadata": {},
     "output_type": "execute_result"
    }
   ],
   "source": [
    "import datetime\n",
    "import json\n",
    "import os\n",
    "from pathlib import Path\n",
    "from pprint import pprint\n",
    "\n",
    "import dateutil.parser\n",
    "import findspark\n",
    "import numpy as np\n",
    "import pyspark\n",
    "from ase.atoms import Atoms\n",
    "from ase.io.cfg import read_cfg\n",
    "from dotenv import load_dotenv\n",
    "from pyspark.sql import SparkSession\n",
    "from pyspark.sql.types import (\n",
    "    BooleanType,\n",
    "    DoubleType,\n",
    "    FloatType,\n",
    "    IntegerType,\n",
    "    LongType,\n",
    "    StringType,\n",
    "    StructField,\n",
    "    StructType,\n",
    "    TimestampType,\n",
    ")\n",
    "\n",
    "from colabfit.tools.configuration import AtomicConfiguration\n",
    "from colabfit.tools.property import Property\n",
    "from colabfit.tools.property_definitions import (\n",
    "    atomic_forces_pd,\n",
    "    cauchy_stress_pd,\n",
    "    potential_energy_pd,\n",
    ")\n",
    "\n",
    "findspark.init()\n",
    "format = \"jdbc\"\n",
    "load_dotenv(\"./.env\")"
   ]
  },
  {
   "cell_type": "code",
   "execution_count": 2,
   "metadata": {},
   "outputs": [],
   "source": [
    "def convert_stress(keys, stress):\n",
    "    stresses = {k: s for k, s in zip(keys, stress)}\n",
    "    return [\n",
    "        [stresses[\"xx\"], stresses[\"xy\"], stresses[\"xz\"]],\n",
    "        [stresses[\"xy\"], stresses[\"yy\"], stresses[\"yz\"]],\n",
    "        [stresses[\"xz\"], stresses[\"yz\"], stresses[\"zz\"]],\n",
    "    ]\n",
    "\n",
    "\n",
    "SYMBOL_DICT = {\"0\": \"Si\", \"1\": \"O\"}\n",
    "\n",
    "\n",
    "def reader(filepath):\n",
    "    with open(filepath, \"rt\") as f:\n",
    "        energy = None\n",
    "        forces = None\n",
    "        coords = []\n",
    "        cell = []\n",
    "        symbols = []\n",
    "        config_count = 0\n",
    "        for line in f:\n",
    "            if line.strip().startswith(\"Size\"):\n",
    "                size = int(f.readline().strip())\n",
    "            elif line.strip().lower().startswith(\"supercell\"):\n",
    "                cell.append([float(x) for x in f.readline().strip().split()])\n",
    "                cell.append([float(x) for x in f.readline().strip().split()])\n",
    "                cell.append([float(x) for x in f.readline().strip().split()])\n",
    "            elif line.strip().startswith(\"Energy\"):\n",
    "                energy = float(f.readline().strip())\n",
    "            elif line.strip().startswith(\"PlusStress\"):\n",
    "                stress_keys = line.strip().split()[-6:]\n",
    "                stress = [float(x) for x in f.readline().strip().split()]\n",
    "                stress = convert_stress(stress_keys, stress)\n",
    "            elif line.strip().startswith(\"AtomData:\"):\n",
    "                keys = line.strip().split()[1:]\n",
    "                if \"fx\" in keys:\n",
    "                    forces = []\n",
    "                for i in range(size):\n",
    "                    li = {\n",
    "                        key: val for key, val in zip(keys, f.readline().strip().split())\n",
    "                    }\n",
    "                    symbols.append(SYMBOL_DICT[li[\"type\"]])\n",
    "                    if \"cartes_x\" in keys:\n",
    "                        coords.append(\n",
    "                            [\n",
    "                                float(c)\n",
    "                                for c in [\n",
    "                                    li[\"cartes_x\"],\n",
    "                                    li[\"cartes_y\"],\n",
    "                                    li[\"cartes_z\"],\n",
    "                                ]\n",
    "                            ]\n",
    "                        )\n",
    "                    elif \"direct_x\" in keys:\n",
    "                        coords.append(\n",
    "                            [\n",
    "                                float(c)\n",
    "                                for c in [\n",
    "                                    li[\"direct_x\"],\n",
    "                                    li[\"direct_y\"],\n",
    "                                    li[\"direct_z\"],\n",
    "                                ]\n",
    "                            ]\n",
    "                        )\n",
    "\n",
    "                    if \"fx\" in keys:\n",
    "                        forces.append(\n",
    "                            [float(f) for f in [li[\"fx\"], li[\"fy\"], li[\"fz\"]]]\n",
    "                        )\n",
    "\n",
    "            elif line.startswith(\"END_CFG\"):\n",
    "                if \"cartes_x\" in keys:\n",
    "                    config = AtomicConfiguration(\n",
    "                        positions=coords, symbols=symbols, cell=cell\n",
    "                    )\n",
    "                elif \"direct_x\" in keys:\n",
    "                    config = AtomicConfiguration(\n",
    "                        scaled_positions=coords, symbols=symbols, cell=cell\n",
    "                    )\n",
    "                config.info[\"energy\"] = energy\n",
    "                if forces:\n",
    "                    config.info[\"forces\"] = forces\n",
    "                config.info[\"stress\"] = stress\n",
    "\n",
    "                if \"Si\" in symbols and \"O\" in symbols:\n",
    "                    config.info[\"input\"] = {\n",
    "                        \"kpoint-scheme\": \"Monkhorst-Pack\",\n",
    "                        \"kpoints\": \"11x11x11\",\n",
    "                        \"kinetic-energy-cutoff\": {\n",
    "                            \"val\": 1224,\n",
    "                            \"units\": \"eV\",\n",
    "                        },\n",
    "                    }\n",
    "                    config.info[\"names\"] = f\"{filepath.stem}_SiO2_{config_count}\"\n",
    "                elif \"Si\" in symbols:\n",
    "                    config.info[\"input\"] = {\n",
    "                        \"kpoint-scheme\": \"Monkhorst-Pack\",\n",
    "                        \"kpoints\": \"8x8x8\",\n",
    "                        \"kinetic-energy-cutoff\": {\n",
    "                            \"val\": 884,\n",
    "                            \"units\": \"eV\",\n",
    "                        },\n",
    "                    }\n",
    "                    config.info[\"names\"] = f\"{filepath.stem}_Si_{config_count}\"\n",
    "                elif \"O\" in symbols:\n",
    "                    config.info[\"input\"] = {\n",
    "                        \"kpoint-scheme\": \"Monkhorst-Pack\",\n",
    "                        \"kpoints\": \"gamma-point\",\n",
    "                        \"kinetic-energy-cutoff\": {\n",
    "                            \"val\": 1224,\n",
    "                            \"units\": \"eV\",\n",
    "                        },\n",
    "                    }\n",
    "                    config.info[\"names\"] = f\"{filepath.stem}_O_{config_count}\"\n",
    "                config_count += 1\n",
    "                yield config\n",
    "                forces = None\n",
    "                stress = []\n",
    "                coords = []\n",
    "                cell = []\n",
    "                symbols = []\n",
    "                energy = None"
   ]
  },
  {
   "cell_type": "code",
   "execution_count": 3,
   "metadata": {},
   "outputs": [
    {
     "data": {
      "text/plain": [
       "{'nsites': 4,\n",
       " 'elements': ['Si'],\n",
       " 'nelements': 1,\n",
       " 'elements_ratios': [1.0],\n",
       " 'chemical_formula_anonymous': 'A',\n",
       " 'chemical_formula_reduced': 'Si',\n",
       " 'chemical_formula_hill': 'Si4',\n",
       " 'dimension_types': [0, 0, 0],\n",
       " 'nperiodic_dimensions': 0}"
      ]
     },
     "execution_count": 3,
     "metadata": {},
     "output_type": "execute_result"
    }
   ],
   "source": [
    "mtpu_configs = reader(Path(\"data/mtpu_2023/Unified_training_set.cfg\"))\n",
    "data = [x for x in mtpu_configs]\n",
    "data[0].configuration_summary()"
   ]
  },
  {
   "cell_type": "code",
   "execution_count": 4,
   "metadata": {},
   "outputs": [
    {
     "name": "stderr",
     "output_type": "stream",
     "text": [
      "24/04/11 14:31:09 WARN Utils: Your hostname, arktos resolves to a loopback address: 127.0.1.1; using 172.24.21.25 instead (on interface enp5s0)\n",
      "24/04/11 14:31:09 WARN Utils: Set SPARK_LOCAL_IP if you need to bind to another address\n",
      "24/04/11 14:31:09 WARN NativeCodeLoader: Unable to load native-hadoop library for your platform... using builtin-java classes where applicable\n",
      "Setting default log level to \"WARN\".\n",
      "To adjust logging level use sc.setLogLevel(newLevel). For SparkR, use setLogLevel(newLevel).\n"
     ]
    }
   ],
   "source": [
    "JARFILE = os.environ.get(\"CLASSPATH\")\n",
    "spark = (\n",
    "    SparkSession.builder.appName(\"PostgreSQL Connection with PySpark\")\n",
    "    .config(\"spark.jars\", JARFILE)\n",
    "    .getOrCreate()\n",
    ")\n",
    "url = \"jdbc:postgresql://localhost:5432/colabfit\"\n",
    "user = os.environ.get(\"PGS_USER\")\n",
    "password = os.environ.get(\"PGS_PASS\")\n",
    "properties = {\n",
    "    \"user\": user,\n",
    "    \"password\": password,\n",
    "    \"driver\": \"org.postgresql.Driver\",\n",
    "}"
   ]
  },
  {
   "cell_type": "code",
   "execution_count": 5,
   "metadata": {},
   "outputs": [],
   "source": [
    "config_schema = StructType(\n",
    "    [\n",
    "        StructField(\"id\", StringType(), False),\n",
    "        StructField(\"hash\", StringType(), False),\n",
    "        StructField(\"last_modified\", TimestampType(), False),\n",
    "        StructField(\"dataset_ids\", StringType(), True),  # ArrayType(StringType())\n",
    "        StructField(\"chemical_formula_hill\", StringType(), True),\n",
    "        StructField(\"chemical_formula_reduced\", StringType(), True),\n",
    "        StructField(\"chemical_formula_anonymous\", StringType(), True),\n",
    "        StructField(\"elements\", StringType(), True),  # ArrayType(StringType())\n",
    "        StructField(\"elements_ratios\", StringType(), True),  # ArrayType(IntegerType())\n",
    "        StructField(\"atomic_numbers\", StringType(), True),  # ArrayType(IntegerType())\n",
    "        StructField(\"nsites\", IntegerType(), True),\n",
    "        StructField(\"nelements\", IntegerType(), True),\n",
    "        StructField(\"nperiodic_dimensions\", IntegerType(), True),\n",
    "        StructField(\"cell\", StringType(), True),  # ArrayType(ArrayType(DoubleType()))\n",
    "        StructField(\"dimension_types\", StringType(), True),  # ArrayType(IntegerType())\n",
    "        StructField(\"pbc\", StringType(), True),  # ArrayType(IntegerType())\n",
    "        StructField(\n",
    "            \"positions\", StringType(), True\n",
    "        ),  # ArrayType(ArrayType(DoubleType()))\n",
    "        StructField(\"names\", StringType(), True),  # ArrayType(StringType())\n",
    "    ]\n",
    ")\n",
    "property_object_schema = StructType(\n",
    "    [\n",
    "        StructField(\"id\", StringType(), False),\n",
    "        StructField(\"hash\", StringType(), False),\n",
    "        StructField(\"last_modified\", TimestampType(), False),\n",
    "        StructField(\"configuration_ids\", StringType(), True),  # ArrayType(StringType())\n",
    "        StructField(\"dataset_ids\", StringType(), True),  # ArrayType(StringType())\n",
    "        StructField(\"metadata\", StringType(), True),\n",
    "        StructField(\"chemical_formula_hill\", StringType(), True),\n",
    "        StructField(\"potential_energy\", DoubleType(), True),\n",
    "        StructField(\"potential_energy_unit\", StringType(), True),\n",
    "        StructField(\"potential_energy_per_atom\", BooleanType(), True),\n",
    "        StructField(\"potential_energy_reference\", DoubleType(), True),\n",
    "        StructField(\"potential_energy_reference_unit\", StringType(), True),\n",
    "        StructField(\"potential_energy_property_id\", StringType(), True),\n",
    "        StructField(\n",
    "            \"atomic_forces\", StringType(), True\n",
    "        ),  # ArrayType(ArrayType(DoubleType()))\n",
    "        StructField(\"atomic_forces_unit\", StringType(), True),\n",
    "        StructField(\"atomic_forces_property_id\", StringType(), True),\n",
    "        StructField(\n",
    "            \"cauchy_stress\", StringType(), True\n",
    "        ),  # ArrayType(ArrayType(DoubleType()))\n",
    "        StructField(\"cauchy_stress_unit\", StringType(), True),\n",
    "        StructField(\"cauchy_stress_volume_normalized\", BooleanType(), True),\n",
    "        StructField(\"cauchy_stress_property_id\", StringType(), True),\n",
    "        StructField(\"free_energy\", DoubleType(), True),\n",
    "        StructField(\"free_energy_unit\", StringType(), True),\n",
    "        StructField(\"free_energy_per_atom\", BooleanType(), True),\n",
    "        StructField(\"free_energy_reference\", DoubleType(), True),\n",
    "        StructField(\"free_energy_reference_unit\", StringType(), True),\n",
    "        StructField(\"free_energy_property_id\", StringType(), True),\n",
    "        StructField(\"band_gap\", DoubleType(), True),\n",
    "        StructField(\"band_gap_unit\", StringType(), True),\n",
    "        StructField(\"band_gap_property_id\", StringType(), True),\n",
    "        StructField(\"formation_energy\", DoubleType(), True),\n",
    "        StructField(\"formation_energy_unit\", StringType(), True),\n",
    "        StructField(\"formation_energy_per_atom\", BooleanType(), True),\n",
    "        StructField(\"formation_energy_reference\", DoubleType(), True),\n",
    "        StructField(\"formation_energy_reference_unit\", StringType(), True),\n",
    "        StructField(\"formation_energy_property_id\", StringType(), True),\n",
    "        StructField(\"adsorption_energy\", DoubleType(), True),\n",
    "        StructField(\"adsorption_energy_unit\", StringType(), True),\n",
    "        StructField(\"adsorption_energy_per_atom\", BooleanType(), True),\n",
    "        StructField(\"adsorption_energy_reference\", DoubleType(), True),\n",
    "        StructField(\"adsorption_energy_reference_unit\", StringType(), True),\n",
    "        StructField(\"adsorption_energy_property_id\", StringType(), True),\n",
    "        StructField(\"atomization_energy\", DoubleType(), True),\n",
    "        StructField(\"atomization_energy_unit\", StringType(), True),\n",
    "        StructField(\"atomization_energy_per_atom\", BooleanType(), True),\n",
    "        StructField(\"atomization_energy_reference\", DoubleType(), True),\n",
    "        StructField(\"atomization_energy_reference_unit\", StringType(), True),\n",
    "        StructField(\"atomization_energy_property_id\", StringType(), True),\n",
    "    ]\n",
    ")"
   ]
  },
  {
   "cell_type": "code",
   "execution_count": 6,
   "metadata": {},
   "outputs": [],
   "source": [
    "def stringify_lists(row_dict):\n",
    "    \"\"\"\n",
    "    Replace list/tuple fields with comma-separated strings.\n",
    "    Spark and Vast both support array columns, but the connector does not,\n",
    "    so keeping cell values in list format crashes the table.\n",
    "    TODO: Remove when no longer necessary\n",
    "    \"\"\"\n",
    "    for key, val in row_dict.items():\n",
    "        if (\n",
    "            isinstance(val, np.ndarray)\n",
    "            or isinstance[\"potential-energy\"](val, list)\n",
    "            or isinstance(val, tuple)\n",
    "            or isinstance(val, dict)\n",
    "        ):\n",
    "            row_dict[key] = str(val)\n",
    "    return row_dict"
   ]
  },
  {
   "cell_type": "code",
   "execution_count": 7,
   "metadata": {},
   "outputs": [],
   "source": [
    "def _empty_dict_from_schema(schema):\n",
    "    empty_dict = {}\n",
    "    for field in schema:\n",
    "        empty_dict[field.name] = None\n",
    "    return empty_dict"
   ]
  },
  {
   "cell_type": "code",
   "execution_count": 8,
   "metadata": {},
   "outputs": [],
   "source": [
    "SHORT_ID_STRING_NAME = \"colabfit-id\"\n",
    "ATOMS_NAME_FIELD = \"name\""
   ]
  },
  {
   "cell_type": "code",
   "execution_count": 9,
   "metadata": {},
   "outputs": [],
   "source": [
    "PI_METADATA = {\n",
    "    \"software\": {\"value\": \"Quantum ESPRESSO\"},\n",
    "    \"method\": {\"value\": \"DFT-PBE\"},\n",
    "    \"input\": {\"field\": \"input\"},\n",
    "}\n",
    "\n",
    "PROPERTY_MAP = {\n",
    "    \"potential-energy\": [\n",
    "        {\n",
    "            \"energy\": {\"field\": \"energy\", \"units\": \"eV\"},\n",
    "            \"per-atom\": {\"value\": False, \"units\": None},\n",
    "            # \"_metadata\": PI_METADATA,\n",
    "        }\n",
    "    ],\n",
    "    \"atomic-forces\": [\n",
    "        {\n",
    "            \"forces\": {\"field\": \"forces\", \"units\": \"eV/angstrom\"},\n",
    "            # \"_metadata\": PI_METADATA,\n",
    "        },\n",
    "    ],\n",
    "    \"cauchy-stress\": [\n",
    "        {\n",
    "            \"stress\": {\"field\": \"stress\", \"units\": \"GPa\"},\n",
    "            \"volume-normalized\": {\"value\": True, \"units\": None},\n",
    "        }\n",
    "    ],\n",
    "    \"_metadata\": PI_METADATA,\n",
    "}"
   ]
  },
  {
   "cell_type": "code",
   "execution_count": 10,
   "metadata": {},
   "outputs": [],
   "source": [
    "prop = Property.from_definition(\n",
    "    [potential_energy_pd, atomic_forces_pd, cauchy_stress_pd],\n",
    "    data[0],\n",
    "    property_map=PROPERTY_MAP,\n",
    ")"
   ]
  },
  {
   "cell_type": "code",
   "execution_count": 11,
   "metadata": {},
   "outputs": [
    {
     "name": "stdout",
     "output_type": "stream",
     "text": [
      "{'atomic-forces': {'forces': {'source-unit': 'eV/angstrom',\n",
      "                              'source-value': [[-0.000211, -2.8e-05, 0.000336],\n",
      "                                               [-9.1e-05, 2.8e-05, -0.000302],\n",
      "                                               [9.1e-05, 2.8e-05, 0.000304],\n",
      "                                               [0.000211,\n",
      "                                                -2.8e-05,\n",
      "                                                -0.000339]]},\n",
      "                   'instance-id': 1,\n",
      "                   'property-id': 'tag:staff@noreply.colabfit.org,2022-05-30:property/atomic-forces'},\n",
      " 'cauchy-stress': {'instance-id': 1,\n",
      "                   'property-id': 'tag:staff@noreply.colabfit.org,2022-05-30:property/cauchy-stress',\n",
      "                   'stress': {'source-unit': 'GPa',\n",
      "                              'source-value': [[-0.02752, 0.0, -0.99821],\n",
      "                                               [0.0, 0.01635, -0.0],\n",
      "                                               [-0.99821, -0.0, 0.0021]]},\n",
      "                   'volume-normalized': {'source-value': True}},\n",
      " 'potential-energy': {'energy': {'source-unit': 'eV',\n",
      "                                 'source-value': -2542.938029229892},\n",
      "                      'instance-id': 1,\n",
      "                      'per-atom': {'source-value': False},\n",
      "                      'property-id': 'tag:staff@noreply.colabfit.org,2022-05-30:property/potential-energy'}}\n",
      "'Si4'\n",
      "{'adsorption_energy': None,\n",
      " 'adsorption_energy_per_atom': None,\n",
      " 'adsorption_energy_property_id': None,\n",
      " 'adsorption_energy_reference': None,\n",
      " 'adsorption_energy_reference_unit': None,\n",
      " 'adsorption_energy_unit': None,\n",
      " 'atomic_forces': '[[-0.000211, -2.8e-05, 0.000336], [-9.1e-05, 2.8e-05, '\n",
      "                  '-0.000302], [9.1e-05, 2.8e-05, 0.000304], [0.000211, '\n",
      "                  '-2.8e-05, -0.000339]]',\n",
      " 'atomic_forces_property_id': 'tag:staff@noreply.colabfit.org,2022-05-30:property/atomic-forces',\n",
      " 'atomic_forces_unit': 'eV/angstrom',\n",
      " 'atomization_energy': None,\n",
      " 'atomization_energy_per_atom': None,\n",
      " 'atomization_energy_property_id': None,\n",
      " 'atomization_energy_reference': None,\n",
      " 'atomization_energy_reference_unit': None,\n",
      " 'atomization_energy_unit': None,\n",
      " 'band_gap': None,\n",
      " 'band_gap_property_id': None,\n",
      " 'band_gap_unit': None,\n",
      " 'cauchy_stress': '[[-0.02752, 0.0, -0.99821], [0.0, 0.01635, -0.0], '\n",
      "                  '[-0.99821, -0.0, 0.0021]]',\n",
      " 'cauchy_stress_property_id': 'tag:staff@noreply.colabfit.org,2022-05-30:property/cauchy-stress',\n",
      " 'cauchy_stress_unit': 'GPa',\n",
      " 'cauchy_stress_volume_normalized': True,\n",
      " 'chemical_formula_hill': 'Si4',\n",
      " 'configuration_ids': None,\n",
      " 'dataset_ids': None,\n",
      " 'formation_energy': None,\n",
      " 'formation_energy_per_atom': None,\n",
      " 'formation_energy_property_id': None,\n",
      " 'formation_energy_reference': None,\n",
      " 'formation_energy_reference_unit': None,\n",
      " 'formation_energy_unit': None,\n",
      " 'free_energy': None,\n",
      " 'free_energy_per_atom': None,\n",
      " 'free_energy_property_id': None,\n",
      " 'free_energy_reference': None,\n",
      " 'free_energy_reference_unit': None,\n",
      " 'free_energy_unit': None,\n",
      " 'hash': 723297329806676811,\n",
      " 'id': 'PO_723297329806676811',\n",
      " 'last_modified': '2024-04-11T18:31:10Z',\n",
      " 'metadata': '{\"software\": {\"source-value\": \"Quantum ESPRESSO\"}, \"method\": '\n",
      "             '{\"source-value\": \"DFT-PBE\"}, \"input\": {\"source-value\": '\n",
      "             '{\"kpoint-scheme\": \"Monkhorst-Pack\", \"kpoints\": \"8x8x8\", '\n",
      "             '\"kinetic-energy-cutoff\": {\"val\": 884, \"units\": \"eV\"}}}}',\n",
      " 'potential_energy': -2542.938029229892,\n",
      " 'potential_energy_per_atom': False,\n",
      " 'potential_energy_property_id': 'tag:staff@noreply.colabfit.org,2022-05-30:property/potential-energy',\n",
      " 'potential_energy_reference': None,\n",
      " 'potential_energy_reference_unit': None,\n",
      " 'potential_energy_unit': 'eV'}\n"
     ]
    }
   ],
   "source": [
    "instance = prop.instance\n",
    "pprint(instance)\n",
    "pprint(prop.chemical_formula_hill)\n",
    "pprint(prop.to_spark_row())"
   ]
  },
  {
   "cell_type": "code",
   "execution_count": 12,
   "metadata": {},
   "outputs": [],
   "source": [
    "def md_from_map(pmap_md, config: AtomicConfiguration):\n",
    "    gathered_fields = {}\n",
    "    for md_field in pmap_md.keys():\n",
    "        if \"value\" in pmap_md[md_field]:\n",
    "            v = pmap_md[md_field][\"value\"]\n",
    "        elif \"field\" in pmap_md[md_field]:\n",
    "            field_key = pmap_md[md_field][\"field\"]\n",
    "\n",
    "            if field_key in config.info:\n",
    "                v = config.info[field_key]\n",
    "            elif field_key in config.arrays:\n",
    "                v = config.arrays[field_key]\n",
    "            else:\n",
    "                # No keys are required; ignored if missing\n",
    "                continue\n",
    "        else:\n",
    "            # No keys are required; ignored if missing\n",
    "            continue\n",
    "\n",
    "        if \"units\" in pmap_md[md_field]:\n",
    "            gathered_fields[md_field] = {\n",
    "                \"source-value\": v,\n",
    "                \"source-unit\": pmap_md[md_field][\"units\"],\n",
    "            }\n",
    "        else:\n",
    "            gathered_fields[md_field] = {\"source-value\": v}\n",
    "    return json.dumps(gathered_fields)\n",
    "    # return gathered_fields"
   ]
  },
  {
   "cell_type": "code",
   "execution_count": 13,
   "metadata": {},
   "outputs": [],
   "source": [
    "# in-progress config parser\n",
    "def co_to_spark_row(config: AtomicConfiguration):\n",
    "    co_dict = _empty_dict_from_schema(config_schema)\n",
    "    co_dict[\"hash\"] = config._hash\n",
    "    co_dict[\"id\"] = f\"CO_{config._hash}\"\n",
    "    co_dict.update(config.configuration_summary())\n",
    "    co_dict[\"cell\"] = config.cell.tolist()\n",
    "    co_dict[\"positions\"] = config.positions\n",
    "    co_dict[\"names\"] = config.info[ATOMS_NAME_FIELD]\n",
    "    co_dict[\"pbc\"] = config.pbc\n",
    "    co_dict[\"last_modified\"] = datetime.datetime.now(tz=datetime.timezone.utc).strftime(\n",
    "        \"%Y-%m-%dT%H:%M:%SZ\"\n",
    "    )\n",
    "    co_dict[\"atomic_numbers\"] = config.numbers\n",
    "    pprint(config.configuration_summary())\n",
    "\n",
    "    return co_dict"
   ]
  },
  {
   "cell_type": "code",
   "execution_count": 17,
   "metadata": {},
   "outputs": [
    {
     "data": {
      "text/plain": [
       "'Unified_training_set_Si_0'"
      ]
     },
     "execution_count": 17,
     "metadata": {},
     "output_type": "execute_result"
    }
   ],
   "source": [
    "data[0].info[\"name\"]"
   ]
  },
  {
   "cell_type": "code",
   "execution_count": 14,
   "metadata": {},
   "outputs": [
    {
     "data": {
      "text/plain": [
       "{'id': 'CO_47706510123393079',\n",
       " 'hash': 47706510123393079,\n",
       " 'last_modified': '2024-04-11T18:31:10Z',\n",
       " 'dataset_ids': None,\n",
       " 'chemical_formula_hill': 'Si4',\n",
       " 'chemical_formula_reduced': 'Si',\n",
       " 'chemical_formula_anonymous': 'A',\n",
       " 'elements': ['Si'],\n",
       " 'elements_ratios': [1.0],\n",
       " 'atomic_numbers': array([14, 14, 14, 14]),\n",
       " 'nsites': 4,\n",
       " 'nelements': 1,\n",
       " 'nperiodic_dimensions': 0,\n",
       " 'cell': [[3.85085, 0.0, 0.077017],\n",
       "  [-1.925425, 3.334933, -0.038508],\n",
       "  [0.127258, 0.0, 6.362934]],\n",
       " 'dimension_types': [0, 0, 0],\n",
       " 'pbc': array([False, False, False]),\n",
       " 'positions': array([[ 1.892001,  1.11132 ,  0.400465],\n",
       "        [ 1.955509, -1.11132 ,  3.581973],\n",
       "        [ 1.895339, -1.11132 , -0.400508],\n",
       "        [ 1.958847,  1.11132 ,  2.781   ]]),\n",
       " 'names': set()}"
      ]
     },
     "execution_count": 14,
     "metadata": {},
     "output_type": "execute_result"
    }
   ],
   "source": [
    "data[0].to_spark_row()"
   ]
  },
  {
   "cell_type": "code",
   "execution_count": 16,
   "metadata": {},
   "outputs": [
    {
     "name": "stdout",
     "output_type": "stream",
     "text": [
      "{'input': {'source-value': {'kinetic-energy-cutoff': {'units': 'eV',\n",
      "                                                      'val': 884},\n",
      "                            'kpoint-scheme': 'Monkhorst-Pack',\n",
      "                            'kpoints': '8x8x8'}},\n",
      " 'method': {'source-value': 'DFT-PBE'},\n",
      " 'software': {'source-value': 'Quantum ESPRESSO'}}\n"
     ]
    }
   ],
   "source": [
    "md = parse_do(data[0], PROPERTY_MAP[\"potential-energy\"][0])\n",
    "pprint(md)"
   ]
  },
  {
   "cell_type": "code",
   "execution_count": 18,
   "metadata": {},
   "outputs": [
    {
     "data": {
      "text/plain": [
       "'{\"software\": {\"source-value\": \"Quantum ESPRESSO\"}, \"method\": {\"source-value\": \"DFT-PBE\"}, \"input\": {\"source-value\": {\"kpoint-scheme\": \"Monkhorst-Pack\", \"kpoints\": \"8x8x8\", \"kinetic-energy-cutoff\": {\"val\": 884, \"units\": \"eV\"}}}}'"
      ]
     },
     "execution_count": 18,
     "metadata": {},
     "output_type": "execute_result"
    }
   ],
   "source": [
    "json.dumps(md)"
   ]
  },
  {
   "cell_type": "code",
   "execution_count": null,
   "metadata": {},
   "outputs": [],
   "source": [
    "def _parse_cf_config(config: AtomicConfiguration):\n",
    "    summary = config.configuration_summary()\n",
    "    co = _empty_dict_from_schema(config_schema)\n",
    "    co[\"hash\"] = str(hash(config))  # String\n",
    "    co[\"id\"] = f\"CO_{co['hash']}\"  # String\n",
    "    last_modified = datetime.datetime.now(tz=datetime.timezone.utc).strftime(\n",
    "        \"%Y-%m-%dT%H:%M:%SZ\"\n",
    "    )\n",
    "    co[\"last_modified\"] = dateutil.parser.parse(last_modified)  # timestamp\n",
    "\n",
    "    co[\"nsites\"] = summary[\"nsites\"]  # int\n",
    "    co[\"elements\"] = summary[\"elements\"]  # Array[string]\n",
    "    co[\"nelements\"] = summary[\"nelements\"]  # int\n",
    "    co[\"elements_ratios\"] = summary[\"elements_ratios\"]  # Array[string]\n",
    "    co[\"chemical_formula_anonymous\"] = summary[\"chemical_formula_anonymous\"]  # String\n",
    "    co[\"chemical_formula_reduced\"] = summary[\"chemical_formula_reduced\"]  # String\n",
    "    co[\"chemical_formula_hill\"] = summary[\"chemical_formula_hill\"]  # String\n",
    "    co[\"dimension_types\"] = summary[\"dimension_types\"]  # Array\n",
    "    co[\"nperiodic_dimensions\"] = summary[\"nperiodic_dimensions\"]  # int\n",
    "\n",
    "    co[\"atomic_numbers\"] = config.arrays[\"numbers\"]  # Array[int]\n",
    "    co[\"cell\"] = config.cell  # Array 3x3\n",
    "    co[\"pbc\"] = config.pbc  # Array len 3\n",
    "    co[\"names\"] = config.info[ATOMS_NAME_FIELD]  # Array\n",
    "\n",
    "    # TODO: handle oversize positions lists\n",
    "    co[\"positions\"] = config.arrays[\"positions\"]  # Array nsitesx3\n",
    "    # co[\"dataset_ids\"] = []  # Array[string]\n",
    "    # for relationship in config[\"relationships\"]:\n",
    "    #     co[\"dataset_ids\"].append(relationship[\"dataset\"])\n",
    "\n",
    "    return co"
   ]
  },
  {
   "cell_type": "code",
   "execution_count": null,
   "metadata": {},
   "outputs": [],
   "source": [
    "type(data[0].arrays[\"numbers\"])"
   ]
  },
  {
   "cell_type": "code",
   "execution_count": null,
   "metadata": {},
   "outputs": [],
   "source": [
    "cos_parallel = spark.sparkContext.parallelize(data)"
   ]
  },
  {
   "cell_type": "code",
   "execution_count": null,
   "metadata": {},
   "outputs": [],
   "source": [
    "configs_to_add = cos_parallel.map(_parse_cf_config).map(stringify_lists)"
   ]
  },
  {
   "cell_type": "code",
   "execution_count": null,
   "metadata": {},
   "outputs": [],
   "source": [
    "configs_to_add.take(1)"
   ]
  },
  {
   "cell_type": "code",
   "execution_count": null,
   "metadata": {},
   "outputs": [],
   "source": [
    "\"\"\"\n",
    "Can we make the configuration and the property instance/data object at the same time?\n",
    "In this way, we would only have to pass through the data one time.\n",
    "\n",
    "Workflow:\n",
    "create database access object\n",
    "create data reader as function? of the database access object\n",
    "reader returns ase.Atoms-style objects (AtomicConfiguration)\n",
    "DOs and PIs are now one object\n",
    "These DOs point to a configuration\n",
    "The configuration may already exist in the database, so we keep track of the hash added to the DO\n",
    "\n",
    "\n",
    "\"\"\""
   ]
  },
  {
   "cell_type": "code",
   "execution_count": null,
   "metadata": {},
   "outputs": [],
   "source": [
    "def _build_co_update_doc(configuration):\n",
    "    processed_fields = configuration.configuration_summary()\n",
    "    co_hash = str(hash(configuration))\n",
    "    config_dict = configuration.todict()\n",
    "    config_dict.update(\n",
    "        {\n",
    "            \"hash\": co_hash,\n",
    "            SHORT_ID_STRING_NAME: \"CO_\" + co_hash,\n",
    "            \"last_modified\": datetime.datetime.now(tz=datetime.timezone.utc).strftime(\n",
    "                \"%Y-%m-%dT%H:%M:%SZ\"\n",
    "            ),\n",
    "        }\n",
    "    )\n",
    "    names = configuration.info.pop([ATOMS_NAME_FIELD])\n",
    "    if isinstance(names, str):\n",
    "        names = [names]\n",
    "    config_dict[\"names\"] = names\n",
    "    config_dict.update(\n",
    "        {k: str(v.tolist()) for k, v in configuration.unique_identifiers.items()}\n",
    "    )\n",
    "    config_dict.update({k: v for k, v in processed_fields.items()})\n",
    "    # 'nsites': 4,\n",
    "    # 'elements': ['Si'],\n",
    "    # 'nelements': 1,\n",
    "    # 'elements_ratios': [1.0],\n",
    "    # 'chemical_formula_anonymous': 'A',\n",
    "    # 'chemical_formula_reduced': 'Si',\n",
    "    # 'chemical_formula_hill': 'Si4',\n",
    "    # 'dimension_types': [0, 0, 0],\n",
    "    # 'nperiodic_dimensions': 0\n",
    "    return config_dict, co_hash"
   ]
  },
  {
   "cell_type": "code",
   "execution_count": null,
   "metadata": {},
   "outputs": [],
   "source": [
    "stringify_lists(_build_co_update_doc(data[0])[0])"
   ]
  },
  {
   "cell_type": "code",
   "execution_count": null,
   "metadata": {},
   "outputs": [],
   "source": [
    "cos = json.load(Path(\"sample_db/co_ds1.json\").open(\"r\"))"
   ]
  },
  {
   "cell_type": "code",
   "execution_count": null,
   "metadata": {},
   "outputs": [],
   "source": [
    "with open(Path(\"sample_db/co_ds1.json\"), \"r\") as f:\n",
    "    co_json = spark.sparkContext.parallelize(json.load(f))"
   ]
  },
  {
   "cell_type": "code",
   "execution_count": null,
   "metadata": {},
   "outputs": [],
   "source": [
    "co = co_json.map(_parse_config).map(stringify_lists)\n",
    "co_df = spark.createDataFrame(co, config_schema)"
   ]
  },
  {
   "cell_type": "code",
   "execution_count": null,
   "metadata": {},
   "outputs": [],
   "source": [
    "def parse_configs(co_path, spark):\n",
    "    with open(co_path, \"r\") as f:\n",
    "        co_json = spark.sparkContext.parallelize(json.load(f))\n",
    "    co = co_json.map(_parse_config).map(stringify_lists)\n",
    "    co_df = spark.createDataFrame(co, config_schema)\n",
    "    return co_df"
   ]
  },
  {
   "cell_type": "code",
   "execution_count": null,
   "metadata": {},
   "outputs": [],
   "source": [
    "parse_configs(\"sample_db/co_ds1.json\", spark).show()"
   ]
  },
  {
   "cell_type": "code",
   "execution_count": null,
   "metadata": {},
   "outputs": [],
   "source": [
    "table_name = \"co\"\n",
    "\n",
    "mode = \"append\"\n",
    "url = \"jdbc:postgresql://localhost:5432/colabfit\"\n",
    "properties = {\"user\": user, \"password\": password, \"driver\": \"org.postgresql.Driver\"}\n",
    "co_df.write.jdbc(url=url, table=table_name, mode=mode, properties=properties)"
   ]
  },
  {
   "cell_type": "code",
   "execution_count": null,
   "metadata": {},
   "outputs": [],
   "source": [
    "# co_df.write."
   ]
  },
  {
   "cell_type": "code",
   "execution_count": null,
   "metadata": {},
   "outputs": [],
   "source": []
  }
 ],
 "metadata": {
  "kernelspec": {
   "display_name": "cf-dev-env",
   "language": "python",
   "name": "python3"
  },
  "language_info": {
   "codemirror_mode": {
    "name": "ipython",
    "version": 3
   },
   "file_extension": ".py",
   "mimetype": "text/x-python",
   "name": "python",
   "nbconvert_exporter": "python",
   "pygments_lexer": "ipython3",
   "version": "3.11.4"
  }
 },
 "nbformat": 4,
 "nbformat_minor": 2
}
