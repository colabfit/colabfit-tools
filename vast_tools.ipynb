{
 "cells": [
  {
   "cell_type": "markdown",
   "metadata": {},
   "source": [
    "# Imports"
   ]
  },
  {
   "cell_type": "code",
   "execution_count": 18,
   "metadata": {},
   "outputs": [
    {
     "data": {
      "text/plain": [
       "True"
      ]
     },
     "execution_count": 18,
     "metadata": {},
     "output_type": "execute_result"
    }
   ],
   "source": [
    "import datetime\n",
    "import json\n",
    "import os\n",
    "import pickle\n",
    "from functools import partial\n",
    "from itertools import chain, islice\n",
    "from multiprocessing import Pool, cpu_count\n",
    "from pathlib import Path\n",
    "from pprint import pprint\n",
    "\n",
    "import dateutil.parser\n",
    "import findspark\n",
    "import lmdb\n",
    "import numpy as np\n",
    "import pyspark\n",
    "import pyspark.sql.functions as sf\n",
    "from ase.atoms import Atoms\n",
    "from ase.io.cfg import read_cfg\n",
    "from dotenv import load_dotenv\n",
    "from pyspark.sql import SparkSession\n",
    "from pyspark.sql.types import (\n",
    "    ArrayType,\n",
    "    BooleanType,\n",
    "    DoubleType,\n",
    "    FloatType,\n",
    "    IntegerType,\n",
    "    LongType,\n",
    "    StringType,\n",
    "    StructField,\n",
    "    StructType,\n",
    "    TimestampType,\n",
    ")\n",
    "\n",
    "from colabfit.tools.configuration import AtomicConfiguration, config_schema\n",
    "from colabfit.tools.database import DataManager, PGDataLoader\n",
    "from colabfit.tools.property import Property, property_object_schema\n",
    "from colabfit.tools.property_definitions import (\n",
    "    atomic_forces_pd,\n",
    "    cauchy_stress_pd,\n",
    "    potential_energy_pd,\n",
    ")\n",
    "from colabfit.tools.dataset import Dataset, dataset_schema\n",
    "\n",
    "with open(\"formation_energy.json\", \"r\") as f:\n",
    "    formation_energy_pd = json.load(f)\n",
    "findspark.init()\n",
    "format = \"jdbc\"\n",
    "load_dotenv(\"./.env\")"
   ]
  },
  {
   "cell_type": "markdown",
   "metadata": {},
   "source": [
    "# Set up MTPU and Carolina Materials readers and data"
   ]
  },
  {
   "cell_type": "code",
   "execution_count": 19,
   "metadata": {},
   "outputs": [],
   "source": [
    "# MTPU data\n",
    "\n",
    "\n",
    "def convert_stress(keys, stress):\n",
    "    stresses = {k: s for k, s in zip(keys, stress)}\n",
    "    return [\n",
    "        [stresses[\"xx\"], stresses[\"xy\"], stresses[\"xz\"]],\n",
    "        [stresses[\"xy\"], stresses[\"yy\"], stresses[\"yz\"]],\n",
    "        [stresses[\"xz\"], stresses[\"yz\"], stresses[\"zz\"]],\n",
    "    ]\n",
    "\n",
    "\n",
    "SYMBOL_DICT = {\"0\": \"Si\", \"1\": \"O\"}\n",
    "\n",
    "\n",
    "def mtpu_reader(filepath):\n",
    "    with open(filepath, \"rt\") as f:\n",
    "        energy = None\n",
    "        forces = None\n",
    "        coords = []\n",
    "        cell = []\n",
    "        symbols = []\n",
    "        config_count = 0\n",
    "        for line in f:\n",
    "            if line.strip().startswith(\"Size\"):\n",
    "                size = int(f.readline().strip())\n",
    "            elif line.strip().lower().startswith(\"supercell\"):\n",
    "                cell.append([float(x) for x in f.readline().strip().split()])\n",
    "                cell.append([float(x) for x in f.readline().strip().split()])\n",
    "                cell.append([float(x) for x in f.readline().strip().split()])\n",
    "            elif line.strip().startswith(\"Energy\"):\n",
    "                energy = float(f.readline().strip())\n",
    "            elif line.strip().startswith(\"PlusStress\"):\n",
    "                stress_keys = line.strip().split()[-6:]\n",
    "                stress = [float(x) for x in f.readline().strip().split()]\n",
    "                stress = convert_stress(stress_keys, stress)\n",
    "            elif line.strip().startswith(\"AtomData:\"):\n",
    "                keys = line.strip().split()[1:]\n",
    "                if \"fx\" in keys:\n",
    "                    forces = []\n",
    "                for i in range(size):\n",
    "                    li = {\n",
    "                        key: val for key, val in zip(keys, f.readline().strip().split())\n",
    "                    }\n",
    "                    symbols.append(SYMBOL_DICT[li[\"type\"]])\n",
    "                    if \"cartes_x\" in keys:\n",
    "                        coords.append(\n",
    "                            [\n",
    "                                float(c)\n",
    "                                for c in [\n",
    "                                    li[\"cartes_x\"],\n",
    "                                    li[\"cartes_y\"],\n",
    "                                    li[\"cartes_z\"],\n",
    "                                ]\n",
    "                            ]\n",
    "                        )\n",
    "                    elif \"direct_x\" in keys:\n",
    "                        coords.append(\n",
    "                            [\n",
    "                                float(c)\n",
    "                                for c in [\n",
    "                                    li[\"direct_x\"],\n",
    "                                    li[\"direct_y\"],\n",
    "                                    li[\"direct_z\"],\n",
    "                                ]\n",
    "                            ]\n",
    "                        )\n",
    "\n",
    "                    if \"fx\" in keys:\n",
    "                        forces.append(\n",
    "                            [float(f) for f in [li[\"fx\"], li[\"fy\"], li[\"fz\"]]]\n",
    "                        )\n",
    "\n",
    "            elif line.startswith(\"END_CFG\"):\n",
    "                if \"cartes_x\" in keys:\n",
    "                    config = AtomicConfiguration(\n",
    "                        positions=coords, symbols=symbols, cell=cell\n",
    "                    )\n",
    "                elif \"direct_x\" in keys:\n",
    "                    config = AtomicConfiguration(\n",
    "                        scaled_positions=coords, symbols=symbols, cell=cell\n",
    "                    )\n",
    "                config.info[\"energy\"] = energy\n",
    "                if forces:\n",
    "                    config.info[\"forces\"] = forces\n",
    "                config.info[\"stress\"] = stress\n",
    "\n",
    "                if \"Si\" in symbols and \"O\" in symbols:\n",
    "                    config.info[\"input\"] = {\n",
    "                        \"kpoint-scheme\": \"Monkhorst-Pack\",\n",
    "                        \"kpoints\": \"11x11x11\",\n",
    "                        \"kinetic-energy-cutoff\": {\n",
    "                            \"val\": 1224,\n",
    "                            \"units\": \"eV\",\n",
    "                        },\n",
    "                    }\n",
    "                    config.info[\"_name\"] = f\"{filepath.stem}_SiO2_{config_count}\"\n",
    "                elif \"Si\" in symbols:\n",
    "                    config.info[\"input\"] = {\n",
    "                        \"kpoint-scheme\": \"Monkhorst-Pack\",\n",
    "                        \"kpoints\": \"8x8x8\",\n",
    "                        \"kinetic-energy-cutoff\": {\n",
    "                            \"val\": 884,\n",
    "                            \"units\": \"eV\",\n",
    "                        },\n",
    "                    }\n",
    "                    config.info[\"_name\"] = f\"{filepath.stem}_Si_{config_count}\"\n",
    "                elif \"O\" in symbols:\n",
    "                    config.info[\"input\"] = {\n",
    "                        \"kpoint-scheme\": \"Monkhorst-Pack\",\n",
    "                        \"kpoints\": \"gamma-point\",\n",
    "                        \"kinetic-energy-cutoff\": {\n",
    "                            \"val\": 1224,\n",
    "                            \"units\": \"eV\",\n",
    "                        },\n",
    "                    }\n",
    "                    config.info[\"_name\"] = f\"{filepath.stem}_O_{config_count}\"\n",
    "                config_count += 1\n",
    "                yield config\n",
    "                forces = None\n",
    "                stress = []\n",
    "                coords = []\n",
    "                cell = []\n",
    "                symbols = []\n",
    "                energy = None"
   ]
  },
  {
   "cell_type": "code",
   "execution_count": 20,
   "metadata": {},
   "outputs": [],
   "source": [
    "mtpu_configs = mtpu_reader(Path(\"data/mtpu_2023/Unified_training_set.cfg\"))\n",
    "# data = [x for x in mtpu_configs]\n",
    "# data[0].configuration_summary()"
   ]
  },
  {
   "cell_type": "code",
   "execution_count": 21,
   "metadata": {},
   "outputs": [],
   "source": [
    "# Carolina Materials data\n",
    "\n",
    "SOFTWARE = \"VASP\"\n",
    "METHODS = \"DFT-PBE\"\n",
    "CM_PI_METADATA = {\n",
    "    \"software\": {\"value\": SOFTWARE},\n",
    "    \"method\": {\"value\": METHODS},\n",
    "    \"input\": {\"value\": {\"IBRION\": 6, \"NFREE\": 4}},\n",
    "}\n",
    "\n",
    "CM_PROPERTY_MAP = {\n",
    "    \"formation-energy\": [\n",
    "        {\n",
    "            \"energy\": {\"field\": \"energy\", \"units\": \"eV\"},\n",
    "            \"per-atom\": {\"value\": False, \"units\": None},\n",
    "        }\n",
    "    ],\n",
    "    \"_metadata\": CM_PI_METADATA,\n",
    "}\n",
    "CO_MD = {\n",
    "    key: {\"field\": key}\n",
    "    for key in [\n",
    "        \"_symmetry_space_group_name_H-M\",\n",
    "        \"_symmetry_Int_Tables_number\",\n",
    "        \"_chemical_formula_structural\",\n",
    "        \"_chemical_formula_sum\",\n",
    "        \"_cell_volume\",\n",
    "        \"_cell_formula_units_Z\",\n",
    "        \"symmetry_dict\",\n",
    "        \"formula_pretty\",\n",
    "    ]\n",
    "}\n",
    "\n",
    "\n",
    "def load_row(txn, row):\n",
    "    try:\n",
    "        data = pickle.loads(txn.get(f\"{row}\".encode(\"ascii\")))\n",
    "        return data\n",
    "    except TypeError:\n",
    "        return False\n",
    "\n",
    "\n",
    "def config_from_row(row: dict, row_num: int):\n",
    "    coords = row.pop(\"cart_coords\")\n",
    "    a_num = row.pop(\"atomic_numbers\")\n",
    "    cell = [\n",
    "        row.pop(x)\n",
    "        for x in [\n",
    "            \"_cell_length_a\",\n",
    "            \"_cell_length_b\",\n",
    "            \"_cell_length_c\",\n",
    "            \"_cell_angle_alpha\",\n",
    "            \"_cell_angle_beta\",\n",
    "            \"_cell_angle_gamma\",\n",
    "        ]\n",
    "    ]\n",
    "    config = AtomicConfiguration(scaled_positions=coords, numbers=a_num, cell=cell)\n",
    "    symmetry_dict = {str(key): val for key, val in row.pop(\"symmetry_dict\").items()}\n",
    "    for key in symmetry_dict:\n",
    "        key = str(key)\n",
    "    config.info = row\n",
    "    config.info[\"symmetry_dict\"] = symmetry_dict\n",
    "    config.info[\"_name\"] = f\"carolina_materials_{row_num}\"\n",
    "    return config\n",
    "    # return AtomicConfiguration.from_ase(config)\n",
    "\n",
    "\n",
    "def carmat_reader(fp: Path):\n",
    "    parent = fp.parent\n",
    "    env = lmdb.open(str(parent))\n",
    "    txn = env.begin()\n",
    "    row_num = 0\n",
    "    rows = []\n",
    "    while row_num <= 10000:\n",
    "        row = load_row(txn, row_num)\n",
    "        if row is False:\n",
    "            env.close()\n",
    "            break\n",
    "        rows.append(row)\n",
    "        yield config_from_row(row, row_num)\n",
    "        row_num += 1\n",
    "    env.close()\n",
    "    return False\n",
    "    # return rows"
   ]
  },
  {
   "cell_type": "code",
   "execution_count": 22,
   "metadata": {},
   "outputs": [],
   "source": [
    "PI_METADATA = {\n",
    "    \"software\": {\"value\": \"Quantum ESPRESSO\"},\n",
    "    \"method\": {\"value\": \"DFT-PBE\"},\n",
    "    \"input\": {\"field\": \"input\"},\n",
    "}\n",
    "\n",
    "PROPERTY_MAP = {\n",
    "    \"potential-energy\": [\n",
    "        {\n",
    "            \"energy\": {\"field\": \"energy\", \"units\": \"eV\"},\n",
    "            \"per-atom\": {\"value\": False, \"units\": None},\n",
    "            # \"_metadata\": PI_METADATA,\n",
    "        }\n",
    "    ],\n",
    "    \"atomic-forces\": [\n",
    "        {\n",
    "            \"forces\": {\"field\": \"forces\", \"units\": \"eV/angstrom\"},\n",
    "            # \"_metadata\": PI_METADATA,\n",
    "        },\n",
    "    ],\n",
    "    \"cauchy-stress\": [\n",
    "        {\n",
    "            \"stress\": {\"field\": \"stress\", \"units\": \"GPa\"},\n",
    "            \"volume-normalized\": {\"value\": True, \"units\": None},\n",
    "        }\n",
    "    ],\n",
    "    \"_metadata\": PI_METADATA,\n",
    "}"
   ]
  },
  {
   "cell_type": "markdown",
   "metadata": {},
   "source": [
    "# Connect to DB and run loader"
   ]
  },
  {
   "cell_type": "code",
   "execution_count": 23,
   "metadata": {},
   "outputs": [
    {
     "name": "stderr",
     "output_type": "stream",
     "text": [
      "24/04/25 16:47:51 WARN SparkSession: Using an existing Spark session; only runtime SQL configurations will take effect.\n",
      "24/04/25 16:47:51 WARN SparkSession: Using an existing Spark session; only runtime SQL configurations will take effect.\n"
     ]
    }
   ],
   "source": [
    "JARFILE = os.environ.get(\"CLASSPATH\")\n",
    "spark = (\n",
    "    SparkSession.builder.appName(\"PostgreSQL Connection with PySpark\")\n",
    "    .config(\"spark.jars\", JARFILE)\n",
    "    .getOrCreate()\n",
    ")\n",
    "url = \"jdbc:postgresql://localhost:5432/colabfit\"\n",
    "user = os.environ.get(\"PGS_USER\")\n",
    "password = os.environ.get(\"PGS_PASS\")\n",
    "properties = {\n",
    "    \"user\": user,\n",
    "    \"password\": password,\n",
    "    \"driver\": \"org.postgresql.Driver\",\n",
    "}\n",
    "loader = PGDataLoader(appname=\"colabfit\", env=\"./.env\")"
   ]
  },
  {
   "cell_type": "code",
   "execution_count": 24,
   "metadata": {},
   "outputs": [
    {
     "name": "stdout",
     "output_type": "stream",
     "text": [
      "Dataset ID: DS_y7nrdsjtuw0g_0\n"
     ]
    }
   ],
   "source": [
    "carmat_config_gen = carmat_reader(Path(\"data/carolina_matdb/base/all/data.mdb\"))\n",
    "carmat_ds_id = \"DS_y7nrdsjtuw0g_0\"\n",
    "dm = DataManager(\n",
    "    nprocs=4,\n",
    "    configs=carmat_config_gen,\n",
    "    prop_defs=[formation_energy_pd],\n",
    "    prop_map=CM_PROPERTY_MAP,\n",
    "    dataset_id=carmat_ds_id,\n",
    ")"
   ]
  },
  {
   "cell_type": "code",
   "execution_count": 25,
   "metadata": {},
   "outputs": [
    {
     "name": "stdout",
     "output_type": "stream",
     "text": [
      "Dataset ID: DS_y7nrdsjtuw0g_1\n"
     ]
    }
   ],
   "source": [
    "mtpu_ds_id = \"DS_y7nrdsjtuw0g_1\"\n",
    "dm2 = DataManager(\n",
    "    nprocs=4,\n",
    "    configs=mtpu_configs,\n",
    "    prop_defs=[potential_energy_pd, atomic_forces_pd, cauchy_stress_pd],\n",
    "    prop_map=PROPERTY_MAP,\n",
    "    dataset_id=mtpu_ds_id,\n",
    ")"
   ]
  },
  {
   "cell_type": "code",
   "execution_count": 26,
   "metadata": {},
   "outputs": [
    {
     "name": "stderr",
     "output_type": "stream",
     "text": [
      "Loading data to PostgreSQL: : 3batch [00:06,  2.20s/batch]\n"
     ]
    }
   ],
   "source": [
    "dm.load_data_to_pg_in_batches(loader)"
   ]
  },
  {
   "cell_type": "code",
   "execution_count": 27,
   "metadata": {},
   "outputs": [
    {
     "name": "stderr",
     "output_type": "stream",
     "text": [
      "Loading data to PostgreSQL: : 1batch [00:01,  1.69s/batch]\n"
     ]
    }
   ],
   "source": [
    "dm2.load_data_to_pg_in_batches(loader)"
   ]
  },
  {
   "cell_type": "markdown",
   "metadata": {},
   "source": [
    "# In progress"
   ]
  },
  {
   "cell_type": "markdown",
   "metadata": {},
   "source": [
    "You were making the data loader take dataset-id as an argument so that it would create configurations and properties with ds-id in advance\n",
    "* Check for upsert function from pyspark to concatenate lists of relationships instead of primary key id collision\n",
    "* Make total_element_ratios an array of floats in same order as respective elements? If so, remove dict to str. for hashing of dataset obj."
   ]
  },
  {
   "cell_type": "code",
   "execution_count": 28,
   "metadata": {},
   "outputs": [
    {
     "name": "stderr",
     "output_type": "stream",
     "text": [
      "24/04/25 16:48:00 WARN SparkSession: Using an existing Spark session; only runtime SQL configurations will take effect.\n",
      "24/04/25 16:48:00 WARN SparkSession: Using an existing Spark session; only runtime SQL configurations will take effect.\n"
     ]
    }
   ],
   "source": [
    "JARFILE = os.environ.get(\"CLASSPATH\")\n",
    "spark = (\n",
    "    SparkSession.builder.appName(\"PostgreSQL Connection with PySpark\")\n",
    "    .config(\"spark.jars\", JARFILE)\n",
    "    .getOrCreate()\n",
    ")\n",
    "url = \"jdbc:postgresql://localhost:5432/colabfit\"\n",
    "user = os.environ.get(\"PGS_USER\")\n",
    "password = os.environ.get(\"PGS_PASS\")\n",
    "properties = {\n",
    "    \"user\": user,\n",
    "    \"password\": password,\n",
    "    \"driver\": \"org.postgresql.Driver\",\n",
    "}\n",
    "loader = PGDataLoader(appname=\"colabfit\", env=\"./.env\")"
   ]
  },
  {
   "cell_type": "code",
   "execution_count": 29,
   "metadata": {},
   "outputs": [],
   "source": [
    "from colabfit.tools.dataset import Dataset\n",
    "\n",
    "carmat_ds_id = \"DS_y7nrdsjtuw0g_0\""
   ]
  },
  {
   "cell_type": "code",
   "execution_count": 30,
   "metadata": {},
   "outputs": [],
   "source": [
    "# from importlib import reload\n",
    "# import colabfit.tools.dataset\n",
    "\n",
    "# reload(colabfit.tools.dataset)\n",
    "# Dataset = colabfit.tools.dataset.Dataset"
   ]
  },
  {
   "cell_type": "code",
   "execution_count": 31,
   "metadata": {},
   "outputs": [],
   "source": [
    "x = Dataset(\n",
    "    name=\"Carolina_Materials\",\n",
    "    authors=[\"author one\", \"author two\"],\n",
    "    publication_link=\"https://www.example.com\",\n",
    "    data_link=\"www.example.com\",\n",
    "    description=\"A dataset of materials from the Carolina Materials Database\",\n",
    "    # tags=[\"tag1\", \"tag2\"],\n",
    "    dataset_id=carmat_ds_id,\n",
    "    loader=loader,\n",
    ")"
   ]
  },
  {
   "cell_type": "code",
   "execution_count": 32,
   "metadata": {},
   "outputs": [
    {
     "data": {
      "text/plain": [
       "{'id': 'DS_y7nrdsjtuw0g_0',\n",
       " 'hash': None,\n",
       " 'last_modified': datetime.datetime(2024, 4, 25, 20, 48, tzinfo=tzutc()),\n",
       " 'nconfigurations': 11063,\n",
       " 'nsites': 219570,\n",
       " 'nelements': 64,\n",
       " 'elements': \"['Ag', 'Al', 'As', 'Au', 'B', 'Ba', 'Be', 'Bi', 'Br', 'C', 'Ca', 'Cd', 'Cl', 'Co', 'Cr', 'Cs', 'Cu', 'F', 'Fe', 'Ga', 'Ge', 'H', 'Hf', 'Hg', 'I', 'In', 'Ir', 'K', 'Li', 'Mg', 'Mn', 'Mo', 'N', 'Na', 'Nb', 'Ni', 'O', 'Os', 'P', 'Pb', 'Pd', 'Po', 'Pt', 'Rb', 'Re', 'Rh', 'Ru', 'S', 'Sb', 'Sc', 'Se', 'Si', 'Sn', 'Sr', 'Ta', 'Tc', 'Te', 'Ti', 'Tl', 'V', 'W', 'Y', 'Zn', 'Zr']\",\n",
       " 'total_elements_ratios': \"{'Ag': 0.005970761032927996, 'Al': 0.01109441180489138, 'As': 0.011640934553900806, 'Au': 0.008434667759712165, 'B': 0.0114086623855718, 'Ba': 0.0035205173748690624, 'Be': 0.01329872022589607, 'Bi': 0.005911554401785308, 'Br': 0.015466593796966799, 'C': 0.010579769549574168, 'Ca': 0.004622671585371408, 'Cd': 0.006972719406111946, 'Cl': 0.015666985471603587, 'Co': 0.009263560595709796, 'Cr': 0.010716400236826525, 'Cs': 0.002696178895113176, 'Cu': 0.008152297672723961, 'F': 0.019110078790362982, 'Fe': 0.011955185134581226, 'Ga': 0.00895386437127112, 'Ge': 0.009058614564831261, 'H': 0.052274900942751744, 'Hf': 0.006790545156442137, 'Hg': 0.006899849706244022, 'I': 0.012629229858359521, 'In': 0.006398870519652047, 'Ir': 0.009044951496106025, 'K': 0.009773648494785262, 'Li': 0.013553764175433802, 'Mg': 0.00793368857312019, 'Mn': 0.01001502937559776, 'Mo': 0.007760623035933871, 'N': 0.01263833857084301, 'Na': 0.015229767272396047, 'Nb': 0.01301179578266612, 'Ni': 0.0110260964612652, 'O': 0.10150749191601767, 'Os': 0.008452885184679145, 'P': 0.013125654688709751, 'Pb': 0.004390399417042401, 'Pd': 0.008097645397823018, 'Po': 1.821742496698092e-05, 'Pt': 0.008480211322129618, 'Rb': 0.004344855854624949, 'Re': 0.008903766452611924, 'Rh': 0.01141777109805529, 'Ru': 0.00915425604590791, 'S': 0.016623400282370086, 'Sb': 0.009796420275993988, 'Sc': 0.007833492735801794, 'Se': 0.011167281504759301, 'Si': 0.2714487407204992, 'Sn': 0.0073507309741768, 'Sr': 0.0035387347998360433, 'Ta': 0.0070455891059798695, 'Tc': 0.009750876713576537, 'Te': 0.009732659288609556, 'Ti': 0.018536229903903082, 'Tl': 0.004108029330054197, 'V': 0.015644213690394863, 'W': 0.008539417953272305, 'Y': 0.005374140365259371, 'Zn': 0.008320808853668534, 'Zr': 0.00781982966707656}\",\n",
       " 'nperiodic_dimensions': '[0]',\n",
       " 'dimension_types': \"[['0', '0', '0']]\",\n",
       " 'atomization_energy_count': 0,\n",
       " 'adsorption_energy_count': 0,\n",
       " 'free_energy_count': 0,\n",
       " 'potential_energy_count': 1062,\n",
       " 'atomic_forces_count': 1062,\n",
       " 'band_gap_count': 0,\n",
       " 'cauchy_stress_count': 1062,\n",
       " 'authors': \"['author one', 'author two']\",\n",
       " 'description': 'A dataset of materials from the Carolina Materials Database',\n",
       " 'extended_id': 'Carolina_Materials_onetwo__DS_y7nrdsjtuw0g_0',\n",
       " 'license': 'CC-BY-ND-4.0',\n",
       " 'publication_link': 'https://www.example.com',\n",
       " 'data_link': 'www.example.com',\n",
       " 'other_links': None,\n",
       " 'name': 'Carolina_Materials',\n",
       " 'formation_energy_count': 10001,\n",
       " 'nproperty_objects': 11063}"
      ]
     },
     "execution_count": 32,
     "metadata": {},
     "output_type": "execute_result"
    }
   ],
   "source": [
    "x.spark_row"
   ]
  },
  {
   "cell_type": "code",
   "execution_count": 16,
   "metadata": {},
   "outputs": [
    {
     "name": "stdout",
     "output_type": "stream",
     "text": [
      "+----------------------+-------------------+-------------------+-----------+--------+---------------------+------------------------+--------------------------+------------------------+--------------------------------------------------------------------------------+----------------------------------------------------------------------------------------------------------------------------+------+---------+--------------------+-----------------------------------------------------------------------------------------------------------------------------------+---------------+---------------------+----------------------------------------------------------------------------------------------------------------------------------------------------------------------------------------------------------------------------------------------------------------------------------------------------------------------------------------------------------------------------------------------------------------------------------------------------------------------------------------------------------------------------------------------------------------------------------------------------------------------------------------------------------------------------------------------------------------------------------------------------------------------------------------------------------------------------------------------------------------------------------------------------------------------------------------------------------------------------------------------------------------------------------------------------------------------------------------------------------------------------------------------------------------------------------------------------------------------------------------------------------------------------------------------------------------------------------------------------------------------------------------------------------------------------------------------------------------------------------------------------------------------------------------------------------------------------------------------------------------------------------------------------------------------------------------------+-----+---------------+\n",
      "|id                    |hash               |last_modified      |dataset_ids|metadata|chemical_formula_hill|chemical_formula_reduced|chemical_formula_anonymous|elements                |elements_ratios                                                                 |atomic_numbers                                                                                                              |nsites|nelements|nperiodic_dimensions|cell                                                                                                                               |dimension_types|pbc                  |positions                                                                                                                                                                                                                                                                                                                                                                                                                                                                                                                                                                                                                                                                                                                                                                                                                                                                                                                                                                                                                                                                                                                                                                                                                                                                                                                                                                                                                                                                                                                                                                                                                                                                                     |names|ds_ids_unstrung|\n",
      "+----------------------+-------------------+-------------------+-----------+--------+---------------------+------------------------+--------------------------+------------------------+--------------------------------------------------------------------------------+----------------------------------------------------------------------------------------------------------------------------+------+---------+--------------------+-----------------------------------------------------------------------------------------------------------------------------------+---------------+---------------------+----------------------------------------------------------------------------------------------------------------------------------------------------------------------------------------------------------------------------------------------------------------------------------------------------------------------------------------------------------------------------------------------------------------------------------------------------------------------------------------------------------------------------------------------------------------------------------------------------------------------------------------------------------------------------------------------------------------------------------------------------------------------------------------------------------------------------------------------------------------------------------------------------------------------------------------------------------------------------------------------------------------------------------------------------------------------------------------------------------------------------------------------------------------------------------------------------------------------------------------------------------------------------------------------------------------------------------------------------------------------------------------------------------------------------------------------------------------------------------------------------------------------------------------------------------------------------------------------------------------------------------------------------------------------------------------------+-----+---------------+\n",
      "|CO_294096661948121832 |294096661948121832 |2024-04-25 16:38:44|[None]     |NULL    |H24Ge4Ru4Sc4         |GeH6RuSc                |A6BCD                     |['Ge', 'H', 'Ru', 'Sc'] |[0.1111111111111111, 0.6666666666666666, 0.1111111111111111, 0.1111111111111111]|[21, 21, 21, 21, 32, 32, 32, 32, 1, 1, 1, 1, 1, 1, 1, 1, 1, 1, 1, 1, 1, 1, 1, 1, 1, 1, 1, 1, 1, 1, 1, 1, 44, 44, 44, 44]    |36    |4        |0                   |[[6.53079114, 0.0, 0.0], [0.0, 6.53079114, 0.0], [0.0, 0.0, 6.53079114]]                                                           |[0, 0, 0]      |[False, False, False]|[[1.632697785, 1.632697785, 4.898093355], [1.632697785, 4.898093355, 1.632697785], [4.898093355, 1.632697785, 1.632697785], [4.898093355, 4.898093355, 4.898093355], [0.0, 0.0, 0.0], [0.0, 3.26539557, 3.26539557], [3.26539557, 0.0, 3.26539557], [3.26539557, 3.26539557, 0.0], [2.9710431477493127, 1.632697785, 1.632697785], [1.632697785, 1.632697785, 0.2943524222506872], [0.2943524222506872, 1.632697785, 1.632697785], [1.632697785, 1.632697785, 2.9710431477493127], [1.632697785, 2.9710431477493127, 1.632697785], [1.632697785, 0.2943524222506872, 1.632697785], [2.9710431477493127, 4.898093355, 4.898093355], [1.632697785, 4.898093355, 3.5597479922506876], [0.2943524222506872, 4.898093355, 4.898093355], [1.632697785, 4.898093355, 6.236438717749312], [1.632697785, 6.236438717749312, 4.898093355], [1.632697785, 3.5597479922506876, 4.898093355], [6.236438717749312, 1.632697785, 4.898093355], [4.898093355, 1.632697785, 3.5597479922506876], [3.5597479922506876, 1.632697785, 4.898093355], [4.898093355, 1.632697785, 6.236438717749312], [4.898093355, 2.9710431477493127, 4.898093355], [4.898093355, 0.2943524222506872, 4.898093355], [6.236438717749312, 4.898093355, 1.632697785], [4.898093355, 4.898093355, 0.2943524222506872], [3.5597479922506876, 4.898093355, 1.632697785], [4.898093355, 4.898093355, 2.9710431477493127], [4.898093355, 6.236438717749312, 1.632697785], [4.898093355, 3.5597479922506876, 1.632697785], [3.26539557, 0.0, 0.0], [3.26539557, 3.26539557, 3.26539557], [0.0, 0.0, 3.26539557], [0.0, 3.26539557, 0.0]]                                                                                                    |[]   |NULL           |\n",
      "|CO_617408792905851351 |617408792905851351 |2024-04-25 16:38:44|[None]     |NULL    |InNi6Se2Sn           |InNi6Se2Sn              |A6B2CD                    |['In', 'Ni', 'Se', 'Sn']|[0.1, 0.6, 0.2, 0.1]                                                            |[49, 28, 28, 28, 28, 28, 28, 34, 34, 50]                                                                                    |10    |4        |0                   |[[6.26182524, 0.0, 0.0], [3.130912620000001, 5.422899731898589, 0.0], [3.130912620000001, 1.8076332439661968, 5.112758898826937]]  |[0, 0, 0]      |[False, False, False]|[[0.0, 0.0, 0.0], [1.5654563100000005, 0.9038166219830984, 2.5563794494134684], [4.69636893, 0.9038166219830984, 2.5563794494134684], [4.69636893, 2.7114498659492945, 0.0], [1.5654563100000005, 2.7114498659492945, 0.0], [3.130912620000001, 3.615266487932393, 2.5563794494134684], [3.13091262, 0.0, 0.0], [9.392737860000002, 5.422899731898589, 3.834569174120203], [3.13091262, 1.8076332439661964, 1.2781897247067342], [6.26182524, 3.615266487932393, 2.5563794494134684]]                                                                                                                                                                                                                                                                                                                                                                                                                                                                                                                                                                                                                                                                                                                                                                                                                                                                                                                                                                                                                                                                                                                                                                                                         |[]   |NULL           |\n",
      "|CO_681712174953576080 |681712174953576080 |2024-04-25 16:38:44|[None]     |NULL    |LiMoO2Ti6            |LiMoO2Ti6               |A6B2CD                    |['Li', 'Mo', 'O', 'Ti'] |[0.1, 0.1, 0.2, 0.6]                                                            |[3, 42, 8, 8, 22, 22, 22, 22, 22, 22]                                                                                       |10    |4        |0                   |[[5.83082303, 0.0, 0.0], [2.9154115150000006, 5.049640868951354, 0.0], [2.9154115150000006, 1.683213622983785, 4.760847067989643]] |[0, 0, 0]      |[False, False, False]|[[5.83082303, 3.3664272459675693, 2.3804235339948216], [0.0, 0.0, 0.0], [8.746234545, 5.049640868951354, 3.5706353009922323], [2.915411515, 1.6832136229837846, 1.1902117669974108], [1.4577057575000003, 0.8416068114918925, 2.3804235339948216], [4.3731172725, 0.8416068114918925, 2.3804235339948216], [4.3731172725, 2.524820434475677, 0.0], [1.4577057575000003, 2.524820434475677, 0.0], [2.9154115150000006, 3.3664272459675693, 2.3804235339948216], [2.915411515, 0.0, 0.0]]                                                                                                                                                                                                                                                                                                                                                                                                                                                                                                                                                                                                                                                                                                                                                                                                                                                                                                                                                                                                                                                                                                                                                                                                       |[]   |NULL           |\n",
      "|CO_456535758426542895 |456535758426542895 |2024-04-25 16:38:44|[None]     |NULL    |Be6MnSbW2            |Be6MnSbW2               |A6B2CD                    |['Be', 'Mn', 'Sb', 'W'] |[0.6, 0.1, 0.1, 0.2]                                                            |[4, 4, 4, 4, 4, 4, 25, 51, 74, 74]                                                                                          |10    |4        |0                   |[[6.09576209, 0.0, 0.0], [3.047881045000001, 5.279084825366123, 0.0], [3.047881045000001, 1.7596949417887082, 4.9771689046338485]] |[0, 0, 0]      |[False, False, False]|[[1.5239405225000004, 0.8798474708943541, 2.4885844523169243], [4.571821567500001, 0.8798474708943541, 2.4885844523169243], [4.571821567500001, 2.6395424126830616, 0.0], [1.5239405225000004, 2.6395424126830616, 0.0], [3.047881045000001, 3.5193898835774156, 2.4885844523169243], [3.047881045, 0.0, 0.0], [6.095762090000001, 3.5193898835774156, 2.4885844523169243], [0.0, 0.0, 0.0], [9.143643135000001, 5.279084825366123, 3.732876678475386], [3.0478810450000005, 1.7596949417887078, 1.2442922261584621]]                                                                                                                                                                                                                                                                                                                                                                                                                                                                                                                                                                                                                                                                                                                                                                                                                                                                                                                                                                                                                                                                                                                                                                         |[]   |NULL           |\n",
      "|CO_650882402045833200 |650882402045833200 |2024-04-25 16:38:44|[None]     |NULL    |Cr6IPbTe2            |Cr6IPbTe2               |A6B2CD                    |['Cr', 'I', 'Pb', 'Te'] |[0.6, 0.1, 0.1, 0.2]                                                            |[24, 24, 24, 24, 24, 24, 53, 82, 52, 52]                                                                                    |10    |4        |0                   |[[6.74851657, 0.0, 0.0], [3.3742582850000007, 5.844386787480224, 0.0], [3.3742582850000007, 1.9481289291600752, 5.510140705739104]]|[0, 0, 0]      |[False, False, False]|[[1.6871291425000003, 0.9740644645800376, 2.755070352869552], [5.0613874275, 0.9740644645800376, 2.755070352869552], [5.0613874275, 2.922193393740112, 0.0], [1.6871291425000003, 2.922193393740112, 0.0], [3.3742582850000007, 3.8962578583201495, 2.755070352869552], [3.374258285, 0.0, 0.0], [0.0, 0.0, 0.0], [6.74851657, 3.8962578583201495, 2.755070352869552], [10.122774855000001, 5.844386787480224, 4.132605529304328], [3.374258285, 1.9481289291600747, 1.377535176434776]]                                                                                                                                                                                                                                                                                                                                                                                                                                                                                                                                                                                                                                                                                                                                                                                                                                                                                                                                                                                                                                                                                                                                                                                                      |[]   |NULL           |\n",
      "|CO_1962879644310169059|1962879644310169059|2024-04-25 16:38:44|[None]     |NULL    |Cl2CrF6O             |Cl2CrF6O                |A6B2CD                    |['Cl', 'Cr', 'F', 'O']  |[0.2, 0.1, 0.6, 0.1]                                                            |[17, 17, 24, 9, 9, 9, 9, 9, 9, 8]                                                                                           |10    |4        |0                   |[[6.31591831, 0.0, 0.0], [3.157959155000001, 5.469745704687279, 0.0], [3.157959155000001, 1.8232485682290933, 5.156925705533821]]  |[0, 0, 0]      |[False, False, False]|[[9.473877465000001, 5.46974570468728, 3.8676942791503657], [3.1579591550000004, 1.823248568229093, 1.2892314263834552], [6.315918310000001, 3.646497136458186, 2.5784628527669105], [6.315918310000001, 5.087533950322679, 3.5974297557899497], [6.31591831, 2.205460322593693, 1.559495949743871], [7.563892798595238, 4.3670155433904325, 1.559495949743871], [5.067943821404762, 2.9259787295259394, 3.5974297557899497], [7.563892798595238, 2.9259787295259394, 3.5974297557899497], [5.0679438214047625, 4.3670155433904325, 1.559495949743871], [0.0, 0.0, 0.0]]                                                                                                                                                                                                                                                                                                                                                                                                                                                                                                                                                                                                                                                                                                                                                                                                                                                                                                                                                                                                                                                                                                                      |[]   |NULL           |\n",
      "|CO_1622560141301516867|1622560141301516867|2024-04-25 16:38:44|[None]     |NULL    |Cl6MnPdRe2           |Cl6MnPdRe2              |A6B2CD                    |['Cl', 'Mn', 'Pd', 'Re']|[0.6, 0.1, 0.1, 0.2]                                                            |[17, 17, 17, 17, 17, 17, 25, 46, 75, 75]                                                                                    |10    |4        |0                   |[[6.72940268, 0.0, 0.0], [3.3647013400000008, 5.827833673175083, 0.0], [3.3647013400000008, 1.9426112243916946, 5.494534279905875]]|[0, 0, 0]      |[False, False, False]|[[1.6823506700000004, 0.9713056121958473, 2.7472671399529376], [5.04705201, 0.9713056121958473, 2.7472671399529376], [5.04705201, 2.9139168365875414, 0.0], [1.6823506700000004, 2.9139168365875414, 0.0], [3.3647013400000008, 3.885222448783389, 2.7472671399529376], [3.36470134, 0.0, 0.0], [0.0, 0.0, 0.0], [6.72940268, 3.885222448783389, 2.7472671399529376], [10.094104020000001, 5.827833673175084, 4.120900709929407], [3.36470134, 1.9426112243916944, 1.3736335699764688]]                                                                                                                                                                                                                                                                                                                                                                                                                                                                                                                                                                                                                                                                                                                                                                                                                                                                                                                                                                                                                                                                                                                                                                                                       |[]   |NULL           |\n",
      "|CO_1502334131483795485|1502334131483795485|2024-04-25 16:38:55|[None]     |NULL    |Cr24O4W4             |Cr6OW                   |A6BC                      |['Cr', 'O', 'W']        |[0.75, 0.125, 0.125]                                                            |[24, 24, 24, 24, 24, 24, 24, 24, 24, 24, 24, 24, 24, 24, 24, 24, 24, 24, 24, 24, 24, 24, 24, 24, 74, 74, 74, 74, 8, 8, 8, 8]|32    |3        |0                   |[[7.96044754, 0.0, 0.0], [0.0, 7.96044754, 0.0], [0.0, 0.0, 7.96044754]]                                                           |[0, 0, 0]      |[False, False, False]|[[4.3205355292826875, 1.990111885, 1.990111885], [5.9703356549999995, 3.6399120107173117, 1.990111885], [7.620135780717312, 1.990111885, 1.990111885], [5.9703356549999995, 0.3403117592826882, 1.990111885], [5.9703356549999995, 1.990111885, 3.6399120107173117], [5.9703356549999995, 1.990111885, 0.3403117592826882], [4.3205355292826875, 5.9703356549999995, 5.9703356549999995], [5.9703356549999995, 7.620135780717312, 5.9703356549999995], [7.620135780717312, 5.9703356549999995, 5.9703356549999995], [5.9703356549999995, 4.3205355292826875, 5.9703356549999995], [5.9703356549999995, 5.9703356549999995, 7.620135780717312], [5.9703356549999995, 5.9703356549999995, 4.3205355292826875], [0.3403117592826882, 1.990111885, 5.9703356549999995], [1.990111885, 3.6399120107173117, 5.9703356549999995], [3.6399120107173117, 1.990111885, 5.9703356549999995], [1.990111885, 0.3403117592826882, 5.9703356549999995], [1.990111885, 1.990111885, 7.620135780717312], [1.990111885, 1.990111885, 4.3205355292826875], [0.3403117592826882, 5.9703356549999995, 1.990111885], [1.990111885, 7.620135780717312, 1.990111885], [3.6399120107173117, 5.9703356549999995, 1.990111885], [1.990111885, 4.3205355292826875, 1.990111885], [1.990111885, 5.9703356549999995, 3.6399120107173117], [1.990111885, 5.9703356549999995, 0.3403117592826882], [5.9703356549999995, 1.990111885, 5.9703356549999995], [5.9703356549999995, 5.9703356549999995, 1.990111885], [1.990111885, 1.990111885, 1.990111885], [1.990111885, 5.9703356549999995, 5.9703356549999995], [0.0, 0.0, 0.0], [0.0, 3.98022377, 3.98022377], [3.98022377, 0.0, 3.98022377], [3.98022377, 3.98022377, 0.0]]|[]   |NULL           |\n",
      "|CO_1347332179920036108|1347332179920036108|2024-04-25 16:38:44|[None]     |NULL    |Au2MgPPd6            |Au2MgPPd6               |A6B2CD                    |['Au', 'Mg', 'P', 'Pd'] |[0.2, 0.1, 0.1, 0.6]                                                            |[79, 79, 12, 15, 46, 46, 46, 46, 46, 46]                                                                                    |10    |4        |0                   |[[7.01043863, 0.0, 0.0], [3.505219315000001, 6.071217945251777, 0.0], [3.505219315000001, 2.023739315083926, 5.723999172198651]]   |[0, 0, 0]      |[False, False, False]|[[10.515657945000003, 6.071217945251777, 4.292999379148988], [3.5052193150000006, 2.023739315083926, 1.4309997930496627], [7.010438630000001, 4.047478630167852, 2.8619995860993255], [0.0, 0.0, 0.0], [1.7526096575000005, 1.011869657541963, 2.8619995860993255], [5.2578289725000005, 1.011869657541963, 2.8619995860993255], [5.2578289725000005, 3.0356089726258886, 0.0], [1.7526096575000005, 3.0356089726258886, 0.0], [3.505219315000001, 4.047478630167852, 2.8619995860993255], [3.505219315, 0.0, 0.0]]                                                                                                                                                                                                                                                                                                                                                                                                                                                                                                                                                                                                                                                                                                                                                                                                                                                                                                                                                                                                                                                                                                                                                                           |[]   |NULL           |\n",
      "|CO_544852674245901869 |544852674245901869 |2024-04-25 16:38:44|[None]     |NULL    |C6CrMn2Nb            |C6CrMn2Nb               |A6B2CD                    |['C', 'Cr', 'Mn', 'Nb'] |[0.6, 0.1, 0.2, 0.1]                                                            |[6, 6, 6, 6, 6, 6, 24, 25, 25, 41]                                                                                          |10    |4        |0                   |[[5.54004325, 0.0, 0.0], [2.7700216250000005, 4.797818192564503, 0.0], [2.7700216250000005, 1.599272730854835, 4.5234263718167265]]|[0, 0, 0]      |[False, False, False]|[[5.54004325, 4.885354193575115, 3.454467078775101], [5.540043249999999, 1.5117367298442228, 1.0689592930416256], [7.00086246312089, 4.041949827642392, 1.0689592930416256], [4.07922403687911, 2.355141095776946, 3.454467078775101], [7.00086246312089, 2.355141095776946, 3.454467078775101], [4.07922403687911, 4.041949827642392, 1.0689592930416256], [0.0, 0.0, 0.0], [8.310064875, 4.797818192564504, 3.392569778862545], [2.770021625, 1.5992727308548345, 1.1308565929541816], [5.54004325, 3.198545461709669, 2.2617131859083632]]                                                                                                                                                                                                                                                                                                                                                                                                                                                                                                                                                                                                                                                                                                                                                                                                                                                                                                                                                                                                                                                                                                                                                 |[]   |NULL           |\n",
      "+----------------------+-------------------+-------------------+-----------+--------+---------------------+------------------------+--------------------------+------------------------+--------------------------------------------------------------------------------+----------------------------------------------------------------------------------------------------------------------------+------+---------+--------------------+-----------------------------------------------------------------------------------------------------------------------------------+---------------+---------------------+----------------------------------------------------------------------------------------------------------------------------------------------------------------------------------------------------------------------------------------------------------------------------------------------------------------------------------------------------------------------------------------------------------------------------------------------------------------------------------------------------------------------------------------------------------------------------------------------------------------------------------------------------------------------------------------------------------------------------------------------------------------------------------------------------------------------------------------------------------------------------------------------------------------------------------------------------------------------------------------------------------------------------------------------------------------------------------------------------------------------------------------------------------------------------------------------------------------------------------------------------------------------------------------------------------------------------------------------------------------------------------------------------------------------------------------------------------------------------------------------------------------------------------------------------------------------------------------------------------------------------------------------------------------------------------------------+-----+---------------+\n",
      "only showing top 10 rows\n",
      "\n"
     ]
    }
   ],
   "source": [
    "df = (\n",
    "    loader.spark.read.jdbc(\n",
    "        url=loader.url, table=\"public.configurations\", properties=loader.properties\n",
    "    ).withColumn(\n",
    "        \"ds_ids_unstrung\",\n",
    "        sf.from_json(sf.col(\"dataset_ids\"), sf.ArrayType(sf.StringType())),\n",
    "    )\n",
    "    # .where(sf.array_contains(\"ds_ids_unstrung\", carmat_ds_id))\n",
    "    .show(10, False)\n",
    ")\n",
    "# (f\"'{carmat_ds_id}=ANY(dataset_ids)'\")\n",
    "# .select(\"elements\", \"elements_ratios\", \"id\", \"dataset_ids\")\n",
    "#"
   ]
  },
  {
   "cell_type": "code",
   "execution_count": 17,
   "metadata": {},
   "outputs": [
    {
     "ename": "AttributeError",
     "evalue": "'DataFrame' object has no attribute 'options'",
     "output_type": "error",
     "traceback": [
      "\u001b[0;31m---------------------------------------------------------------------------\u001b[0m",
      "\u001b[0;31mAttributeError\u001b[0m                            Traceback (most recent call last)",
      "Cell \u001b[0;32mIn[17], line 5\u001b[0m\n\u001b[1;32m      1\u001b[0m df \u001b[38;5;241m=\u001b[39m \u001b[43mloader\u001b[49m\u001b[38;5;241;43m.\u001b[39;49m\u001b[43mspark\u001b[49m\u001b[38;5;241;43m.\u001b[39;49m\u001b[43mread\u001b[49m\u001b[38;5;241;43m.\u001b[39;49m\u001b[43mjdbc\u001b[49m\u001b[43m(\u001b[49m\n\u001b[1;32m      2\u001b[0m \u001b[43m    \u001b[49m\u001b[43mloader\u001b[49m\u001b[38;5;241;43m.\u001b[39;49m\u001b[43murl\u001b[49m\u001b[43m,\u001b[49m\n\u001b[1;32m      3\u001b[0m \u001b[43m    \u001b[49m\u001b[43mtable\u001b[49m\u001b[38;5;241;43m=\u001b[39;49m\u001b[38;5;124;43m\"\u001b[39;49m\u001b[38;5;124;43mpublic.configurations\u001b[39;49m\u001b[38;5;124;43m\"\u001b[39;49m\u001b[43m,\u001b[49m\n\u001b[1;32m      4\u001b[0m \u001b[43m    \u001b[49m\u001b[43mproperties\u001b[49m\u001b[38;5;241;43m=\u001b[39;49m\u001b[43mloader\u001b[49m\u001b[38;5;241;43m.\u001b[39;49m\u001b[43mproperties\u001b[49m\u001b[43m,\u001b[49m\n\u001b[0;32m----> 5\u001b[0m \u001b[43m)\u001b[49m\u001b[38;5;241;43m.\u001b[39;49m\u001b[43moptions\u001b[49m(query\u001b[38;5;241m=\u001b[39m\u001b[38;5;124m\"\u001b[39m\u001b[38;5;124mSELECT * FROM public.configurations\u001b[39m\u001b[38;5;124m\"\u001b[39m)\n",
      "File \u001b[0;32m/opt/spark/python/pyspark/sql/dataframe.py:3127\u001b[0m, in \u001b[0;36mDataFrame.__getattr__\u001b[0;34m(self, name)\u001b[0m\n\u001b[1;32m   3094\u001b[0m \u001b[38;5;250m\u001b[39m\u001b[38;5;124;03m\"\"\"Returns the :class:`Column` denoted by ``name``.\u001b[39;00m\n\u001b[1;32m   3095\u001b[0m \n\u001b[1;32m   3096\u001b[0m \u001b[38;5;124;03m.. versionadded:: 1.3.0\u001b[39;00m\n\u001b[0;32m   (...)\u001b[0m\n\u001b[1;32m   3124\u001b[0m \u001b[38;5;124;03m+---+\u001b[39;00m\n\u001b[1;32m   3125\u001b[0m \u001b[38;5;124;03m\"\"\"\u001b[39;00m\n\u001b[1;32m   3126\u001b[0m \u001b[38;5;28;01mif\u001b[39;00m name \u001b[38;5;129;01mnot\u001b[39;00m \u001b[38;5;129;01min\u001b[39;00m \u001b[38;5;28mself\u001b[39m\u001b[38;5;241m.\u001b[39mcolumns:\n\u001b[0;32m-> 3127\u001b[0m     \u001b[38;5;28;01mraise\u001b[39;00m \u001b[38;5;167;01mAttributeError\u001b[39;00m(\n\u001b[1;32m   3128\u001b[0m         \u001b[38;5;124m\"\u001b[39m\u001b[38;5;124m'\u001b[39m\u001b[38;5;132;01m%s\u001b[39;00m\u001b[38;5;124m'\u001b[39m\u001b[38;5;124m object has no attribute \u001b[39m\u001b[38;5;124m'\u001b[39m\u001b[38;5;132;01m%s\u001b[39;00m\u001b[38;5;124m'\u001b[39m\u001b[38;5;124m\"\u001b[39m \u001b[38;5;241m%\u001b[39m (\u001b[38;5;28mself\u001b[39m\u001b[38;5;241m.\u001b[39m\u001b[38;5;18m__class__\u001b[39m\u001b[38;5;241m.\u001b[39m\u001b[38;5;18m__name__\u001b[39m, name)\n\u001b[1;32m   3129\u001b[0m     )\n\u001b[1;32m   3130\u001b[0m jc \u001b[38;5;241m=\u001b[39m \u001b[38;5;28mself\u001b[39m\u001b[38;5;241m.\u001b[39m_jdf\u001b[38;5;241m.\u001b[39mapply(name)\n\u001b[1;32m   3131\u001b[0m \u001b[38;5;28;01mreturn\u001b[39;00m Column(jc)\n",
      "\u001b[0;31mAttributeError\u001b[0m: 'DataFrame' object has no attribute 'options'"
     ]
    }
   ],
   "source": [
    "df = loader.spark.read.jdbc(\n",
    "    loader.url,\n",
    "    table=\"public.configurations\",\n",
    "    properties=loader.properties,\n",
    ").options(query=\"SELECT * FROM public.configurations\")"
   ]
  },
  {
   "cell_type": "markdown",
   "metadata": {},
   "source": [
    "# outer"
   ]
  },
  {
   "cell_type": "code",
   "execution_count": null,
   "metadata": {},
   "outputs": [],
   "source": [
    "\"\"\"\n",
    "Can we make the configuration and the property instance/data object at the same time?\n",
    "In this way, we would only have to pass through the data one time.\n",
    "\n",
    "Workflow:\n",
    "create database access object\n",
    "create data reader as function? of the database access object\n",
    "reader returns ase.Atoms-style objects (AtomicConfiguration)\n",
    "DOs and PIs are now one object\n",
    "These DOs point to a configuration\n",
    "The configuration may already exist in the database, so we keep track of the hash added to the DO\n",
    "\n",
    "\n",
    "\"\"\""
   ]
  },
  {
   "cell_type": "code",
   "execution_count": null,
   "metadata": {},
   "outputs": [],
   "source": [
    "cos = json.load(Path(\"sample_db/co_ds1.json\").open(\"r\"))"
   ]
  },
  {
   "cell_type": "code",
   "execution_count": null,
   "metadata": {},
   "outputs": [],
   "source": [
    "with open(Path(\"sample_db/co_ds1.json\"), \"r\") as f:\n",
    "    co_json = spark.sparkContext.parallelize(json.load(f))"
   ]
  },
  {
   "cell_type": "code",
   "execution_count": null,
   "metadata": {},
   "outputs": [],
   "source": [
    "co = co_json.map(_parse_config).map(stringify_lists)\n",
    "co_df = spark.createDataFrame(co, config_schema)"
   ]
  },
  {
   "cell_type": "code",
   "execution_count": null,
   "metadata": {},
   "outputs": [],
   "source": [
    "def parse_configs(co_path, spark):\n",
    "    with open(co_path, \"r\") as f:\n",
    "        co_json = spark.sparkContext.parallelize(json.load(f))\n",
    "    co = co_json.map(_parse_config).map(stringify_lists)\n",
    "    co_df = spark.createDataFrame(co, config_schema)\n",
    "    return co_df"
   ]
  },
  {
   "cell_type": "code",
   "execution_count": null,
   "metadata": {},
   "outputs": [],
   "source": [
    "parse_configs(\"sample_db/co_ds1.json\", spark).show()"
   ]
  }
 ],
 "metadata": {
  "kernelspec": {
   "display_name": "cf-dev-env",
   "language": "python",
   "name": "python3"
  },
  "language_info": {
   "codemirror_mode": {
    "name": "ipython",
    "version": 3
   },
   "file_extension": ".py",
   "mimetype": "text/x-python",
   "name": "python",
   "nbconvert_exporter": "python",
   "pygments_lexer": "ipython3",
   "version": "3.11.4"
  }
 },
 "nbformat": 4,
 "nbformat_minor": 2
}
